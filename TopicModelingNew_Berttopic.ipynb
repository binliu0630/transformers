{
  "nbformat": 4,
  "nbformat_minor": 0,
  "metadata": {
    "colab": {
      "name": "TopicModelingNew-Berttopic.ipynb",
      "provenance": [],
      "collapsed_sections": [],
      "include_colab_link": true
    },
    "kernelspec": {
      "name": "python3",
      "display_name": "Python 3"
    },
    "accelerator": "GPU"
  },
  "cells": [
    {
      "cell_type": "markdown",
      "metadata": {
        "id": "view-in-github",
        "colab_type": "text"
      },
      "source": [
        "<a href=\"https://colab.research.google.com/github/binliu0630/transformers/blob/master/TopicModelingNew_Berttopic.ipynb\" target=\"_parent\"><img src=\"https://colab.research.google.com/assets/colab-badge.svg\" alt=\"Open In Colab\"/></a>"
      ]
    },
    {
      "cell_type": "markdown",
      "metadata": {
        "id": "lj2MUI9Mkdxu"
      },
      "source": [
        "# **Installing BERTopic**\n",
        "\n",
        "We start by installing BERTopic from PyPi:"
      ]
    },
    {
      "cell_type": "code",
      "metadata": {
        "id": "SNa-KtKDRnus"
      },
      "source": [
        "%%capture\n",
        "!pip install bertopic"
      ],
      "execution_count": null,
      "outputs": []
    },
    {
      "cell_type": "markdown",
      "metadata": {
        "id": "0ehO3emgk96g"
      },
      "source": [
        "## Restart the Notebook\n",
        "After installing BERTopic, some packages that were already loaded were updated and in order to correctly use them, we should now restart the notebook.\n",
        "\n",
        "From the Menu:\n",
        "\n",
        "Runtime → Restart Runtime"
      ]
    },
    {
      "cell_type": "markdown",
      "metadata": {
        "id": "Y3VGFZ1USMTu"
      },
      "source": [
        "# Data\n",
        "For this example, we use the popular 20 Newsgroups dataset which contains roughly 18000 newsgroups posts"
      ]
    },
    {
      "cell_type": "code",
      "source": [
        "from google.colab import drive\n",
        "\n",
        "drive.mount('/content/gdrive')\n"
      ],
      "metadata": {
        "colab": {
          "base_uri": "https://localhost:8080/"
        },
        "id": "3N-oql_8BtaV",
        "outputId": "47f76482-0612-48a0-c342-170b4d14d026"
      },
      "execution_count": null,
      "outputs": [
        {
          "output_type": "stream",
          "name": "stdout",
          "text": [
            "Drive already mounted at /content/gdrive; to attempt to forcibly remount, call drive.mount(\"/content/gdrive\", force_remount=True).\n"
          ]
        }
      ]
    },
    {
      "cell_type": "code",
      "source": [
        "import pandas as pd\n",
        "returns= pd.read_excel('/content/gdrive/MyDrive/onlineforum.xlsx')\n",
        "\n",
        "# remove rows which has NaN in Descriptions column \n",
        "returns.dropna(subset=['Descriptions'],inplace=True)\n",
        "\n",
        "# make sure the Description column is string\n",
        "returns['Descriptions'] = returns['Descriptions'].astype(str)\n",
        "\n"
      ],
      "metadata": {
        "id": "fgWaADnoCVmp"
      },
      "execution_count": null,
      "outputs": []
    },
    {
      "cell_type": "code",
      "source": [
        "docs= returns['Descriptions'].tolist()"
      ],
      "metadata": {
        "id": "Fp0V3K-1sSxv"
      },
      "execution_count": null,
      "outputs": []
    },
    {
      "cell_type": "code",
      "source": [
        "len(docs)"
      ],
      "metadata": {
        "colab": {
          "base_uri": "https://localhost:8080/"
        },
        "id": "9FviGz36UIxA",
        "outputId": "717039f1-48a4-4006-8d06-194eafcfdffb"
      },
      "execution_count": null,
      "outputs": [
        {
          "output_type": "execute_result",
          "data": {
            "text/plain": [
              "12796"
            ]
          },
          "metadata": {},
          "execution_count": 5
        }
      ]
    },
    {
      "cell_type": "markdown",
      "metadata": {
        "id": "SBcNmZJzSTY8"
      },
      "source": [
        "# **Topic Modeling**\n",
        "\n"
      ]
    },
    {
      "cell_type": "markdown",
      "metadata": {
        "id": "QI6vwelqnTL-"
      },
      "source": [
        "## Training\n",
        "\n"
      ]
    },
    {
      "cell_type": "code",
      "metadata": {
        "id": "TfhfzqkoSJ1I"
      },
      "source": [
        "from bertopic import BERTopic\n",
        "\n",
        "topic_model = BERTopic(top_n_words=10, n_gram_range=(1, 2),min_topic_size=20, calculate_probabilities =True)\n",
        "\n",
        "topics, probs = topic_model.fit_transform(docs)"
      ],
      "execution_count": null,
      "outputs": []
    },
    {
      "cell_type": "code",
      "source": [
        "probs_df=pd.DataFrame(probs)\n",
        "probs_df['main percentage'] = pd.DataFrame({'max': probs_df.max(axis=1)})"
      ],
      "metadata": {
        "id": "Jh2sZJrs0CSb"
      },
      "execution_count": null,
      "outputs": []
    },
    {
      "cell_type": "code",
      "source": [
        "probs_df.head()"
      ],
      "metadata": {
        "colab": {
          "base_uri": "https://localhost:8080/",
          "height": 317
        },
        "id": "vTAr-yKd0Ij0",
        "outputId": "d70f2103-796e-4e39-e939-9bdafe7a84db"
      },
      "execution_count": null,
      "outputs": [
        {
          "output_type": "execute_result",
          "data": {
            "text/plain": [
              "          0         1         2         3         4         5         6  \\\n",
              "0  0.003264  0.003198  0.002530  0.007268  0.004245  0.001814  0.002068   \n",
              "1  0.003787  0.003570  0.002946  0.004405  0.003326  0.005047  0.003554   \n",
              "2  0.000955  0.000871  0.000910  0.001276  0.000922  0.002751  0.000864   \n",
              "3  0.001235  0.001082  0.001092  0.003084  0.001661  0.000843  0.000779   \n",
              "4  0.015454  0.013291  0.009634  0.013787  0.055896  0.003676  0.005678   \n",
              "\n",
              "          7         8         9  ...        66        67        68        69  \\\n",
              "0  0.002065  0.002666  0.015702  ...  0.005396  0.002762  0.005176  0.006328   \n",
              "1  0.003260  0.006265  0.004072  ...  0.003806  0.003837  0.004674  0.004346   \n",
              "2  0.000859  0.002050  0.001065  ...  0.001212  0.001017  0.001256  0.001299   \n",
              "3  0.000836  0.001382  0.001855  ...  0.003377  0.001211  0.002045  0.002777   \n",
              "4  0.006811  0.007529  0.013309  ...  0.013422  0.011430  0.012864  0.012553   \n",
              "\n",
              "         70        71        72        73        74  main percentage  \n",
              "0  0.002284  0.002151  0.002183  0.005440  0.001741         0.015702  \n",
              "1  0.011325  0.028468  0.004744  0.003522  0.023468         0.233323  \n",
              "2  0.002023  0.002750  0.001411  0.000945  0.001807         0.008418  \n",
              "3  0.000929  0.000889  0.001077  0.001715  0.000697         0.003978  \n",
              "4  0.005263  0.004860  0.006759  0.076257  0.004166         0.076257  \n",
              "\n",
              "[5 rows x 76 columns]"
            ],
            "text/html": [
              "\n",
              "  <div id=\"df-f2ec19dd-6a64-47d1-913e-29bddf436b4d\">\n",
              "    <div class=\"colab-df-container\">\n",
              "      <div>\n",
              "<style scoped>\n",
              "    .dataframe tbody tr th:only-of-type {\n",
              "        vertical-align: middle;\n",
              "    }\n",
              "\n",
              "    .dataframe tbody tr th {\n",
              "        vertical-align: top;\n",
              "    }\n",
              "\n",
              "    .dataframe thead th {\n",
              "        text-align: right;\n",
              "    }\n",
              "</style>\n",
              "<table border=\"1\" class=\"dataframe\">\n",
              "  <thead>\n",
              "    <tr style=\"text-align: right;\">\n",
              "      <th></th>\n",
              "      <th>0</th>\n",
              "      <th>1</th>\n",
              "      <th>2</th>\n",
              "      <th>3</th>\n",
              "      <th>4</th>\n",
              "      <th>5</th>\n",
              "      <th>6</th>\n",
              "      <th>7</th>\n",
              "      <th>8</th>\n",
              "      <th>9</th>\n",
              "      <th>...</th>\n",
              "      <th>66</th>\n",
              "      <th>67</th>\n",
              "      <th>68</th>\n",
              "      <th>69</th>\n",
              "      <th>70</th>\n",
              "      <th>71</th>\n",
              "      <th>72</th>\n",
              "      <th>73</th>\n",
              "      <th>74</th>\n",
              "      <th>main percentage</th>\n",
              "    </tr>\n",
              "  </thead>\n",
              "  <tbody>\n",
              "    <tr>\n",
              "      <th>0</th>\n",
              "      <td>0.003264</td>\n",
              "      <td>0.003198</td>\n",
              "      <td>0.002530</td>\n",
              "      <td>0.007268</td>\n",
              "      <td>0.004245</td>\n",
              "      <td>0.001814</td>\n",
              "      <td>0.002068</td>\n",
              "      <td>0.002065</td>\n",
              "      <td>0.002666</td>\n",
              "      <td>0.015702</td>\n",
              "      <td>...</td>\n",
              "      <td>0.005396</td>\n",
              "      <td>0.002762</td>\n",
              "      <td>0.005176</td>\n",
              "      <td>0.006328</td>\n",
              "      <td>0.002284</td>\n",
              "      <td>0.002151</td>\n",
              "      <td>0.002183</td>\n",
              "      <td>0.005440</td>\n",
              "      <td>0.001741</td>\n",
              "      <td>0.015702</td>\n",
              "    </tr>\n",
              "    <tr>\n",
              "      <th>1</th>\n",
              "      <td>0.003787</td>\n",
              "      <td>0.003570</td>\n",
              "      <td>0.002946</td>\n",
              "      <td>0.004405</td>\n",
              "      <td>0.003326</td>\n",
              "      <td>0.005047</td>\n",
              "      <td>0.003554</td>\n",
              "      <td>0.003260</td>\n",
              "      <td>0.006265</td>\n",
              "      <td>0.004072</td>\n",
              "      <td>...</td>\n",
              "      <td>0.003806</td>\n",
              "      <td>0.003837</td>\n",
              "      <td>0.004674</td>\n",
              "      <td>0.004346</td>\n",
              "      <td>0.011325</td>\n",
              "      <td>0.028468</td>\n",
              "      <td>0.004744</td>\n",
              "      <td>0.003522</td>\n",
              "      <td>0.023468</td>\n",
              "      <td>0.233323</td>\n",
              "    </tr>\n",
              "    <tr>\n",
              "      <th>2</th>\n",
              "      <td>0.000955</td>\n",
              "      <td>0.000871</td>\n",
              "      <td>0.000910</td>\n",
              "      <td>0.001276</td>\n",
              "      <td>0.000922</td>\n",
              "      <td>0.002751</td>\n",
              "      <td>0.000864</td>\n",
              "      <td>0.000859</td>\n",
              "      <td>0.002050</td>\n",
              "      <td>0.001065</td>\n",
              "      <td>...</td>\n",
              "      <td>0.001212</td>\n",
              "      <td>0.001017</td>\n",
              "      <td>0.001256</td>\n",
              "      <td>0.001299</td>\n",
              "      <td>0.002023</td>\n",
              "      <td>0.002750</td>\n",
              "      <td>0.001411</td>\n",
              "      <td>0.000945</td>\n",
              "      <td>0.001807</td>\n",
              "      <td>0.008418</td>\n",
              "    </tr>\n",
              "    <tr>\n",
              "      <th>3</th>\n",
              "      <td>0.001235</td>\n",
              "      <td>0.001082</td>\n",
              "      <td>0.001092</td>\n",
              "      <td>0.003084</td>\n",
              "      <td>0.001661</td>\n",
              "      <td>0.000843</td>\n",
              "      <td>0.000779</td>\n",
              "      <td>0.000836</td>\n",
              "      <td>0.001382</td>\n",
              "      <td>0.001855</td>\n",
              "      <td>...</td>\n",
              "      <td>0.003377</td>\n",
              "      <td>0.001211</td>\n",
              "      <td>0.002045</td>\n",
              "      <td>0.002777</td>\n",
              "      <td>0.000929</td>\n",
              "      <td>0.000889</td>\n",
              "      <td>0.001077</td>\n",
              "      <td>0.001715</td>\n",
              "      <td>0.000697</td>\n",
              "      <td>0.003978</td>\n",
              "    </tr>\n",
              "    <tr>\n",
              "      <th>4</th>\n",
              "      <td>0.015454</td>\n",
              "      <td>0.013291</td>\n",
              "      <td>0.009634</td>\n",
              "      <td>0.013787</td>\n",
              "      <td>0.055896</td>\n",
              "      <td>0.003676</td>\n",
              "      <td>0.005678</td>\n",
              "      <td>0.006811</td>\n",
              "      <td>0.007529</td>\n",
              "      <td>0.013309</td>\n",
              "      <td>...</td>\n",
              "      <td>0.013422</td>\n",
              "      <td>0.011430</td>\n",
              "      <td>0.012864</td>\n",
              "      <td>0.012553</td>\n",
              "      <td>0.005263</td>\n",
              "      <td>0.004860</td>\n",
              "      <td>0.006759</td>\n",
              "      <td>0.076257</td>\n",
              "      <td>0.004166</td>\n",
              "      <td>0.076257</td>\n",
              "    </tr>\n",
              "  </tbody>\n",
              "</table>\n",
              "<p>5 rows × 76 columns</p>\n",
              "</div>\n",
              "      <button class=\"colab-df-convert\" onclick=\"convertToInteractive('df-f2ec19dd-6a64-47d1-913e-29bddf436b4d')\"\n",
              "              title=\"Convert this dataframe to an interactive table.\"\n",
              "              style=\"display:none;\">\n",
              "        \n",
              "  <svg xmlns=\"http://www.w3.org/2000/svg\" height=\"24px\"viewBox=\"0 0 24 24\"\n",
              "       width=\"24px\">\n",
              "    <path d=\"M0 0h24v24H0V0z\" fill=\"none\"/>\n",
              "    <path d=\"M18.56 5.44l.94 2.06.94-2.06 2.06-.94-2.06-.94-.94-2.06-.94 2.06-2.06.94zm-11 1L8.5 8.5l.94-2.06 2.06-.94-2.06-.94L8.5 2.5l-.94 2.06-2.06.94zm10 10l.94 2.06.94-2.06 2.06-.94-2.06-.94-.94-2.06-.94 2.06-2.06.94z\"/><path d=\"M17.41 7.96l-1.37-1.37c-.4-.4-.92-.59-1.43-.59-.52 0-1.04.2-1.43.59L10.3 9.45l-7.72 7.72c-.78.78-.78 2.05 0 2.83L4 21.41c.39.39.9.59 1.41.59.51 0 1.02-.2 1.41-.59l7.78-7.78 2.81-2.81c.8-.78.8-2.07 0-2.86zM5.41 20L4 18.59l7.72-7.72 1.47 1.35L5.41 20z\"/>\n",
              "  </svg>\n",
              "      </button>\n",
              "      \n",
              "  <style>\n",
              "    .colab-df-container {\n",
              "      display:flex;\n",
              "      flex-wrap:wrap;\n",
              "      gap: 12px;\n",
              "    }\n",
              "\n",
              "    .colab-df-convert {\n",
              "      background-color: #E8F0FE;\n",
              "      border: none;\n",
              "      border-radius: 50%;\n",
              "      cursor: pointer;\n",
              "      display: none;\n",
              "      fill: #1967D2;\n",
              "      height: 32px;\n",
              "      padding: 0 0 0 0;\n",
              "      width: 32px;\n",
              "    }\n",
              "\n",
              "    .colab-df-convert:hover {\n",
              "      background-color: #E2EBFA;\n",
              "      box-shadow: 0px 1px 2px rgba(60, 64, 67, 0.3), 0px 1px 3px 1px rgba(60, 64, 67, 0.15);\n",
              "      fill: #174EA6;\n",
              "    }\n",
              "\n",
              "    [theme=dark] .colab-df-convert {\n",
              "      background-color: #3B4455;\n",
              "      fill: #D2E3FC;\n",
              "    }\n",
              "\n",
              "    [theme=dark] .colab-df-convert:hover {\n",
              "      background-color: #434B5C;\n",
              "      box-shadow: 0px 1px 3px 1px rgba(0, 0, 0, 0.15);\n",
              "      filter: drop-shadow(0px 1px 2px rgba(0, 0, 0, 0.3));\n",
              "      fill: #FFFFFF;\n",
              "    }\n",
              "  </style>\n",
              "\n",
              "      <script>\n",
              "        const buttonEl =\n",
              "          document.querySelector('#df-f2ec19dd-6a64-47d1-913e-29bddf436b4d button.colab-df-convert');\n",
              "        buttonEl.style.display =\n",
              "          google.colab.kernel.accessAllowed ? 'block' : 'none';\n",
              "\n",
              "        async function convertToInteractive(key) {\n",
              "          const element = document.querySelector('#df-f2ec19dd-6a64-47d1-913e-29bddf436b4d');\n",
              "          const dataTable =\n",
              "            await google.colab.kernel.invokeFunction('convertToInteractive',\n",
              "                                                     [key], {});\n",
              "          if (!dataTable) return;\n",
              "\n",
              "          const docLinkHtml = 'Like what you see? Visit the ' +\n",
              "            '<a target=\"_blank\" href=https://colab.research.google.com/notebooks/data_table.ipynb>data table notebook</a>'\n",
              "            + ' to learn more about interactive tables.';\n",
              "          element.innerHTML = '';\n",
              "          dataTable['output_type'] = 'display_data';\n",
              "          await google.colab.output.renderOutput(dataTable, element);\n",
              "          const docLink = document.createElement('div');\n",
              "          docLink.innerHTML = docLinkHtml;\n",
              "          element.appendChild(docLink);\n",
              "        }\n",
              "      </script>\n",
              "    </div>\n",
              "  </div>\n",
              "  "
            ]
          },
          "metadata": {},
          "execution_count": 36
        }
      ]
    },
    {
      "cell_type": "markdown",
      "metadata": {
        "id": "A5O3KpHTnVpz"
      },
      "source": [
        "## Extracting Topics\n",
        "After fitting our model, we can start by looking at the results. Typically, we look at the most frequent topics first as they best represent the collection of documents. "
      ]
    },
    {
      "cell_type": "code",
      "metadata": {
        "colab": {
          "base_uri": "https://localhost:8080/",
          "height": 363
        },
        "id": "ScBUgXn06IK6",
        "outputId": "d57bf97c-7f6f-47e9-9e56-778ecafb2d75"
      },
      "source": [
        "freq = topic_model.get_topic_info(); freq.head(10)"
      ],
      "execution_count": null,
      "outputs": [
        {
          "output_type": "execute_result",
          "data": {
            "text/plain": [
              "   Topic  Count                         Name\n",
              "0     -1   5843            -1_the_to_and_you\n",
              "1      0    668     0_pax_rating_the_ratings\n",
              "2      1    557          1_ping_pings_the_to\n",
              "3      2    491     2_surge_the surge_the_it\n",
              "4      3    409        3_uber_to_drivers_the\n",
              "5      4    290          4_lyft_and_to_rides\n",
              "6      5    272         5_bitcoin_is_the_you\n",
              "7      6    213    6_pool_pools_opt_uberpool\n",
              "8      7    176            7_tip_tips_the_of\n",
              "9      8    173  8_smove_grab_incentives_for"
            ],
            "text/html": [
              "\n",
              "  <div id=\"df-b931aa2c-3e95-4f4d-bbd7-11f8b1188ae9\">\n",
              "    <div class=\"colab-df-container\">\n",
              "      <div>\n",
              "<style scoped>\n",
              "    .dataframe tbody tr th:only-of-type {\n",
              "        vertical-align: middle;\n",
              "    }\n",
              "\n",
              "    .dataframe tbody tr th {\n",
              "        vertical-align: top;\n",
              "    }\n",
              "\n",
              "    .dataframe thead th {\n",
              "        text-align: right;\n",
              "    }\n",
              "</style>\n",
              "<table border=\"1\" class=\"dataframe\">\n",
              "  <thead>\n",
              "    <tr style=\"text-align: right;\">\n",
              "      <th></th>\n",
              "      <th>Topic</th>\n",
              "      <th>Count</th>\n",
              "      <th>Name</th>\n",
              "    </tr>\n",
              "  </thead>\n",
              "  <tbody>\n",
              "    <tr>\n",
              "      <th>0</th>\n",
              "      <td>-1</td>\n",
              "      <td>5843</td>\n",
              "      <td>-1_the_to_and_you</td>\n",
              "    </tr>\n",
              "    <tr>\n",
              "      <th>1</th>\n",
              "      <td>0</td>\n",
              "      <td>668</td>\n",
              "      <td>0_pax_rating_the_ratings</td>\n",
              "    </tr>\n",
              "    <tr>\n",
              "      <th>2</th>\n",
              "      <td>1</td>\n",
              "      <td>557</td>\n",
              "      <td>1_ping_pings_the_to</td>\n",
              "    </tr>\n",
              "    <tr>\n",
              "      <th>3</th>\n",
              "      <td>2</td>\n",
              "      <td>491</td>\n",
              "      <td>2_surge_the surge_the_it</td>\n",
              "    </tr>\n",
              "    <tr>\n",
              "      <th>4</th>\n",
              "      <td>3</td>\n",
              "      <td>409</td>\n",
              "      <td>3_uber_to_drivers_the</td>\n",
              "    </tr>\n",
              "    <tr>\n",
              "      <th>5</th>\n",
              "      <td>4</td>\n",
              "      <td>290</td>\n",
              "      <td>4_lyft_and_to_rides</td>\n",
              "    </tr>\n",
              "    <tr>\n",
              "      <th>6</th>\n",
              "      <td>5</td>\n",
              "      <td>272</td>\n",
              "      <td>5_bitcoin_is_the_you</td>\n",
              "    </tr>\n",
              "    <tr>\n",
              "      <th>7</th>\n",
              "      <td>6</td>\n",
              "      <td>213</td>\n",
              "      <td>6_pool_pools_opt_uberpool</td>\n",
              "    </tr>\n",
              "    <tr>\n",
              "      <th>8</th>\n",
              "      <td>7</td>\n",
              "      <td>176</td>\n",
              "      <td>7_tip_tips_the_of</td>\n",
              "    </tr>\n",
              "    <tr>\n",
              "      <th>9</th>\n",
              "      <td>8</td>\n",
              "      <td>173</td>\n",
              "      <td>8_smove_grab_incentives_for</td>\n",
              "    </tr>\n",
              "  </tbody>\n",
              "</table>\n",
              "</div>\n",
              "      <button class=\"colab-df-convert\" onclick=\"convertToInteractive('df-b931aa2c-3e95-4f4d-bbd7-11f8b1188ae9')\"\n",
              "              title=\"Convert this dataframe to an interactive table.\"\n",
              "              style=\"display:none;\">\n",
              "        \n",
              "  <svg xmlns=\"http://www.w3.org/2000/svg\" height=\"24px\"viewBox=\"0 0 24 24\"\n",
              "       width=\"24px\">\n",
              "    <path d=\"M0 0h24v24H0V0z\" fill=\"none\"/>\n",
              "    <path d=\"M18.56 5.44l.94 2.06.94-2.06 2.06-.94-2.06-.94-.94-2.06-.94 2.06-2.06.94zm-11 1L8.5 8.5l.94-2.06 2.06-.94-2.06-.94L8.5 2.5l-.94 2.06-2.06.94zm10 10l.94 2.06.94-2.06 2.06-.94-2.06-.94-.94-2.06-.94 2.06-2.06.94z\"/><path d=\"M17.41 7.96l-1.37-1.37c-.4-.4-.92-.59-1.43-.59-.52 0-1.04.2-1.43.59L10.3 9.45l-7.72 7.72c-.78.78-.78 2.05 0 2.83L4 21.41c.39.39.9.59 1.41.59.51 0 1.02-.2 1.41-.59l7.78-7.78 2.81-2.81c.8-.78.8-2.07 0-2.86zM5.41 20L4 18.59l7.72-7.72 1.47 1.35L5.41 20z\"/>\n",
              "  </svg>\n",
              "      </button>\n",
              "      \n",
              "  <style>\n",
              "    .colab-df-container {\n",
              "      display:flex;\n",
              "      flex-wrap:wrap;\n",
              "      gap: 12px;\n",
              "    }\n",
              "\n",
              "    .colab-df-convert {\n",
              "      background-color: #E8F0FE;\n",
              "      border: none;\n",
              "      border-radius: 50%;\n",
              "      cursor: pointer;\n",
              "      display: none;\n",
              "      fill: #1967D2;\n",
              "      height: 32px;\n",
              "      padding: 0 0 0 0;\n",
              "      width: 32px;\n",
              "    }\n",
              "\n",
              "    .colab-df-convert:hover {\n",
              "      background-color: #E2EBFA;\n",
              "      box-shadow: 0px 1px 2px rgba(60, 64, 67, 0.3), 0px 1px 3px 1px rgba(60, 64, 67, 0.15);\n",
              "      fill: #174EA6;\n",
              "    }\n",
              "\n",
              "    [theme=dark] .colab-df-convert {\n",
              "      background-color: #3B4455;\n",
              "      fill: #D2E3FC;\n",
              "    }\n",
              "\n",
              "    [theme=dark] .colab-df-convert:hover {\n",
              "      background-color: #434B5C;\n",
              "      box-shadow: 0px 1px 3px 1px rgba(0, 0, 0, 0.15);\n",
              "      filter: drop-shadow(0px 1px 2px rgba(0, 0, 0, 0.3));\n",
              "      fill: #FFFFFF;\n",
              "    }\n",
              "  </style>\n",
              "\n",
              "      <script>\n",
              "        const buttonEl =\n",
              "          document.querySelector('#df-b931aa2c-3e95-4f4d-bbd7-11f8b1188ae9 button.colab-df-convert');\n",
              "        buttonEl.style.display =\n",
              "          google.colab.kernel.accessAllowed ? 'block' : 'none';\n",
              "\n",
              "        async function convertToInteractive(key) {\n",
              "          const element = document.querySelector('#df-b931aa2c-3e95-4f4d-bbd7-11f8b1188ae9');\n",
              "          const dataTable =\n",
              "            await google.colab.kernel.invokeFunction('convertToInteractive',\n",
              "                                                     [key], {});\n",
              "          if (!dataTable) return;\n",
              "\n",
              "          const docLinkHtml = 'Like what you see? Visit the ' +\n",
              "            '<a target=\"_blank\" href=https://colab.research.google.com/notebooks/data_table.ipynb>data table notebook</a>'\n",
              "            + ' to learn more about interactive tables.';\n",
              "          element.innerHTML = '';\n",
              "          dataTable['output_type'] = 'display_data';\n",
              "          await google.colab.output.renderOutput(dataTable, element);\n",
              "          const docLink = document.createElement('div');\n",
              "          docLink.innerHTML = docLinkHtml;\n",
              "          element.appendChild(docLink);\n",
              "        }\n",
              "      </script>\n",
              "    </div>\n",
              "  </div>\n",
              "  "
            ]
          },
          "metadata": {},
          "execution_count": 17
        }
      ]
    },
    {
      "cell_type": "markdown",
      "metadata": {
        "id": "-BtOgifV7Q-H"
      },
      "source": [
        "-1 refers to all outliers and should typically be ignored. Next, let's take a look at a frequent topic that were generated:"
      ]
    },
    {
      "cell_type": "code",
      "source": [
        "topic_model.get_topic(9)"
      ],
      "metadata": {
        "colab": {
          "base_uri": "https://localhost:8080/"
        },
        "id": "26qJbRx8zZn-",
        "outputId": "85fe599c-68a5-45fb-df68-173b6b0db891"
      },
      "execution_count": null,
      "outputs": [
        {
          "output_type": "execute_result",
          "data": {
            "text/plain": [
              "[('algorithm', 0.015424875652716321),\n",
              " ('and', 0.011000371273508298),\n",
              " ('drivers', 0.010909324752299061),\n",
              " ('the', 0.010883237281942964),\n",
              " ('uber', 0.010873340714764571),\n",
              " ('to', 0.010349402649308923),\n",
              " ('of', 0.00948272319557571),\n",
              " ('algorithms', 0.009413848816864603),\n",
              " ('ubers', 0.008298641558192951),\n",
              " ('in', 0.00823892801398238)]"
            ]
          },
          "metadata": {},
          "execution_count": 32
        }
      ]
    },
    {
      "cell_type": "code",
      "source": [
        "topic_model.get_representative_docs(9)"
      ],
      "metadata": {
        "colab": {
          "base_uri": "https://localhost:8080/"
        },
        "id": "5rjm6UKyzBbF",
        "outputId": "4965fd4f-6bf2-4bbd-8288-42fd4cbb6d85"
      },
      "execution_count": null,
      "outputs": [
        {
          "output_type": "execute_result",
          "data": {
            "text/plain": [
              "[\"Uber's Algorithm Behaviour and Paranoia\",\n",
              " \"UberEats' algorithm: first day VS other days\",\n",
              " \"It's very unlikely that you'll be able to manipulate Uber's algorithms into giving you the result you want. In fact, they can probably tell when you're trying to manipulate them, and they don't like it.\"]"
            ]
          },
          "metadata": {},
          "execution_count": 31
        }
      ]
    },
    {
      "cell_type": "code",
      "source": [
        "topic_model.get_topics()"
      ],
      "metadata": {
        "colab": {
          "base_uri": "https://localhost:8080/"
        },
        "id": "a3yIBgKlx_ls",
        "outputId": "3a7ef08a-75b8-4d41-a845-3ea693721c5d"
      },
      "execution_count": null,
      "outputs": [
        {
          "output_type": "execute_result",
          "data": {
            "text/plain": [
              "{-1: [('the', 0.010043258771150866),\n",
              "  ('to', 0.009640513540771976),\n",
              "  ('and', 0.008832894718368128),\n",
              "  ('you', 0.007902013131813155),\n",
              "  ('of', 0.00763614043976125),\n",
              "  ('that', 0.007339064833218457),\n",
              "  ('in', 0.007302282818154172),\n",
              "  ('is', 0.007301549472917386),\n",
              "  ('for', 0.007097838533431305),\n",
              "  ('it', 0.006863359979705448)],\n",
              " 0: [('pax', 0.01821600581595017),\n",
              "  ('rating', 0.013747404801966465),\n",
              "  ('the', 0.010432450504991288),\n",
              "  ('ratings', 0.009353204825697129),\n",
              "  ('to', 0.009178584697016736),\n",
              "  ('and', 0.008167470372141803),\n",
              "  ('you', 0.008130516613851816),\n",
              "  ('is', 0.007827224152464335),\n",
              "  ('of', 0.007116034638812752),\n",
              "  ('that', 0.00705829488001275)],\n",
              " 1: [('ping', 0.017536617069038165),\n",
              "  ('pings', 0.016875962609934344),\n",
              "  ('the', 0.0112583019804657),\n",
              "  ('to', 0.010136132854676584),\n",
              "  ('and', 0.00913763256694093),\n",
              "  ('in', 0.007557836772509452),\n",
              "  ('get', 0.007530006657569804),\n",
              "  ('of', 0.0074412317158686235),\n",
              "  ('that', 0.007434211037375774),\n",
              "  ('it', 0.007239715749426996)],\n",
              " 2: [('surge', 0.03654356922001281),\n",
              "  ('the surge', 0.013778863817237313),\n",
              "  ('the', 0.01185694467694116),\n",
              "  ('it', 0.008986784921215933),\n",
              "  ('surges', 0.008971916869306496),\n",
              "  ('to', 0.008881334290913475),\n",
              "  ('and', 0.00862776004200493),\n",
              "  ('is', 0.008088497810786783),\n",
              "  ('in', 0.0080854484177139),\n",
              "  ('of', 0.007629007210879445)],\n",
              " 3: [('uber', 0.023476034553947176),\n",
              "  ('to', 0.010381294611788978),\n",
              "  ('drivers', 0.010117684553743893),\n",
              "  ('the', 0.009577161713856256),\n",
              "  ('for', 0.008508246384632889),\n",
              "  ('you', 0.008409614695598377),\n",
              "  ('of', 0.008404519635918095),\n",
              "  ('they', 0.008318736175220743),\n",
              "  ('is', 0.008289805944199672),\n",
              "  ('and', 0.007904658058549029)],\n",
              " 4: [('lyft', 0.03490184935313732),\n",
              "  ('and', 0.010264456568829957),\n",
              "  ('to', 0.009492950709588974),\n",
              "  ('rides', 0.008732240569269127),\n",
              "  ('the', 0.00852303621600532),\n",
              "  ('is', 0.008211537612277943),\n",
              "  ('for', 0.008014744823731653),\n",
              "  ('in', 0.007482744617676333),\n",
              "  ('you', 0.007271084968373823),\n",
              "  ('lyft is', 0.007097533318423488)],\n",
              " 5: [('bitcoin', 0.023022090850174946),\n",
              "  ('is', 0.010236225767281174),\n",
              "  ('the', 0.010024406632191632),\n",
              "  ('you', 0.009687202930910896),\n",
              "  ('it', 0.00932516688144015),\n",
              "  ('to', 0.008902492289109503),\n",
              "  ('its', 0.008399235895380934),\n",
              "  ('in', 0.00838494327576746),\n",
              "  ('of', 0.008262355297037076),\n",
              "  ('crypto', 0.008132693670141198)],\n",
              " 6: [('pool', 0.04729773468056708),\n",
              "  ('pools', 0.01190735366851221),\n",
              "  ('opt', 0.009825488528827446),\n",
              "  ('uberpool', 0.009621752298905615),\n",
              "  ('the', 0.009371958995943858),\n",
              "  ('out', 0.008847450820937856),\n",
              "  ('and', 0.008845189704900428),\n",
              "  ('to', 0.008605078488784886),\n",
              "  ('it', 0.00756530530246122),\n",
              "  ('opt out', 0.007540079579843243)],\n",
              " 7: [('tip', 0.02390975041756862),\n",
              "  ('tips', 0.021083716067658673),\n",
              "  ('the', 0.011734562920186686),\n",
              "  ('of', 0.010005281368524964),\n",
              "  ('to', 0.009402019399289169),\n",
              "  ('they', 0.009275237100243838),\n",
              "  ('and', 0.009080521134852705),\n",
              "  ('that', 0.008757476054504205),\n",
              "  ('tipping', 0.0077979320502239375),\n",
              "  ('is', 0.007706988592735001)],\n",
              " 8: [('smove', 0.05406763462678041),\n",
              "  ('grab', 0.024695914363527652),\n",
              "  ('incentives', 0.01173408114084987),\n",
              "  ('for', 0.011662813899823153),\n",
              "  ('petrol', 0.011580474388320584),\n",
              "  ('uber', 0.011116646060624517),\n",
              "  ('to', 0.01105243255545208),\n",
              "  ('drive', 0.009088218510451138),\n",
              "  ('incentive', 0.008937771892577882),\n",
              "  ('rental', 0.00877214793631467)],\n",
              " 9: [('algorithm', 0.015424875652716321),\n",
              "  ('and', 0.011000371273508298),\n",
              "  ('drivers', 0.010909324752299061),\n",
              "  ('the', 0.010883237281942964),\n",
              "  ('uber', 0.010873340714764571),\n",
              "  ('to', 0.010349402649308923),\n",
              "  ('of', 0.00948272319557571),\n",
              "  ('algorithms', 0.009413848816864603),\n",
              "  ('ubers', 0.008298641558192951),\n",
              "  ('in', 0.00823892801398238)],\n",
              " 10: [('email', 0.019188032653844986),\n",
              "  ('deactivated', 0.013713790409905053),\n",
              "  ('same', 0.013522638554384087),\n",
              "  ('deactivation', 0.012987957070158297),\n",
              "  ('it', 0.011707526898651299),\n",
              "  ('sent', 0.010869368083497588),\n",
              "  ('did', 0.01059170004131092),\n",
              "  ('emails', 0.01021075963144762),\n",
              "  ('got', 0.010197068846475381),\n",
              "  ('you', 0.010154687071804053)],\n",
              " 11: [('hour', 0.01469743730042182),\n",
              "  ('you', 0.014581003363773496),\n",
              "  ('hours', 0.013621559804092874),\n",
              "  ('week', 0.013069317926355701),\n",
              "  ('make', 0.009939916728867257),\n",
              "  ('in', 0.009648307927115633),\n",
              "  ('money', 0.009182887286193838),\n",
              "  ('an hour', 0.009085381190080608),\n",
              "  ('to', 0.008385075741803284),\n",
              "  ('days', 0.008088046500708186)],\n",
              " 12: [('he', 0.025292476205618357),\n",
              "  ('his', 0.015010659820504922),\n",
              "  ('homeless', 0.012611461376311686),\n",
              "  ('in', 0.01106495266908871),\n",
              "  ('to', 0.009737966822852174),\n",
              "  ('of', 0.009206857369696876),\n",
              "  ('and', 0.0091790243048001),\n",
              "  ('hes', 0.008938636755718909),\n",
              "  ('him', 0.008630313354164754),\n",
              "  ('the', 0.007903628030296442)],\n",
              " 13: [('algorithm', 0.06908247624041569),\n",
              "  ('the algorithm', 0.04055498039842394),\n",
              "  ('algorithm is', 0.01797174466663103),\n",
              "  ('algorithms', 0.01619797895895802),\n",
              "  ('the', 0.01344421214002732),\n",
              "  ('is', 0.011643676623493814),\n",
              "  ('you', 0.010933744884290959),\n",
              "  ('it', 0.010738203444619818),\n",
              "  ('an algorithm', 0.00983275490542024),\n",
              "  ('how', 0.008155449773237466)],\n",
              " 14: [('food', 0.018850298196641236),\n",
              "  ('order', 0.017423345531863987),\n",
              "  ('orders', 0.014819875186405063),\n",
              "  ('the', 0.013764880186253742),\n",
              "  ('restaurant', 0.01268657779538183),\n",
              "  ('ready', 0.010883025481946683),\n",
              "  ('delivery', 0.010408971372121502),\n",
              "  ('to', 0.009495522395712216),\n",
              "  ('the food', 0.009488491403904939),\n",
              "  ('and', 0.009354593947645349)],\n",
              " 15: [('saturday', 0.0200177088638385),\n",
              "  ('weekend', 0.017153476798692276),\n",
              "  ('friday', 0.014811414272237783),\n",
              "  ('day', 0.012902734118732904),\n",
              "  ('week', 0.012575894150979353),\n",
              "  ('this', 0.011946501277264229),\n",
              "  ('this week', 0.011587606654487744),\n",
              "  ('thursday', 0.011146266057291545),\n",
              "  ('days', 0.010433665370410796),\n",
              "  ('to', 0.00983348747920372)],\n",
              " 16: [('cancel', 0.018387182576372417),\n",
              "  ('the', 0.011935327650890186),\n",
              "  ('minutes', 0.010970196802529997),\n",
              "  ('to', 0.010217015021831782),\n",
              "  ('they', 0.00971330333938831),\n",
              "  ('uber', 0.009420584879467578),\n",
              "  ('it', 0.009161273055590786),\n",
              "  ('and', 0.008772551892979647),\n",
              "  ('time', 0.008480800222339496),\n",
              "  ('that', 0.008458267859176638)],\n",
              " 17: [('iphone', 0.0311670175162918),\n",
              "  ('phone', 0.028233316256171946),\n",
              "  ('app', 0.021397539624437086),\n",
              "  ('apps', 0.016126569068767693),\n",
              "  ('the app', 0.014939403636027622),\n",
              "  ('android', 0.012586713405174251),\n",
              "  ('the', 0.011829887535824733),\n",
              "  ('nfc', 0.011406669419405595),\n",
              "  ('your', 0.010145509428734323),\n",
              "  ('phones', 0.010036665726897032)],\n",
              " 18: [('you', 0.01642718035527046),\n",
              "  ('your', 0.012158407361714151),\n",
              "  ('to', 0.010156047753875628),\n",
              "  ('are', 0.009890099186700491),\n",
              "  ('english', 0.009490891123531622),\n",
              "  ('was', 0.008530717082835756),\n",
              "  ('my', 0.008450248188214122),\n",
              "  ('and', 0.008434956935034387),\n",
              "  ('not', 0.008234024707234772),\n",
              "  ('but', 0.008098399060011249)],\n",
              " 19: [('her', 0.01779408362482678),\n",
              "  ('makeup', 0.017557379447735957),\n",
              "  ('she', 0.014404683639652055),\n",
              "  ('poo', 0.012072491480208935),\n",
              "  ('smell', 0.011950376677112757),\n",
              "  ('you', 0.010289073005137433),\n",
              "  ('the', 0.00905409122438705),\n",
              "  ('your', 0.008735557591599703),\n",
              "  ('in', 0.008706794531709649),\n",
              "  ('and', 0.008415334961512965)],\n",
              " 20: [('ufc', 0.06782453529710453),\n",
              "  ('ck', 0.021750594731841485),\n",
              "  ('ufc drivers', 0.019498206101478868),\n",
              "  ('smove', 0.01616657982363991),\n",
              "  ('for ufc', 0.01268915182740124),\n",
              "  ('for', 0.012260778396445893),\n",
              "  ('trips', 0.011029997231540408),\n",
              "  ('incentives', 0.010469113461394801),\n",
              "  ('rental', 0.010208458918834188),\n",
              "  ('week', 0.010192090806395611)],\n",
              " 21: [('agree', 0.0658132689049937),\n",
              "  ('exactly', 0.04252544480578415),\n",
              "  ('wrong', 0.038621848251755894),\n",
              "  ('not true', 0.036566776187868355),\n",
              "  ('sense', 0.035136013037120835),\n",
              "  ('true', 0.03419166089296049),\n",
              "  ('totally agree', 0.029843391716256232),\n",
              "  ('know', 0.027027405364143435),\n",
              "  ('it doesnt', 0.025911540670165486),\n",
              "  ('right', 0.025500248519400245)],\n",
              " 22: [('drivers', 0.03582048499317179),\n",
              "  ('to', 0.011329869175105138),\n",
              "  ('this', 0.011236264947140166),\n",
              "  ('are', 0.01061724918120486),\n",
              "  ('that', 0.010591356974108932),\n",
              "  ('of', 0.010250657651919891),\n",
              "  ('the', 0.00982579667946302),\n",
              "  ('driver', 0.009558132998112246),\n",
              "  ('many', 0.009420256922215533),\n",
              "  ('many drivers', 0.009052500110560961)],\n",
              " 23: [('jfk', 0.01443533520398063),\n",
              "  ('to', 0.014365733181072347),\n",
              "  ('you', 0.011385763719695552),\n",
              "  ('in', 0.010224721267383332),\n",
              "  ('area', 0.009741398292150158),\n",
              "  ('go', 0.008764210075655894),\n",
              "  ('st', 0.008413398636478175),\n",
              "  ('or', 0.008314803894864341),\n",
              "  ('where', 0.008225096634692144),\n",
              "  ('place', 0.008191554733728196)],\n",
              " 24: [('blau', 0.02312038173511194),\n",
              "  ('solid effort', 0.02235338210157236),\n",
              "  ('its', 0.021805240551856068),\n",
              "  ('sir', 0.017167947186790676),\n",
              "  ('at your', 0.016730567338559564),\n",
              "  ('solid', 0.01649899386865757),\n",
              "  ('blau blau', 0.016134312970004522),\n",
              "  ('128587', 0.016134312970004522),\n",
              "  ('effort', 0.015789658615995628),\n",
              "  ('another week', 0.01541358782340796)],\n",
              " 25: [('you', 0.011405156646659202),\n",
              "  ('to', 0.009557753335385165),\n",
              "  ('the', 0.00941578266269055),\n",
              "  ('and', 0.009256543649485789),\n",
              "  ('rideshare', 0.008877018427859786),\n",
              "  ('money', 0.008845471419077027),\n",
              "  ('make', 0.00826051218988006),\n",
              "  ('rides', 0.008050351177164588),\n",
              "  ('is', 0.007722264339343421),\n",
              "  ('dont', 0.007716122261496304)],\n",
              " 26: [('rate', 0.06217779916582283),\n",
              "  ('acceptance', 0.056334752688208735),\n",
              "  ('acceptance rate', 0.0446951887815583),\n",
              "  ('cancellation', 0.03598184095989811),\n",
              "  ('cancellation rate', 0.031229389608007252),\n",
              "  ('cancel', 0.018015268984573278),\n",
              "  ('rate is', 0.013310878903101836),\n",
              "  ('my acceptance', 0.013248289883262055),\n",
              "  ('my', 0.013241046953907964),\n",
              "  ('my cancellation', 0.012984477243281986)],\n",
              " 27: [('the', 0.013439116170095735),\n",
              "  ('of', 0.0113739213278627),\n",
              "  ('and', 0.011275063011077776),\n",
              "  ('mexico', 0.011209850538053701),\n",
              "  ('people', 0.010064609437394515),\n",
              "  ('in', 0.009591688729853172),\n",
              "  ('that', 0.00911360423541989),\n",
              "  ('to', 0.008711359194601396),\n",
              "  ('economy', 0.008058473215510873),\n",
              "  ('have', 0.0074653946636013225)],\n",
              " 28: [('cents', 0.04014183311500623),\n",
              "  ('per', 0.038036491065230764),\n",
              "  ('mile', 0.03508268309863395),\n",
              "  ('per mile', 0.029774801098410072),\n",
              "  ('30 cents', 0.027990653933986625),\n",
              "  ('cents per', 0.02605267544420338),\n",
              "  ('mileage', 0.02373931107514369),\n",
              "  ('rates', 0.02320955635419312),\n",
              "  ('increase', 0.02006613081365758),\n",
              "  ('30', 0.019739593881013786)],\n",
              " 29: [('rides', 0.05340231996074908),\n",
              "  ('ride', 0.02318782664673752),\n",
              "  ('you', 0.011379617407632114),\n",
              "  ('of', 0.01076960442689759),\n",
              "  ('it', 0.010611580117516816),\n",
              "  ('or', 0.00958130476981551),\n",
              "  ('per', 0.009542255598246046),\n",
              "  ('hour', 0.009204071226830058),\n",
              "  ('town', 0.008553234569486467),\n",
              "  ('get', 0.008510173237649701)],\n",
              " 30: [('driver', 0.015469978962346722),\n",
              "  ('closest', 0.014663000516240192),\n",
              "  ('uber', 0.014358326679557524),\n",
              "  ('the', 0.014188993317315528),\n",
              "  ('rider', 0.013012928030064637),\n",
              "  ('the closest', 0.012585071775755687),\n",
              "  ('to', 0.01155193514832105),\n",
              "  ('in', 0.009890699228323984),\n",
              "  ('that', 0.009252928306062355),\n",
              "  ('drivers', 0.009186335219377903)],\n",
              " 31: [('car', 0.029348878354793786),\n",
              "  ('cars', 0.023990160021515855),\n",
              "  ('used car', 0.012743785075080161),\n",
              "  ('used', 0.012676526367709951),\n",
              "  ('the car', 0.011622108614261668),\n",
              "  ('the', 0.01124576597089354),\n",
              "  ('new', 0.011087654852618225),\n",
              "  ('new car', 0.011068610232528827),\n",
              "  ('toyota', 0.010857039238097378),\n",
              "  ('prius', 0.009959962163643123)],\n",
              " 32: [('trips', 0.03323836400066831),\n",
              "  ('promo', 0.028717854032676356),\n",
              "  ('week', 0.018748511446573544),\n",
              "  ('trip', 0.014684728735662265),\n",
              "  ('promos', 0.01466671924999356),\n",
              "  ('50', 0.013972775377206939),\n",
              "  ('trips for', 0.012613993028715341),\n",
              "  ('for', 0.011984610105178935),\n",
              "  ('75 trips', 0.011853896285777843),\n",
              "  ('this week', 0.011812063926245375)],\n",
              " 33: [('the', 0.011637663798358115),\n",
              "  ('uber', 0.01160436422787189),\n",
              "  ('and', 0.010398729004149653),\n",
              "  ('fare', 0.010092527252150693),\n",
              "  ('minimum', 0.009580828038864949),\n",
              "  ('on', 0.00856569893964003),\n",
              "  ('they', 0.008502958445302368),\n",
              "  ('to', 0.008454080580220227),\n",
              "  ('fares', 0.008386980847976826),\n",
              "  ('service', 0.008328357698831305)],\n",
              " 34: [('blacks', 0.021028214043523712),\n",
              "  ('white', 0.01980855621515982),\n",
              "  ('black', 0.01750926616788082),\n",
              "  ('and', 0.01325628972075044),\n",
              "  ('whites', 0.011554091608773418),\n",
              "  ('of', 0.010645269435211846),\n",
              "  ('in', 0.009594288598439573),\n",
              "  ('racist', 0.009590478768211041),\n",
              "  ('he', 0.008750169555097474),\n",
              "  ('is', 0.008685727419366403)],\n",
              " 35: [('ants', 0.04700266451670625),\n",
              "  ('ant', 0.025329986740406794),\n",
              "  ('blind', 0.02092936693513929),\n",
              "  ('blind ants', 0.017554606855268957),\n",
              "  ('strategy', 0.013653306028206023),\n",
              "  ('the', 0.01344301297738178),\n",
              "  ('and', 0.009892788949240552),\n",
              "  ('to', 0.009810859245205004),\n",
              "  ('the blind', 0.009795751117457603),\n",
              "  ('uber', 0.008587477246673327)],\n",
              " 36: [('lyft', 0.02668921506914134),\n",
              "  ('ping', 0.013332336920117281),\n",
              "  ('pings', 0.012663445422064054),\n",
              "  ('the', 0.009745271167772442),\n",
              "  ('and', 0.00920740894127079),\n",
              "  ('in', 0.009022131714589576),\n",
              "  ('that', 0.00897456814711244),\n",
              "  ('was', 0.008664303736294425),\n",
              "  ('uber', 0.00847692600667886),\n",
              "  ('on', 0.008414851494091578)],\n",
              " 37: [('racist', 0.0218971890425166),\n",
              "  ('race', 0.018280500913666065),\n",
              "  ('color', 0.012076787910981572),\n",
              "  ('white', 0.011940013798546319),\n",
              "  ('that', 0.010444420304174867),\n",
              "  ('to', 0.010224002097785703),\n",
              "  ('are', 0.00982409594158884),\n",
              "  ('you', 0.009624589283272953),\n",
              "  ('is', 0.009542653859370538),\n",
              "  ('it', 0.00896354066346345)],\n",
              " 38: [('surge', 0.048206769326095376),\n",
              "  ('ping', 0.024819723434185183),\n",
              "  ('pings', 0.02279902566498576),\n",
              "  ('the surge', 0.017073831840329123),\n",
              "  ('was', 0.0145838711418833),\n",
              "  ('zone', 0.013245657615043647),\n",
              "  ('in surge', 0.0126675148634363),\n",
              "  ('in', 0.012556961288311795),\n",
              "  ('the', 0.012289725613732224),\n",
              "  ('no', 0.011133397187106597)],\n",
              " 39: [('expenses', 0.024960062001771012),\n",
              "  ('fuel', 0.01956364968689601),\n",
              "  ('you', 0.019201290443784536),\n",
              "  ('tax', 0.015603448272385436),\n",
              "  ('your', 0.015399605795095807),\n",
              "  ('figures', 0.014995408660262879),\n",
              "  ('70k', 0.01487895783574693),\n",
              "  ('year', 0.0124143547581575),\n",
              "  ('gas', 0.01182546550362771),\n",
              "  ('income', 0.011586195652380152)],\n",
              " 40: [('lol', 0.3034757488010478),\n",
              "  ('lol lol', 0.16401171275439544),\n",
              "  ('lmao', 0.08782657868313867),\n",
              "  ('joke and', 0.06552744437276205),\n",
              "  ('funny lol', 0.06552744437276205),\n",
              "  ('lmao lol', 0.06552744437276205),\n",
              "  ('joke', 0.06324554724204531),\n",
              "  ('haha', 0.06204464437511457),\n",
              "  ('edit', 0.050984776467905085),\n",
              "  ('hahaha', 0.05051920715013018)],\n",
              " 41: [('shake', 0.05532476758392063),\n",
              "  ('liao', 0.05134979218382057),\n",
              "  ('dog', 0.05080041137890511),\n",
              "  ('lcrdog', 0.03342978380095567),\n",
              "  ('lcr dog', 0.025932631557328945),\n",
              "  ('lol haha', 0.02339902525466302),\n",
              "  ('lcr', 0.022988605527901905),\n",
              "  ('eagles', 0.021548488634260184),\n",
              "  ('leg', 0.020414450924133645),\n",
              "  ('ball', 0.02011544051521794)],\n",
              " 42: [('read', 0.06422195636364521),\n",
              "  ('article', 0.05357789048851199),\n",
              "  ('to read', 0.035605669529644154),\n",
              "  ('this article', 0.03156176381796693),\n",
              "  ('source', 0.027581470292331878),\n",
              "  ('read it', 0.023009496414425193),\n",
              "  ('this', 0.022427065238424852),\n",
              "  ('read the', 0.02109360892649949),\n",
              "  ('the insight', 0.02098393305347409),\n",
              "  ('source please', 0.02098393305347409)],\n",
              " 43: [('deadmiler nailed', 0.16352344226355933),\n",
              "  ('deadmiler', 0.1562187955075131),\n",
              "  ('nailed it', 0.1437327493677906),\n",
              "  ('nailed', 0.1385513498072679),\n",
              "  ('this', 0.10194885887286972),\n",
              "  ('wow', 0.09878005055973361),\n",
              "  ('damn', 0.09736299524568488),\n",
              "  ('whiskey', 0.08800577486276001),\n",
              "  ('green smiles', 0.08800577486276001),\n",
              "  ('this ooo', 0.08800577486276001)],\n",
              " 44: [('ant', 0.08615243197636635),\n",
              "  ('ants', 0.0756326238708362),\n",
              "  ('iq', 0.027070338794219398),\n",
              "  ('the ants', 0.02338565234862733),\n",
              "  ('the ant', 0.02165627103537552),\n",
              "  ('mindless', 0.019094574688131288),\n",
              "  ('an ant', 0.015430513186338526),\n",
              "  ('shame on', 0.013782158003990196),\n",
              "  ('that ant', 0.013782158003990196),\n",
              "  ('fat ant', 0.013782158003990196)],\n",
              " 45: [('trips', 0.062027813530718),\n",
              "  ('trip', 0.04201935081636385),\n",
              "  ('long', 0.030282958860315963),\n",
              "  ('long trip', 0.02820901288453552),\n",
              "  ('trip per', 0.02195635793193961),\n",
              "  ('long trips', 0.021546993868160676),\n",
              "  ('short', 0.018154642910887777),\n",
              "  ('per hour', 0.017960161329723515),\n",
              "  ('many miles', 0.01775889125705166),\n",
              "  ('normally', 0.01723759509452854)],\n",
              " 46: [('cab', 0.04723567918962229),\n",
              "  ('yellow', 0.017268427068106388),\n",
              "  ('cabbies', 0.01673000290567196),\n",
              "  ('taxi', 0.015238481374590196),\n",
              "  ('cabbie', 0.01352299959340714),\n",
              "  ('cab drivers', 0.013019883126858844),\n",
              "  ('the', 0.011537237037175787),\n",
              "  ('drivers', 0.011444959950958096),\n",
              "  ('you', 0.011430033632931614),\n",
              "  ('to', 0.011073402113489053)],\n",
              " 47: [('drive', 0.058569701727579526),\n",
              "  ('driving', 0.04774913188432788),\n",
              "  ('you', 0.029814524450700045),\n",
              "  ('driving after', 0.025649423311942084),\n",
              "  ('and drive', 0.025121011457064704),\n",
              "  ('now', 0.022350429959892438),\n",
              "  ('driving now', 0.018951132569763884),\n",
              "  ('drive this', 0.018322444345551116),\n",
              "  ('you say', 0.017595231863022625),\n",
              "  ('car', 0.017594747341562415)],\n",
              " 48: [('thumbs', 0.04050965389121042),\n",
              "  ('thumbs down', 0.034518234248650276),\n",
              "  ('down', 0.024988216804136754),\n",
              "  ('merchant', 0.01982742701467888),\n",
              "  ('feedback', 0.018507283748868508),\n",
              "  ('customers', 0.016461624464967642),\n",
              "  ('merchants', 0.01566109962179912),\n",
              "  ('ratings', 0.015507577158872453),\n",
              "  ('restaurants', 0.015127750752666463),\n",
              "  ('rating', 0.014310526918240037)],\n",
              " 49: [('airport', 0.06668499696568778),\n",
              "  ('the airport', 0.032341743387666946),\n",
              "  ('waiting', 0.018215445460647923),\n",
              "  ('an airport', 0.017353046347834244),\n",
              "  ('in', 0.01560041670352742),\n",
              "  ('runs', 0.011821655646501814),\n",
              "  ('airport runs', 0.011217804963613019),\n",
              "  ('in the', 0.01071906902039443),\n",
              "  ('queue', 0.010634258834689773),\n",
              "  ('the', 0.01060306291157805)],\n",
              " 50: [('online', 0.03308638555795201),\n",
              "  ('timer', 0.030919838762259157),\n",
              "  ('upload', 0.026755330653211392),\n",
              "  ('receipts', 0.026407220148477354),\n",
              "  ('to upload', 0.018958122363949066),\n",
              "  ('offline', 0.018297895554382302),\n",
              "  ('the timer', 0.01696042886530449),\n",
              "  ('online timer', 0.01679022190904283),\n",
              "  ('5s', 0.014430401669279226),\n",
              "  ('again', 0.01431151725410627)],\n",
              " 51: [('quest', 0.12301769917883913),\n",
              "  ('quests', 0.038864789506628215),\n",
              "  ('my quest', 0.032066499497218286),\n",
              "  ('quest is', 0.021935382923682065),\n",
              "  ('the quest', 0.01862693479964055),\n",
              "  ('any quests', 0.016637123823331885),\n",
              "  ('down quest', 0.016637123823331885),\n",
              "  ('that quest', 0.016637123823331885),\n",
              "  ('get', 0.016219139907554195),\n",
              "  ('didnt', 0.016115816748125806)],\n",
              " 52: [('plate', 0.11151676424170497),\n",
              "  ('128077', 0.07546373739687141),\n",
              "  ('number', 0.06621477203123304),\n",
              "  ('128514', 0.06281646849910895),\n",
              "  ('ha', 0.036098753585636675),\n",
              "  ('too 910010101', 0.03141042125326804),\n",
              "  ('wor whats', 0.03141042125326804),\n",
              "  ('clarifying that', 0.03141042125326804),\n",
              "  ('my plate', 0.03141042125326804),\n",
              "  ('care wow', 0.03141042125326804)],\n",
              " 53: [('algorithm', 0.025983442536186202),\n",
              "  ('the algorithm', 0.022952159003744418),\n",
              "  ('drivers', 0.017149786764964904),\n",
              "  ('the', 0.012492017593507324),\n",
              "  ('it', 0.01126283007403685),\n",
              "  ('would', 0.010296749718282164),\n",
              "  ('are', 0.01024515657414301),\n",
              "  ('driver', 0.0097821375123265),\n",
              "  ('new drivers', 0.009519682229236244),\n",
              "  ('that', 0.009502225834590584)],\n",
              " 54: [('yes', 0.5173043989118891),\n",
              "  ('yes yep', 0.3742858689622515),\n",
              "  ('yep', 0.256087089104812),\n",
              "  ('yup yes', 0.23862779313762322),\n",
              "  ('yep yes', 0.23862779313762322),\n",
              "  ('yup', 0.22054463007494535),\n",
              "  ('yep yup', 0.16652387239683566),\n",
              "  ('yea yea', 0.16652387239683566),\n",
              "  ('yea', 0.165408472556209),\n",
              "  ('yes yes', 0.14109357640923614)],\n",
              " 55: [('uber', 0.018941892993495503),\n",
              "  ('they', 0.013975925223760345),\n",
              "  ('drivers', 0.01358608264726402),\n",
              "  ('pay', 0.010683928659500814),\n",
              "  ('to', 0.010623135077533739),\n",
              "  ('the', 0.010391001653346488),\n",
              "  ('for', 0.010080137472112765),\n",
              "  ('of', 0.009667779285815034),\n",
              "  ('billion', 0.009036843366901316),\n",
              "  ('and', 0.008962467277832594)],\n",
              " 56: [('lie', 0.06416836795897236),\n",
              "  ('lies', 0.059682855634211475),\n",
              "  ('lying', 0.027451001086397822),\n",
              "  ('truth', 0.024341550385962023),\n",
              "  ('the truth', 0.01947702588503968),\n",
              "  ('people lie', 0.019454557439716063),\n",
              "  ('of manipulation', 0.018585515864237893),\n",
              "  ('and deception', 0.018585515864237893),\n",
              "  ('denial', 0.01796895667328968),\n",
              "  ('lie about', 0.01796895667328968)],\n",
              " 57: [('aqua', 0.05099917167186214),\n",
              "  ('aquas', 0.03937056215502507),\n",
              "  ('hybrid', 0.03264070284414328),\n",
              "  ('attrages', 0.025556728453037237),\n",
              "  ('attrage', 0.023938349155225427),\n",
              "  ('the aqua', 0.023207848859030888),\n",
              "  ('batteries', 0.01809288906131722),\n",
              "  ('brake', 0.017405886644273165),\n",
              "  ('the', 0.01625349045381436),\n",
              "  ('suspension', 0.013811913054229488)],\n",
              " 58: [('ezlink', 0.06432955217845597),\n",
              "  ('card', 0.0606249000488766),\n",
              "  ('ezlink card', 0.04363863674311391),\n",
              "  ('auto', 0.03729662197216522),\n",
              "  ('reload', 0.03491090939449113),\n",
              "  ('auto reload', 0.03200556327936666),\n",
              "  ('the ezlink', 0.02331141902370654),\n",
              "  ('carpark', 0.02063527627353844),\n",
              "  ('top', 0.02049322132625801),\n",
              "  ('transaction', 0.018612219686236785)],\n",
              " 59: [('app', 0.03493825615362014),\n",
              "  ('rider', 0.023984276631739142),\n",
              "  ('the app', 0.01925490050070587),\n",
              "  ('rider app', 0.017313996869347897),\n",
              "  ('logged', 0.013214851976470217),\n",
              "  ('up', 0.012990232761728301),\n",
              "  ('you', 0.01287224871948138),\n",
              "  ('that', 0.012622335760198156),\n",
              "  ('address', 0.012169845258190874),\n",
              "  ('apps', 0.012093090062501878)],\n",
              " 60: [('neil', 0.04210481221820418),\n",
              "  ('his', 0.029381084099741567),\n",
              "  ('ali', 0.027069488551419704),\n",
              "  ('guy', 0.026938725652414366),\n",
              "  ('chris', 0.026349080549118675),\n",
              "  ('he', 0.022727835453660066),\n",
              "  ('is neil', 0.01953832302610881),\n",
              "  ('scottie', 0.018665539613922446),\n",
              "  ('jokes', 0.015869360073014614),\n",
              "  ('an idiot', 0.014932923005024863)],\n",
              " 61: [('car', 0.016352660048277918),\n",
              "  ('request', 0.015792476762586414),\n",
              "  ('in my', 0.015263542133398821),\n",
              "  ('had', 0.013690408913154185),\n",
              "  ('in', 0.013608512022009368),\n",
              "  ('to get', 0.012307468816158223),\n",
              "  ('driver', 0.012292079419918655),\n",
              "  ('my car', 0.011716002397300062),\n",
              "  ('my', 0.011410299050031932),\n",
              "  ('to', 0.01135370768675558)],\n",
              " 62: [('australia', 0.027892130936433585),\n",
              "  ('aussie', 0.022348613705655246),\n",
              "  ('generation', 0.021029841543711115),\n",
              "  ('aboriginal', 0.02061503775486883),\n",
              "  ('country', 0.018427486960785666),\n",
              "  ('you', 0.015261838339062058),\n",
              "  ('welcome', 0.015126095832673376),\n",
              "  ('are', 0.014820156209277568),\n",
              "  ('australian', 0.014723322002280586),\n",
              "  ('world', 0.013441398022490789)],\n",
              " 63: [('df', 0.06897466694862565),\n",
              "  ('the df', 0.032547725111363904),\n",
              "  ('dfs', 0.021874965647532493),\n",
              "  ('df has', 0.020138182073488612),\n",
              "  ('dfw', 0.01967308551431819),\n",
              "  ('dulles', 0.01916436658237208),\n",
              "  ('it', 0.014429907778087432),\n",
              "  ('but', 0.013926529306181507),\n",
              "  ('has', 0.013446695161263901),\n",
              "  ('has been', 0.01305669778075605)],\n",
              " 64: [('65', 0.10909284358999025),\n",
              "  ('65 for', 0.09684634652775025),\n",
              "  ('for 85', 0.0803744845331222),\n",
              "  ('85', 0.07379619352881171),\n",
              "  ('90 im', 0.04572066017948385),\n",
              "  ('90', 0.03883927933428405),\n",
              "  ('for 80', 0.0387385386111001),\n",
              "  ('for', 0.03859024328577768),\n",
              "  ('80', 0.037946670084092436),\n",
              "  ('40 for', 0.03669704564548272)],\n",
              " 65: [('week', 0.020565836108584267),\n",
              "  ('hours', 0.015310601520119062),\n",
              "  ('uber', 0.014014883010642841),\n",
              "  ('hrs', 0.01396288477939402),\n",
              "  ('day', 0.013239422675635057),\n",
              "  ('days', 0.013000051985691057),\n",
              "  ('this', 0.012758573779176257),\n",
              "  ('for', 0.011238445626417383),\n",
              "  ('hour', 0.01101325688149552),\n",
              "  ('earnings', 0.010764100209029378)],\n",
              " 66: [('22', 0.0430225018850044),\n",
              "  ('prop 22', 0.041180818223849336),\n",
              "  ('prop', 0.04103218004307391),\n",
              "  ('prop22', 0.015747512873524414),\n",
              "  ('voting', 0.013325672348144541),\n",
              "  ('will', 0.011668906092379477),\n",
              "  ('they', 0.010729657288735287),\n",
              "  ('be', 0.010426436019363142),\n",
              "  ('vote', 0.01013145869075203),\n",
              "  ('oregon', 0.01010246253460637)],\n",
              " 67: [('ar', 0.08428356890482142),\n",
              "  ('cr', 0.03083028379341443),\n",
              "  ('my ar', 0.02817052205603454),\n",
              "  ('ar and', 0.022921900705300674),\n",
              "  ('an ar', 0.021302563023751785),\n",
              "  ('arcr', 0.01922131230993203),\n",
              "  ('ar is', 0.018604113199413408),\n",
              "  ('my', 0.01840039216176321),\n",
              "  ('ar that', 0.014865767478505395),\n",
              "  ('the arcr', 0.014865767478505395)],\n",
              " 68: [('update', 0.02081350305225317),\n",
              "  ('uber', 0.019600939060455753),\n",
              "  ('app', 0.015334827485942053),\n",
              "  ('review', 0.015054499704762653),\n",
              "  ('bla', 0.013838512143317402),\n",
              "  ('the app', 0.013829254490608952),\n",
              "  ('to', 0.013410588143504343),\n",
              "  ('from uber', 0.012791324671111068),\n",
              "  ('account', 0.012620360386074546),\n",
              "  ('have to', 0.011558070104764746)],\n",
              " 69: [('child', 0.046597162634073194),\n",
              "  ('approved', 0.021985651556426095),\n",
              "  ('seat', 0.0217005031260928),\n",
              "  ('children', 0.021014852082920768),\n",
              "  ('child car', 0.017412057547247933),\n",
              "  ('restraint', 0.017145483322187956),\n",
              "  ('an approved', 0.015500005313047368),\n",
              "  ('taxi', 0.014936019300887072),\n",
              "  ('booster', 0.014432647869911755),\n",
              "  ('children aged', 0.013547411700955072)],\n",
              " 70: [('rakos', 0.1577177458361712),\n",
              "  ('monkey', 0.04577887546713033),\n",
              "  ('the monkey', 0.0363042337767267),\n",
              "  ('algo', 0.031344702990944294),\n",
              "  ('rackos', 0.029418317814027692),\n",
              "  ('rakos ps', 0.029418317814027692),\n",
              "  ('the algo', 0.026273806658681582),\n",
              "  ('ps', 0.02123545373182482),\n",
              "  ('poo', 0.020645385985835422),\n",
              "  ('you', 0.017369946086842784)],\n",
              " 71: [('forum', 0.03840841999455793),\n",
              "  ('members', 0.03411530763041049),\n",
              "  ('member', 0.02348820144376907),\n",
              "  ('here', 0.020285694507346897),\n",
              "  ('post', 0.019829801184554144),\n",
              "  ('there', 0.018264567822978375),\n",
              "  ('not post', 0.017303243175648318),\n",
              "  ('attn', 0.017303243175648318),\n",
              "  ('alert list', 0.017303243175648318),\n",
              "  ('forum here', 0.017303243175648318)],\n",
              " 72: [('boost', 0.0698080707317421),\n",
              "  ('boosts', 0.037311667115584236),\n",
              "  ('the boost', 0.015546349852355238),\n",
              "  ('promotions', 0.014194153603391541),\n",
              "  ('they', 0.01418627892682627),\n",
              "  ('no', 0.013122357925417494),\n",
              "  ('new system', 0.012954864242381877),\n",
              "  ('no boost', 0.012954864242381877),\n",
              "  ('this', 0.012311674897778142),\n",
              "  ('500', 0.011169291317078736)],\n",
              " 73: [('algorithm', 0.03401378501650365),\n",
              "  ('lyft', 0.027898752641757445),\n",
              "  ('fifo', 0.026659377048518222),\n",
              "  ('the algorithm', 0.01742648552207141),\n",
              "  ('lyfts', 0.017265789121867325),\n",
              "  ('and lyft', 0.0165458861858399),\n",
              "  ('of proximity', 0.015158260918787766),\n",
              "  ('when', 0.015142391003266448),\n",
              "  ('lyfts algorithm', 0.013501936250898355),\n",
              "  ('algorithms', 0.012592604117549136)],\n",
              " 74: [('thanks', 0.24181728759567722),\n",
              "  ('bro', 0.2141792524065093),\n",
              "  ('thanks bro', 0.19145202215789708),\n",
              "  ('love you', 0.18172497773187016),\n",
              "  ('thank', 0.16671084203609068),\n",
              "  ('bro thanks', 0.14520881673004069),\n",
              "  ('thank you', 0.1322390015296757),\n",
              "  ('love', 0.11073028185736236),\n",
              "  ('hoping someone', 0.07814912807813089),\n",
              "  ('guys thanks', 0.07814912807813089)]}"
            ]
          },
          "metadata": {},
          "execution_count": 27
        }
      ]
    },
    {
      "cell_type": "code",
      "source": [
        "similar_topics, similarity = topic_model.find_topics(\"algorithm\", top_n=5); similar_topics"
      ],
      "metadata": {
        "colab": {
          "base_uri": "https://localhost:8080/"
        },
        "id": "_JarbYZNCZiK",
        "outputId": "8abca058-5ec3-47cc-f4bc-21acb21e7f99"
      },
      "execution_count": null,
      "outputs": [
        {
          "output_type": "execute_result",
          "data": {
            "text/plain": [
              "[13, 53, 73, 9, 35]"
            ]
          },
          "metadata": {},
          "execution_count": 18
        }
      ]
    },
    {
      "cell_type": "code",
      "metadata": {
        "colab": {
          "base_uri": "https://localhost:8080/"
        },
        "id": "IVpvT4bA6KiN",
        "outputId": "df224120-4289-4e13-81de-dd58b587b28e"
      },
      "source": [
        "topic_model.get_topic(13) "
      ],
      "execution_count": null,
      "outputs": [
        {
          "output_type": "execute_result",
          "data": {
            "text/plain": [
              "[('algorithm', 0.06908247624041569),\n",
              " ('the algorithm', 0.04055498039842394),\n",
              " ('algorithm is', 0.01797174466663103),\n",
              " ('algorithms', 0.01619797895895802),\n",
              " ('the', 0.01344421214002732),\n",
              " ('is', 0.011643676623493814),\n",
              " ('you', 0.010933744884290959),\n",
              " ('it', 0.010738203444619818),\n",
              " ('an algorithm', 0.00983275490542024),\n",
              " ('how', 0.008155449773237466)]"
            ]
          },
          "metadata": {},
          "execution_count": 20
        }
      ]
    },
    {
      "cell_type": "markdown",
      "metadata": {
        "id": "ixc-X2JzodrZ"
      },
      "source": [
        "**NOTE**: BERTopic is stocastich which mmeans that the topics might differ across runs. This is mostly due to the stocastisch nature of UMAP."
      ]
    },
    {
      "cell_type": "code",
      "source": [
        "topic_model.get_topic(53)"
      ],
      "metadata": {
        "id": "d0dMoMpeBIvS",
        "colab": {
          "base_uri": "https://localhost:8080/"
        },
        "outputId": "4e3fe5f0-a28d-4914-fd62-917029172413"
      },
      "execution_count": null,
      "outputs": [
        {
          "output_type": "execute_result",
          "data": {
            "text/plain": [
              "[('algorithm', 0.025983442536186202),\n",
              " ('the algorithm', 0.022952159003744418),\n",
              " ('drivers', 0.017149786764964904),\n",
              " ('the', 0.012492017593507324),\n",
              " ('it', 0.01126283007403685),\n",
              " ('would', 0.010296749718282164),\n",
              " ('are', 0.01024515657414301),\n",
              " ('driver', 0.0097821375123265),\n",
              " ('new drivers', 0.009519682229236244),\n",
              " ('that', 0.009502225834590584)]"
            ]
          },
          "metadata": {},
          "execution_count": 21
        }
      ]
    },
    {
      "cell_type": "markdown",
      "metadata": {
        "id": "UbT2Bd9gqaJ3"
      },
      "source": [
        "# **Visualization**\n",
        "There are several visualization options available in BERTopic, namely the visualization of topics, probabilities and topics over time. Topic modeling is, to a certain extent, quite subjective. Visualizations help understand the topics that were created. "
      ]
    },
    {
      "cell_type": "markdown",
      "metadata": {
        "id": "M8c8LenB8Zyl"
      },
      "source": [
        "## Visualize Topics\n",
        "After having trained our `BERTopic` model, we can iteratively go through perhaps a hundred topic to get a good \n",
        "understanding of the topics that were extract. However, that takes quite some time and lacks a global representation. \n",
        "Instead, we can visualize the topics that were generated in a way very similar to \n",
        "[LDAvis](https://github.com/cpsievert/LDAvis):"
      ]
    },
    {
      "cell_type": "code",
      "metadata": {
        "colab": {
          "base_uri": "https://localhost:8080/",
          "height": 667
        },
        "id": "S9qDqEHddgKq",
        "outputId": "16b9f21f-499c-4b03-80cf-d5972a89f43d"
      },
      "source": [
        "topic_model.visualize_topics()"
      ],
      "execution_count": null,
      "outputs": [
        {
          "output_type": "display_data",
          "data": {
            "text/html": [
              "<html>\n",
              "<head><meta charset=\"utf-8\" /></head>\n",
              "<body>\n",
              "    <div>            <script src=\"https://cdnjs.cloudflare.com/ajax/libs/mathjax/2.7.5/MathJax.js?config=TeX-AMS-MML_SVG\"></script><script type=\"text/javascript\">if (window.MathJax) {MathJax.Hub.Config({SVG: {font: \"STIX-Web\"}});}</script>                <script type=\"text/javascript\">window.PlotlyConfig = {MathJaxConfig: 'local'};</script>\n",
              "        <script src=\"https://cdn.plot.ly/plotly-2.8.3.min.js\"></script>                <div id=\"1626e9bb-0f67-4668-9619-babf26511624\" class=\"plotly-graph-div\" style=\"height:650px; width:650px;\"></div>            <script type=\"text/javascript\">                                    window.PLOTLYENV=window.PLOTLYENV || {};                                    if (document.getElementById(\"1626e9bb-0f67-4668-9619-babf26511624\")) {                    Plotly.newPlot(                        \"1626e9bb-0f67-4668-9619-babf26511624\",                        [{\"customdata\":[[0,\"you | this | read | your | it\",789],[1,\"surge | the surge | the | to | it\",643],[2,\"ping | pings | the | to | and\",548],[3,\"uber | to | drivers | they | the\",441],[4,\"lyft | and | to | the | rides\",310],[5,\"rating | ratings | stars | the | to\",272],[6,\"bitcoin | is | the | you | it\",271],[7,\"algorithm | the | drivers | to | uber\",243],[8,\"pool | pools | the | opt | and\",217],[9,\"tip | tips | the | of | to\",179],[10,\"algorithm | the algorithm | patent | the | algorithms\",170],[11,\"smove | grab | petrol | incentives | for\",153],[12,\"order | orders | food | the | delivery\",141],[13,\"uber | the | you | and | to\",139],[14,\"pax | the pax | the | to | if\",129],[15,\"saturday | weekend | friday | day | today\",124],[16,\"hour | week | hours | you | in\",121],[17,\"he | his | homeless | in | to\",120],[18,\"boost | trips | promo | week | boosts\",119],[19,\"email | deactivation | deactivated | sent | emails\",110],[20,\"ufc | ck | ufc drivers | smove | for\",97],[21,\"her | she | poo | makeup | the\",94],[22,\"drivers | to | are | this | driver\",92],[23,\"iphone | app | phone | the app | apps\",85],[24,\"rides | ride | you | of | it\",76],[25,\"rate | acceptance | acceptance rate | cancellation | cancellation rate\",73],[26,\"area | to | in | place | central\",72],[27,\"driver | uber | the | to | in\",64],[28,\"trips | trip | hours | long | hour\",59],[29,\"the | of | and | people | in\",59],[30,\"blacks | white | black | and | whites\",57],[31,\"cancel | minutes | the | you | arrive\",54],[32,\"racist | race | color | white | that\",54],[33,\"mile | cents | per | per mile | mileage\",53],[34,\"lyft | pings | ping | pt | on\",47],[35,\"pax | stars | rating | star | rate\",43],[36,\"uber | they | to | the | drivers\",42],[37,\"solid effort | sir | at your | solid | 128587\",42],[38,\"thumbs | thumbs down | down | feedback | merchant\",39],[39,\"airport | the airport | waiting | an airport | in\",38],[40,\"ant | ants | iq | the ants | the ant\",38],[41,\"rideshare | rides | you | dont | to\",38],[42,\"ants | ant | blind | blind ants | strategy\",35],[43,\"neil | yoda | guy | chris | he\",35],[44,\"app | rider | rider app | the app | that\",33],[45,\"drive | driving | now | you | car\",31],[46,\"pax | uber | the pax | they | to\",31],[47,\"quest | quests | my quest | quest is | the quest\",31],[48,\"australia | country | aussie | generation | aboriginal\",30],[49,\"aqua | aquas | hybrid | attrage | the aqua\",29],[50,\"shake | dog | lcr dog | liao | lol haha\",28],[51,\"df | the df | dfs | it | df has\",27],[52,\"acceptance | acceptance rate | rate | uber | low acceptance\",27],[53,\"cab | cabbie | yellow | yellow cab | you\",26],[54,\"you | make | to | money | the\",26],[55,\"fuel | gas | tank | pump | top up\",26],[56,\"pax | paxs | they | surge | the\",25],[57,\"lies | lie | lying | the truth | people lie\",23],[58,\"algorithm | lyft | lyfts | lyfts algorithm | wav\",23],[59,\"car | used | used car | the | and\",23],[60,\"lyft | tsx | lower | tl | on lyft\",23],[61,\"65 | 65 for | for 85 | 85 | 90 im\",22],[62,\"forum | members | here | there | forums\",22],[63,\"128077 | 128514 | 127462127482 | nice128076 | proved my\",21],[64,\"rakos | monkey | the monkey | algo | rakos ps\",21],[65,\"child | approved | seat | children | child car\",21],[66,\"ezlink | card | ezlink card | auto | reload\",21],[67,\"expenses | year | tax | about | income\",20],[68,\"another week | its | week or | thats | when its\",20],[69,\"uber | flexibility | job | work | to\",20]],\"hovertemplate\":\"<b>Topic %{customdata[0]}</b><br>Words: %{customdata[1]}<br>Size: %{customdata[2]}\",\"legendgroup\":\"\",\"marker\":{\"color\":\"#B0BEC5\",\"size\":[789,643,548,441,310,272,271,243,217,179,170,153,141,139,129,124,121,120,119,110,97,94,92,85,76,73,72,64,59,59,57,54,54,53,47,43,42,42,39,38,38,38,35,35,33,31,31,31,30,29,28,27,27,26,26,26,25,23,23,23,23,22,22,21,21,21,21,20,20,20],\"sizemode\":\"area\",\"sizeref\":0.493125,\"symbol\":\"circle\",\"line\":{\"color\":\"DarkSlateGrey\",\"width\":2}},\"mode\":\"markers\",\"name\":\"\",\"orientation\":\"v\",\"showlegend\":false,\"x\":[17.540109634399414,17.347259521484375,17.405107498168945,22.033466339111328,17.535085678100586,20.67609214782715,22.007780075073242,22.357250213623047,16.187458038330078,22.27867317199707,17.40521240234375,11.516006469726562,17.741701126098633,14.255635261535645,16.411348342895508,0.8900639414787292,0.9893989562988281,4.850680351257324,0.8224477171897888,18.195419311523438,11.499110221862793,17.972217559814453,17.732879638671875,17.684789657592773,1.7316471338272095,-1.8021916151046753,17.79299545288086,16.275678634643555,2.1114139556884766,4.871807098388672,16.983304977416992,17.661537170410156,17.116294860839844,14.160054206848145,16.080583572387695,20.79049301147461,14.23012638092041,1.2398954629898071,20.915916442871094,-1.5566017627716064,1.9656811952590942,1.6037771701812744,1.8747961521148682,2.191612958908081,17.595054626464844,1.3073341846466064,17.475051879882812,2.306565761566162,2.018998384475708,1.2683501243591309,0.89484041929245,-1.350028157234192,-1.8178963661193848,2.1010990142822266,1.2979811429977417,1.2547088861465454,-1.9255727529525757,0.7871420383453369,-1.6081370115280151,-1.2344563007354736,20.744951248168945,2.209696054458618,2.2981879711151123,2.404242515563965,-7.01022481918335,17.629793167114258,17.598175048828125,1.7324562072753906,-7.010293960571289,14.034839630126953],\"xaxis\":\"x\",\"y\":[9.032025337219238,10.92746639251709,10.967925071716309,8.518508911132812,10.74255657196045,-2.2783806324005127,8.493356704711914,8.843740463256836,0.31993505358695984,8.764300346374512,9.14387321472168,14.232582092285156,2.3706860542297363,7.363794803619385,0.5491994023323059,-4.531904697418213,-4.50176477432251,17.52903938293457,-4.5213942527771,1.4951841831207275,14.259271621704102,1.2965565919876099,1.5137923955917358,1.2893319129943848,-4.1745734214782715,-6.092843055725098,1.5365675687789917,0.4030386209487915,5.134637355804443,17.550338745117188,9.502311706542969,2.286196708679199,9.384199142456055,7.26749849319458,0.22555863857269287,-2.39302659034729,7.338361740112305,6.47348690032959,-2.518449306488037,7.963427543640137,5.7433271408081055,-4.236783981323242,-4.4552435874938965,4.828014850616455,1.3621171712875366,6.432415962219238,2.0325684547424316,5.292202472686768,5.553964614868164,5.978324890136719,6.699807643890381,7.7553911209106445,-6.108499050140381,5.626960754394531,-4.4360480308532715,6.1627726554870605,-6.216409206390381,6.792689800262451,8.014622688293457,7.6400370597839355,-2.347447395324707,4.969005584716797,5.867210388183594,5.998825550079346,12.153145790100098,2.1938858032226562,1.1848945617675781,-4.268335342407227,12.153199195861816,7.141726970672607],\"yaxis\":\"y\",\"type\":\"scatter\"}],                        {\"template\":{\"data\":{\"barpolar\":[{\"marker\":{\"line\":{\"color\":\"white\",\"width\":0.5},\"pattern\":{\"fillmode\":\"overlay\",\"size\":10,\"solidity\":0.2}},\"type\":\"barpolar\"}],\"bar\":[{\"error_x\":{\"color\":\"rgb(36,36,36)\"},\"error_y\":{\"color\":\"rgb(36,36,36)\"},\"marker\":{\"line\":{\"color\":\"white\",\"width\":0.5},\"pattern\":{\"fillmode\":\"overlay\",\"size\":10,\"solidity\":0.2}},\"type\":\"bar\"}],\"carpet\":[{\"aaxis\":{\"endlinecolor\":\"rgb(36,36,36)\",\"gridcolor\":\"white\",\"linecolor\":\"white\",\"minorgridcolor\":\"white\",\"startlinecolor\":\"rgb(36,36,36)\"},\"baxis\":{\"endlinecolor\":\"rgb(36,36,36)\",\"gridcolor\":\"white\",\"linecolor\":\"white\",\"minorgridcolor\":\"white\",\"startlinecolor\":\"rgb(36,36,36)\"},\"type\":\"carpet\"}],\"choropleth\":[{\"colorbar\":{\"outlinewidth\":1,\"tickcolor\":\"rgb(36,36,36)\",\"ticks\":\"outside\"},\"type\":\"choropleth\"}],\"contourcarpet\":[{\"colorbar\":{\"outlinewidth\":1,\"tickcolor\":\"rgb(36,36,36)\",\"ticks\":\"outside\"},\"type\":\"contourcarpet\"}],\"contour\":[{\"colorbar\":{\"outlinewidth\":1,\"tickcolor\":\"rgb(36,36,36)\",\"ticks\":\"outside\"},\"colorscale\":[[0.0,\"#440154\"],[0.1111111111111111,\"#482878\"],[0.2222222222222222,\"#3e4989\"],[0.3333333333333333,\"#31688e\"],[0.4444444444444444,\"#26828e\"],[0.5555555555555556,\"#1f9e89\"],[0.6666666666666666,\"#35b779\"],[0.7777777777777778,\"#6ece58\"],[0.8888888888888888,\"#b5de2b\"],[1.0,\"#fde725\"]],\"type\":\"contour\"}],\"heatmapgl\":[{\"colorbar\":{\"outlinewidth\":1,\"tickcolor\":\"rgb(36,36,36)\",\"ticks\":\"outside\"},\"colorscale\":[[0.0,\"#440154\"],[0.1111111111111111,\"#482878\"],[0.2222222222222222,\"#3e4989\"],[0.3333333333333333,\"#31688e\"],[0.4444444444444444,\"#26828e\"],[0.5555555555555556,\"#1f9e89\"],[0.6666666666666666,\"#35b779\"],[0.7777777777777778,\"#6ece58\"],[0.8888888888888888,\"#b5de2b\"],[1.0,\"#fde725\"]],\"type\":\"heatmapgl\"}],\"heatmap\":[{\"colorbar\":{\"outlinewidth\":1,\"tickcolor\":\"rgb(36,36,36)\",\"ticks\":\"outside\"},\"colorscale\":[[0.0,\"#440154\"],[0.1111111111111111,\"#482878\"],[0.2222222222222222,\"#3e4989\"],[0.3333333333333333,\"#31688e\"],[0.4444444444444444,\"#26828e\"],[0.5555555555555556,\"#1f9e89\"],[0.6666666666666666,\"#35b779\"],[0.7777777777777778,\"#6ece58\"],[0.8888888888888888,\"#b5de2b\"],[1.0,\"#fde725\"]],\"type\":\"heatmap\"}],\"histogram2dcontour\":[{\"colorbar\":{\"outlinewidth\":1,\"tickcolor\":\"rgb(36,36,36)\",\"ticks\":\"outside\"},\"colorscale\":[[0.0,\"#440154\"],[0.1111111111111111,\"#482878\"],[0.2222222222222222,\"#3e4989\"],[0.3333333333333333,\"#31688e\"],[0.4444444444444444,\"#26828e\"],[0.5555555555555556,\"#1f9e89\"],[0.6666666666666666,\"#35b779\"],[0.7777777777777778,\"#6ece58\"],[0.8888888888888888,\"#b5de2b\"],[1.0,\"#fde725\"]],\"type\":\"histogram2dcontour\"}],\"histogram2d\":[{\"colorbar\":{\"outlinewidth\":1,\"tickcolor\":\"rgb(36,36,36)\",\"ticks\":\"outside\"},\"colorscale\":[[0.0,\"#440154\"],[0.1111111111111111,\"#482878\"],[0.2222222222222222,\"#3e4989\"],[0.3333333333333333,\"#31688e\"],[0.4444444444444444,\"#26828e\"],[0.5555555555555556,\"#1f9e89\"],[0.6666666666666666,\"#35b779\"],[0.7777777777777778,\"#6ece58\"],[0.8888888888888888,\"#b5de2b\"],[1.0,\"#fde725\"]],\"type\":\"histogram2d\"}],\"histogram\":[{\"marker\":{\"line\":{\"color\":\"white\",\"width\":0.6}},\"type\":\"histogram\"}],\"mesh3d\":[{\"colorbar\":{\"outlinewidth\":1,\"tickcolor\":\"rgb(36,36,36)\",\"ticks\":\"outside\"},\"type\":\"mesh3d\"}],\"parcoords\":[{\"line\":{\"colorbar\":{\"outlinewidth\":1,\"tickcolor\":\"rgb(36,36,36)\",\"ticks\":\"outside\"}},\"type\":\"parcoords\"}],\"pie\":[{\"automargin\":true,\"type\":\"pie\"}],\"scatter3d\":[{\"line\":{\"colorbar\":{\"outlinewidth\":1,\"tickcolor\":\"rgb(36,36,36)\",\"ticks\":\"outside\"}},\"marker\":{\"colorbar\":{\"outlinewidth\":1,\"tickcolor\":\"rgb(36,36,36)\",\"ticks\":\"outside\"}},\"type\":\"scatter3d\"}],\"scattercarpet\":[{\"marker\":{\"colorbar\":{\"outlinewidth\":1,\"tickcolor\":\"rgb(36,36,36)\",\"ticks\":\"outside\"}},\"type\":\"scattercarpet\"}],\"scattergeo\":[{\"marker\":{\"colorbar\":{\"outlinewidth\":1,\"tickcolor\":\"rgb(36,36,36)\",\"ticks\":\"outside\"}},\"type\":\"scattergeo\"}],\"scattergl\":[{\"marker\":{\"colorbar\":{\"outlinewidth\":1,\"tickcolor\":\"rgb(36,36,36)\",\"ticks\":\"outside\"}},\"type\":\"scattergl\"}],\"scattermapbox\":[{\"marker\":{\"colorbar\":{\"outlinewidth\":1,\"tickcolor\":\"rgb(36,36,36)\",\"ticks\":\"outside\"}},\"type\":\"scattermapbox\"}],\"scatterpolargl\":[{\"marker\":{\"colorbar\":{\"outlinewidth\":1,\"tickcolor\":\"rgb(36,36,36)\",\"ticks\":\"outside\"}},\"type\":\"scatterpolargl\"}],\"scatterpolar\":[{\"marker\":{\"colorbar\":{\"outlinewidth\":1,\"tickcolor\":\"rgb(36,36,36)\",\"ticks\":\"outside\"}},\"type\":\"scatterpolar\"}],\"scatter\":[{\"marker\":{\"colorbar\":{\"outlinewidth\":1,\"tickcolor\":\"rgb(36,36,36)\",\"ticks\":\"outside\"}},\"type\":\"scatter\"}],\"scatterternary\":[{\"marker\":{\"colorbar\":{\"outlinewidth\":1,\"tickcolor\":\"rgb(36,36,36)\",\"ticks\":\"outside\"}},\"type\":\"scatterternary\"}],\"surface\":[{\"colorbar\":{\"outlinewidth\":1,\"tickcolor\":\"rgb(36,36,36)\",\"ticks\":\"outside\"},\"colorscale\":[[0.0,\"#440154\"],[0.1111111111111111,\"#482878\"],[0.2222222222222222,\"#3e4989\"],[0.3333333333333333,\"#31688e\"],[0.4444444444444444,\"#26828e\"],[0.5555555555555556,\"#1f9e89\"],[0.6666666666666666,\"#35b779\"],[0.7777777777777778,\"#6ece58\"],[0.8888888888888888,\"#b5de2b\"],[1.0,\"#fde725\"]],\"type\":\"surface\"}],\"table\":[{\"cells\":{\"fill\":{\"color\":\"rgb(237,237,237)\"},\"line\":{\"color\":\"white\"}},\"header\":{\"fill\":{\"color\":\"rgb(217,217,217)\"},\"line\":{\"color\":\"white\"}},\"type\":\"table\"}]},\"layout\":{\"annotationdefaults\":{\"arrowhead\":0,\"arrowwidth\":1},\"autotypenumbers\":\"strict\",\"coloraxis\":{\"colorbar\":{\"outlinewidth\":1,\"tickcolor\":\"rgb(36,36,36)\",\"ticks\":\"outside\"}},\"colorscale\":{\"diverging\":[[0.0,\"rgb(103,0,31)\"],[0.1,\"rgb(178,24,43)\"],[0.2,\"rgb(214,96,77)\"],[0.3,\"rgb(244,165,130)\"],[0.4,\"rgb(253,219,199)\"],[0.5,\"rgb(247,247,247)\"],[0.6,\"rgb(209,229,240)\"],[0.7,\"rgb(146,197,222)\"],[0.8,\"rgb(67,147,195)\"],[0.9,\"rgb(33,102,172)\"],[1.0,\"rgb(5,48,97)\"]],\"sequential\":[[0.0,\"#440154\"],[0.1111111111111111,\"#482878\"],[0.2222222222222222,\"#3e4989\"],[0.3333333333333333,\"#31688e\"],[0.4444444444444444,\"#26828e\"],[0.5555555555555556,\"#1f9e89\"],[0.6666666666666666,\"#35b779\"],[0.7777777777777778,\"#6ece58\"],[0.8888888888888888,\"#b5de2b\"],[1.0,\"#fde725\"]],\"sequentialminus\":[[0.0,\"#440154\"],[0.1111111111111111,\"#482878\"],[0.2222222222222222,\"#3e4989\"],[0.3333333333333333,\"#31688e\"],[0.4444444444444444,\"#26828e\"],[0.5555555555555556,\"#1f9e89\"],[0.6666666666666666,\"#35b779\"],[0.7777777777777778,\"#6ece58\"],[0.8888888888888888,\"#b5de2b\"],[1.0,\"#fde725\"]]},\"colorway\":[\"#1F77B4\",\"#FF7F0E\",\"#2CA02C\",\"#D62728\",\"#9467BD\",\"#8C564B\",\"#E377C2\",\"#7F7F7F\",\"#BCBD22\",\"#17BECF\"],\"font\":{\"color\":\"rgb(36,36,36)\"},\"geo\":{\"bgcolor\":\"white\",\"lakecolor\":\"white\",\"landcolor\":\"white\",\"showlakes\":true,\"showland\":true,\"subunitcolor\":\"white\"},\"hoverlabel\":{\"align\":\"left\"},\"hovermode\":\"closest\",\"mapbox\":{\"style\":\"light\"},\"paper_bgcolor\":\"white\",\"plot_bgcolor\":\"white\",\"polar\":{\"angularaxis\":{\"gridcolor\":\"rgb(232,232,232)\",\"linecolor\":\"rgb(36,36,36)\",\"showgrid\":false,\"showline\":true,\"ticks\":\"outside\"},\"bgcolor\":\"white\",\"radialaxis\":{\"gridcolor\":\"rgb(232,232,232)\",\"linecolor\":\"rgb(36,36,36)\",\"showgrid\":false,\"showline\":true,\"ticks\":\"outside\"}},\"scene\":{\"xaxis\":{\"backgroundcolor\":\"white\",\"gridcolor\":\"rgb(232,232,232)\",\"gridwidth\":2,\"linecolor\":\"rgb(36,36,36)\",\"showbackground\":true,\"showgrid\":false,\"showline\":true,\"ticks\":\"outside\",\"zeroline\":false,\"zerolinecolor\":\"rgb(36,36,36)\"},\"yaxis\":{\"backgroundcolor\":\"white\",\"gridcolor\":\"rgb(232,232,232)\",\"gridwidth\":2,\"linecolor\":\"rgb(36,36,36)\",\"showbackground\":true,\"showgrid\":false,\"showline\":true,\"ticks\":\"outside\",\"zeroline\":false,\"zerolinecolor\":\"rgb(36,36,36)\"},\"zaxis\":{\"backgroundcolor\":\"white\",\"gridcolor\":\"rgb(232,232,232)\",\"gridwidth\":2,\"linecolor\":\"rgb(36,36,36)\",\"showbackground\":true,\"showgrid\":false,\"showline\":true,\"ticks\":\"outside\",\"zeroline\":false,\"zerolinecolor\":\"rgb(36,36,36)\"}},\"shapedefaults\":{\"fillcolor\":\"black\",\"line\":{\"width\":0},\"opacity\":0.3},\"ternary\":{\"aaxis\":{\"gridcolor\":\"rgb(232,232,232)\",\"linecolor\":\"rgb(36,36,36)\",\"showgrid\":false,\"showline\":true,\"ticks\":\"outside\"},\"baxis\":{\"gridcolor\":\"rgb(232,232,232)\",\"linecolor\":\"rgb(36,36,36)\",\"showgrid\":false,\"showline\":true,\"ticks\":\"outside\"},\"bgcolor\":\"white\",\"caxis\":{\"gridcolor\":\"rgb(232,232,232)\",\"linecolor\":\"rgb(36,36,36)\",\"showgrid\":false,\"showline\":true,\"ticks\":\"outside\"}},\"title\":{\"x\":0.05},\"xaxis\":{\"automargin\":true,\"gridcolor\":\"rgb(232,232,232)\",\"linecolor\":\"rgb(36,36,36)\",\"showgrid\":false,\"showline\":true,\"ticks\":\"outside\",\"title\":{\"standoff\":15},\"zeroline\":false,\"zerolinecolor\":\"rgb(36,36,36)\"},\"yaxis\":{\"automargin\":true,\"gridcolor\":\"rgb(232,232,232)\",\"linecolor\":\"rgb(36,36,36)\",\"showgrid\":false,\"showline\":true,\"ticks\":\"outside\",\"title\":{\"standoff\":15},\"zeroline\":false,\"zerolinecolor\":\"rgb(36,36,36)\"}}},\"xaxis\":{\"anchor\":\"y\",\"domain\":[0.0,1.0],\"title\":{\"text\":\"\"},\"visible\":false,\"range\":[-8.061838054656983,25.710837745666502]},\"yaxis\":{\"anchor\":\"x\",\"domain\":[0.0,1.0],\"title\":{\"text\":\"\"},\"visible\":false,\"range\":[-7.148870587348938,20.182889556884767]},\"legend\":{\"tracegroupgap\":0,\"itemsizing\":\"constant\"},\"margin\":{\"t\":60},\"title\":{\"font\":{\"size\":22,\"color\":\"Black\"},\"text\":\"<b>Intertopic Distance Map\",\"y\":0.95,\"x\":0.5,\"xanchor\":\"center\",\"yanchor\":\"top\"},\"hoverlabel\":{\"font\":{\"size\":16,\"family\":\"Rockwell\"},\"bgcolor\":\"white\"},\"width\":650,\"height\":650,\"sliders\":[{\"active\":0,\"pad\":{\"t\":50},\"steps\":[{\"args\":[{\"marker.color\":[[\"red\",\"#B0BEC5\",\"#B0BEC5\",\"#B0BEC5\",\"#B0BEC5\",\"#B0BEC5\",\"#B0BEC5\",\"#B0BEC5\",\"#B0BEC5\",\"#B0BEC5\",\"#B0BEC5\",\"#B0BEC5\",\"#B0BEC5\",\"#B0BEC5\",\"#B0BEC5\",\"#B0BEC5\",\"#B0BEC5\",\"#B0BEC5\",\"#B0BEC5\",\"#B0BEC5\",\"#B0BEC5\",\"#B0BEC5\",\"#B0BEC5\",\"#B0BEC5\",\"#B0BEC5\",\"#B0BEC5\",\"#B0BEC5\",\"#B0BEC5\",\"#B0BEC5\",\"#B0BEC5\",\"#B0BEC5\",\"#B0BEC5\",\"#B0BEC5\",\"#B0BEC5\",\"#B0BEC5\",\"#B0BEC5\",\"#B0BEC5\",\"#B0BEC5\",\"#B0BEC5\",\"#B0BEC5\",\"#B0BEC5\",\"#B0BEC5\",\"#B0BEC5\",\"#B0BEC5\",\"#B0BEC5\",\"#B0BEC5\",\"#B0BEC5\",\"#B0BEC5\",\"#B0BEC5\",\"#B0BEC5\",\"#B0BEC5\",\"#B0BEC5\",\"#B0BEC5\",\"#B0BEC5\",\"#B0BEC5\",\"#B0BEC5\",\"#B0BEC5\",\"#B0BEC5\",\"#B0BEC5\",\"#B0BEC5\",\"#B0BEC5\",\"#B0BEC5\",\"#B0BEC5\",\"#B0BEC5\",\"#B0BEC5\",\"#B0BEC5\",\"#B0BEC5\",\"#B0BEC5\",\"#B0BEC5\",\"#B0BEC5\"]]}],\"label\":\"Topic 0\",\"method\":\"update\"},{\"args\":[{\"marker.color\":[[\"#B0BEC5\",\"red\",\"#B0BEC5\",\"#B0BEC5\",\"#B0BEC5\",\"#B0BEC5\",\"#B0BEC5\",\"#B0BEC5\",\"#B0BEC5\",\"#B0BEC5\",\"#B0BEC5\",\"#B0BEC5\",\"#B0BEC5\",\"#B0BEC5\",\"#B0BEC5\",\"#B0BEC5\",\"#B0BEC5\",\"#B0BEC5\",\"#B0BEC5\",\"#B0BEC5\",\"#B0BEC5\",\"#B0BEC5\",\"#B0BEC5\",\"#B0BEC5\",\"#B0BEC5\",\"#B0BEC5\",\"#B0BEC5\",\"#B0BEC5\",\"#B0BEC5\",\"#B0BEC5\",\"#B0BEC5\",\"#B0BEC5\",\"#B0BEC5\",\"#B0BEC5\",\"#B0BEC5\",\"#B0BEC5\",\"#B0BEC5\",\"#B0BEC5\",\"#B0BEC5\",\"#B0BEC5\",\"#B0BEC5\",\"#B0BEC5\",\"#B0BEC5\",\"#B0BEC5\",\"#B0BEC5\",\"#B0BEC5\",\"#B0BEC5\",\"#B0BEC5\",\"#B0BEC5\",\"#B0BEC5\",\"#B0BEC5\",\"#B0BEC5\",\"#B0BEC5\",\"#B0BEC5\",\"#B0BEC5\",\"#B0BEC5\",\"#B0BEC5\",\"#B0BEC5\",\"#B0BEC5\",\"#B0BEC5\",\"#B0BEC5\",\"#B0BEC5\",\"#B0BEC5\",\"#B0BEC5\",\"#B0BEC5\",\"#B0BEC5\",\"#B0BEC5\",\"#B0BEC5\",\"#B0BEC5\",\"#B0BEC5\"]]}],\"label\":\"Topic 1\",\"method\":\"update\"},{\"args\":[{\"marker.color\":[[\"#B0BEC5\",\"#B0BEC5\",\"red\",\"#B0BEC5\",\"#B0BEC5\",\"#B0BEC5\",\"#B0BEC5\",\"#B0BEC5\",\"#B0BEC5\",\"#B0BEC5\",\"#B0BEC5\",\"#B0BEC5\",\"#B0BEC5\",\"#B0BEC5\",\"#B0BEC5\",\"#B0BEC5\",\"#B0BEC5\",\"#B0BEC5\",\"#B0BEC5\",\"#B0BEC5\",\"#B0BEC5\",\"#B0BEC5\",\"#B0BEC5\",\"#B0BEC5\",\"#B0BEC5\",\"#B0BEC5\",\"#B0BEC5\",\"#B0BEC5\",\"#B0BEC5\",\"#B0BEC5\",\"#B0BEC5\",\"#B0BEC5\",\"#B0BEC5\",\"#B0BEC5\",\"#B0BEC5\",\"#B0BEC5\",\"#B0BEC5\",\"#B0BEC5\",\"#B0BEC5\",\"#B0BEC5\",\"#B0BEC5\",\"#B0BEC5\",\"#B0BEC5\",\"#B0BEC5\",\"#B0BEC5\",\"#B0BEC5\",\"#B0BEC5\",\"#B0BEC5\",\"#B0BEC5\",\"#B0BEC5\",\"#B0BEC5\",\"#B0BEC5\",\"#B0BEC5\",\"#B0BEC5\",\"#B0BEC5\",\"#B0BEC5\",\"#B0BEC5\",\"#B0BEC5\",\"#B0BEC5\",\"#B0BEC5\",\"#B0BEC5\",\"#B0BEC5\",\"#B0BEC5\",\"#B0BEC5\",\"#B0BEC5\",\"#B0BEC5\",\"#B0BEC5\",\"#B0BEC5\",\"#B0BEC5\",\"#B0BEC5\"]]}],\"label\":\"Topic 2\",\"method\":\"update\"},{\"args\":[{\"marker.color\":[[\"#B0BEC5\",\"#B0BEC5\",\"#B0BEC5\",\"red\",\"#B0BEC5\",\"#B0BEC5\",\"#B0BEC5\",\"#B0BEC5\",\"#B0BEC5\",\"#B0BEC5\",\"#B0BEC5\",\"#B0BEC5\",\"#B0BEC5\",\"#B0BEC5\",\"#B0BEC5\",\"#B0BEC5\",\"#B0BEC5\",\"#B0BEC5\",\"#B0BEC5\",\"#B0BEC5\",\"#B0BEC5\",\"#B0BEC5\",\"#B0BEC5\",\"#B0BEC5\",\"#B0BEC5\",\"#B0BEC5\",\"#B0BEC5\",\"#B0BEC5\",\"#B0BEC5\",\"#B0BEC5\",\"#B0BEC5\",\"#B0BEC5\",\"#B0BEC5\",\"#B0BEC5\",\"#B0BEC5\",\"#B0BEC5\",\"#B0BEC5\",\"#B0BEC5\",\"#B0BEC5\",\"#B0BEC5\",\"#B0BEC5\",\"#B0BEC5\",\"#B0BEC5\",\"#B0BEC5\",\"#B0BEC5\",\"#B0BEC5\",\"#B0BEC5\",\"#B0BEC5\",\"#B0BEC5\",\"#B0BEC5\",\"#B0BEC5\",\"#B0BEC5\",\"#B0BEC5\",\"#B0BEC5\",\"#B0BEC5\",\"#B0BEC5\",\"#B0BEC5\",\"#B0BEC5\",\"#B0BEC5\",\"#B0BEC5\",\"#B0BEC5\",\"#B0BEC5\",\"#B0BEC5\",\"#B0BEC5\",\"#B0BEC5\",\"#B0BEC5\",\"#B0BEC5\",\"#B0BEC5\",\"#B0BEC5\",\"#B0BEC5\"]]}],\"label\":\"Topic 3\",\"method\":\"update\"},{\"args\":[{\"marker.color\":[[\"#B0BEC5\",\"#B0BEC5\",\"#B0BEC5\",\"#B0BEC5\",\"red\",\"#B0BEC5\",\"#B0BEC5\",\"#B0BEC5\",\"#B0BEC5\",\"#B0BEC5\",\"#B0BEC5\",\"#B0BEC5\",\"#B0BEC5\",\"#B0BEC5\",\"#B0BEC5\",\"#B0BEC5\",\"#B0BEC5\",\"#B0BEC5\",\"#B0BEC5\",\"#B0BEC5\",\"#B0BEC5\",\"#B0BEC5\",\"#B0BEC5\",\"#B0BEC5\",\"#B0BEC5\",\"#B0BEC5\",\"#B0BEC5\",\"#B0BEC5\",\"#B0BEC5\",\"#B0BEC5\",\"#B0BEC5\",\"#B0BEC5\",\"#B0BEC5\",\"#B0BEC5\",\"#B0BEC5\",\"#B0BEC5\",\"#B0BEC5\",\"#B0BEC5\",\"#B0BEC5\",\"#B0BEC5\",\"#B0BEC5\",\"#B0BEC5\",\"#B0BEC5\",\"#B0BEC5\",\"#B0BEC5\",\"#B0BEC5\",\"#B0BEC5\",\"#B0BEC5\",\"#B0BEC5\",\"#B0BEC5\",\"#B0BEC5\",\"#B0BEC5\",\"#B0BEC5\",\"#B0BEC5\",\"#B0BEC5\",\"#B0BEC5\",\"#B0BEC5\",\"#B0BEC5\",\"#B0BEC5\",\"#B0BEC5\",\"#B0BEC5\",\"#B0BEC5\",\"#B0BEC5\",\"#B0BEC5\",\"#B0BEC5\",\"#B0BEC5\",\"#B0BEC5\",\"#B0BEC5\",\"#B0BEC5\",\"#B0BEC5\"]]}],\"label\":\"Topic 4\",\"method\":\"update\"},{\"args\":[{\"marker.color\":[[\"#B0BEC5\",\"#B0BEC5\",\"#B0BEC5\",\"#B0BEC5\",\"#B0BEC5\",\"red\",\"#B0BEC5\",\"#B0BEC5\",\"#B0BEC5\",\"#B0BEC5\",\"#B0BEC5\",\"#B0BEC5\",\"#B0BEC5\",\"#B0BEC5\",\"#B0BEC5\",\"#B0BEC5\",\"#B0BEC5\",\"#B0BEC5\",\"#B0BEC5\",\"#B0BEC5\",\"#B0BEC5\",\"#B0BEC5\",\"#B0BEC5\",\"#B0BEC5\",\"#B0BEC5\",\"#B0BEC5\",\"#B0BEC5\",\"#B0BEC5\",\"#B0BEC5\",\"#B0BEC5\",\"#B0BEC5\",\"#B0BEC5\",\"#B0BEC5\",\"#B0BEC5\",\"#B0BEC5\",\"#B0BEC5\",\"#B0BEC5\",\"#B0BEC5\",\"#B0BEC5\",\"#B0BEC5\",\"#B0BEC5\",\"#B0BEC5\",\"#B0BEC5\",\"#B0BEC5\",\"#B0BEC5\",\"#B0BEC5\",\"#B0BEC5\",\"#B0BEC5\",\"#B0BEC5\",\"#B0BEC5\",\"#B0BEC5\",\"#B0BEC5\",\"#B0BEC5\",\"#B0BEC5\",\"#B0BEC5\",\"#B0BEC5\",\"#B0BEC5\",\"#B0BEC5\",\"#B0BEC5\",\"#B0BEC5\",\"#B0BEC5\",\"#B0BEC5\",\"#B0BEC5\",\"#B0BEC5\",\"#B0BEC5\",\"#B0BEC5\",\"#B0BEC5\",\"#B0BEC5\",\"#B0BEC5\",\"#B0BEC5\"]]}],\"label\":\"Topic 5\",\"method\":\"update\"},{\"args\":[{\"marker.color\":[[\"#B0BEC5\",\"#B0BEC5\",\"#B0BEC5\",\"#B0BEC5\",\"#B0BEC5\",\"#B0BEC5\",\"red\",\"#B0BEC5\",\"#B0BEC5\",\"#B0BEC5\",\"#B0BEC5\",\"#B0BEC5\",\"#B0BEC5\",\"#B0BEC5\",\"#B0BEC5\",\"#B0BEC5\",\"#B0BEC5\",\"#B0BEC5\",\"#B0BEC5\",\"#B0BEC5\",\"#B0BEC5\",\"#B0BEC5\",\"#B0BEC5\",\"#B0BEC5\",\"#B0BEC5\",\"#B0BEC5\",\"#B0BEC5\",\"#B0BEC5\",\"#B0BEC5\",\"#B0BEC5\",\"#B0BEC5\",\"#B0BEC5\",\"#B0BEC5\",\"#B0BEC5\",\"#B0BEC5\",\"#B0BEC5\",\"#B0BEC5\",\"#B0BEC5\",\"#B0BEC5\",\"#B0BEC5\",\"#B0BEC5\",\"#B0BEC5\",\"#B0BEC5\",\"#B0BEC5\",\"#B0BEC5\",\"#B0BEC5\",\"#B0BEC5\",\"#B0BEC5\",\"#B0BEC5\",\"#B0BEC5\",\"#B0BEC5\",\"#B0BEC5\",\"#B0BEC5\",\"#B0BEC5\",\"#B0BEC5\",\"#B0BEC5\",\"#B0BEC5\",\"#B0BEC5\",\"#B0BEC5\",\"#B0BEC5\",\"#B0BEC5\",\"#B0BEC5\",\"#B0BEC5\",\"#B0BEC5\",\"#B0BEC5\",\"#B0BEC5\",\"#B0BEC5\",\"#B0BEC5\",\"#B0BEC5\",\"#B0BEC5\"]]}],\"label\":\"Topic 6\",\"method\":\"update\"},{\"args\":[{\"marker.color\":[[\"#B0BEC5\",\"#B0BEC5\",\"#B0BEC5\",\"#B0BEC5\",\"#B0BEC5\",\"#B0BEC5\",\"#B0BEC5\",\"red\",\"#B0BEC5\",\"#B0BEC5\",\"#B0BEC5\",\"#B0BEC5\",\"#B0BEC5\",\"#B0BEC5\",\"#B0BEC5\",\"#B0BEC5\",\"#B0BEC5\",\"#B0BEC5\",\"#B0BEC5\",\"#B0BEC5\",\"#B0BEC5\",\"#B0BEC5\",\"#B0BEC5\",\"#B0BEC5\",\"#B0BEC5\",\"#B0BEC5\",\"#B0BEC5\",\"#B0BEC5\",\"#B0BEC5\",\"#B0BEC5\",\"#B0BEC5\",\"#B0BEC5\",\"#B0BEC5\",\"#B0BEC5\",\"#B0BEC5\",\"#B0BEC5\",\"#B0BEC5\",\"#B0BEC5\",\"#B0BEC5\",\"#B0BEC5\",\"#B0BEC5\",\"#B0BEC5\",\"#B0BEC5\",\"#B0BEC5\",\"#B0BEC5\",\"#B0BEC5\",\"#B0BEC5\",\"#B0BEC5\",\"#B0BEC5\",\"#B0BEC5\",\"#B0BEC5\",\"#B0BEC5\",\"#B0BEC5\",\"#B0BEC5\",\"#B0BEC5\",\"#B0BEC5\",\"#B0BEC5\",\"#B0BEC5\",\"#B0BEC5\",\"#B0BEC5\",\"#B0BEC5\",\"#B0BEC5\",\"#B0BEC5\",\"#B0BEC5\",\"#B0BEC5\",\"#B0BEC5\",\"#B0BEC5\",\"#B0BEC5\",\"#B0BEC5\",\"#B0BEC5\"]]}],\"label\":\"Topic 7\",\"method\":\"update\"},{\"args\":[{\"marker.color\":[[\"#B0BEC5\",\"#B0BEC5\",\"#B0BEC5\",\"#B0BEC5\",\"#B0BEC5\",\"#B0BEC5\",\"#B0BEC5\",\"#B0BEC5\",\"red\",\"#B0BEC5\",\"#B0BEC5\",\"#B0BEC5\",\"#B0BEC5\",\"#B0BEC5\",\"#B0BEC5\",\"#B0BEC5\",\"#B0BEC5\",\"#B0BEC5\",\"#B0BEC5\",\"#B0BEC5\",\"#B0BEC5\",\"#B0BEC5\",\"#B0BEC5\",\"#B0BEC5\",\"#B0BEC5\",\"#B0BEC5\",\"#B0BEC5\",\"#B0BEC5\",\"#B0BEC5\",\"#B0BEC5\",\"#B0BEC5\",\"#B0BEC5\",\"#B0BEC5\",\"#B0BEC5\",\"#B0BEC5\",\"#B0BEC5\",\"#B0BEC5\",\"#B0BEC5\",\"#B0BEC5\",\"#B0BEC5\",\"#B0BEC5\",\"#B0BEC5\",\"#B0BEC5\",\"#B0BEC5\",\"#B0BEC5\",\"#B0BEC5\",\"#B0BEC5\",\"#B0BEC5\",\"#B0BEC5\",\"#B0BEC5\",\"#B0BEC5\",\"#B0BEC5\",\"#B0BEC5\",\"#B0BEC5\",\"#B0BEC5\",\"#B0BEC5\",\"#B0BEC5\",\"#B0BEC5\",\"#B0BEC5\",\"#B0BEC5\",\"#B0BEC5\",\"#B0BEC5\",\"#B0BEC5\",\"#B0BEC5\",\"#B0BEC5\",\"#B0BEC5\",\"#B0BEC5\",\"#B0BEC5\",\"#B0BEC5\",\"#B0BEC5\"]]}],\"label\":\"Topic 8\",\"method\":\"update\"},{\"args\":[{\"marker.color\":[[\"#B0BEC5\",\"#B0BEC5\",\"#B0BEC5\",\"#B0BEC5\",\"#B0BEC5\",\"#B0BEC5\",\"#B0BEC5\",\"#B0BEC5\",\"#B0BEC5\",\"red\",\"#B0BEC5\",\"#B0BEC5\",\"#B0BEC5\",\"#B0BEC5\",\"#B0BEC5\",\"#B0BEC5\",\"#B0BEC5\",\"#B0BEC5\",\"#B0BEC5\",\"#B0BEC5\",\"#B0BEC5\",\"#B0BEC5\",\"#B0BEC5\",\"#B0BEC5\",\"#B0BEC5\",\"#B0BEC5\",\"#B0BEC5\",\"#B0BEC5\",\"#B0BEC5\",\"#B0BEC5\",\"#B0BEC5\",\"#B0BEC5\",\"#B0BEC5\",\"#B0BEC5\",\"#B0BEC5\",\"#B0BEC5\",\"#B0BEC5\",\"#B0BEC5\",\"#B0BEC5\",\"#B0BEC5\",\"#B0BEC5\",\"#B0BEC5\",\"#B0BEC5\",\"#B0BEC5\",\"#B0BEC5\",\"#B0BEC5\",\"#B0BEC5\",\"#B0BEC5\",\"#B0BEC5\",\"#B0BEC5\",\"#B0BEC5\",\"#B0BEC5\",\"#B0BEC5\",\"#B0BEC5\",\"#B0BEC5\",\"#B0BEC5\",\"#B0BEC5\",\"#B0BEC5\",\"#B0BEC5\",\"#B0BEC5\",\"#B0BEC5\",\"#B0BEC5\",\"#B0BEC5\",\"#B0BEC5\",\"#B0BEC5\",\"#B0BEC5\",\"#B0BEC5\",\"#B0BEC5\",\"#B0BEC5\",\"#B0BEC5\"]]}],\"label\":\"Topic 9\",\"method\":\"update\"},{\"args\":[{\"marker.color\":[[\"#B0BEC5\",\"#B0BEC5\",\"#B0BEC5\",\"#B0BEC5\",\"#B0BEC5\",\"#B0BEC5\",\"#B0BEC5\",\"#B0BEC5\",\"#B0BEC5\",\"#B0BEC5\",\"red\",\"#B0BEC5\",\"#B0BEC5\",\"#B0BEC5\",\"#B0BEC5\",\"#B0BEC5\",\"#B0BEC5\",\"#B0BEC5\",\"#B0BEC5\",\"#B0BEC5\",\"#B0BEC5\",\"#B0BEC5\",\"#B0BEC5\",\"#B0BEC5\",\"#B0BEC5\",\"#B0BEC5\",\"#B0BEC5\",\"#B0BEC5\",\"#B0BEC5\",\"#B0BEC5\",\"#B0BEC5\",\"#B0BEC5\",\"#B0BEC5\",\"#B0BEC5\",\"#B0BEC5\",\"#B0BEC5\",\"#B0BEC5\",\"#B0BEC5\",\"#B0BEC5\",\"#B0BEC5\",\"#B0BEC5\",\"#B0BEC5\",\"#B0BEC5\",\"#B0BEC5\",\"#B0BEC5\",\"#B0BEC5\",\"#B0BEC5\",\"#B0BEC5\",\"#B0BEC5\",\"#B0BEC5\",\"#B0BEC5\",\"#B0BEC5\",\"#B0BEC5\",\"#B0BEC5\",\"#B0BEC5\",\"#B0BEC5\",\"#B0BEC5\",\"#B0BEC5\",\"#B0BEC5\",\"#B0BEC5\",\"#B0BEC5\",\"#B0BEC5\",\"#B0BEC5\",\"#B0BEC5\",\"#B0BEC5\",\"#B0BEC5\",\"#B0BEC5\",\"#B0BEC5\",\"#B0BEC5\",\"#B0BEC5\"]]}],\"label\":\"Topic 10\",\"method\":\"update\"},{\"args\":[{\"marker.color\":[[\"#B0BEC5\",\"#B0BEC5\",\"#B0BEC5\",\"#B0BEC5\",\"#B0BEC5\",\"#B0BEC5\",\"#B0BEC5\",\"#B0BEC5\",\"#B0BEC5\",\"#B0BEC5\",\"#B0BEC5\",\"red\",\"#B0BEC5\",\"#B0BEC5\",\"#B0BEC5\",\"#B0BEC5\",\"#B0BEC5\",\"#B0BEC5\",\"#B0BEC5\",\"#B0BEC5\",\"#B0BEC5\",\"#B0BEC5\",\"#B0BEC5\",\"#B0BEC5\",\"#B0BEC5\",\"#B0BEC5\",\"#B0BEC5\",\"#B0BEC5\",\"#B0BEC5\",\"#B0BEC5\",\"#B0BEC5\",\"#B0BEC5\",\"#B0BEC5\",\"#B0BEC5\",\"#B0BEC5\",\"#B0BEC5\",\"#B0BEC5\",\"#B0BEC5\",\"#B0BEC5\",\"#B0BEC5\",\"#B0BEC5\",\"#B0BEC5\",\"#B0BEC5\",\"#B0BEC5\",\"#B0BEC5\",\"#B0BEC5\",\"#B0BEC5\",\"#B0BEC5\",\"#B0BEC5\",\"#B0BEC5\",\"#B0BEC5\",\"#B0BEC5\",\"#B0BEC5\",\"#B0BEC5\",\"#B0BEC5\",\"#B0BEC5\",\"#B0BEC5\",\"#B0BEC5\",\"#B0BEC5\",\"#B0BEC5\",\"#B0BEC5\",\"#B0BEC5\",\"#B0BEC5\",\"#B0BEC5\",\"#B0BEC5\",\"#B0BEC5\",\"#B0BEC5\",\"#B0BEC5\",\"#B0BEC5\",\"#B0BEC5\"]]}],\"label\":\"Topic 11\",\"method\":\"update\"},{\"args\":[{\"marker.color\":[[\"#B0BEC5\",\"#B0BEC5\",\"#B0BEC5\",\"#B0BEC5\",\"#B0BEC5\",\"#B0BEC5\",\"#B0BEC5\",\"#B0BEC5\",\"#B0BEC5\",\"#B0BEC5\",\"#B0BEC5\",\"#B0BEC5\",\"red\",\"#B0BEC5\",\"#B0BEC5\",\"#B0BEC5\",\"#B0BEC5\",\"#B0BEC5\",\"#B0BEC5\",\"#B0BEC5\",\"#B0BEC5\",\"#B0BEC5\",\"#B0BEC5\",\"#B0BEC5\",\"#B0BEC5\",\"#B0BEC5\",\"#B0BEC5\",\"#B0BEC5\",\"#B0BEC5\",\"#B0BEC5\",\"#B0BEC5\",\"#B0BEC5\",\"#B0BEC5\",\"#B0BEC5\",\"#B0BEC5\",\"#B0BEC5\",\"#B0BEC5\",\"#B0BEC5\",\"#B0BEC5\",\"#B0BEC5\",\"#B0BEC5\",\"#B0BEC5\",\"#B0BEC5\",\"#B0BEC5\",\"#B0BEC5\",\"#B0BEC5\",\"#B0BEC5\",\"#B0BEC5\",\"#B0BEC5\",\"#B0BEC5\",\"#B0BEC5\",\"#B0BEC5\",\"#B0BEC5\",\"#B0BEC5\",\"#B0BEC5\",\"#B0BEC5\",\"#B0BEC5\",\"#B0BEC5\",\"#B0BEC5\",\"#B0BEC5\",\"#B0BEC5\",\"#B0BEC5\",\"#B0BEC5\",\"#B0BEC5\",\"#B0BEC5\",\"#B0BEC5\",\"#B0BEC5\",\"#B0BEC5\",\"#B0BEC5\",\"#B0BEC5\"]]}],\"label\":\"Topic 12\",\"method\":\"update\"},{\"args\":[{\"marker.color\":[[\"#B0BEC5\",\"#B0BEC5\",\"#B0BEC5\",\"#B0BEC5\",\"#B0BEC5\",\"#B0BEC5\",\"#B0BEC5\",\"#B0BEC5\",\"#B0BEC5\",\"#B0BEC5\",\"#B0BEC5\",\"#B0BEC5\",\"#B0BEC5\",\"red\",\"#B0BEC5\",\"#B0BEC5\",\"#B0BEC5\",\"#B0BEC5\",\"#B0BEC5\",\"#B0BEC5\",\"#B0BEC5\",\"#B0BEC5\",\"#B0BEC5\",\"#B0BEC5\",\"#B0BEC5\",\"#B0BEC5\",\"#B0BEC5\",\"#B0BEC5\",\"#B0BEC5\",\"#B0BEC5\",\"#B0BEC5\",\"#B0BEC5\",\"#B0BEC5\",\"#B0BEC5\",\"#B0BEC5\",\"#B0BEC5\",\"#B0BEC5\",\"#B0BEC5\",\"#B0BEC5\",\"#B0BEC5\",\"#B0BEC5\",\"#B0BEC5\",\"#B0BEC5\",\"#B0BEC5\",\"#B0BEC5\",\"#B0BEC5\",\"#B0BEC5\",\"#B0BEC5\",\"#B0BEC5\",\"#B0BEC5\",\"#B0BEC5\",\"#B0BEC5\",\"#B0BEC5\",\"#B0BEC5\",\"#B0BEC5\",\"#B0BEC5\",\"#B0BEC5\",\"#B0BEC5\",\"#B0BEC5\",\"#B0BEC5\",\"#B0BEC5\",\"#B0BEC5\",\"#B0BEC5\",\"#B0BEC5\",\"#B0BEC5\",\"#B0BEC5\",\"#B0BEC5\",\"#B0BEC5\",\"#B0BEC5\",\"#B0BEC5\"]]}],\"label\":\"Topic 13\",\"method\":\"update\"},{\"args\":[{\"marker.color\":[[\"#B0BEC5\",\"#B0BEC5\",\"#B0BEC5\",\"#B0BEC5\",\"#B0BEC5\",\"#B0BEC5\",\"#B0BEC5\",\"#B0BEC5\",\"#B0BEC5\",\"#B0BEC5\",\"#B0BEC5\",\"#B0BEC5\",\"#B0BEC5\",\"#B0BEC5\",\"red\",\"#B0BEC5\",\"#B0BEC5\",\"#B0BEC5\",\"#B0BEC5\",\"#B0BEC5\",\"#B0BEC5\",\"#B0BEC5\",\"#B0BEC5\",\"#B0BEC5\",\"#B0BEC5\",\"#B0BEC5\",\"#B0BEC5\",\"#B0BEC5\",\"#B0BEC5\",\"#B0BEC5\",\"#B0BEC5\",\"#B0BEC5\",\"#B0BEC5\",\"#B0BEC5\",\"#B0BEC5\",\"#B0BEC5\",\"#B0BEC5\",\"#B0BEC5\",\"#B0BEC5\",\"#B0BEC5\",\"#B0BEC5\",\"#B0BEC5\",\"#B0BEC5\",\"#B0BEC5\",\"#B0BEC5\",\"#B0BEC5\",\"#B0BEC5\",\"#B0BEC5\",\"#B0BEC5\",\"#B0BEC5\",\"#B0BEC5\",\"#B0BEC5\",\"#B0BEC5\",\"#B0BEC5\",\"#B0BEC5\",\"#B0BEC5\",\"#B0BEC5\",\"#B0BEC5\",\"#B0BEC5\",\"#B0BEC5\",\"#B0BEC5\",\"#B0BEC5\",\"#B0BEC5\",\"#B0BEC5\",\"#B0BEC5\",\"#B0BEC5\",\"#B0BEC5\",\"#B0BEC5\",\"#B0BEC5\",\"#B0BEC5\"]]}],\"label\":\"Topic 14\",\"method\":\"update\"},{\"args\":[{\"marker.color\":[[\"#B0BEC5\",\"#B0BEC5\",\"#B0BEC5\",\"#B0BEC5\",\"#B0BEC5\",\"#B0BEC5\",\"#B0BEC5\",\"#B0BEC5\",\"#B0BEC5\",\"#B0BEC5\",\"#B0BEC5\",\"#B0BEC5\",\"#B0BEC5\",\"#B0BEC5\",\"#B0BEC5\",\"red\",\"#B0BEC5\",\"#B0BEC5\",\"#B0BEC5\",\"#B0BEC5\",\"#B0BEC5\",\"#B0BEC5\",\"#B0BEC5\",\"#B0BEC5\",\"#B0BEC5\",\"#B0BEC5\",\"#B0BEC5\",\"#B0BEC5\",\"#B0BEC5\",\"#B0BEC5\",\"#B0BEC5\",\"#B0BEC5\",\"#B0BEC5\",\"#B0BEC5\",\"#B0BEC5\",\"#B0BEC5\",\"#B0BEC5\",\"#B0BEC5\",\"#B0BEC5\",\"#B0BEC5\",\"#B0BEC5\",\"#B0BEC5\",\"#B0BEC5\",\"#B0BEC5\",\"#B0BEC5\",\"#B0BEC5\",\"#B0BEC5\",\"#B0BEC5\",\"#B0BEC5\",\"#B0BEC5\",\"#B0BEC5\",\"#B0BEC5\",\"#B0BEC5\",\"#B0BEC5\",\"#B0BEC5\",\"#B0BEC5\",\"#B0BEC5\",\"#B0BEC5\",\"#B0BEC5\",\"#B0BEC5\",\"#B0BEC5\",\"#B0BEC5\",\"#B0BEC5\",\"#B0BEC5\",\"#B0BEC5\",\"#B0BEC5\",\"#B0BEC5\",\"#B0BEC5\",\"#B0BEC5\",\"#B0BEC5\"]]}],\"label\":\"Topic 15\",\"method\":\"update\"},{\"args\":[{\"marker.color\":[[\"#B0BEC5\",\"#B0BEC5\",\"#B0BEC5\",\"#B0BEC5\",\"#B0BEC5\",\"#B0BEC5\",\"#B0BEC5\",\"#B0BEC5\",\"#B0BEC5\",\"#B0BEC5\",\"#B0BEC5\",\"#B0BEC5\",\"#B0BEC5\",\"#B0BEC5\",\"#B0BEC5\",\"#B0BEC5\",\"red\",\"#B0BEC5\",\"#B0BEC5\",\"#B0BEC5\",\"#B0BEC5\",\"#B0BEC5\",\"#B0BEC5\",\"#B0BEC5\",\"#B0BEC5\",\"#B0BEC5\",\"#B0BEC5\",\"#B0BEC5\",\"#B0BEC5\",\"#B0BEC5\",\"#B0BEC5\",\"#B0BEC5\",\"#B0BEC5\",\"#B0BEC5\",\"#B0BEC5\",\"#B0BEC5\",\"#B0BEC5\",\"#B0BEC5\",\"#B0BEC5\",\"#B0BEC5\",\"#B0BEC5\",\"#B0BEC5\",\"#B0BEC5\",\"#B0BEC5\",\"#B0BEC5\",\"#B0BEC5\",\"#B0BEC5\",\"#B0BEC5\",\"#B0BEC5\",\"#B0BEC5\",\"#B0BEC5\",\"#B0BEC5\",\"#B0BEC5\",\"#B0BEC5\",\"#B0BEC5\",\"#B0BEC5\",\"#B0BEC5\",\"#B0BEC5\",\"#B0BEC5\",\"#B0BEC5\",\"#B0BEC5\",\"#B0BEC5\",\"#B0BEC5\",\"#B0BEC5\",\"#B0BEC5\",\"#B0BEC5\",\"#B0BEC5\",\"#B0BEC5\",\"#B0BEC5\",\"#B0BEC5\"]]}],\"label\":\"Topic 16\",\"method\":\"update\"},{\"args\":[{\"marker.color\":[[\"#B0BEC5\",\"#B0BEC5\",\"#B0BEC5\",\"#B0BEC5\",\"#B0BEC5\",\"#B0BEC5\",\"#B0BEC5\",\"#B0BEC5\",\"#B0BEC5\",\"#B0BEC5\",\"#B0BEC5\",\"#B0BEC5\",\"#B0BEC5\",\"#B0BEC5\",\"#B0BEC5\",\"#B0BEC5\",\"#B0BEC5\",\"red\",\"#B0BEC5\",\"#B0BEC5\",\"#B0BEC5\",\"#B0BEC5\",\"#B0BEC5\",\"#B0BEC5\",\"#B0BEC5\",\"#B0BEC5\",\"#B0BEC5\",\"#B0BEC5\",\"#B0BEC5\",\"#B0BEC5\",\"#B0BEC5\",\"#B0BEC5\",\"#B0BEC5\",\"#B0BEC5\",\"#B0BEC5\",\"#B0BEC5\",\"#B0BEC5\",\"#B0BEC5\",\"#B0BEC5\",\"#B0BEC5\",\"#B0BEC5\",\"#B0BEC5\",\"#B0BEC5\",\"#B0BEC5\",\"#B0BEC5\",\"#B0BEC5\",\"#B0BEC5\",\"#B0BEC5\",\"#B0BEC5\",\"#B0BEC5\",\"#B0BEC5\",\"#B0BEC5\",\"#B0BEC5\",\"#B0BEC5\",\"#B0BEC5\",\"#B0BEC5\",\"#B0BEC5\",\"#B0BEC5\",\"#B0BEC5\",\"#B0BEC5\",\"#B0BEC5\",\"#B0BEC5\",\"#B0BEC5\",\"#B0BEC5\",\"#B0BEC5\",\"#B0BEC5\",\"#B0BEC5\",\"#B0BEC5\",\"#B0BEC5\",\"#B0BEC5\"]]}],\"label\":\"Topic 17\",\"method\":\"update\"},{\"args\":[{\"marker.color\":[[\"#B0BEC5\",\"#B0BEC5\",\"#B0BEC5\",\"#B0BEC5\",\"#B0BEC5\",\"#B0BEC5\",\"#B0BEC5\",\"#B0BEC5\",\"#B0BEC5\",\"#B0BEC5\",\"#B0BEC5\",\"#B0BEC5\",\"#B0BEC5\",\"#B0BEC5\",\"#B0BEC5\",\"#B0BEC5\",\"#B0BEC5\",\"#B0BEC5\",\"red\",\"#B0BEC5\",\"#B0BEC5\",\"#B0BEC5\",\"#B0BEC5\",\"#B0BEC5\",\"#B0BEC5\",\"#B0BEC5\",\"#B0BEC5\",\"#B0BEC5\",\"#B0BEC5\",\"#B0BEC5\",\"#B0BEC5\",\"#B0BEC5\",\"#B0BEC5\",\"#B0BEC5\",\"#B0BEC5\",\"#B0BEC5\",\"#B0BEC5\",\"#B0BEC5\",\"#B0BEC5\",\"#B0BEC5\",\"#B0BEC5\",\"#B0BEC5\",\"#B0BEC5\",\"#B0BEC5\",\"#B0BEC5\",\"#B0BEC5\",\"#B0BEC5\",\"#B0BEC5\",\"#B0BEC5\",\"#B0BEC5\",\"#B0BEC5\",\"#B0BEC5\",\"#B0BEC5\",\"#B0BEC5\",\"#B0BEC5\",\"#B0BEC5\",\"#B0BEC5\",\"#B0BEC5\",\"#B0BEC5\",\"#B0BEC5\",\"#B0BEC5\",\"#B0BEC5\",\"#B0BEC5\",\"#B0BEC5\",\"#B0BEC5\",\"#B0BEC5\",\"#B0BEC5\",\"#B0BEC5\",\"#B0BEC5\",\"#B0BEC5\"]]}],\"label\":\"Topic 18\",\"method\":\"update\"},{\"args\":[{\"marker.color\":[[\"#B0BEC5\",\"#B0BEC5\",\"#B0BEC5\",\"#B0BEC5\",\"#B0BEC5\",\"#B0BEC5\",\"#B0BEC5\",\"#B0BEC5\",\"#B0BEC5\",\"#B0BEC5\",\"#B0BEC5\",\"#B0BEC5\",\"#B0BEC5\",\"#B0BEC5\",\"#B0BEC5\",\"#B0BEC5\",\"#B0BEC5\",\"#B0BEC5\",\"#B0BEC5\",\"red\",\"#B0BEC5\",\"#B0BEC5\",\"#B0BEC5\",\"#B0BEC5\",\"#B0BEC5\",\"#B0BEC5\",\"#B0BEC5\",\"#B0BEC5\",\"#B0BEC5\",\"#B0BEC5\",\"#B0BEC5\",\"#B0BEC5\",\"#B0BEC5\",\"#B0BEC5\",\"#B0BEC5\",\"#B0BEC5\",\"#B0BEC5\",\"#B0BEC5\",\"#B0BEC5\",\"#B0BEC5\",\"#B0BEC5\",\"#B0BEC5\",\"#B0BEC5\",\"#B0BEC5\",\"#B0BEC5\",\"#B0BEC5\",\"#B0BEC5\",\"#B0BEC5\",\"#B0BEC5\",\"#B0BEC5\",\"#B0BEC5\",\"#B0BEC5\",\"#B0BEC5\",\"#B0BEC5\",\"#B0BEC5\",\"#B0BEC5\",\"#B0BEC5\",\"#B0BEC5\",\"#B0BEC5\",\"#B0BEC5\",\"#B0BEC5\",\"#B0BEC5\",\"#B0BEC5\",\"#B0BEC5\",\"#B0BEC5\",\"#B0BEC5\",\"#B0BEC5\",\"#B0BEC5\",\"#B0BEC5\",\"#B0BEC5\"]]}],\"label\":\"Topic 19\",\"method\":\"update\"},{\"args\":[{\"marker.color\":[[\"#B0BEC5\",\"#B0BEC5\",\"#B0BEC5\",\"#B0BEC5\",\"#B0BEC5\",\"#B0BEC5\",\"#B0BEC5\",\"#B0BEC5\",\"#B0BEC5\",\"#B0BEC5\",\"#B0BEC5\",\"#B0BEC5\",\"#B0BEC5\",\"#B0BEC5\",\"#B0BEC5\",\"#B0BEC5\",\"#B0BEC5\",\"#B0BEC5\",\"#B0BEC5\",\"#B0BEC5\",\"red\",\"#B0BEC5\",\"#B0BEC5\",\"#B0BEC5\",\"#B0BEC5\",\"#B0BEC5\",\"#B0BEC5\",\"#B0BEC5\",\"#B0BEC5\",\"#B0BEC5\",\"#B0BEC5\",\"#B0BEC5\",\"#B0BEC5\",\"#B0BEC5\",\"#B0BEC5\",\"#B0BEC5\",\"#B0BEC5\",\"#B0BEC5\",\"#B0BEC5\",\"#B0BEC5\",\"#B0BEC5\",\"#B0BEC5\",\"#B0BEC5\",\"#B0BEC5\",\"#B0BEC5\",\"#B0BEC5\",\"#B0BEC5\",\"#B0BEC5\",\"#B0BEC5\",\"#B0BEC5\",\"#B0BEC5\",\"#B0BEC5\",\"#B0BEC5\",\"#B0BEC5\",\"#B0BEC5\",\"#B0BEC5\",\"#B0BEC5\",\"#B0BEC5\",\"#B0BEC5\",\"#B0BEC5\",\"#B0BEC5\",\"#B0BEC5\",\"#B0BEC5\",\"#B0BEC5\",\"#B0BEC5\",\"#B0BEC5\",\"#B0BEC5\",\"#B0BEC5\",\"#B0BEC5\",\"#B0BEC5\"]]}],\"label\":\"Topic 20\",\"method\":\"update\"},{\"args\":[{\"marker.color\":[[\"#B0BEC5\",\"#B0BEC5\",\"#B0BEC5\",\"#B0BEC5\",\"#B0BEC5\",\"#B0BEC5\",\"#B0BEC5\",\"#B0BEC5\",\"#B0BEC5\",\"#B0BEC5\",\"#B0BEC5\",\"#B0BEC5\",\"#B0BEC5\",\"#B0BEC5\",\"#B0BEC5\",\"#B0BEC5\",\"#B0BEC5\",\"#B0BEC5\",\"#B0BEC5\",\"#B0BEC5\",\"#B0BEC5\",\"red\",\"#B0BEC5\",\"#B0BEC5\",\"#B0BEC5\",\"#B0BEC5\",\"#B0BEC5\",\"#B0BEC5\",\"#B0BEC5\",\"#B0BEC5\",\"#B0BEC5\",\"#B0BEC5\",\"#B0BEC5\",\"#B0BEC5\",\"#B0BEC5\",\"#B0BEC5\",\"#B0BEC5\",\"#B0BEC5\",\"#B0BEC5\",\"#B0BEC5\",\"#B0BEC5\",\"#B0BEC5\",\"#B0BEC5\",\"#B0BEC5\",\"#B0BEC5\",\"#B0BEC5\",\"#B0BEC5\",\"#B0BEC5\",\"#B0BEC5\",\"#B0BEC5\",\"#B0BEC5\",\"#B0BEC5\",\"#B0BEC5\",\"#B0BEC5\",\"#B0BEC5\",\"#B0BEC5\",\"#B0BEC5\",\"#B0BEC5\",\"#B0BEC5\",\"#B0BEC5\",\"#B0BEC5\",\"#B0BEC5\",\"#B0BEC5\",\"#B0BEC5\",\"#B0BEC5\",\"#B0BEC5\",\"#B0BEC5\",\"#B0BEC5\",\"#B0BEC5\",\"#B0BEC5\"]]}],\"label\":\"Topic 21\",\"method\":\"update\"},{\"args\":[{\"marker.color\":[[\"#B0BEC5\",\"#B0BEC5\",\"#B0BEC5\",\"#B0BEC5\",\"#B0BEC5\",\"#B0BEC5\",\"#B0BEC5\",\"#B0BEC5\",\"#B0BEC5\",\"#B0BEC5\",\"#B0BEC5\",\"#B0BEC5\",\"#B0BEC5\",\"#B0BEC5\",\"#B0BEC5\",\"#B0BEC5\",\"#B0BEC5\",\"#B0BEC5\",\"#B0BEC5\",\"#B0BEC5\",\"#B0BEC5\",\"#B0BEC5\",\"red\",\"#B0BEC5\",\"#B0BEC5\",\"#B0BEC5\",\"#B0BEC5\",\"#B0BEC5\",\"#B0BEC5\",\"#B0BEC5\",\"#B0BEC5\",\"#B0BEC5\",\"#B0BEC5\",\"#B0BEC5\",\"#B0BEC5\",\"#B0BEC5\",\"#B0BEC5\",\"#B0BEC5\",\"#B0BEC5\",\"#B0BEC5\",\"#B0BEC5\",\"#B0BEC5\",\"#B0BEC5\",\"#B0BEC5\",\"#B0BEC5\",\"#B0BEC5\",\"#B0BEC5\",\"#B0BEC5\",\"#B0BEC5\",\"#B0BEC5\",\"#B0BEC5\",\"#B0BEC5\",\"#B0BEC5\",\"#B0BEC5\",\"#B0BEC5\",\"#B0BEC5\",\"#B0BEC5\",\"#B0BEC5\",\"#B0BEC5\",\"#B0BEC5\",\"#B0BEC5\",\"#B0BEC5\",\"#B0BEC5\",\"#B0BEC5\",\"#B0BEC5\",\"#B0BEC5\",\"#B0BEC5\",\"#B0BEC5\",\"#B0BEC5\",\"#B0BEC5\"]]}],\"label\":\"Topic 22\",\"method\":\"update\"},{\"args\":[{\"marker.color\":[[\"#B0BEC5\",\"#B0BEC5\",\"#B0BEC5\",\"#B0BEC5\",\"#B0BEC5\",\"#B0BEC5\",\"#B0BEC5\",\"#B0BEC5\",\"#B0BEC5\",\"#B0BEC5\",\"#B0BEC5\",\"#B0BEC5\",\"#B0BEC5\",\"#B0BEC5\",\"#B0BEC5\",\"#B0BEC5\",\"#B0BEC5\",\"#B0BEC5\",\"#B0BEC5\",\"#B0BEC5\",\"#B0BEC5\",\"#B0BEC5\",\"#B0BEC5\",\"red\",\"#B0BEC5\",\"#B0BEC5\",\"#B0BEC5\",\"#B0BEC5\",\"#B0BEC5\",\"#B0BEC5\",\"#B0BEC5\",\"#B0BEC5\",\"#B0BEC5\",\"#B0BEC5\",\"#B0BEC5\",\"#B0BEC5\",\"#B0BEC5\",\"#B0BEC5\",\"#B0BEC5\",\"#B0BEC5\",\"#B0BEC5\",\"#B0BEC5\",\"#B0BEC5\",\"#B0BEC5\",\"#B0BEC5\",\"#B0BEC5\",\"#B0BEC5\",\"#B0BEC5\",\"#B0BEC5\",\"#B0BEC5\",\"#B0BEC5\",\"#B0BEC5\",\"#B0BEC5\",\"#B0BEC5\",\"#B0BEC5\",\"#B0BEC5\",\"#B0BEC5\",\"#B0BEC5\",\"#B0BEC5\",\"#B0BEC5\",\"#B0BEC5\",\"#B0BEC5\",\"#B0BEC5\",\"#B0BEC5\",\"#B0BEC5\",\"#B0BEC5\",\"#B0BEC5\",\"#B0BEC5\",\"#B0BEC5\",\"#B0BEC5\"]]}],\"label\":\"Topic 23\",\"method\":\"update\"},{\"args\":[{\"marker.color\":[[\"#B0BEC5\",\"#B0BEC5\",\"#B0BEC5\",\"#B0BEC5\",\"#B0BEC5\",\"#B0BEC5\",\"#B0BEC5\",\"#B0BEC5\",\"#B0BEC5\",\"#B0BEC5\",\"#B0BEC5\",\"#B0BEC5\",\"#B0BEC5\",\"#B0BEC5\",\"#B0BEC5\",\"#B0BEC5\",\"#B0BEC5\",\"#B0BEC5\",\"#B0BEC5\",\"#B0BEC5\",\"#B0BEC5\",\"#B0BEC5\",\"#B0BEC5\",\"#B0BEC5\",\"red\",\"#B0BEC5\",\"#B0BEC5\",\"#B0BEC5\",\"#B0BEC5\",\"#B0BEC5\",\"#B0BEC5\",\"#B0BEC5\",\"#B0BEC5\",\"#B0BEC5\",\"#B0BEC5\",\"#B0BEC5\",\"#B0BEC5\",\"#B0BEC5\",\"#B0BEC5\",\"#B0BEC5\",\"#B0BEC5\",\"#B0BEC5\",\"#B0BEC5\",\"#B0BEC5\",\"#B0BEC5\",\"#B0BEC5\",\"#B0BEC5\",\"#B0BEC5\",\"#B0BEC5\",\"#B0BEC5\",\"#B0BEC5\",\"#B0BEC5\",\"#B0BEC5\",\"#B0BEC5\",\"#B0BEC5\",\"#B0BEC5\",\"#B0BEC5\",\"#B0BEC5\",\"#B0BEC5\",\"#B0BEC5\",\"#B0BEC5\",\"#B0BEC5\",\"#B0BEC5\",\"#B0BEC5\",\"#B0BEC5\",\"#B0BEC5\",\"#B0BEC5\",\"#B0BEC5\",\"#B0BEC5\",\"#B0BEC5\"]]}],\"label\":\"Topic 24\",\"method\":\"update\"},{\"args\":[{\"marker.color\":[[\"#B0BEC5\",\"#B0BEC5\",\"#B0BEC5\",\"#B0BEC5\",\"#B0BEC5\",\"#B0BEC5\",\"#B0BEC5\",\"#B0BEC5\",\"#B0BEC5\",\"#B0BEC5\",\"#B0BEC5\",\"#B0BEC5\",\"#B0BEC5\",\"#B0BEC5\",\"#B0BEC5\",\"#B0BEC5\",\"#B0BEC5\",\"#B0BEC5\",\"#B0BEC5\",\"#B0BEC5\",\"#B0BEC5\",\"#B0BEC5\",\"#B0BEC5\",\"#B0BEC5\",\"#B0BEC5\",\"red\",\"#B0BEC5\",\"#B0BEC5\",\"#B0BEC5\",\"#B0BEC5\",\"#B0BEC5\",\"#B0BEC5\",\"#B0BEC5\",\"#B0BEC5\",\"#B0BEC5\",\"#B0BEC5\",\"#B0BEC5\",\"#B0BEC5\",\"#B0BEC5\",\"#B0BEC5\",\"#B0BEC5\",\"#B0BEC5\",\"#B0BEC5\",\"#B0BEC5\",\"#B0BEC5\",\"#B0BEC5\",\"#B0BEC5\",\"#B0BEC5\",\"#B0BEC5\",\"#B0BEC5\",\"#B0BEC5\",\"#B0BEC5\",\"#B0BEC5\",\"#B0BEC5\",\"#B0BEC5\",\"#B0BEC5\",\"#B0BEC5\",\"#B0BEC5\",\"#B0BEC5\",\"#B0BEC5\",\"#B0BEC5\",\"#B0BEC5\",\"#B0BEC5\",\"#B0BEC5\",\"#B0BEC5\",\"#B0BEC5\",\"#B0BEC5\",\"#B0BEC5\",\"#B0BEC5\",\"#B0BEC5\"]]}],\"label\":\"Topic 25\",\"method\":\"update\"},{\"args\":[{\"marker.color\":[[\"#B0BEC5\",\"#B0BEC5\",\"#B0BEC5\",\"#B0BEC5\",\"#B0BEC5\",\"#B0BEC5\",\"#B0BEC5\",\"#B0BEC5\",\"#B0BEC5\",\"#B0BEC5\",\"#B0BEC5\",\"#B0BEC5\",\"#B0BEC5\",\"#B0BEC5\",\"#B0BEC5\",\"#B0BEC5\",\"#B0BEC5\",\"#B0BEC5\",\"#B0BEC5\",\"#B0BEC5\",\"#B0BEC5\",\"#B0BEC5\",\"#B0BEC5\",\"#B0BEC5\",\"#B0BEC5\",\"#B0BEC5\",\"red\",\"#B0BEC5\",\"#B0BEC5\",\"#B0BEC5\",\"#B0BEC5\",\"#B0BEC5\",\"#B0BEC5\",\"#B0BEC5\",\"#B0BEC5\",\"#B0BEC5\",\"#B0BEC5\",\"#B0BEC5\",\"#B0BEC5\",\"#B0BEC5\",\"#B0BEC5\",\"#B0BEC5\",\"#B0BEC5\",\"#B0BEC5\",\"#B0BEC5\",\"#B0BEC5\",\"#B0BEC5\",\"#B0BEC5\",\"#B0BEC5\",\"#B0BEC5\",\"#B0BEC5\",\"#B0BEC5\",\"#B0BEC5\",\"#B0BEC5\",\"#B0BEC5\",\"#B0BEC5\",\"#B0BEC5\",\"#B0BEC5\",\"#B0BEC5\",\"#B0BEC5\",\"#B0BEC5\",\"#B0BEC5\",\"#B0BEC5\",\"#B0BEC5\",\"#B0BEC5\",\"#B0BEC5\",\"#B0BEC5\",\"#B0BEC5\",\"#B0BEC5\",\"#B0BEC5\"]]}],\"label\":\"Topic 26\",\"method\":\"update\"},{\"args\":[{\"marker.color\":[[\"#B0BEC5\",\"#B0BEC5\",\"#B0BEC5\",\"#B0BEC5\",\"#B0BEC5\",\"#B0BEC5\",\"#B0BEC5\",\"#B0BEC5\",\"#B0BEC5\",\"#B0BEC5\",\"#B0BEC5\",\"#B0BEC5\",\"#B0BEC5\",\"#B0BEC5\",\"#B0BEC5\",\"#B0BEC5\",\"#B0BEC5\",\"#B0BEC5\",\"#B0BEC5\",\"#B0BEC5\",\"#B0BEC5\",\"#B0BEC5\",\"#B0BEC5\",\"#B0BEC5\",\"#B0BEC5\",\"#B0BEC5\",\"#B0BEC5\",\"red\",\"#B0BEC5\",\"#B0BEC5\",\"#B0BEC5\",\"#B0BEC5\",\"#B0BEC5\",\"#B0BEC5\",\"#B0BEC5\",\"#B0BEC5\",\"#B0BEC5\",\"#B0BEC5\",\"#B0BEC5\",\"#B0BEC5\",\"#B0BEC5\",\"#B0BEC5\",\"#B0BEC5\",\"#B0BEC5\",\"#B0BEC5\",\"#B0BEC5\",\"#B0BEC5\",\"#B0BEC5\",\"#B0BEC5\",\"#B0BEC5\",\"#B0BEC5\",\"#B0BEC5\",\"#B0BEC5\",\"#B0BEC5\",\"#B0BEC5\",\"#B0BEC5\",\"#B0BEC5\",\"#B0BEC5\",\"#B0BEC5\",\"#B0BEC5\",\"#B0BEC5\",\"#B0BEC5\",\"#B0BEC5\",\"#B0BEC5\",\"#B0BEC5\",\"#B0BEC5\",\"#B0BEC5\",\"#B0BEC5\",\"#B0BEC5\",\"#B0BEC5\"]]}],\"label\":\"Topic 27\",\"method\":\"update\"},{\"args\":[{\"marker.color\":[[\"#B0BEC5\",\"#B0BEC5\",\"#B0BEC5\",\"#B0BEC5\",\"#B0BEC5\",\"#B0BEC5\",\"#B0BEC5\",\"#B0BEC5\",\"#B0BEC5\",\"#B0BEC5\",\"#B0BEC5\",\"#B0BEC5\",\"#B0BEC5\",\"#B0BEC5\",\"#B0BEC5\",\"#B0BEC5\",\"#B0BEC5\",\"#B0BEC5\",\"#B0BEC5\",\"#B0BEC5\",\"#B0BEC5\",\"#B0BEC5\",\"#B0BEC5\",\"#B0BEC5\",\"#B0BEC5\",\"#B0BEC5\",\"#B0BEC5\",\"#B0BEC5\",\"red\",\"#B0BEC5\",\"#B0BEC5\",\"#B0BEC5\",\"#B0BEC5\",\"#B0BEC5\",\"#B0BEC5\",\"#B0BEC5\",\"#B0BEC5\",\"#B0BEC5\",\"#B0BEC5\",\"#B0BEC5\",\"#B0BEC5\",\"#B0BEC5\",\"#B0BEC5\",\"#B0BEC5\",\"#B0BEC5\",\"#B0BEC5\",\"#B0BEC5\",\"#B0BEC5\",\"#B0BEC5\",\"#B0BEC5\",\"#B0BEC5\",\"#B0BEC5\",\"#B0BEC5\",\"#B0BEC5\",\"#B0BEC5\",\"#B0BEC5\",\"#B0BEC5\",\"#B0BEC5\",\"#B0BEC5\",\"#B0BEC5\",\"#B0BEC5\",\"#B0BEC5\",\"#B0BEC5\",\"#B0BEC5\",\"#B0BEC5\",\"#B0BEC5\",\"#B0BEC5\",\"#B0BEC5\",\"#B0BEC5\",\"#B0BEC5\"]]}],\"label\":\"Topic 28\",\"method\":\"update\"},{\"args\":[{\"marker.color\":[[\"#B0BEC5\",\"#B0BEC5\",\"#B0BEC5\",\"#B0BEC5\",\"#B0BEC5\",\"#B0BEC5\",\"#B0BEC5\",\"#B0BEC5\",\"#B0BEC5\",\"#B0BEC5\",\"#B0BEC5\",\"#B0BEC5\",\"#B0BEC5\",\"#B0BEC5\",\"#B0BEC5\",\"#B0BEC5\",\"#B0BEC5\",\"#B0BEC5\",\"#B0BEC5\",\"#B0BEC5\",\"#B0BEC5\",\"#B0BEC5\",\"#B0BEC5\",\"#B0BEC5\",\"#B0BEC5\",\"#B0BEC5\",\"#B0BEC5\",\"#B0BEC5\",\"#B0BEC5\",\"red\",\"#B0BEC5\",\"#B0BEC5\",\"#B0BEC5\",\"#B0BEC5\",\"#B0BEC5\",\"#B0BEC5\",\"#B0BEC5\",\"#B0BEC5\",\"#B0BEC5\",\"#B0BEC5\",\"#B0BEC5\",\"#B0BEC5\",\"#B0BEC5\",\"#B0BEC5\",\"#B0BEC5\",\"#B0BEC5\",\"#B0BEC5\",\"#B0BEC5\",\"#B0BEC5\",\"#B0BEC5\",\"#B0BEC5\",\"#B0BEC5\",\"#B0BEC5\",\"#B0BEC5\",\"#B0BEC5\",\"#B0BEC5\",\"#B0BEC5\",\"#B0BEC5\",\"#B0BEC5\",\"#B0BEC5\",\"#B0BEC5\",\"#B0BEC5\",\"#B0BEC5\",\"#B0BEC5\",\"#B0BEC5\",\"#B0BEC5\",\"#B0BEC5\",\"#B0BEC5\",\"#B0BEC5\",\"#B0BEC5\"]]}],\"label\":\"Topic 29\",\"method\":\"update\"},{\"args\":[{\"marker.color\":[[\"#B0BEC5\",\"#B0BEC5\",\"#B0BEC5\",\"#B0BEC5\",\"#B0BEC5\",\"#B0BEC5\",\"#B0BEC5\",\"#B0BEC5\",\"#B0BEC5\",\"#B0BEC5\",\"#B0BEC5\",\"#B0BEC5\",\"#B0BEC5\",\"#B0BEC5\",\"#B0BEC5\",\"#B0BEC5\",\"#B0BEC5\",\"#B0BEC5\",\"#B0BEC5\",\"#B0BEC5\",\"#B0BEC5\",\"#B0BEC5\",\"#B0BEC5\",\"#B0BEC5\",\"#B0BEC5\",\"#B0BEC5\",\"#B0BEC5\",\"#B0BEC5\",\"#B0BEC5\",\"#B0BEC5\",\"red\",\"#B0BEC5\",\"#B0BEC5\",\"#B0BEC5\",\"#B0BEC5\",\"#B0BEC5\",\"#B0BEC5\",\"#B0BEC5\",\"#B0BEC5\",\"#B0BEC5\",\"#B0BEC5\",\"#B0BEC5\",\"#B0BEC5\",\"#B0BEC5\",\"#B0BEC5\",\"#B0BEC5\",\"#B0BEC5\",\"#B0BEC5\",\"#B0BEC5\",\"#B0BEC5\",\"#B0BEC5\",\"#B0BEC5\",\"#B0BEC5\",\"#B0BEC5\",\"#B0BEC5\",\"#B0BEC5\",\"#B0BEC5\",\"#B0BEC5\",\"#B0BEC5\",\"#B0BEC5\",\"#B0BEC5\",\"#B0BEC5\",\"#B0BEC5\",\"#B0BEC5\",\"#B0BEC5\",\"#B0BEC5\",\"#B0BEC5\",\"#B0BEC5\",\"#B0BEC5\",\"#B0BEC5\"]]}],\"label\":\"Topic 30\",\"method\":\"update\"},{\"args\":[{\"marker.color\":[[\"#B0BEC5\",\"#B0BEC5\",\"#B0BEC5\",\"#B0BEC5\",\"#B0BEC5\",\"#B0BEC5\",\"#B0BEC5\",\"#B0BEC5\",\"#B0BEC5\",\"#B0BEC5\",\"#B0BEC5\",\"#B0BEC5\",\"#B0BEC5\",\"#B0BEC5\",\"#B0BEC5\",\"#B0BEC5\",\"#B0BEC5\",\"#B0BEC5\",\"#B0BEC5\",\"#B0BEC5\",\"#B0BEC5\",\"#B0BEC5\",\"#B0BEC5\",\"#B0BEC5\",\"#B0BEC5\",\"#B0BEC5\",\"#B0BEC5\",\"#B0BEC5\",\"#B0BEC5\",\"#B0BEC5\",\"#B0BEC5\",\"red\",\"#B0BEC5\",\"#B0BEC5\",\"#B0BEC5\",\"#B0BEC5\",\"#B0BEC5\",\"#B0BEC5\",\"#B0BEC5\",\"#B0BEC5\",\"#B0BEC5\",\"#B0BEC5\",\"#B0BEC5\",\"#B0BEC5\",\"#B0BEC5\",\"#B0BEC5\",\"#B0BEC5\",\"#B0BEC5\",\"#B0BEC5\",\"#B0BEC5\",\"#B0BEC5\",\"#B0BEC5\",\"#B0BEC5\",\"#B0BEC5\",\"#B0BEC5\",\"#B0BEC5\",\"#B0BEC5\",\"#B0BEC5\",\"#B0BEC5\",\"#B0BEC5\",\"#B0BEC5\",\"#B0BEC5\",\"#B0BEC5\",\"#B0BEC5\",\"#B0BEC5\",\"#B0BEC5\",\"#B0BEC5\",\"#B0BEC5\",\"#B0BEC5\",\"#B0BEC5\"]]}],\"label\":\"Topic 31\",\"method\":\"update\"},{\"args\":[{\"marker.color\":[[\"#B0BEC5\",\"#B0BEC5\",\"#B0BEC5\",\"#B0BEC5\",\"#B0BEC5\",\"#B0BEC5\",\"#B0BEC5\",\"#B0BEC5\",\"#B0BEC5\",\"#B0BEC5\",\"#B0BEC5\",\"#B0BEC5\",\"#B0BEC5\",\"#B0BEC5\",\"#B0BEC5\",\"#B0BEC5\",\"#B0BEC5\",\"#B0BEC5\",\"#B0BEC5\",\"#B0BEC5\",\"#B0BEC5\",\"#B0BEC5\",\"#B0BEC5\",\"#B0BEC5\",\"#B0BEC5\",\"#B0BEC5\",\"#B0BEC5\",\"#B0BEC5\",\"#B0BEC5\",\"#B0BEC5\",\"#B0BEC5\",\"#B0BEC5\",\"red\",\"#B0BEC5\",\"#B0BEC5\",\"#B0BEC5\",\"#B0BEC5\",\"#B0BEC5\",\"#B0BEC5\",\"#B0BEC5\",\"#B0BEC5\",\"#B0BEC5\",\"#B0BEC5\",\"#B0BEC5\",\"#B0BEC5\",\"#B0BEC5\",\"#B0BEC5\",\"#B0BEC5\",\"#B0BEC5\",\"#B0BEC5\",\"#B0BEC5\",\"#B0BEC5\",\"#B0BEC5\",\"#B0BEC5\",\"#B0BEC5\",\"#B0BEC5\",\"#B0BEC5\",\"#B0BEC5\",\"#B0BEC5\",\"#B0BEC5\",\"#B0BEC5\",\"#B0BEC5\",\"#B0BEC5\",\"#B0BEC5\",\"#B0BEC5\",\"#B0BEC5\",\"#B0BEC5\",\"#B0BEC5\",\"#B0BEC5\",\"#B0BEC5\"]]}],\"label\":\"Topic 32\",\"method\":\"update\"},{\"args\":[{\"marker.color\":[[\"#B0BEC5\",\"#B0BEC5\",\"#B0BEC5\",\"#B0BEC5\",\"#B0BEC5\",\"#B0BEC5\",\"#B0BEC5\",\"#B0BEC5\",\"#B0BEC5\",\"#B0BEC5\",\"#B0BEC5\",\"#B0BEC5\",\"#B0BEC5\",\"#B0BEC5\",\"#B0BEC5\",\"#B0BEC5\",\"#B0BEC5\",\"#B0BEC5\",\"#B0BEC5\",\"#B0BEC5\",\"#B0BEC5\",\"#B0BEC5\",\"#B0BEC5\",\"#B0BEC5\",\"#B0BEC5\",\"#B0BEC5\",\"#B0BEC5\",\"#B0BEC5\",\"#B0BEC5\",\"#B0BEC5\",\"#B0BEC5\",\"#B0BEC5\",\"#B0BEC5\",\"red\",\"#B0BEC5\",\"#B0BEC5\",\"#B0BEC5\",\"#B0BEC5\",\"#B0BEC5\",\"#B0BEC5\",\"#B0BEC5\",\"#B0BEC5\",\"#B0BEC5\",\"#B0BEC5\",\"#B0BEC5\",\"#B0BEC5\",\"#B0BEC5\",\"#B0BEC5\",\"#B0BEC5\",\"#B0BEC5\",\"#B0BEC5\",\"#B0BEC5\",\"#B0BEC5\",\"#B0BEC5\",\"#B0BEC5\",\"#B0BEC5\",\"#B0BEC5\",\"#B0BEC5\",\"#B0BEC5\",\"#B0BEC5\",\"#B0BEC5\",\"#B0BEC5\",\"#B0BEC5\",\"#B0BEC5\",\"#B0BEC5\",\"#B0BEC5\",\"#B0BEC5\",\"#B0BEC5\",\"#B0BEC5\",\"#B0BEC5\"]]}],\"label\":\"Topic 33\",\"method\":\"update\"},{\"args\":[{\"marker.color\":[[\"#B0BEC5\",\"#B0BEC5\",\"#B0BEC5\",\"#B0BEC5\",\"#B0BEC5\",\"#B0BEC5\",\"#B0BEC5\",\"#B0BEC5\",\"#B0BEC5\",\"#B0BEC5\",\"#B0BEC5\",\"#B0BEC5\",\"#B0BEC5\",\"#B0BEC5\",\"#B0BEC5\",\"#B0BEC5\",\"#B0BEC5\",\"#B0BEC5\",\"#B0BEC5\",\"#B0BEC5\",\"#B0BEC5\",\"#B0BEC5\",\"#B0BEC5\",\"#B0BEC5\",\"#B0BEC5\",\"#B0BEC5\",\"#B0BEC5\",\"#B0BEC5\",\"#B0BEC5\",\"#B0BEC5\",\"#B0BEC5\",\"#B0BEC5\",\"#B0BEC5\",\"#B0BEC5\",\"red\",\"#B0BEC5\",\"#B0BEC5\",\"#B0BEC5\",\"#B0BEC5\",\"#B0BEC5\",\"#B0BEC5\",\"#B0BEC5\",\"#B0BEC5\",\"#B0BEC5\",\"#B0BEC5\",\"#B0BEC5\",\"#B0BEC5\",\"#B0BEC5\",\"#B0BEC5\",\"#B0BEC5\",\"#B0BEC5\",\"#B0BEC5\",\"#B0BEC5\",\"#B0BEC5\",\"#B0BEC5\",\"#B0BEC5\",\"#B0BEC5\",\"#B0BEC5\",\"#B0BEC5\",\"#B0BEC5\",\"#B0BEC5\",\"#B0BEC5\",\"#B0BEC5\",\"#B0BEC5\",\"#B0BEC5\",\"#B0BEC5\",\"#B0BEC5\",\"#B0BEC5\",\"#B0BEC5\",\"#B0BEC5\"]]}],\"label\":\"Topic 34\",\"method\":\"update\"},{\"args\":[{\"marker.color\":[[\"#B0BEC5\",\"#B0BEC5\",\"#B0BEC5\",\"#B0BEC5\",\"#B0BEC5\",\"#B0BEC5\",\"#B0BEC5\",\"#B0BEC5\",\"#B0BEC5\",\"#B0BEC5\",\"#B0BEC5\",\"#B0BEC5\",\"#B0BEC5\",\"#B0BEC5\",\"#B0BEC5\",\"#B0BEC5\",\"#B0BEC5\",\"#B0BEC5\",\"#B0BEC5\",\"#B0BEC5\",\"#B0BEC5\",\"#B0BEC5\",\"#B0BEC5\",\"#B0BEC5\",\"#B0BEC5\",\"#B0BEC5\",\"#B0BEC5\",\"#B0BEC5\",\"#B0BEC5\",\"#B0BEC5\",\"#B0BEC5\",\"#B0BEC5\",\"#B0BEC5\",\"#B0BEC5\",\"#B0BEC5\",\"red\",\"#B0BEC5\",\"#B0BEC5\",\"#B0BEC5\",\"#B0BEC5\",\"#B0BEC5\",\"#B0BEC5\",\"#B0BEC5\",\"#B0BEC5\",\"#B0BEC5\",\"#B0BEC5\",\"#B0BEC5\",\"#B0BEC5\",\"#B0BEC5\",\"#B0BEC5\",\"#B0BEC5\",\"#B0BEC5\",\"#B0BEC5\",\"#B0BEC5\",\"#B0BEC5\",\"#B0BEC5\",\"#B0BEC5\",\"#B0BEC5\",\"#B0BEC5\",\"#B0BEC5\",\"#B0BEC5\",\"#B0BEC5\",\"#B0BEC5\",\"#B0BEC5\",\"#B0BEC5\",\"#B0BEC5\",\"#B0BEC5\",\"#B0BEC5\",\"#B0BEC5\",\"#B0BEC5\"]]}],\"label\":\"Topic 35\",\"method\":\"update\"},{\"args\":[{\"marker.color\":[[\"#B0BEC5\",\"#B0BEC5\",\"#B0BEC5\",\"#B0BEC5\",\"#B0BEC5\",\"#B0BEC5\",\"#B0BEC5\",\"#B0BEC5\",\"#B0BEC5\",\"#B0BEC5\",\"#B0BEC5\",\"#B0BEC5\",\"#B0BEC5\",\"#B0BEC5\",\"#B0BEC5\",\"#B0BEC5\",\"#B0BEC5\",\"#B0BEC5\",\"#B0BEC5\",\"#B0BEC5\",\"#B0BEC5\",\"#B0BEC5\",\"#B0BEC5\",\"#B0BEC5\",\"#B0BEC5\",\"#B0BEC5\",\"#B0BEC5\",\"#B0BEC5\",\"#B0BEC5\",\"#B0BEC5\",\"#B0BEC5\",\"#B0BEC5\",\"#B0BEC5\",\"#B0BEC5\",\"#B0BEC5\",\"#B0BEC5\",\"red\",\"#B0BEC5\",\"#B0BEC5\",\"#B0BEC5\",\"#B0BEC5\",\"#B0BEC5\",\"#B0BEC5\",\"#B0BEC5\",\"#B0BEC5\",\"#B0BEC5\",\"#B0BEC5\",\"#B0BEC5\",\"#B0BEC5\",\"#B0BEC5\",\"#B0BEC5\",\"#B0BEC5\",\"#B0BEC5\",\"#B0BEC5\",\"#B0BEC5\",\"#B0BEC5\",\"#B0BEC5\",\"#B0BEC5\",\"#B0BEC5\",\"#B0BEC5\",\"#B0BEC5\",\"#B0BEC5\",\"#B0BEC5\",\"#B0BEC5\",\"#B0BEC5\",\"#B0BEC5\",\"#B0BEC5\",\"#B0BEC5\",\"#B0BEC5\",\"#B0BEC5\"]]}],\"label\":\"Topic 36\",\"method\":\"update\"},{\"args\":[{\"marker.color\":[[\"#B0BEC5\",\"#B0BEC5\",\"#B0BEC5\",\"#B0BEC5\",\"#B0BEC5\",\"#B0BEC5\",\"#B0BEC5\",\"#B0BEC5\",\"#B0BEC5\",\"#B0BEC5\",\"#B0BEC5\",\"#B0BEC5\",\"#B0BEC5\",\"#B0BEC5\",\"#B0BEC5\",\"#B0BEC5\",\"#B0BEC5\",\"#B0BEC5\",\"#B0BEC5\",\"#B0BEC5\",\"#B0BEC5\",\"#B0BEC5\",\"#B0BEC5\",\"#B0BEC5\",\"#B0BEC5\",\"#B0BEC5\",\"#B0BEC5\",\"#B0BEC5\",\"#B0BEC5\",\"#B0BEC5\",\"#B0BEC5\",\"#B0BEC5\",\"#B0BEC5\",\"#B0BEC5\",\"#B0BEC5\",\"#B0BEC5\",\"#B0BEC5\",\"red\",\"#B0BEC5\",\"#B0BEC5\",\"#B0BEC5\",\"#B0BEC5\",\"#B0BEC5\",\"#B0BEC5\",\"#B0BEC5\",\"#B0BEC5\",\"#B0BEC5\",\"#B0BEC5\",\"#B0BEC5\",\"#B0BEC5\",\"#B0BEC5\",\"#B0BEC5\",\"#B0BEC5\",\"#B0BEC5\",\"#B0BEC5\",\"#B0BEC5\",\"#B0BEC5\",\"#B0BEC5\",\"#B0BEC5\",\"#B0BEC5\",\"#B0BEC5\",\"#B0BEC5\",\"#B0BEC5\",\"#B0BEC5\",\"#B0BEC5\",\"#B0BEC5\",\"#B0BEC5\",\"#B0BEC5\",\"#B0BEC5\",\"#B0BEC5\"]]}],\"label\":\"Topic 37\",\"method\":\"update\"},{\"args\":[{\"marker.color\":[[\"#B0BEC5\",\"#B0BEC5\",\"#B0BEC5\",\"#B0BEC5\",\"#B0BEC5\",\"#B0BEC5\",\"#B0BEC5\",\"#B0BEC5\",\"#B0BEC5\",\"#B0BEC5\",\"#B0BEC5\",\"#B0BEC5\",\"#B0BEC5\",\"#B0BEC5\",\"#B0BEC5\",\"#B0BEC5\",\"#B0BEC5\",\"#B0BEC5\",\"#B0BEC5\",\"#B0BEC5\",\"#B0BEC5\",\"#B0BEC5\",\"#B0BEC5\",\"#B0BEC5\",\"#B0BEC5\",\"#B0BEC5\",\"#B0BEC5\",\"#B0BEC5\",\"#B0BEC5\",\"#B0BEC5\",\"#B0BEC5\",\"#B0BEC5\",\"#B0BEC5\",\"#B0BEC5\",\"#B0BEC5\",\"#B0BEC5\",\"#B0BEC5\",\"#B0BEC5\",\"red\",\"#B0BEC5\",\"#B0BEC5\",\"#B0BEC5\",\"#B0BEC5\",\"#B0BEC5\",\"#B0BEC5\",\"#B0BEC5\",\"#B0BEC5\",\"#B0BEC5\",\"#B0BEC5\",\"#B0BEC5\",\"#B0BEC5\",\"#B0BEC5\",\"#B0BEC5\",\"#B0BEC5\",\"#B0BEC5\",\"#B0BEC5\",\"#B0BEC5\",\"#B0BEC5\",\"#B0BEC5\",\"#B0BEC5\",\"#B0BEC5\",\"#B0BEC5\",\"#B0BEC5\",\"#B0BEC5\",\"#B0BEC5\",\"#B0BEC5\",\"#B0BEC5\",\"#B0BEC5\",\"#B0BEC5\",\"#B0BEC5\"]]}],\"label\":\"Topic 38\",\"method\":\"update\"},{\"args\":[{\"marker.color\":[[\"#B0BEC5\",\"#B0BEC5\",\"#B0BEC5\",\"#B0BEC5\",\"#B0BEC5\",\"#B0BEC5\",\"#B0BEC5\",\"#B0BEC5\",\"#B0BEC5\",\"#B0BEC5\",\"#B0BEC5\",\"#B0BEC5\",\"#B0BEC5\",\"#B0BEC5\",\"#B0BEC5\",\"#B0BEC5\",\"#B0BEC5\",\"#B0BEC5\",\"#B0BEC5\",\"#B0BEC5\",\"#B0BEC5\",\"#B0BEC5\",\"#B0BEC5\",\"#B0BEC5\",\"#B0BEC5\",\"#B0BEC5\",\"#B0BEC5\",\"#B0BEC5\",\"#B0BEC5\",\"#B0BEC5\",\"#B0BEC5\",\"#B0BEC5\",\"#B0BEC5\",\"#B0BEC5\",\"#B0BEC5\",\"#B0BEC5\",\"#B0BEC5\",\"#B0BEC5\",\"#B0BEC5\",\"red\",\"#B0BEC5\",\"#B0BEC5\",\"#B0BEC5\",\"#B0BEC5\",\"#B0BEC5\",\"#B0BEC5\",\"#B0BEC5\",\"#B0BEC5\",\"#B0BEC5\",\"#B0BEC5\",\"#B0BEC5\",\"#B0BEC5\",\"#B0BEC5\",\"#B0BEC5\",\"#B0BEC5\",\"#B0BEC5\",\"#B0BEC5\",\"#B0BEC5\",\"#B0BEC5\",\"#B0BEC5\",\"#B0BEC5\",\"#B0BEC5\",\"#B0BEC5\",\"#B0BEC5\",\"#B0BEC5\",\"#B0BEC5\",\"#B0BEC5\",\"#B0BEC5\",\"#B0BEC5\",\"#B0BEC5\"]]}],\"label\":\"Topic 39\",\"method\":\"update\"},{\"args\":[{\"marker.color\":[[\"#B0BEC5\",\"#B0BEC5\",\"#B0BEC5\",\"#B0BEC5\",\"#B0BEC5\",\"#B0BEC5\",\"#B0BEC5\",\"#B0BEC5\",\"#B0BEC5\",\"#B0BEC5\",\"#B0BEC5\",\"#B0BEC5\",\"#B0BEC5\",\"#B0BEC5\",\"#B0BEC5\",\"#B0BEC5\",\"#B0BEC5\",\"#B0BEC5\",\"#B0BEC5\",\"#B0BEC5\",\"#B0BEC5\",\"#B0BEC5\",\"#B0BEC5\",\"#B0BEC5\",\"#B0BEC5\",\"#B0BEC5\",\"#B0BEC5\",\"#B0BEC5\",\"#B0BEC5\",\"#B0BEC5\",\"#B0BEC5\",\"#B0BEC5\",\"#B0BEC5\",\"#B0BEC5\",\"#B0BEC5\",\"#B0BEC5\",\"#B0BEC5\",\"#B0BEC5\",\"#B0BEC5\",\"#B0BEC5\",\"red\",\"#B0BEC5\",\"#B0BEC5\",\"#B0BEC5\",\"#B0BEC5\",\"#B0BEC5\",\"#B0BEC5\",\"#B0BEC5\",\"#B0BEC5\",\"#B0BEC5\",\"#B0BEC5\",\"#B0BEC5\",\"#B0BEC5\",\"#B0BEC5\",\"#B0BEC5\",\"#B0BEC5\",\"#B0BEC5\",\"#B0BEC5\",\"#B0BEC5\",\"#B0BEC5\",\"#B0BEC5\",\"#B0BEC5\",\"#B0BEC5\",\"#B0BEC5\",\"#B0BEC5\",\"#B0BEC5\",\"#B0BEC5\",\"#B0BEC5\",\"#B0BEC5\",\"#B0BEC5\"]]}],\"label\":\"Topic 40\",\"method\":\"update\"},{\"args\":[{\"marker.color\":[[\"#B0BEC5\",\"#B0BEC5\",\"#B0BEC5\",\"#B0BEC5\",\"#B0BEC5\",\"#B0BEC5\",\"#B0BEC5\",\"#B0BEC5\",\"#B0BEC5\",\"#B0BEC5\",\"#B0BEC5\",\"#B0BEC5\",\"#B0BEC5\",\"#B0BEC5\",\"#B0BEC5\",\"#B0BEC5\",\"#B0BEC5\",\"#B0BEC5\",\"#B0BEC5\",\"#B0BEC5\",\"#B0BEC5\",\"#B0BEC5\",\"#B0BEC5\",\"#B0BEC5\",\"#B0BEC5\",\"#B0BEC5\",\"#B0BEC5\",\"#B0BEC5\",\"#B0BEC5\",\"#B0BEC5\",\"#B0BEC5\",\"#B0BEC5\",\"#B0BEC5\",\"#B0BEC5\",\"#B0BEC5\",\"#B0BEC5\",\"#B0BEC5\",\"#B0BEC5\",\"#B0BEC5\",\"#B0BEC5\",\"#B0BEC5\",\"red\",\"#B0BEC5\",\"#B0BEC5\",\"#B0BEC5\",\"#B0BEC5\",\"#B0BEC5\",\"#B0BEC5\",\"#B0BEC5\",\"#B0BEC5\",\"#B0BEC5\",\"#B0BEC5\",\"#B0BEC5\",\"#B0BEC5\",\"#B0BEC5\",\"#B0BEC5\",\"#B0BEC5\",\"#B0BEC5\",\"#B0BEC5\",\"#B0BEC5\",\"#B0BEC5\",\"#B0BEC5\",\"#B0BEC5\",\"#B0BEC5\",\"#B0BEC5\",\"#B0BEC5\",\"#B0BEC5\",\"#B0BEC5\",\"#B0BEC5\",\"#B0BEC5\"]]}],\"label\":\"Topic 41\",\"method\":\"update\"},{\"args\":[{\"marker.color\":[[\"#B0BEC5\",\"#B0BEC5\",\"#B0BEC5\",\"#B0BEC5\",\"#B0BEC5\",\"#B0BEC5\",\"#B0BEC5\",\"#B0BEC5\",\"#B0BEC5\",\"#B0BEC5\",\"#B0BEC5\",\"#B0BEC5\",\"#B0BEC5\",\"#B0BEC5\",\"#B0BEC5\",\"#B0BEC5\",\"#B0BEC5\",\"#B0BEC5\",\"#B0BEC5\",\"#B0BEC5\",\"#B0BEC5\",\"#B0BEC5\",\"#B0BEC5\",\"#B0BEC5\",\"#B0BEC5\",\"#B0BEC5\",\"#B0BEC5\",\"#B0BEC5\",\"#B0BEC5\",\"#B0BEC5\",\"#B0BEC5\",\"#B0BEC5\",\"#B0BEC5\",\"#B0BEC5\",\"#B0BEC5\",\"#B0BEC5\",\"#B0BEC5\",\"#B0BEC5\",\"#B0BEC5\",\"#B0BEC5\",\"#B0BEC5\",\"#B0BEC5\",\"red\",\"#B0BEC5\",\"#B0BEC5\",\"#B0BEC5\",\"#B0BEC5\",\"#B0BEC5\",\"#B0BEC5\",\"#B0BEC5\",\"#B0BEC5\",\"#B0BEC5\",\"#B0BEC5\",\"#B0BEC5\",\"#B0BEC5\",\"#B0BEC5\",\"#B0BEC5\",\"#B0BEC5\",\"#B0BEC5\",\"#B0BEC5\",\"#B0BEC5\",\"#B0BEC5\",\"#B0BEC5\",\"#B0BEC5\",\"#B0BEC5\",\"#B0BEC5\",\"#B0BEC5\",\"#B0BEC5\",\"#B0BEC5\",\"#B0BEC5\"]]}],\"label\":\"Topic 42\",\"method\":\"update\"},{\"args\":[{\"marker.color\":[[\"#B0BEC5\",\"#B0BEC5\",\"#B0BEC5\",\"#B0BEC5\",\"#B0BEC5\",\"#B0BEC5\",\"#B0BEC5\",\"#B0BEC5\",\"#B0BEC5\",\"#B0BEC5\",\"#B0BEC5\",\"#B0BEC5\",\"#B0BEC5\",\"#B0BEC5\",\"#B0BEC5\",\"#B0BEC5\",\"#B0BEC5\",\"#B0BEC5\",\"#B0BEC5\",\"#B0BEC5\",\"#B0BEC5\",\"#B0BEC5\",\"#B0BEC5\",\"#B0BEC5\",\"#B0BEC5\",\"#B0BEC5\",\"#B0BEC5\",\"#B0BEC5\",\"#B0BEC5\",\"#B0BEC5\",\"#B0BEC5\",\"#B0BEC5\",\"#B0BEC5\",\"#B0BEC5\",\"#B0BEC5\",\"#B0BEC5\",\"#B0BEC5\",\"#B0BEC5\",\"#B0BEC5\",\"#B0BEC5\",\"#B0BEC5\",\"#B0BEC5\",\"#B0BEC5\",\"red\",\"#B0BEC5\",\"#B0BEC5\",\"#B0BEC5\",\"#B0BEC5\",\"#B0BEC5\",\"#B0BEC5\",\"#B0BEC5\",\"#B0BEC5\",\"#B0BEC5\",\"#B0BEC5\",\"#B0BEC5\",\"#B0BEC5\",\"#B0BEC5\",\"#B0BEC5\",\"#B0BEC5\",\"#B0BEC5\",\"#B0BEC5\",\"#B0BEC5\",\"#B0BEC5\",\"#B0BEC5\",\"#B0BEC5\",\"#B0BEC5\",\"#B0BEC5\",\"#B0BEC5\",\"#B0BEC5\",\"#B0BEC5\"]]}],\"label\":\"Topic 43\",\"method\":\"update\"},{\"args\":[{\"marker.color\":[[\"#B0BEC5\",\"#B0BEC5\",\"#B0BEC5\",\"#B0BEC5\",\"#B0BEC5\",\"#B0BEC5\",\"#B0BEC5\",\"#B0BEC5\",\"#B0BEC5\",\"#B0BEC5\",\"#B0BEC5\",\"#B0BEC5\",\"#B0BEC5\",\"#B0BEC5\",\"#B0BEC5\",\"#B0BEC5\",\"#B0BEC5\",\"#B0BEC5\",\"#B0BEC5\",\"#B0BEC5\",\"#B0BEC5\",\"#B0BEC5\",\"#B0BEC5\",\"#B0BEC5\",\"#B0BEC5\",\"#B0BEC5\",\"#B0BEC5\",\"#B0BEC5\",\"#B0BEC5\",\"#B0BEC5\",\"#B0BEC5\",\"#B0BEC5\",\"#B0BEC5\",\"#B0BEC5\",\"#B0BEC5\",\"#B0BEC5\",\"#B0BEC5\",\"#B0BEC5\",\"#B0BEC5\",\"#B0BEC5\",\"#B0BEC5\",\"#B0BEC5\",\"#B0BEC5\",\"#B0BEC5\",\"red\",\"#B0BEC5\",\"#B0BEC5\",\"#B0BEC5\",\"#B0BEC5\",\"#B0BEC5\",\"#B0BEC5\",\"#B0BEC5\",\"#B0BEC5\",\"#B0BEC5\",\"#B0BEC5\",\"#B0BEC5\",\"#B0BEC5\",\"#B0BEC5\",\"#B0BEC5\",\"#B0BEC5\",\"#B0BEC5\",\"#B0BEC5\",\"#B0BEC5\",\"#B0BEC5\",\"#B0BEC5\",\"#B0BEC5\",\"#B0BEC5\",\"#B0BEC5\",\"#B0BEC5\",\"#B0BEC5\"]]}],\"label\":\"Topic 44\",\"method\":\"update\"},{\"args\":[{\"marker.color\":[[\"#B0BEC5\",\"#B0BEC5\",\"#B0BEC5\",\"#B0BEC5\",\"#B0BEC5\",\"#B0BEC5\",\"#B0BEC5\",\"#B0BEC5\",\"#B0BEC5\",\"#B0BEC5\",\"#B0BEC5\",\"#B0BEC5\",\"#B0BEC5\",\"#B0BEC5\",\"#B0BEC5\",\"#B0BEC5\",\"#B0BEC5\",\"#B0BEC5\",\"#B0BEC5\",\"#B0BEC5\",\"#B0BEC5\",\"#B0BEC5\",\"#B0BEC5\",\"#B0BEC5\",\"#B0BEC5\",\"#B0BEC5\",\"#B0BEC5\",\"#B0BEC5\",\"#B0BEC5\",\"#B0BEC5\",\"#B0BEC5\",\"#B0BEC5\",\"#B0BEC5\",\"#B0BEC5\",\"#B0BEC5\",\"#B0BEC5\",\"#B0BEC5\",\"#B0BEC5\",\"#B0BEC5\",\"#B0BEC5\",\"#B0BEC5\",\"#B0BEC5\",\"#B0BEC5\",\"#B0BEC5\",\"#B0BEC5\",\"red\",\"#B0BEC5\",\"#B0BEC5\",\"#B0BEC5\",\"#B0BEC5\",\"#B0BEC5\",\"#B0BEC5\",\"#B0BEC5\",\"#B0BEC5\",\"#B0BEC5\",\"#B0BEC5\",\"#B0BEC5\",\"#B0BEC5\",\"#B0BEC5\",\"#B0BEC5\",\"#B0BEC5\",\"#B0BEC5\",\"#B0BEC5\",\"#B0BEC5\",\"#B0BEC5\",\"#B0BEC5\",\"#B0BEC5\",\"#B0BEC5\",\"#B0BEC5\",\"#B0BEC5\"]]}],\"label\":\"Topic 45\",\"method\":\"update\"},{\"args\":[{\"marker.color\":[[\"#B0BEC5\",\"#B0BEC5\",\"#B0BEC5\",\"#B0BEC5\",\"#B0BEC5\",\"#B0BEC5\",\"#B0BEC5\",\"#B0BEC5\",\"#B0BEC5\",\"#B0BEC5\",\"#B0BEC5\",\"#B0BEC5\",\"#B0BEC5\",\"#B0BEC5\",\"#B0BEC5\",\"#B0BEC5\",\"#B0BEC5\",\"#B0BEC5\",\"#B0BEC5\",\"#B0BEC5\",\"#B0BEC5\",\"#B0BEC5\",\"#B0BEC5\",\"#B0BEC5\",\"#B0BEC5\",\"#B0BEC5\",\"#B0BEC5\",\"#B0BEC5\",\"#B0BEC5\",\"#B0BEC5\",\"#B0BEC5\",\"#B0BEC5\",\"#B0BEC5\",\"#B0BEC5\",\"#B0BEC5\",\"#B0BEC5\",\"#B0BEC5\",\"#B0BEC5\",\"#B0BEC5\",\"#B0BEC5\",\"#B0BEC5\",\"#B0BEC5\",\"#B0BEC5\",\"#B0BEC5\",\"#B0BEC5\",\"#B0BEC5\",\"red\",\"#B0BEC5\",\"#B0BEC5\",\"#B0BEC5\",\"#B0BEC5\",\"#B0BEC5\",\"#B0BEC5\",\"#B0BEC5\",\"#B0BEC5\",\"#B0BEC5\",\"#B0BEC5\",\"#B0BEC5\",\"#B0BEC5\",\"#B0BEC5\",\"#B0BEC5\",\"#B0BEC5\",\"#B0BEC5\",\"#B0BEC5\",\"#B0BEC5\",\"#B0BEC5\",\"#B0BEC5\",\"#B0BEC5\",\"#B0BEC5\",\"#B0BEC5\"]]}],\"label\":\"Topic 46\",\"method\":\"update\"},{\"args\":[{\"marker.color\":[[\"#B0BEC5\",\"#B0BEC5\",\"#B0BEC5\",\"#B0BEC5\",\"#B0BEC5\",\"#B0BEC5\",\"#B0BEC5\",\"#B0BEC5\",\"#B0BEC5\",\"#B0BEC5\",\"#B0BEC5\",\"#B0BEC5\",\"#B0BEC5\",\"#B0BEC5\",\"#B0BEC5\",\"#B0BEC5\",\"#B0BEC5\",\"#B0BEC5\",\"#B0BEC5\",\"#B0BEC5\",\"#B0BEC5\",\"#B0BEC5\",\"#B0BEC5\",\"#B0BEC5\",\"#B0BEC5\",\"#B0BEC5\",\"#B0BEC5\",\"#B0BEC5\",\"#B0BEC5\",\"#B0BEC5\",\"#B0BEC5\",\"#B0BEC5\",\"#B0BEC5\",\"#B0BEC5\",\"#B0BEC5\",\"#B0BEC5\",\"#B0BEC5\",\"#B0BEC5\",\"#B0BEC5\",\"#B0BEC5\",\"#B0BEC5\",\"#B0BEC5\",\"#B0BEC5\",\"#B0BEC5\",\"#B0BEC5\",\"#B0BEC5\",\"#B0BEC5\",\"red\",\"#B0BEC5\",\"#B0BEC5\",\"#B0BEC5\",\"#B0BEC5\",\"#B0BEC5\",\"#B0BEC5\",\"#B0BEC5\",\"#B0BEC5\",\"#B0BEC5\",\"#B0BEC5\",\"#B0BEC5\",\"#B0BEC5\",\"#B0BEC5\",\"#B0BEC5\",\"#B0BEC5\",\"#B0BEC5\",\"#B0BEC5\",\"#B0BEC5\",\"#B0BEC5\",\"#B0BEC5\",\"#B0BEC5\",\"#B0BEC5\"]]}],\"label\":\"Topic 47\",\"method\":\"update\"},{\"args\":[{\"marker.color\":[[\"#B0BEC5\",\"#B0BEC5\",\"#B0BEC5\",\"#B0BEC5\",\"#B0BEC5\",\"#B0BEC5\",\"#B0BEC5\",\"#B0BEC5\",\"#B0BEC5\",\"#B0BEC5\",\"#B0BEC5\",\"#B0BEC5\",\"#B0BEC5\",\"#B0BEC5\",\"#B0BEC5\",\"#B0BEC5\",\"#B0BEC5\",\"#B0BEC5\",\"#B0BEC5\",\"#B0BEC5\",\"#B0BEC5\",\"#B0BEC5\",\"#B0BEC5\",\"#B0BEC5\",\"#B0BEC5\",\"#B0BEC5\",\"#B0BEC5\",\"#B0BEC5\",\"#B0BEC5\",\"#B0BEC5\",\"#B0BEC5\",\"#B0BEC5\",\"#B0BEC5\",\"#B0BEC5\",\"#B0BEC5\",\"#B0BEC5\",\"#B0BEC5\",\"#B0BEC5\",\"#B0BEC5\",\"#B0BEC5\",\"#B0BEC5\",\"#B0BEC5\",\"#B0BEC5\",\"#B0BEC5\",\"#B0BEC5\",\"#B0BEC5\",\"#B0BEC5\",\"#B0BEC5\",\"red\",\"#B0BEC5\",\"#B0BEC5\",\"#B0BEC5\",\"#B0BEC5\",\"#B0BEC5\",\"#B0BEC5\",\"#B0BEC5\",\"#B0BEC5\",\"#B0BEC5\",\"#B0BEC5\",\"#B0BEC5\",\"#B0BEC5\",\"#B0BEC5\",\"#B0BEC5\",\"#B0BEC5\",\"#B0BEC5\",\"#B0BEC5\",\"#B0BEC5\",\"#B0BEC5\",\"#B0BEC5\",\"#B0BEC5\"]]}],\"label\":\"Topic 48\",\"method\":\"update\"},{\"args\":[{\"marker.color\":[[\"#B0BEC5\",\"#B0BEC5\",\"#B0BEC5\",\"#B0BEC5\",\"#B0BEC5\",\"#B0BEC5\",\"#B0BEC5\",\"#B0BEC5\",\"#B0BEC5\",\"#B0BEC5\",\"#B0BEC5\",\"#B0BEC5\",\"#B0BEC5\",\"#B0BEC5\",\"#B0BEC5\",\"#B0BEC5\",\"#B0BEC5\",\"#B0BEC5\",\"#B0BEC5\",\"#B0BEC5\",\"#B0BEC5\",\"#B0BEC5\",\"#B0BEC5\",\"#B0BEC5\",\"#B0BEC5\",\"#B0BEC5\",\"#B0BEC5\",\"#B0BEC5\",\"#B0BEC5\",\"#B0BEC5\",\"#B0BEC5\",\"#B0BEC5\",\"#B0BEC5\",\"#B0BEC5\",\"#B0BEC5\",\"#B0BEC5\",\"#B0BEC5\",\"#B0BEC5\",\"#B0BEC5\",\"#B0BEC5\",\"#B0BEC5\",\"#B0BEC5\",\"#B0BEC5\",\"#B0BEC5\",\"#B0BEC5\",\"#B0BEC5\",\"#B0BEC5\",\"#B0BEC5\",\"#B0BEC5\",\"red\",\"#B0BEC5\",\"#B0BEC5\",\"#B0BEC5\",\"#B0BEC5\",\"#B0BEC5\",\"#B0BEC5\",\"#B0BEC5\",\"#B0BEC5\",\"#B0BEC5\",\"#B0BEC5\",\"#B0BEC5\",\"#B0BEC5\",\"#B0BEC5\",\"#B0BEC5\",\"#B0BEC5\",\"#B0BEC5\",\"#B0BEC5\",\"#B0BEC5\",\"#B0BEC5\",\"#B0BEC5\"]]}],\"label\":\"Topic 49\",\"method\":\"update\"},{\"args\":[{\"marker.color\":[[\"#B0BEC5\",\"#B0BEC5\",\"#B0BEC5\",\"#B0BEC5\",\"#B0BEC5\",\"#B0BEC5\",\"#B0BEC5\",\"#B0BEC5\",\"#B0BEC5\",\"#B0BEC5\",\"#B0BEC5\",\"#B0BEC5\",\"#B0BEC5\",\"#B0BEC5\",\"#B0BEC5\",\"#B0BEC5\",\"#B0BEC5\",\"#B0BEC5\",\"#B0BEC5\",\"#B0BEC5\",\"#B0BEC5\",\"#B0BEC5\",\"#B0BEC5\",\"#B0BEC5\",\"#B0BEC5\",\"#B0BEC5\",\"#B0BEC5\",\"#B0BEC5\",\"#B0BEC5\",\"#B0BEC5\",\"#B0BEC5\",\"#B0BEC5\",\"#B0BEC5\",\"#B0BEC5\",\"#B0BEC5\",\"#B0BEC5\",\"#B0BEC5\",\"#B0BEC5\",\"#B0BEC5\",\"#B0BEC5\",\"#B0BEC5\",\"#B0BEC5\",\"#B0BEC5\",\"#B0BEC5\",\"#B0BEC5\",\"#B0BEC5\",\"#B0BEC5\",\"#B0BEC5\",\"#B0BEC5\",\"#B0BEC5\",\"red\",\"#B0BEC5\",\"#B0BEC5\",\"#B0BEC5\",\"#B0BEC5\",\"#B0BEC5\",\"#B0BEC5\",\"#B0BEC5\",\"#B0BEC5\",\"#B0BEC5\",\"#B0BEC5\",\"#B0BEC5\",\"#B0BEC5\",\"#B0BEC5\",\"#B0BEC5\",\"#B0BEC5\",\"#B0BEC5\",\"#B0BEC5\",\"#B0BEC5\",\"#B0BEC5\"]]}],\"label\":\"Topic 50\",\"method\":\"update\"},{\"args\":[{\"marker.color\":[[\"#B0BEC5\",\"#B0BEC5\",\"#B0BEC5\",\"#B0BEC5\",\"#B0BEC5\",\"#B0BEC5\",\"#B0BEC5\",\"#B0BEC5\",\"#B0BEC5\",\"#B0BEC5\",\"#B0BEC5\",\"#B0BEC5\",\"#B0BEC5\",\"#B0BEC5\",\"#B0BEC5\",\"#B0BEC5\",\"#B0BEC5\",\"#B0BEC5\",\"#B0BEC5\",\"#B0BEC5\",\"#B0BEC5\",\"#B0BEC5\",\"#B0BEC5\",\"#B0BEC5\",\"#B0BEC5\",\"#B0BEC5\",\"#B0BEC5\",\"#B0BEC5\",\"#B0BEC5\",\"#B0BEC5\",\"#B0BEC5\",\"#B0BEC5\",\"#B0BEC5\",\"#B0BEC5\",\"#B0BEC5\",\"#B0BEC5\",\"#B0BEC5\",\"#B0BEC5\",\"#B0BEC5\",\"#B0BEC5\",\"#B0BEC5\",\"#B0BEC5\",\"#B0BEC5\",\"#B0BEC5\",\"#B0BEC5\",\"#B0BEC5\",\"#B0BEC5\",\"#B0BEC5\",\"#B0BEC5\",\"#B0BEC5\",\"#B0BEC5\",\"red\",\"#B0BEC5\",\"#B0BEC5\",\"#B0BEC5\",\"#B0BEC5\",\"#B0BEC5\",\"#B0BEC5\",\"#B0BEC5\",\"#B0BEC5\",\"#B0BEC5\",\"#B0BEC5\",\"#B0BEC5\",\"#B0BEC5\",\"#B0BEC5\",\"#B0BEC5\",\"#B0BEC5\",\"#B0BEC5\",\"#B0BEC5\",\"#B0BEC5\"]]}],\"label\":\"Topic 51\",\"method\":\"update\"},{\"args\":[{\"marker.color\":[[\"#B0BEC5\",\"#B0BEC5\",\"#B0BEC5\",\"#B0BEC5\",\"#B0BEC5\",\"#B0BEC5\",\"#B0BEC5\",\"#B0BEC5\",\"#B0BEC5\",\"#B0BEC5\",\"#B0BEC5\",\"#B0BEC5\",\"#B0BEC5\",\"#B0BEC5\",\"#B0BEC5\",\"#B0BEC5\",\"#B0BEC5\",\"#B0BEC5\",\"#B0BEC5\",\"#B0BEC5\",\"#B0BEC5\",\"#B0BEC5\",\"#B0BEC5\",\"#B0BEC5\",\"#B0BEC5\",\"#B0BEC5\",\"#B0BEC5\",\"#B0BEC5\",\"#B0BEC5\",\"#B0BEC5\",\"#B0BEC5\",\"#B0BEC5\",\"#B0BEC5\",\"#B0BEC5\",\"#B0BEC5\",\"#B0BEC5\",\"#B0BEC5\",\"#B0BEC5\",\"#B0BEC5\",\"#B0BEC5\",\"#B0BEC5\",\"#B0BEC5\",\"#B0BEC5\",\"#B0BEC5\",\"#B0BEC5\",\"#B0BEC5\",\"#B0BEC5\",\"#B0BEC5\",\"#B0BEC5\",\"#B0BEC5\",\"#B0BEC5\",\"#B0BEC5\",\"red\",\"#B0BEC5\",\"#B0BEC5\",\"#B0BEC5\",\"#B0BEC5\",\"#B0BEC5\",\"#B0BEC5\",\"#B0BEC5\",\"#B0BEC5\",\"#B0BEC5\",\"#B0BEC5\",\"#B0BEC5\",\"#B0BEC5\",\"#B0BEC5\",\"#B0BEC5\",\"#B0BEC5\",\"#B0BEC5\",\"#B0BEC5\"]]}],\"label\":\"Topic 52\",\"method\":\"update\"},{\"args\":[{\"marker.color\":[[\"#B0BEC5\",\"#B0BEC5\",\"#B0BEC5\",\"#B0BEC5\",\"#B0BEC5\",\"#B0BEC5\",\"#B0BEC5\",\"#B0BEC5\",\"#B0BEC5\",\"#B0BEC5\",\"#B0BEC5\",\"#B0BEC5\",\"#B0BEC5\",\"#B0BEC5\",\"#B0BEC5\",\"#B0BEC5\",\"#B0BEC5\",\"#B0BEC5\",\"#B0BEC5\",\"#B0BEC5\",\"#B0BEC5\",\"#B0BEC5\",\"#B0BEC5\",\"#B0BEC5\",\"#B0BEC5\",\"#B0BEC5\",\"#B0BEC5\",\"#B0BEC5\",\"#B0BEC5\",\"#B0BEC5\",\"#B0BEC5\",\"#B0BEC5\",\"#B0BEC5\",\"#B0BEC5\",\"#B0BEC5\",\"#B0BEC5\",\"#B0BEC5\",\"#B0BEC5\",\"#B0BEC5\",\"#B0BEC5\",\"#B0BEC5\",\"#B0BEC5\",\"#B0BEC5\",\"#B0BEC5\",\"#B0BEC5\",\"#B0BEC5\",\"#B0BEC5\",\"#B0BEC5\",\"#B0BEC5\",\"#B0BEC5\",\"#B0BEC5\",\"#B0BEC5\",\"#B0BEC5\",\"red\",\"#B0BEC5\",\"#B0BEC5\",\"#B0BEC5\",\"#B0BEC5\",\"#B0BEC5\",\"#B0BEC5\",\"#B0BEC5\",\"#B0BEC5\",\"#B0BEC5\",\"#B0BEC5\",\"#B0BEC5\",\"#B0BEC5\",\"#B0BEC5\",\"#B0BEC5\",\"#B0BEC5\",\"#B0BEC5\"]]}],\"label\":\"Topic 53\",\"method\":\"update\"},{\"args\":[{\"marker.color\":[[\"#B0BEC5\",\"#B0BEC5\",\"#B0BEC5\",\"#B0BEC5\",\"#B0BEC5\",\"#B0BEC5\",\"#B0BEC5\",\"#B0BEC5\",\"#B0BEC5\",\"#B0BEC5\",\"#B0BEC5\",\"#B0BEC5\",\"#B0BEC5\",\"#B0BEC5\",\"#B0BEC5\",\"#B0BEC5\",\"#B0BEC5\",\"#B0BEC5\",\"#B0BEC5\",\"#B0BEC5\",\"#B0BEC5\",\"#B0BEC5\",\"#B0BEC5\",\"#B0BEC5\",\"#B0BEC5\",\"#B0BEC5\",\"#B0BEC5\",\"#B0BEC5\",\"#B0BEC5\",\"#B0BEC5\",\"#B0BEC5\",\"#B0BEC5\",\"#B0BEC5\",\"#B0BEC5\",\"#B0BEC5\",\"#B0BEC5\",\"#B0BEC5\",\"#B0BEC5\",\"#B0BEC5\",\"#B0BEC5\",\"#B0BEC5\",\"#B0BEC5\",\"#B0BEC5\",\"#B0BEC5\",\"#B0BEC5\",\"#B0BEC5\",\"#B0BEC5\",\"#B0BEC5\",\"#B0BEC5\",\"#B0BEC5\",\"#B0BEC5\",\"#B0BEC5\",\"#B0BEC5\",\"#B0BEC5\",\"red\",\"#B0BEC5\",\"#B0BEC5\",\"#B0BEC5\",\"#B0BEC5\",\"#B0BEC5\",\"#B0BEC5\",\"#B0BEC5\",\"#B0BEC5\",\"#B0BEC5\",\"#B0BEC5\",\"#B0BEC5\",\"#B0BEC5\",\"#B0BEC5\",\"#B0BEC5\",\"#B0BEC5\"]]}],\"label\":\"Topic 54\",\"method\":\"update\"},{\"args\":[{\"marker.color\":[[\"#B0BEC5\",\"#B0BEC5\",\"#B0BEC5\",\"#B0BEC5\",\"#B0BEC5\",\"#B0BEC5\",\"#B0BEC5\",\"#B0BEC5\",\"#B0BEC5\",\"#B0BEC5\",\"#B0BEC5\",\"#B0BEC5\",\"#B0BEC5\",\"#B0BEC5\",\"#B0BEC5\",\"#B0BEC5\",\"#B0BEC5\",\"#B0BEC5\",\"#B0BEC5\",\"#B0BEC5\",\"#B0BEC5\",\"#B0BEC5\",\"#B0BEC5\",\"#B0BEC5\",\"#B0BEC5\",\"#B0BEC5\",\"#B0BEC5\",\"#B0BEC5\",\"#B0BEC5\",\"#B0BEC5\",\"#B0BEC5\",\"#B0BEC5\",\"#B0BEC5\",\"#B0BEC5\",\"#B0BEC5\",\"#B0BEC5\",\"#B0BEC5\",\"#B0BEC5\",\"#B0BEC5\",\"#B0BEC5\",\"#B0BEC5\",\"#B0BEC5\",\"#B0BEC5\",\"#B0BEC5\",\"#B0BEC5\",\"#B0BEC5\",\"#B0BEC5\",\"#B0BEC5\",\"#B0BEC5\",\"#B0BEC5\",\"#B0BEC5\",\"#B0BEC5\",\"#B0BEC5\",\"#B0BEC5\",\"#B0BEC5\",\"red\",\"#B0BEC5\",\"#B0BEC5\",\"#B0BEC5\",\"#B0BEC5\",\"#B0BEC5\",\"#B0BEC5\",\"#B0BEC5\",\"#B0BEC5\",\"#B0BEC5\",\"#B0BEC5\",\"#B0BEC5\",\"#B0BEC5\",\"#B0BEC5\",\"#B0BEC5\"]]}],\"label\":\"Topic 55\",\"method\":\"update\"},{\"args\":[{\"marker.color\":[[\"#B0BEC5\",\"#B0BEC5\",\"#B0BEC5\",\"#B0BEC5\",\"#B0BEC5\",\"#B0BEC5\",\"#B0BEC5\",\"#B0BEC5\",\"#B0BEC5\",\"#B0BEC5\",\"#B0BEC5\",\"#B0BEC5\",\"#B0BEC5\",\"#B0BEC5\",\"#B0BEC5\",\"#B0BEC5\",\"#B0BEC5\",\"#B0BEC5\",\"#B0BEC5\",\"#B0BEC5\",\"#B0BEC5\",\"#B0BEC5\",\"#B0BEC5\",\"#B0BEC5\",\"#B0BEC5\",\"#B0BEC5\",\"#B0BEC5\",\"#B0BEC5\",\"#B0BEC5\",\"#B0BEC5\",\"#B0BEC5\",\"#B0BEC5\",\"#B0BEC5\",\"#B0BEC5\",\"#B0BEC5\",\"#B0BEC5\",\"#B0BEC5\",\"#B0BEC5\",\"#B0BEC5\",\"#B0BEC5\",\"#B0BEC5\",\"#B0BEC5\",\"#B0BEC5\",\"#B0BEC5\",\"#B0BEC5\",\"#B0BEC5\",\"#B0BEC5\",\"#B0BEC5\",\"#B0BEC5\",\"#B0BEC5\",\"#B0BEC5\",\"#B0BEC5\",\"#B0BEC5\",\"#B0BEC5\",\"#B0BEC5\",\"#B0BEC5\",\"red\",\"#B0BEC5\",\"#B0BEC5\",\"#B0BEC5\",\"#B0BEC5\",\"#B0BEC5\",\"#B0BEC5\",\"#B0BEC5\",\"#B0BEC5\",\"#B0BEC5\",\"#B0BEC5\",\"#B0BEC5\",\"#B0BEC5\",\"#B0BEC5\"]]}],\"label\":\"Topic 56\",\"method\":\"update\"},{\"args\":[{\"marker.color\":[[\"#B0BEC5\",\"#B0BEC5\",\"#B0BEC5\",\"#B0BEC5\",\"#B0BEC5\",\"#B0BEC5\",\"#B0BEC5\",\"#B0BEC5\",\"#B0BEC5\",\"#B0BEC5\",\"#B0BEC5\",\"#B0BEC5\",\"#B0BEC5\",\"#B0BEC5\",\"#B0BEC5\",\"#B0BEC5\",\"#B0BEC5\",\"#B0BEC5\",\"#B0BEC5\",\"#B0BEC5\",\"#B0BEC5\",\"#B0BEC5\",\"#B0BEC5\",\"#B0BEC5\",\"#B0BEC5\",\"#B0BEC5\",\"#B0BEC5\",\"#B0BEC5\",\"#B0BEC5\",\"#B0BEC5\",\"#B0BEC5\",\"#B0BEC5\",\"#B0BEC5\",\"#B0BEC5\",\"#B0BEC5\",\"#B0BEC5\",\"#B0BEC5\",\"#B0BEC5\",\"#B0BEC5\",\"#B0BEC5\",\"#B0BEC5\",\"#B0BEC5\",\"#B0BEC5\",\"#B0BEC5\",\"#B0BEC5\",\"#B0BEC5\",\"#B0BEC5\",\"#B0BEC5\",\"#B0BEC5\",\"#B0BEC5\",\"#B0BEC5\",\"#B0BEC5\",\"#B0BEC5\",\"#B0BEC5\",\"#B0BEC5\",\"#B0BEC5\",\"#B0BEC5\",\"red\",\"#B0BEC5\",\"#B0BEC5\",\"#B0BEC5\",\"#B0BEC5\",\"#B0BEC5\",\"#B0BEC5\",\"#B0BEC5\",\"#B0BEC5\",\"#B0BEC5\",\"#B0BEC5\",\"#B0BEC5\",\"#B0BEC5\"]]}],\"label\":\"Topic 57\",\"method\":\"update\"},{\"args\":[{\"marker.color\":[[\"#B0BEC5\",\"#B0BEC5\",\"#B0BEC5\",\"#B0BEC5\",\"#B0BEC5\",\"#B0BEC5\",\"#B0BEC5\",\"#B0BEC5\",\"#B0BEC5\",\"#B0BEC5\",\"#B0BEC5\",\"#B0BEC5\",\"#B0BEC5\",\"#B0BEC5\",\"#B0BEC5\",\"#B0BEC5\",\"#B0BEC5\",\"#B0BEC5\",\"#B0BEC5\",\"#B0BEC5\",\"#B0BEC5\",\"#B0BEC5\",\"#B0BEC5\",\"#B0BEC5\",\"#B0BEC5\",\"#B0BEC5\",\"#B0BEC5\",\"#B0BEC5\",\"#B0BEC5\",\"#B0BEC5\",\"#B0BEC5\",\"#B0BEC5\",\"#B0BEC5\",\"#B0BEC5\",\"#B0BEC5\",\"#B0BEC5\",\"#B0BEC5\",\"#B0BEC5\",\"#B0BEC5\",\"#B0BEC5\",\"#B0BEC5\",\"#B0BEC5\",\"#B0BEC5\",\"#B0BEC5\",\"#B0BEC5\",\"#B0BEC5\",\"#B0BEC5\",\"#B0BEC5\",\"#B0BEC5\",\"#B0BEC5\",\"#B0BEC5\",\"#B0BEC5\",\"#B0BEC5\",\"#B0BEC5\",\"#B0BEC5\",\"#B0BEC5\",\"#B0BEC5\",\"#B0BEC5\",\"red\",\"#B0BEC5\",\"#B0BEC5\",\"#B0BEC5\",\"#B0BEC5\",\"#B0BEC5\",\"#B0BEC5\",\"#B0BEC5\",\"#B0BEC5\",\"#B0BEC5\",\"#B0BEC5\",\"#B0BEC5\"]]}],\"label\":\"Topic 58\",\"method\":\"update\"},{\"args\":[{\"marker.color\":[[\"#B0BEC5\",\"#B0BEC5\",\"#B0BEC5\",\"#B0BEC5\",\"#B0BEC5\",\"#B0BEC5\",\"#B0BEC5\",\"#B0BEC5\",\"#B0BEC5\",\"#B0BEC5\",\"#B0BEC5\",\"#B0BEC5\",\"#B0BEC5\",\"#B0BEC5\",\"#B0BEC5\",\"#B0BEC5\",\"#B0BEC5\",\"#B0BEC5\",\"#B0BEC5\",\"#B0BEC5\",\"#B0BEC5\",\"#B0BEC5\",\"#B0BEC5\",\"#B0BEC5\",\"#B0BEC5\",\"#B0BEC5\",\"#B0BEC5\",\"#B0BEC5\",\"#B0BEC5\",\"#B0BEC5\",\"#B0BEC5\",\"#B0BEC5\",\"#B0BEC5\",\"#B0BEC5\",\"#B0BEC5\",\"#B0BEC5\",\"#B0BEC5\",\"#B0BEC5\",\"#B0BEC5\",\"#B0BEC5\",\"#B0BEC5\",\"#B0BEC5\",\"#B0BEC5\",\"#B0BEC5\",\"#B0BEC5\",\"#B0BEC5\",\"#B0BEC5\",\"#B0BEC5\",\"#B0BEC5\",\"#B0BEC5\",\"#B0BEC5\",\"#B0BEC5\",\"#B0BEC5\",\"#B0BEC5\",\"#B0BEC5\",\"#B0BEC5\",\"#B0BEC5\",\"#B0BEC5\",\"#B0BEC5\",\"red\",\"#B0BEC5\",\"#B0BEC5\",\"#B0BEC5\",\"#B0BEC5\",\"#B0BEC5\",\"#B0BEC5\",\"#B0BEC5\",\"#B0BEC5\",\"#B0BEC5\",\"#B0BEC5\"]]}],\"label\":\"Topic 59\",\"method\":\"update\"},{\"args\":[{\"marker.color\":[[\"#B0BEC5\",\"#B0BEC5\",\"#B0BEC5\",\"#B0BEC5\",\"#B0BEC5\",\"#B0BEC5\",\"#B0BEC5\",\"#B0BEC5\",\"#B0BEC5\",\"#B0BEC5\",\"#B0BEC5\",\"#B0BEC5\",\"#B0BEC5\",\"#B0BEC5\",\"#B0BEC5\",\"#B0BEC5\",\"#B0BEC5\",\"#B0BEC5\",\"#B0BEC5\",\"#B0BEC5\",\"#B0BEC5\",\"#B0BEC5\",\"#B0BEC5\",\"#B0BEC5\",\"#B0BEC5\",\"#B0BEC5\",\"#B0BEC5\",\"#B0BEC5\",\"#B0BEC5\",\"#B0BEC5\",\"#B0BEC5\",\"#B0BEC5\",\"#B0BEC5\",\"#B0BEC5\",\"#B0BEC5\",\"#B0BEC5\",\"#B0BEC5\",\"#B0BEC5\",\"#B0BEC5\",\"#B0BEC5\",\"#B0BEC5\",\"#B0BEC5\",\"#B0BEC5\",\"#B0BEC5\",\"#B0BEC5\",\"#B0BEC5\",\"#B0BEC5\",\"#B0BEC5\",\"#B0BEC5\",\"#B0BEC5\",\"#B0BEC5\",\"#B0BEC5\",\"#B0BEC5\",\"#B0BEC5\",\"#B0BEC5\",\"#B0BEC5\",\"#B0BEC5\",\"#B0BEC5\",\"#B0BEC5\",\"#B0BEC5\",\"red\",\"#B0BEC5\",\"#B0BEC5\",\"#B0BEC5\",\"#B0BEC5\",\"#B0BEC5\",\"#B0BEC5\",\"#B0BEC5\",\"#B0BEC5\",\"#B0BEC5\"]]}],\"label\":\"Topic 60\",\"method\":\"update\"},{\"args\":[{\"marker.color\":[[\"#B0BEC5\",\"#B0BEC5\",\"#B0BEC5\",\"#B0BEC5\",\"#B0BEC5\",\"#B0BEC5\",\"#B0BEC5\",\"#B0BEC5\",\"#B0BEC5\",\"#B0BEC5\",\"#B0BEC5\",\"#B0BEC5\",\"#B0BEC5\",\"#B0BEC5\",\"#B0BEC5\",\"#B0BEC5\",\"#B0BEC5\",\"#B0BEC5\",\"#B0BEC5\",\"#B0BEC5\",\"#B0BEC5\",\"#B0BEC5\",\"#B0BEC5\",\"#B0BEC5\",\"#B0BEC5\",\"#B0BEC5\",\"#B0BEC5\",\"#B0BEC5\",\"#B0BEC5\",\"#B0BEC5\",\"#B0BEC5\",\"#B0BEC5\",\"#B0BEC5\",\"#B0BEC5\",\"#B0BEC5\",\"#B0BEC5\",\"#B0BEC5\",\"#B0BEC5\",\"#B0BEC5\",\"#B0BEC5\",\"#B0BEC5\",\"#B0BEC5\",\"#B0BEC5\",\"#B0BEC5\",\"#B0BEC5\",\"#B0BEC5\",\"#B0BEC5\",\"#B0BEC5\",\"#B0BEC5\",\"#B0BEC5\",\"#B0BEC5\",\"#B0BEC5\",\"#B0BEC5\",\"#B0BEC5\",\"#B0BEC5\",\"#B0BEC5\",\"#B0BEC5\",\"#B0BEC5\",\"#B0BEC5\",\"#B0BEC5\",\"#B0BEC5\",\"red\",\"#B0BEC5\",\"#B0BEC5\",\"#B0BEC5\",\"#B0BEC5\",\"#B0BEC5\",\"#B0BEC5\",\"#B0BEC5\",\"#B0BEC5\"]]}],\"label\":\"Topic 61\",\"method\":\"update\"},{\"args\":[{\"marker.color\":[[\"#B0BEC5\",\"#B0BEC5\",\"#B0BEC5\",\"#B0BEC5\",\"#B0BEC5\",\"#B0BEC5\",\"#B0BEC5\",\"#B0BEC5\",\"#B0BEC5\",\"#B0BEC5\",\"#B0BEC5\",\"#B0BEC5\",\"#B0BEC5\",\"#B0BEC5\",\"#B0BEC5\",\"#B0BEC5\",\"#B0BEC5\",\"#B0BEC5\",\"#B0BEC5\",\"#B0BEC5\",\"#B0BEC5\",\"#B0BEC5\",\"#B0BEC5\",\"#B0BEC5\",\"#B0BEC5\",\"#B0BEC5\",\"#B0BEC5\",\"#B0BEC5\",\"#B0BEC5\",\"#B0BEC5\",\"#B0BEC5\",\"#B0BEC5\",\"#B0BEC5\",\"#B0BEC5\",\"#B0BEC5\",\"#B0BEC5\",\"#B0BEC5\",\"#B0BEC5\",\"#B0BEC5\",\"#B0BEC5\",\"#B0BEC5\",\"#B0BEC5\",\"#B0BEC5\",\"#B0BEC5\",\"#B0BEC5\",\"#B0BEC5\",\"#B0BEC5\",\"#B0BEC5\",\"#B0BEC5\",\"#B0BEC5\",\"#B0BEC5\",\"#B0BEC5\",\"#B0BEC5\",\"#B0BEC5\",\"#B0BEC5\",\"#B0BEC5\",\"#B0BEC5\",\"#B0BEC5\",\"#B0BEC5\",\"#B0BEC5\",\"#B0BEC5\",\"#B0BEC5\",\"red\",\"#B0BEC5\",\"#B0BEC5\",\"#B0BEC5\",\"#B0BEC5\",\"#B0BEC5\",\"#B0BEC5\",\"#B0BEC5\"]]}],\"label\":\"Topic 62\",\"method\":\"update\"},{\"args\":[{\"marker.color\":[[\"#B0BEC5\",\"#B0BEC5\",\"#B0BEC5\",\"#B0BEC5\",\"#B0BEC5\",\"#B0BEC5\",\"#B0BEC5\",\"#B0BEC5\",\"#B0BEC5\",\"#B0BEC5\",\"#B0BEC5\",\"#B0BEC5\",\"#B0BEC5\",\"#B0BEC5\",\"#B0BEC5\",\"#B0BEC5\",\"#B0BEC5\",\"#B0BEC5\",\"#B0BEC5\",\"#B0BEC5\",\"#B0BEC5\",\"#B0BEC5\",\"#B0BEC5\",\"#B0BEC5\",\"#B0BEC5\",\"#B0BEC5\",\"#B0BEC5\",\"#B0BEC5\",\"#B0BEC5\",\"#B0BEC5\",\"#B0BEC5\",\"#B0BEC5\",\"#B0BEC5\",\"#B0BEC5\",\"#B0BEC5\",\"#B0BEC5\",\"#B0BEC5\",\"#B0BEC5\",\"#B0BEC5\",\"#B0BEC5\",\"#B0BEC5\",\"#B0BEC5\",\"#B0BEC5\",\"#B0BEC5\",\"#B0BEC5\",\"#B0BEC5\",\"#B0BEC5\",\"#B0BEC5\",\"#B0BEC5\",\"#B0BEC5\",\"#B0BEC5\",\"#B0BEC5\",\"#B0BEC5\",\"#B0BEC5\",\"#B0BEC5\",\"#B0BEC5\",\"#B0BEC5\",\"#B0BEC5\",\"#B0BEC5\",\"#B0BEC5\",\"#B0BEC5\",\"#B0BEC5\",\"#B0BEC5\",\"red\",\"#B0BEC5\",\"#B0BEC5\",\"#B0BEC5\",\"#B0BEC5\",\"#B0BEC5\",\"#B0BEC5\"]]}],\"label\":\"Topic 63\",\"method\":\"update\"},{\"args\":[{\"marker.color\":[[\"#B0BEC5\",\"#B0BEC5\",\"#B0BEC5\",\"#B0BEC5\",\"#B0BEC5\",\"#B0BEC5\",\"#B0BEC5\",\"#B0BEC5\",\"#B0BEC5\",\"#B0BEC5\",\"#B0BEC5\",\"#B0BEC5\",\"#B0BEC5\",\"#B0BEC5\",\"#B0BEC5\",\"#B0BEC5\",\"#B0BEC5\",\"#B0BEC5\",\"#B0BEC5\",\"#B0BEC5\",\"#B0BEC5\",\"#B0BEC5\",\"#B0BEC5\",\"#B0BEC5\",\"#B0BEC5\",\"#B0BEC5\",\"#B0BEC5\",\"#B0BEC5\",\"#B0BEC5\",\"#B0BEC5\",\"#B0BEC5\",\"#B0BEC5\",\"#B0BEC5\",\"#B0BEC5\",\"#B0BEC5\",\"#B0BEC5\",\"#B0BEC5\",\"#B0BEC5\",\"#B0BEC5\",\"#B0BEC5\",\"#B0BEC5\",\"#B0BEC5\",\"#B0BEC5\",\"#B0BEC5\",\"#B0BEC5\",\"#B0BEC5\",\"#B0BEC5\",\"#B0BEC5\",\"#B0BEC5\",\"#B0BEC5\",\"#B0BEC5\",\"#B0BEC5\",\"#B0BEC5\",\"#B0BEC5\",\"#B0BEC5\",\"#B0BEC5\",\"#B0BEC5\",\"#B0BEC5\",\"#B0BEC5\",\"#B0BEC5\",\"#B0BEC5\",\"#B0BEC5\",\"#B0BEC5\",\"#B0BEC5\",\"red\",\"#B0BEC5\",\"#B0BEC5\",\"#B0BEC5\",\"#B0BEC5\",\"#B0BEC5\"]]}],\"label\":\"Topic 64\",\"method\":\"update\"},{\"args\":[{\"marker.color\":[[\"#B0BEC5\",\"#B0BEC5\",\"#B0BEC5\",\"#B0BEC5\",\"#B0BEC5\",\"#B0BEC5\",\"#B0BEC5\",\"#B0BEC5\",\"#B0BEC5\",\"#B0BEC5\",\"#B0BEC5\",\"#B0BEC5\",\"#B0BEC5\",\"#B0BEC5\",\"#B0BEC5\",\"#B0BEC5\",\"#B0BEC5\",\"#B0BEC5\",\"#B0BEC5\",\"#B0BEC5\",\"#B0BEC5\",\"#B0BEC5\",\"#B0BEC5\",\"#B0BEC5\",\"#B0BEC5\",\"#B0BEC5\",\"#B0BEC5\",\"#B0BEC5\",\"#B0BEC5\",\"#B0BEC5\",\"#B0BEC5\",\"#B0BEC5\",\"#B0BEC5\",\"#B0BEC5\",\"#B0BEC5\",\"#B0BEC5\",\"#B0BEC5\",\"#B0BEC5\",\"#B0BEC5\",\"#B0BEC5\",\"#B0BEC5\",\"#B0BEC5\",\"#B0BEC5\",\"#B0BEC5\",\"#B0BEC5\",\"#B0BEC5\",\"#B0BEC5\",\"#B0BEC5\",\"#B0BEC5\",\"#B0BEC5\",\"#B0BEC5\",\"#B0BEC5\",\"#B0BEC5\",\"#B0BEC5\",\"#B0BEC5\",\"#B0BEC5\",\"#B0BEC5\",\"#B0BEC5\",\"#B0BEC5\",\"#B0BEC5\",\"#B0BEC5\",\"#B0BEC5\",\"#B0BEC5\",\"#B0BEC5\",\"#B0BEC5\",\"red\",\"#B0BEC5\",\"#B0BEC5\",\"#B0BEC5\",\"#B0BEC5\"]]}],\"label\":\"Topic 65\",\"method\":\"update\"},{\"args\":[{\"marker.color\":[[\"#B0BEC5\",\"#B0BEC5\",\"#B0BEC5\",\"#B0BEC5\",\"#B0BEC5\",\"#B0BEC5\",\"#B0BEC5\",\"#B0BEC5\",\"#B0BEC5\",\"#B0BEC5\",\"#B0BEC5\",\"#B0BEC5\",\"#B0BEC5\",\"#B0BEC5\",\"#B0BEC5\",\"#B0BEC5\",\"#B0BEC5\",\"#B0BEC5\",\"#B0BEC5\",\"#B0BEC5\",\"#B0BEC5\",\"#B0BEC5\",\"#B0BEC5\",\"#B0BEC5\",\"#B0BEC5\",\"#B0BEC5\",\"#B0BEC5\",\"#B0BEC5\",\"#B0BEC5\",\"#B0BEC5\",\"#B0BEC5\",\"#B0BEC5\",\"#B0BEC5\",\"#B0BEC5\",\"#B0BEC5\",\"#B0BEC5\",\"#B0BEC5\",\"#B0BEC5\",\"#B0BEC5\",\"#B0BEC5\",\"#B0BEC5\",\"#B0BEC5\",\"#B0BEC5\",\"#B0BEC5\",\"#B0BEC5\",\"#B0BEC5\",\"#B0BEC5\",\"#B0BEC5\",\"#B0BEC5\",\"#B0BEC5\",\"#B0BEC5\",\"#B0BEC5\",\"#B0BEC5\",\"#B0BEC5\",\"#B0BEC5\",\"#B0BEC5\",\"#B0BEC5\",\"#B0BEC5\",\"#B0BEC5\",\"#B0BEC5\",\"#B0BEC5\",\"#B0BEC5\",\"#B0BEC5\",\"#B0BEC5\",\"#B0BEC5\",\"#B0BEC5\",\"red\",\"#B0BEC5\",\"#B0BEC5\",\"#B0BEC5\"]]}],\"label\":\"Topic 66\",\"method\":\"update\"},{\"args\":[{\"marker.color\":[[\"#B0BEC5\",\"#B0BEC5\",\"#B0BEC5\",\"#B0BEC5\",\"#B0BEC5\",\"#B0BEC5\",\"#B0BEC5\",\"#B0BEC5\",\"#B0BEC5\",\"#B0BEC5\",\"#B0BEC5\",\"#B0BEC5\",\"#B0BEC5\",\"#B0BEC5\",\"#B0BEC5\",\"#B0BEC5\",\"#B0BEC5\",\"#B0BEC5\",\"#B0BEC5\",\"#B0BEC5\",\"#B0BEC5\",\"#B0BEC5\",\"#B0BEC5\",\"#B0BEC5\",\"#B0BEC5\",\"#B0BEC5\",\"#B0BEC5\",\"#B0BEC5\",\"#B0BEC5\",\"#B0BEC5\",\"#B0BEC5\",\"#B0BEC5\",\"#B0BEC5\",\"#B0BEC5\",\"#B0BEC5\",\"#B0BEC5\",\"#B0BEC5\",\"#B0BEC5\",\"#B0BEC5\",\"#B0BEC5\",\"#B0BEC5\",\"#B0BEC5\",\"#B0BEC5\",\"#B0BEC5\",\"#B0BEC5\",\"#B0BEC5\",\"#B0BEC5\",\"#B0BEC5\",\"#B0BEC5\",\"#B0BEC5\",\"#B0BEC5\",\"#B0BEC5\",\"#B0BEC5\",\"#B0BEC5\",\"#B0BEC5\",\"#B0BEC5\",\"#B0BEC5\",\"#B0BEC5\",\"#B0BEC5\",\"#B0BEC5\",\"#B0BEC5\",\"#B0BEC5\",\"#B0BEC5\",\"#B0BEC5\",\"#B0BEC5\",\"#B0BEC5\",\"#B0BEC5\",\"red\",\"#B0BEC5\",\"#B0BEC5\"]]}],\"label\":\"Topic 67\",\"method\":\"update\"},{\"args\":[{\"marker.color\":[[\"#B0BEC5\",\"#B0BEC5\",\"#B0BEC5\",\"#B0BEC5\",\"#B0BEC5\",\"#B0BEC5\",\"#B0BEC5\",\"#B0BEC5\",\"#B0BEC5\",\"#B0BEC5\",\"#B0BEC5\",\"#B0BEC5\",\"#B0BEC5\",\"#B0BEC5\",\"#B0BEC5\",\"#B0BEC5\",\"#B0BEC5\",\"#B0BEC5\",\"#B0BEC5\",\"#B0BEC5\",\"#B0BEC5\",\"#B0BEC5\",\"#B0BEC5\",\"#B0BEC5\",\"#B0BEC5\",\"#B0BEC5\",\"#B0BEC5\",\"#B0BEC5\",\"#B0BEC5\",\"#B0BEC5\",\"#B0BEC5\",\"#B0BEC5\",\"#B0BEC5\",\"#B0BEC5\",\"#B0BEC5\",\"#B0BEC5\",\"#B0BEC5\",\"#B0BEC5\",\"#B0BEC5\",\"#B0BEC5\",\"#B0BEC5\",\"#B0BEC5\",\"#B0BEC5\",\"#B0BEC5\",\"#B0BEC5\",\"#B0BEC5\",\"#B0BEC5\",\"#B0BEC5\",\"#B0BEC5\",\"#B0BEC5\",\"#B0BEC5\",\"#B0BEC5\",\"#B0BEC5\",\"#B0BEC5\",\"#B0BEC5\",\"#B0BEC5\",\"#B0BEC5\",\"#B0BEC5\",\"#B0BEC5\",\"#B0BEC5\",\"#B0BEC5\",\"#B0BEC5\",\"#B0BEC5\",\"#B0BEC5\",\"#B0BEC5\",\"#B0BEC5\",\"#B0BEC5\",\"#B0BEC5\",\"red\",\"#B0BEC5\"]]}],\"label\":\"Topic 68\",\"method\":\"update\"},{\"args\":[{\"marker.color\":[[\"#B0BEC5\",\"#B0BEC5\",\"#B0BEC5\",\"#B0BEC5\",\"#B0BEC5\",\"#B0BEC5\",\"#B0BEC5\",\"#B0BEC5\",\"#B0BEC5\",\"#B0BEC5\",\"#B0BEC5\",\"#B0BEC5\",\"#B0BEC5\",\"#B0BEC5\",\"#B0BEC5\",\"#B0BEC5\",\"#B0BEC5\",\"#B0BEC5\",\"#B0BEC5\",\"#B0BEC5\",\"#B0BEC5\",\"#B0BEC5\",\"#B0BEC5\",\"#B0BEC5\",\"#B0BEC5\",\"#B0BEC5\",\"#B0BEC5\",\"#B0BEC5\",\"#B0BEC5\",\"#B0BEC5\",\"#B0BEC5\",\"#B0BEC5\",\"#B0BEC5\",\"#B0BEC5\",\"#B0BEC5\",\"#B0BEC5\",\"#B0BEC5\",\"#B0BEC5\",\"#B0BEC5\",\"#B0BEC5\",\"#B0BEC5\",\"#B0BEC5\",\"#B0BEC5\",\"#B0BEC5\",\"#B0BEC5\",\"#B0BEC5\",\"#B0BEC5\",\"#B0BEC5\",\"#B0BEC5\",\"#B0BEC5\",\"#B0BEC5\",\"#B0BEC5\",\"#B0BEC5\",\"#B0BEC5\",\"#B0BEC5\",\"#B0BEC5\",\"#B0BEC5\",\"#B0BEC5\",\"#B0BEC5\",\"#B0BEC5\",\"#B0BEC5\",\"#B0BEC5\",\"#B0BEC5\",\"#B0BEC5\",\"#B0BEC5\",\"#B0BEC5\",\"#B0BEC5\",\"#B0BEC5\",\"#B0BEC5\",\"red\"]]}],\"label\":\"Topic 69\",\"method\":\"update\"}]}],\"shapes\":[{\"line\":{\"color\":\"#CFD8DC\",\"width\":2},\"type\":\"line\",\"x0\":8.82449984550476,\"x1\":8.82449984550476,\"y0\":-7.148870587348938,\"y1\":20.182889556884767},{\"line\":{\"color\":\"#9E9E9E\",\"width\":2},\"type\":\"line\",\"x0\":-8.061838054656983,\"x1\":25.710837745666502,\"y0\":6.5170094847679145,\"y1\":6.5170094847679145}],\"annotations\":[{\"showarrow\":false,\"text\":\"D1\",\"x\":-8.061838054656983,\"y\":6.5170094847679145,\"yshift\":10},{\"showarrow\":false,\"text\":\"D2\",\"x\":8.82449984550476,\"xshift\":10,\"y\":20.182889556884767}]},                        {\"responsive\": true}                    ).then(function(){\n",
              "                            \n",
              "var gd = document.getElementById('1626e9bb-0f67-4668-9619-babf26511624');\n",
              "var x = new MutationObserver(function (mutations, observer) {{\n",
              "        var display = window.getComputedStyle(gd).display;\n",
              "        if (!display || display === 'none') {{\n",
              "            console.log([gd, 'removed!']);\n",
              "            Plotly.purge(gd);\n",
              "            observer.disconnect();\n",
              "        }}\n",
              "}});\n",
              "\n",
              "// Listen for the removal of the full notebook cells\n",
              "var notebookContainer = gd.closest('#notebook-container');\n",
              "if (notebookContainer) {{\n",
              "    x.observe(notebookContainer, {childList: true});\n",
              "}}\n",
              "\n",
              "// Listen for the clearing of the current output cell\n",
              "var outputEl = gd.closest('.output');\n",
              "if (outputEl) {{\n",
              "    x.observe(outputEl, {childList: true});\n",
              "}}\n",
              "\n",
              "                        })                };                            </script>        </div>\n",
              "</body>\n",
              "</html>"
            ]
          },
          "metadata": {}
        }
      ]
    },
    {
      "cell_type": "markdown",
      "metadata": {
        "id": "ITB7bf6q8nWQ"
      },
      "source": [
        "## Visualize Topic Probabilities\n",
        "\n",
        "The variable `probabilities` that is returned from `transform()` or `fit_transform()` can \n",
        "be used to understand how confident BERTopic is that certain topics can be found in a document. \n",
        "\n",
        "To visualize the distributions, we simply call:"
      ]
    },
    {
      "cell_type": "code",
      "metadata": {
        "colab": {
          "base_uri": "https://localhost:8080/",
          "height": 311
        },
        "id": "ypfI1-KHdmcX",
        "outputId": "7d9828ba-f817-45f1-c5bc-11016d95da58"
      },
      "source": [
        "topic_model.visualize_distribution(probs[200], min_probability=0.005)"
      ],
      "execution_count": null,
      "outputs": [
        {
          "output_type": "error",
          "ename": "ValueError",
          "evalue": "ignored",
          "traceback": [
            "\u001b[0;31m---------------------------------------------------------------------------\u001b[0m",
            "\u001b[0;31mValueError\u001b[0m                                Traceback (most recent call last)",
            "\u001b[0;32m<ipython-input-12-474b0ea9ec98>\u001b[0m in \u001b[0;36m<module>\u001b[0;34m\u001b[0m\n\u001b[0;32m----> 1\u001b[0;31m \u001b[0mtopic_model\u001b[0m\u001b[0;34m.\u001b[0m\u001b[0mvisualize_distribution\u001b[0m\u001b[0;34m(\u001b[0m\u001b[0mprobs\u001b[0m\u001b[0;34m[\u001b[0m\u001b[0;36m200\u001b[0m\u001b[0;34m]\u001b[0m\u001b[0;34m,\u001b[0m \u001b[0mmin_probability\u001b[0m\u001b[0;34m=\u001b[0m\u001b[0;36m0.005\u001b[0m\u001b[0;34m)\u001b[0m\u001b[0;34m\u001b[0m\u001b[0;34m\u001b[0m\u001b[0m\n\u001b[0m",
            "\u001b[0;32m/usr/local/lib/python3.7/dist-packages/bertopic/_bertopic.py\u001b[0m in \u001b[0;36mvisualize_distribution\u001b[0;34m(self, probabilities, min_probability, custom_labels, width, height)\u001b[0m\n\u001b[1;32m   1736\u001b[0m                                                \u001b[0mcustom_labels\u001b[0m\u001b[0;34m=\u001b[0m\u001b[0mcustom_labels\u001b[0m\u001b[0;34m,\u001b[0m\u001b[0;34m\u001b[0m\u001b[0;34m\u001b[0m\u001b[0m\n\u001b[1;32m   1737\u001b[0m                                                \u001b[0mwidth\u001b[0m\u001b[0;34m=\u001b[0m\u001b[0mwidth\u001b[0m\u001b[0;34m,\u001b[0m\u001b[0;34m\u001b[0m\u001b[0;34m\u001b[0m\u001b[0m\n\u001b[0;32m-> 1738\u001b[0;31m                                                height=height)\n\u001b[0m\u001b[1;32m   1739\u001b[0m \u001b[0;34m\u001b[0m\u001b[0m\n\u001b[1;32m   1740\u001b[0m     def visualize_hierarchy(self,\n",
            "\u001b[0;32m/usr/local/lib/python3.7/dist-packages/bertopic/plotting/_distribution.py\u001b[0m in \u001b[0;36mvisualize_distribution\u001b[0;34m(topic_model, probabilities, min_probability, custom_labels, width, height)\u001b[0m\n\u001b[1;32m     40\u001b[0m     \"\"\"\n\u001b[1;32m     41\u001b[0m     \u001b[0;32mif\u001b[0m \u001b[0mlen\u001b[0m\u001b[0;34m(\u001b[0m\u001b[0mprobabilities\u001b[0m\u001b[0;34m.\u001b[0m\u001b[0mshape\u001b[0m\u001b[0;34m)\u001b[0m \u001b[0;34m!=\u001b[0m \u001b[0;36m1\u001b[0m\u001b[0;34m:\u001b[0m\u001b[0;34m\u001b[0m\u001b[0;34m\u001b[0m\u001b[0m\n\u001b[0;32m---> 42\u001b[0;31m         raise ValueError(\"This visualization cannot be used if you have set `calculate_probabilities` to False \"\n\u001b[0m\u001b[1;32m     43\u001b[0m                          \"as it uses the topic probabilities of all topics. \")\n\u001b[1;32m     44\u001b[0m     \u001b[0;32mif\u001b[0m \u001b[0mlen\u001b[0m\u001b[0;34m(\u001b[0m\u001b[0mprobabilities\u001b[0m\u001b[0;34m[\u001b[0m\u001b[0mprobabilities\u001b[0m \u001b[0;34m>\u001b[0m \u001b[0mmin_probability\u001b[0m\u001b[0;34m]\u001b[0m\u001b[0;34m)\u001b[0m \u001b[0;34m==\u001b[0m \u001b[0;36m0\u001b[0m\u001b[0;34m:\u001b[0m\u001b[0;34m\u001b[0m\u001b[0;34m\u001b[0m\u001b[0m\n",
            "\u001b[0;31mValueError\u001b[0m: This visualization cannot be used if you have set `calculate_probabilities` to False as it uses the topic probabilities of all topics. "
          ]
        }
      ]
    },
    {
      "cell_type": "markdown",
      "metadata": {
        "id": "QHRTeSpl5JYB"
      },
      "source": [
        "## Visualize Topic Hierarchy\n",
        "\n",
        "The topics that were created can be hierarchically reduced. In order to understand the potential hierarchical structure of the topics, we can use scipy.cluster.hierarchy to create clusters and visualize how they relate to one another. This might help selecting an appropriate nr_topics when reducing the number of topics that you have created."
      ]
    },
    {
      "cell_type": "code",
      "metadata": {
        "colab": {
          "base_uri": "https://localhost:8080/",
          "height": 987
        },
        "id": "ltmLFRR56a4X",
        "outputId": "c176f774-70ac-4a9c-fd0f-c0da0ba8e9d8"
      },
      "source": [
        "topic_model.visualize_hierarchy(top_n_topics=50)"
      ],
      "execution_count": null,
      "outputs": [
        {
          "output_type": "display_data",
          "data": {
            "text/html": [
              "<html>\n",
              "<head><meta charset=\"utf-8\" /></head>\n",
              "<body>\n",
              "    <div>            <script src=\"https://cdnjs.cloudflare.com/ajax/libs/mathjax/2.7.5/MathJax.js?config=TeX-AMS-MML_SVG\"></script><script type=\"text/javascript\">if (window.MathJax) {MathJax.Hub.Config({SVG: {font: \"STIX-Web\"}});}</script>                <script type=\"text/javascript\">window.PlotlyConfig = {MathJaxConfig: 'local'};</script>\n",
              "        <script src=\"https://cdn.plot.ly/plotly-2.8.3.min.js\"></script>                <div id=\"6065bfa3-9e90-4b45-a06c-b4a83454c3de\" class=\"plotly-graph-div\" style=\"height:950px; width:1000px;\"></div>            <script type=\"text/javascript\">                                    window.PLOTLYENV=window.PLOTLYENV || {};                                    if (document.getElementById(\"6065bfa3-9e90-4b45-a06c-b4a83454c3de\")) {                    Plotly.newPlot(                        \"6065bfa3-9e90-4b45-a06c-b4a83454c3de\",                        [{\"hoverinfo\":\"text\",\"marker\":{\"color\":\"rgb(61,153,112)\"},\"mode\":\"lines\",\"x\":[0.0,0.959546877175974,0.959546877175974,0.0],\"xaxis\":\"x\",\"y\":[-5.0,-5.0,-15.0,-15.0],\"yaxis\":\"y\",\"type\":\"scatter\"},{\"hoverinfo\":\"text\",\"marker\":{\"color\":\"rgb(255,65,54)\"},\"mode\":\"lines\",\"x\":[0.0,0.623053353427469,0.623053353427469,0.0],\"xaxis\":\"x\",\"y\":[-35.0,-35.0,-45.0,-45.0],\"yaxis\":\"y\",\"type\":\"scatter\"},{\"hoverinfo\":\"text\",\"marker\":{\"color\":\"rgb(255,65,54)\"},\"mode\":\"lines\",\"x\":[0.0,0.6485407597536714,0.6485407597536714,0.623053353427469],\"xaxis\":\"x\",\"y\":[-25.0,-25.0,-40.0,-40.0],\"yaxis\":\"y\",\"type\":\"scatter\"},{\"hoverinfo\":\"text\",\"marker\":{\"color\":\"rgb(255,65,54)\"},\"mode\":\"lines\",\"x\":[0.0,0.6789736107265503,0.6789736107265503,0.0],\"xaxis\":\"x\",\"y\":[-55.0,-55.0,-65.0,-65.0],\"yaxis\":\"y\",\"type\":\"scatter\"},{\"hoverinfo\":\"text\",\"marker\":{\"color\":\"rgb(255,65,54)\"},\"mode\":\"lines\",\"x\":[0.6485407597536714,0.828640790772905,0.828640790772905,0.6789736107265503],\"xaxis\":\"x\",\"y\":[-32.5,-32.5,-60.0,-60.0],\"yaxis\":\"y\",\"type\":\"scatter\"},{\"hoverinfo\":\"text\",\"marker\":{\"color\":\"rgb(35,205,205)\"},\"mode\":\"lines\",\"x\":[0.0,0.5779243737587441,0.5779243737587441,0.0],\"xaxis\":\"x\",\"y\":[-85.0,-85.0,-95.0,-95.0],\"yaxis\":\"y\",\"type\":\"scatter\"},{\"hoverinfo\":\"text\",\"marker\":{\"color\":\"rgb(35,205,205)\"},\"mode\":\"lines\",\"x\":[0.0,0.600493828604684,0.600493828604684,0.0],\"xaxis\":\"x\",\"y\":[-105.0,-105.0,-115.0,-115.0],\"yaxis\":\"y\",\"type\":\"scatter\"},{\"hoverinfo\":\"text\",\"marker\":{\"color\":\"rgb(35,205,205)\"},\"mode\":\"lines\",\"x\":[0.5779243737587441,0.6721916375268884,0.6721916375268884,0.600493828604684],\"xaxis\":\"x\",\"y\":[-90.0,-90.0,-110.0,-110.0],\"yaxis\":\"y\",\"type\":\"scatter\"},{\"hoverinfo\":\"text\",\"marker\":{\"color\":\"rgb(35,205,205)\"},\"mode\":\"lines\",\"x\":[0.0,0.7079551239287781,0.7079551239287781,0.6721916375268884],\"xaxis\":\"x\",\"y\":[-75.0,-75.0,-100.0,-100.0],\"yaxis\":\"y\",\"type\":\"scatter\"},{\"hoverinfo\":\"text\",\"marker\":{\"color\":\"rgb(35,205,205)\"},\"mode\":\"lines\",\"x\":[0.0,0.6256179421819531,0.6256179421819531,0.0],\"xaxis\":\"x\",\"y\":[-145.0,-145.0,-155.0,-155.0],\"yaxis\":\"y\",\"type\":\"scatter\"},{\"hoverinfo\":\"text\",\"marker\":{\"color\":\"rgb(35,205,205)\"},\"mode\":\"lines\",\"x\":[0.0,0.6924341166244543,0.6924341166244543,0.6256179421819531],\"xaxis\":\"x\",\"y\":[-135.0,-135.0,-150.0,-150.0],\"yaxis\":\"y\",\"type\":\"scatter\"},{\"hoverinfo\":\"text\",\"marker\":{\"color\":\"rgb(35,205,205)\"},\"mode\":\"lines\",\"x\":[0.0,0.876146551057509,0.876146551057509,0.6924341166244543],\"xaxis\":\"x\",\"y\":[-125.0,-125.0,-142.5,-142.5],\"yaxis\":\"y\",\"type\":\"scatter\"},{\"hoverinfo\":\"text\",\"marker\":{\"color\":\"rgb(35,205,205)\"},\"mode\":\"lines\",\"x\":[0.7079551239287781,0.9658289072984046,0.9658289072984046,0.876146551057509],\"xaxis\":\"x\",\"y\":[-87.5,-87.5,-133.75,-133.75],\"yaxis\":\"y\",\"type\":\"scatter\"},{\"hoverinfo\":\"text\",\"marker\":{\"color\":\"rgb(0,116,217)\"},\"mode\":\"lines\",\"x\":[0.828640790772905,1.1434334385246934,1.1434334385246934,0.9658289072984046],\"xaxis\":\"x\",\"y\":[-46.25,-46.25,-110.625,-110.625],\"yaxis\":\"y\",\"type\":\"scatter\"},{\"hoverinfo\":\"text\",\"marker\":{\"color\":\"rgb(0,116,217)\"},\"mode\":\"lines\",\"x\":[0.959546877175974,1.5251458509649365,1.5251458509649365,1.1434334385246934],\"xaxis\":\"x\",\"y\":[-10.0,-10.0,-78.4375,-78.4375],\"yaxis\":\"y\",\"type\":\"scatter\"},{\"hoverinfo\":\"text\",\"marker\":{\"color\":\"rgb(133,20,75)\"},\"mode\":\"lines\",\"x\":[0.0,0.2943050546216875,0.2943050546216875,0.0],\"xaxis\":\"x\",\"y\":[-165.0,-165.0,-175.0,-175.0],\"yaxis\":\"y\",\"type\":\"scatter\"},{\"hoverinfo\":\"text\",\"marker\":{\"color\":\"rgb(133,20,75)\"},\"mode\":\"lines\",\"x\":[0.0,0.32956228569819895,0.32956228569819895,0.0],\"xaxis\":\"x\",\"y\":[-185.0,-185.0,-195.0,-195.0],\"yaxis\":\"y\",\"type\":\"scatter\"},{\"hoverinfo\":\"text\",\"marker\":{\"color\":\"rgb(133,20,75)\"},\"mode\":\"lines\",\"x\":[0.2943050546216875,0.49659160229304283,0.49659160229304283,0.32956228569819895],\"xaxis\":\"x\",\"y\":[-170.0,-170.0,-190.0,-190.0],\"yaxis\":\"y\",\"type\":\"scatter\"},{\"hoverinfo\":\"text\",\"marker\":{\"color\":\"rgb(133,20,75)\"},\"mode\":\"lines\",\"x\":[0.0,0.25958590401938575,0.25958590401938575,0.0],\"xaxis\":\"x\",\"y\":[-205.0,-205.0,-215.0,-215.0],\"yaxis\":\"y\",\"type\":\"scatter\"},{\"hoverinfo\":\"text\",\"marker\":{\"color\":\"rgb(133,20,75)\"},\"mode\":\"lines\",\"x\":[0.0,0.24250122436470042,0.24250122436470042,0.0],\"xaxis\":\"x\",\"y\":[-225.0,-225.0,-235.0,-235.0],\"yaxis\":\"y\",\"type\":\"scatter\"},{\"hoverinfo\":\"text\",\"marker\":{\"color\":\"rgb(133,20,75)\"},\"mode\":\"lines\",\"x\":[0.0,0.2646890104754777,0.2646890104754777,0.0],\"xaxis\":\"x\",\"y\":[-255.0,-255.0,-265.0,-265.0],\"yaxis\":\"y\",\"type\":\"scatter\"},{\"hoverinfo\":\"text\",\"marker\":{\"color\":\"rgb(133,20,75)\"},\"mode\":\"lines\",\"x\":[0.0,0.35096768178489807,0.35096768178489807,0.2646890104754777],\"xaxis\":\"x\",\"y\":[-245.0,-245.0,-260.0,-260.0],\"yaxis\":\"y\",\"type\":\"scatter\"},{\"hoverinfo\":\"text\",\"marker\":{\"color\":\"rgb(133,20,75)\"},\"mode\":\"lines\",\"x\":[0.24250122436470042,0.5389493760046421,0.5389493760046421,0.35096768178489807],\"xaxis\":\"x\",\"y\":[-230.0,-230.0,-252.5,-252.5],\"yaxis\":\"y\",\"type\":\"scatter\"},{\"hoverinfo\":\"text\",\"marker\":{\"color\":\"rgb(133,20,75)\"},\"mode\":\"lines\",\"x\":[0.25958590401938575,0.5613178329229137,0.5613178329229137,0.5389493760046421],\"xaxis\":\"x\",\"y\":[-210.0,-210.0,-241.25,-241.25],\"yaxis\":\"y\",\"type\":\"scatter\"},{\"hoverinfo\":\"text\",\"marker\":{\"color\":\"rgb(133,20,75)\"},\"mode\":\"lines\",\"x\":[0.0,0.3924915382983149,0.3924915382983149,0.0],\"xaxis\":\"x\",\"y\":[-285.0,-285.0,-295.0,-295.0],\"yaxis\":\"y\",\"type\":\"scatter\"},{\"hoverinfo\":\"text\",\"marker\":{\"color\":\"rgb(133,20,75)\"},\"mode\":\"lines\",\"x\":[0.0,0.5648501373424109,0.5648501373424109,0.3924915382983149],\"xaxis\":\"x\",\"y\":[-275.0,-275.0,-290.0,-290.0],\"yaxis\":\"y\",\"type\":\"scatter\"},{\"hoverinfo\":\"text\",\"marker\":{\"color\":\"rgb(133,20,75)\"},\"mode\":\"lines\",\"x\":[0.5613178329229137,0.7085228007706945,0.7085228007706945,0.5648501373424109],\"xaxis\":\"x\",\"y\":[-225.625,-225.625,-282.5,-282.5],\"yaxis\":\"y\",\"type\":\"scatter\"},{\"hoverinfo\":\"text\",\"marker\":{\"color\":\"rgb(133,20,75)\"},\"mode\":\"lines\",\"x\":[0.49659160229304283,0.8155660713503545,0.8155660713503545,0.7085228007706945],\"xaxis\":\"x\",\"y\":[-180.0,-180.0,-254.0625,-254.0625],\"yaxis\":\"y\",\"type\":\"scatter\"},{\"hoverinfo\":\"text\",\"marker\":{\"color\":\"rgb(255,220,0)\"},\"mode\":\"lines\",\"x\":[0.0,0.3501333155511331,0.3501333155511331,0.0],\"xaxis\":\"x\",\"y\":[-315.0,-315.0,-325.0,-325.0],\"yaxis\":\"y\",\"type\":\"scatter\"},{\"hoverinfo\":\"text\",\"marker\":{\"color\":\"rgb(255,220,0)\"},\"mode\":\"lines\",\"x\":[0.0,0.40245414407267827,0.40245414407267827,0.3501333155511331],\"xaxis\":\"x\",\"y\":[-305.0,-305.0,-320.0,-320.0],\"yaxis\":\"y\",\"type\":\"scatter\"},{\"hoverinfo\":\"text\",\"marker\":{\"color\":\"rgb(255,220,0)\"},\"mode\":\"lines\",\"x\":[0.0,0.4799107692404574,0.4799107692404574,0.0],\"xaxis\":\"x\",\"y\":[-345.0,-345.0,-355.0,-355.0],\"yaxis\":\"y\",\"type\":\"scatter\"},{\"hoverinfo\":\"text\",\"marker\":{\"color\":\"rgb(255,220,0)\"},\"mode\":\"lines\",\"x\":[0.0,0.6089028162884562,0.6089028162884562,0.4799107692404574],\"xaxis\":\"x\",\"y\":[-335.0,-335.0,-350.0,-350.0],\"yaxis\":\"y\",\"type\":\"scatter\"},{\"hoverinfo\":\"text\",\"marker\":{\"color\":\"rgb(255,220,0)\"},\"mode\":\"lines\",\"x\":[0.40245414407267827,0.8651690769974019,0.8651690769974019,0.6089028162884562],\"xaxis\":\"x\",\"y\":[-312.5,-312.5,-342.5,-342.5],\"yaxis\":\"y\",\"type\":\"scatter\"},{\"hoverinfo\":\"text\",\"marker\":{\"color\":\"rgb(40,35,35)\"},\"mode\":\"lines\",\"x\":[0.0,0.39291792565776495,0.39291792565776495,0.0],\"xaxis\":\"x\",\"y\":[-375.0,-375.0,-385.0,-385.0],\"yaxis\":\"y\",\"type\":\"scatter\"},{\"hoverinfo\":\"text\",\"marker\":{\"color\":\"rgb(40,35,35)\"},\"mode\":\"lines\",\"x\":[0.0,0.4955823868279907,0.4955823868279907,0.0],\"xaxis\":\"x\",\"y\":[-395.0,-395.0,-405.0,-405.0],\"yaxis\":\"y\",\"type\":\"scatter\"},{\"hoverinfo\":\"text\",\"marker\":{\"color\":\"rgb(40,35,35)\"},\"mode\":\"lines\",\"x\":[0.39291792565776495,0.6062878898684231,0.6062878898684231,0.4955823868279907],\"xaxis\":\"x\",\"y\":[-380.0,-380.0,-400.0,-400.0],\"yaxis\":\"y\",\"type\":\"scatter\"},{\"hoverinfo\":\"text\",\"marker\":{\"color\":\"rgb(40,35,35)\"},\"mode\":\"lines\",\"x\":[0.0,0.7333596104948424,0.7333596104948424,0.6062878898684231],\"xaxis\":\"x\",\"y\":[-365.0,-365.0,-390.0,-390.0],\"yaxis\":\"y\",\"type\":\"scatter\"},{\"hoverinfo\":\"text\",\"marker\":{\"color\":\"rgb(61,153,112)\"},\"mode\":\"lines\",\"x\":[0.0,0.4429330602333441,0.4429330602333441,0.0],\"xaxis\":\"x\",\"y\":[-415.0,-415.0,-425.0,-425.0],\"yaxis\":\"y\",\"type\":\"scatter\"},{\"hoverinfo\":\"text\",\"marker\":{\"color\":\"rgb(61,153,112)\"},\"mode\":\"lines\",\"x\":[0.0,0.4871653245919516,0.4871653245919516,0.0],\"xaxis\":\"x\",\"y\":[-445.0,-445.0,-455.0,-455.0],\"yaxis\":\"y\",\"type\":\"scatter\"},{\"hoverinfo\":\"text\",\"marker\":{\"color\":\"rgb(61,153,112)\"},\"mode\":\"lines\",\"x\":[0.0,0.5303163827644924,0.5303163827644924,0.4871653245919516],\"xaxis\":\"x\",\"y\":[-435.0,-435.0,-450.0,-450.0],\"yaxis\":\"y\",\"type\":\"scatter\"},{\"hoverinfo\":\"text\",\"marker\":{\"color\":\"rgb(61,153,112)\"},\"mode\":\"lines\",\"x\":[0.4429330602333441,0.6074155367139877,0.6074155367139877,0.5303163827644924],\"xaxis\":\"x\",\"y\":[-420.0,-420.0,-442.5,-442.5],\"yaxis\":\"y\",\"type\":\"scatter\"},{\"hoverinfo\":\"text\",\"marker\":{\"color\":\"rgb(61,153,112)\"},\"mode\":\"lines\",\"x\":[0.0,0.49723154836370215,0.49723154836370215,0.0],\"xaxis\":\"x\",\"y\":[-465.0,-465.0,-475.0,-475.0],\"yaxis\":\"y\",\"type\":\"scatter\"},{\"hoverinfo\":\"text\",\"marker\":{\"color\":\"rgb(61,153,112)\"},\"mode\":\"lines\",\"x\":[0.0,0.5031825029101951,0.5031825029101951,0.0],\"xaxis\":\"x\",\"y\":[-485.0,-485.0,-495.0,-495.0],\"yaxis\":\"y\",\"type\":\"scatter\"},{\"hoverinfo\":\"text\",\"marker\":{\"color\":\"rgb(61,153,112)\"},\"mode\":\"lines\",\"x\":[0.49723154836370215,0.6393577031314305,0.6393577031314305,0.5031825029101951],\"xaxis\":\"x\",\"y\":[-470.0,-470.0,-490.0,-490.0],\"yaxis\":\"y\",\"type\":\"scatter\"},{\"hoverinfo\":\"text\",\"marker\":{\"color\":\"rgb(61,153,112)\"},\"mode\":\"lines\",\"x\":[0.6074155367139877,0.8678474390321202,0.8678474390321202,0.6393577031314305],\"xaxis\":\"x\",\"y\":[-431.25,-431.25,-480.0,-480.0],\"yaxis\":\"y\",\"type\":\"scatter\"},{\"hoverinfo\":\"text\",\"marker\":{\"color\":\"rgb(0,116,217)\"},\"mode\":\"lines\",\"x\":[0.7333596104948424,1.0888349940176145,1.0888349940176145,0.8678474390321202],\"xaxis\":\"x\",\"y\":[-377.5,-377.5,-455.625,-455.625],\"yaxis\":\"y\",\"type\":\"scatter\"},{\"hoverinfo\":\"text\",\"marker\":{\"color\":\"rgb(0,116,217)\"},\"mode\":\"lines\",\"x\":[0.8651690769974019,1.3958609419695704,1.3958609419695704,1.0888349940176145],\"xaxis\":\"x\",\"y\":[-327.5,-327.5,-416.5625,-416.5625],\"yaxis\":\"y\",\"type\":\"scatter\"},{\"hoverinfo\":\"text\",\"marker\":{\"color\":\"rgb(0,116,217)\"},\"mode\":\"lines\",\"x\":[0.8155660713503545,1.963449933723248,1.963449933723248,1.3958609419695704],\"xaxis\":\"x\",\"y\":[-217.03125,-217.03125,-372.03125,-372.03125],\"yaxis\":\"y\",\"type\":\"scatter\"},{\"hoverinfo\":\"text\",\"marker\":{\"color\":\"rgb(0,116,217)\"},\"mode\":\"lines\",\"x\":[1.5251458509649365,3.0464281356029437,3.0464281356029437,1.963449933723248],\"xaxis\":\"x\",\"y\":[-44.21875,-44.21875,-294.53125,-294.53125],\"yaxis\":\"y\",\"type\":\"scatter\"}],                        {\"autosize\":false,\"height\":950,\"hovermode\":\"closest\",\"showlegend\":false,\"width\":1000,\"xaxis\":{\"mirror\":\"allticks\",\"rangemode\":\"tozero\",\"showgrid\":false,\"showline\":true,\"showticklabels\":true,\"ticks\":\"outside\",\"type\":\"linear\",\"zeroline\":false},\"yaxis\":{\"mirror\":\"allticks\",\"rangemode\":\"tozero\",\"showgrid\":false,\"showline\":true,\"showticklabels\":true,\"tickmode\":\"array\",\"ticks\":\"outside\",\"ticktext\":[\"6_exactly_agree_yes\",\"16_tip_tips_tipping\",\"35_bitcoin_value_price\",\"4_rating_ratings_stars\",\"26_acceptance_rate_cancella...\",\"8_pool_pools_cancel\",\"32_df_dfs_destination\",\"20_ants_ant_smell\",\"34_directions_girl_spoon\",\"40_women_men_female\",\"30_bobby_twain_mark\",\"43_gods_monkey_believe\",\"10_algorithm_algorithms_pat...\",\"22_taxi_cab_cabbies\",\"5_order_restaurant_orders\",\"42_airport_pen_terminal\",\"17_live_area_family\",\"44_state_here_clue\",\"13_exit_minutes_car\",\"45_airport_area_uber\",\"9_algorithm_uber_you\",\"33_algorithm_tougher_the\",\"21_per_trip_you\",\"24_you_making_rides\",\"3_pax_the_driver\",\"2_uber_drivers_of\",\"12_drivers_people_that\",\"0_ping_pings_the\",\"1_lyft_and_to\",\"11_rides_ride_you\",\"23_surge_ping_pings\",\"7_surge_surges_fake\",\"19_surge_demand_surges\",\"46_insurance_collision_alls...\",\"28_fare_minimum_fares\",\"31_surge_pricing_uber\",\"14_day_weekend_saturday\",\"15_hour_day_earnings\",\"41_hours_week_gas\",\"36_65_85_dropped\",\"47_excuses_deserve_70\",\"18_smarter_being_try\",\"25_read_article_interesting\",\"29_homeless_his_he\",\"38_brad_best_sir\",\"48_preach_dreams_brother\",\"39_decline_requests_offline\",\"49_issue_issues_wifi\",\"27_apps_app_phones\",\"37_text_texts_members\"],\"tickvals\":[-5.0,-15.0,-25.0,-35.0,-45.0,-55.0,-65.0,-75.0,-85.0,-95.0,-105.0,-115.0,-125.0,-135.0,-145.0,-155.0,-165.0,-175.0,-185.0,-195.0,-205.0,-215.0,-225.0,-235.0,-245.0,-255.0,-265.0,-275.0,-285.0,-295.0,-305.0,-315.0,-325.0,-335.0,-345.0,-355.0,-365.0,-375.0,-385.0,-395.0,-405.0,-415.0,-425.0,-435.0,-445.0,-455.0,-465.0,-475.0,-485.0,-495.0],\"type\":\"linear\",\"zeroline\":false,\"range\":[-500.0,0.0]},\"template\":{\"data\":{\"barpolar\":[{\"marker\":{\"line\":{\"color\":\"white\",\"width\":0.5},\"pattern\":{\"fillmode\":\"overlay\",\"size\":10,\"solidity\":0.2}},\"type\":\"barpolar\"}],\"bar\":[{\"error_x\":{\"color\":\"#2a3f5f\"},\"error_y\":{\"color\":\"#2a3f5f\"},\"marker\":{\"line\":{\"color\":\"white\",\"width\":0.5},\"pattern\":{\"fillmode\":\"overlay\",\"size\":10,\"solidity\":0.2}},\"type\":\"bar\"}],\"carpet\":[{\"aaxis\":{\"endlinecolor\":\"#2a3f5f\",\"gridcolor\":\"#C8D4E3\",\"linecolor\":\"#C8D4E3\",\"minorgridcolor\":\"#C8D4E3\",\"startlinecolor\":\"#2a3f5f\"},\"baxis\":{\"endlinecolor\":\"#2a3f5f\",\"gridcolor\":\"#C8D4E3\",\"linecolor\":\"#C8D4E3\",\"minorgridcolor\":\"#C8D4E3\",\"startlinecolor\":\"#2a3f5f\"},\"type\":\"carpet\"}],\"choropleth\":[{\"colorbar\":{\"outlinewidth\":0,\"ticks\":\"\"},\"type\":\"choropleth\"}],\"contourcarpet\":[{\"colorbar\":{\"outlinewidth\":0,\"ticks\":\"\"},\"type\":\"contourcarpet\"}],\"contour\":[{\"colorbar\":{\"outlinewidth\":0,\"ticks\":\"\"},\"colorscale\":[[0.0,\"#0d0887\"],[0.1111111111111111,\"#46039f\"],[0.2222222222222222,\"#7201a8\"],[0.3333333333333333,\"#9c179e\"],[0.4444444444444444,\"#bd3786\"],[0.5555555555555556,\"#d8576b\"],[0.6666666666666666,\"#ed7953\"],[0.7777777777777778,\"#fb9f3a\"],[0.8888888888888888,\"#fdca26\"],[1.0,\"#f0f921\"]],\"type\":\"contour\"}],\"heatmapgl\":[{\"colorbar\":{\"outlinewidth\":0,\"ticks\":\"\"},\"colorscale\":[[0.0,\"#0d0887\"],[0.1111111111111111,\"#46039f\"],[0.2222222222222222,\"#7201a8\"],[0.3333333333333333,\"#9c179e\"],[0.4444444444444444,\"#bd3786\"],[0.5555555555555556,\"#d8576b\"],[0.6666666666666666,\"#ed7953\"],[0.7777777777777778,\"#fb9f3a\"],[0.8888888888888888,\"#fdca26\"],[1.0,\"#f0f921\"]],\"type\":\"heatmapgl\"}],\"heatmap\":[{\"colorbar\":{\"outlinewidth\":0,\"ticks\":\"\"},\"colorscale\":[[0.0,\"#0d0887\"],[0.1111111111111111,\"#46039f\"],[0.2222222222222222,\"#7201a8\"],[0.3333333333333333,\"#9c179e\"],[0.4444444444444444,\"#bd3786\"],[0.5555555555555556,\"#d8576b\"],[0.6666666666666666,\"#ed7953\"],[0.7777777777777778,\"#fb9f3a\"],[0.8888888888888888,\"#fdca26\"],[1.0,\"#f0f921\"]],\"type\":\"heatmap\"}],\"histogram2dcontour\":[{\"colorbar\":{\"outlinewidth\":0,\"ticks\":\"\"},\"colorscale\":[[0.0,\"#0d0887\"],[0.1111111111111111,\"#46039f\"],[0.2222222222222222,\"#7201a8\"],[0.3333333333333333,\"#9c179e\"],[0.4444444444444444,\"#bd3786\"],[0.5555555555555556,\"#d8576b\"],[0.6666666666666666,\"#ed7953\"],[0.7777777777777778,\"#fb9f3a\"],[0.8888888888888888,\"#fdca26\"],[1.0,\"#f0f921\"]],\"type\":\"histogram2dcontour\"}],\"histogram2d\":[{\"colorbar\":{\"outlinewidth\":0,\"ticks\":\"\"},\"colorscale\":[[0.0,\"#0d0887\"],[0.1111111111111111,\"#46039f\"],[0.2222222222222222,\"#7201a8\"],[0.3333333333333333,\"#9c179e\"],[0.4444444444444444,\"#bd3786\"],[0.5555555555555556,\"#d8576b\"],[0.6666666666666666,\"#ed7953\"],[0.7777777777777778,\"#fb9f3a\"],[0.8888888888888888,\"#fdca26\"],[1.0,\"#f0f921\"]],\"type\":\"histogram2d\"}],\"histogram\":[{\"marker\":{\"pattern\":{\"fillmode\":\"overlay\",\"size\":10,\"solidity\":0.2}},\"type\":\"histogram\"}],\"mesh3d\":[{\"colorbar\":{\"outlinewidth\":0,\"ticks\":\"\"},\"type\":\"mesh3d\"}],\"parcoords\":[{\"line\":{\"colorbar\":{\"outlinewidth\":0,\"ticks\":\"\"}},\"type\":\"parcoords\"}],\"pie\":[{\"automargin\":true,\"type\":\"pie\"}],\"scatter3d\":[{\"line\":{\"colorbar\":{\"outlinewidth\":0,\"ticks\":\"\"}},\"marker\":{\"colorbar\":{\"outlinewidth\":0,\"ticks\":\"\"}},\"type\":\"scatter3d\"}],\"scattercarpet\":[{\"marker\":{\"colorbar\":{\"outlinewidth\":0,\"ticks\":\"\"}},\"type\":\"scattercarpet\"}],\"scattergeo\":[{\"marker\":{\"colorbar\":{\"outlinewidth\":0,\"ticks\":\"\"}},\"type\":\"scattergeo\"}],\"scattergl\":[{\"marker\":{\"colorbar\":{\"outlinewidth\":0,\"ticks\":\"\"}},\"type\":\"scattergl\"}],\"scattermapbox\":[{\"marker\":{\"colorbar\":{\"outlinewidth\":0,\"ticks\":\"\"}},\"type\":\"scattermapbox\"}],\"scatterpolargl\":[{\"marker\":{\"colorbar\":{\"outlinewidth\":0,\"ticks\":\"\"}},\"type\":\"scatterpolargl\"}],\"scatterpolar\":[{\"marker\":{\"colorbar\":{\"outlinewidth\":0,\"ticks\":\"\"}},\"type\":\"scatterpolar\"}],\"scatter\":[{\"marker\":{\"colorbar\":{\"outlinewidth\":0,\"ticks\":\"\"}},\"type\":\"scatter\"}],\"scatterternary\":[{\"marker\":{\"colorbar\":{\"outlinewidth\":0,\"ticks\":\"\"}},\"type\":\"scatterternary\"}],\"surface\":[{\"colorbar\":{\"outlinewidth\":0,\"ticks\":\"\"},\"colorscale\":[[0.0,\"#0d0887\"],[0.1111111111111111,\"#46039f\"],[0.2222222222222222,\"#7201a8\"],[0.3333333333333333,\"#9c179e\"],[0.4444444444444444,\"#bd3786\"],[0.5555555555555556,\"#d8576b\"],[0.6666666666666666,\"#ed7953\"],[0.7777777777777778,\"#fb9f3a\"],[0.8888888888888888,\"#fdca26\"],[1.0,\"#f0f921\"]],\"type\":\"surface\"}],\"table\":[{\"cells\":{\"fill\":{\"color\":\"#EBF0F8\"},\"line\":{\"color\":\"white\"}},\"header\":{\"fill\":{\"color\":\"#C8D4E3\"},\"line\":{\"color\":\"white\"}},\"type\":\"table\"}]},\"layout\":{\"annotationdefaults\":{\"arrowcolor\":\"#2a3f5f\",\"arrowhead\":0,\"arrowwidth\":1},\"autotypenumbers\":\"strict\",\"coloraxis\":{\"colorbar\":{\"outlinewidth\":0,\"ticks\":\"\"}},\"colorscale\":{\"diverging\":[[0,\"#8e0152\"],[0.1,\"#c51b7d\"],[0.2,\"#de77ae\"],[0.3,\"#f1b6da\"],[0.4,\"#fde0ef\"],[0.5,\"#f7f7f7\"],[0.6,\"#e6f5d0\"],[0.7,\"#b8e186\"],[0.8,\"#7fbc41\"],[0.9,\"#4d9221\"],[1,\"#276419\"]],\"sequential\":[[0.0,\"#0d0887\"],[0.1111111111111111,\"#46039f\"],[0.2222222222222222,\"#7201a8\"],[0.3333333333333333,\"#9c179e\"],[0.4444444444444444,\"#bd3786\"],[0.5555555555555556,\"#d8576b\"],[0.6666666666666666,\"#ed7953\"],[0.7777777777777778,\"#fb9f3a\"],[0.8888888888888888,\"#fdca26\"],[1.0,\"#f0f921\"]],\"sequentialminus\":[[0.0,\"#0d0887\"],[0.1111111111111111,\"#46039f\"],[0.2222222222222222,\"#7201a8\"],[0.3333333333333333,\"#9c179e\"],[0.4444444444444444,\"#bd3786\"],[0.5555555555555556,\"#d8576b\"],[0.6666666666666666,\"#ed7953\"],[0.7777777777777778,\"#fb9f3a\"],[0.8888888888888888,\"#fdca26\"],[1.0,\"#f0f921\"]]},\"colorway\":[\"#636efa\",\"#EF553B\",\"#00cc96\",\"#ab63fa\",\"#FFA15A\",\"#19d3f3\",\"#FF6692\",\"#B6E880\",\"#FF97FF\",\"#FECB52\"],\"font\":{\"color\":\"#2a3f5f\"},\"geo\":{\"bgcolor\":\"white\",\"lakecolor\":\"white\",\"landcolor\":\"white\",\"showlakes\":true,\"showland\":true,\"subunitcolor\":\"#C8D4E3\"},\"hoverlabel\":{\"align\":\"left\"},\"hovermode\":\"closest\",\"mapbox\":{\"style\":\"light\"},\"paper_bgcolor\":\"white\",\"plot_bgcolor\":\"white\",\"polar\":{\"angularaxis\":{\"gridcolor\":\"#EBF0F8\",\"linecolor\":\"#EBF0F8\",\"ticks\":\"\"},\"bgcolor\":\"white\",\"radialaxis\":{\"gridcolor\":\"#EBF0F8\",\"linecolor\":\"#EBF0F8\",\"ticks\":\"\"}},\"scene\":{\"xaxis\":{\"backgroundcolor\":\"white\",\"gridcolor\":\"#DFE8F3\",\"gridwidth\":2,\"linecolor\":\"#EBF0F8\",\"showbackground\":true,\"ticks\":\"\",\"zerolinecolor\":\"#EBF0F8\"},\"yaxis\":{\"backgroundcolor\":\"white\",\"gridcolor\":\"#DFE8F3\",\"gridwidth\":2,\"linecolor\":\"#EBF0F8\",\"showbackground\":true,\"ticks\":\"\",\"zerolinecolor\":\"#EBF0F8\"},\"zaxis\":{\"backgroundcolor\":\"white\",\"gridcolor\":\"#DFE8F3\",\"gridwidth\":2,\"linecolor\":\"#EBF0F8\",\"showbackground\":true,\"ticks\":\"\",\"zerolinecolor\":\"#EBF0F8\"}},\"shapedefaults\":{\"line\":{\"color\":\"#2a3f5f\"}},\"ternary\":{\"aaxis\":{\"gridcolor\":\"#DFE8F3\",\"linecolor\":\"#A2B1C6\",\"ticks\":\"\"},\"baxis\":{\"gridcolor\":\"#DFE8F3\",\"linecolor\":\"#A2B1C6\",\"ticks\":\"\"},\"bgcolor\":\"white\",\"caxis\":{\"gridcolor\":\"#DFE8F3\",\"linecolor\":\"#A2B1C6\",\"ticks\":\"\"}},\"title\":{\"x\":0.05},\"xaxis\":{\"automargin\":true,\"gridcolor\":\"#EBF0F8\",\"linecolor\":\"#EBF0F8\",\"ticks\":\"\",\"title\":{\"standoff\":15},\"zerolinecolor\":\"#EBF0F8\",\"zerolinewidth\":2},\"yaxis\":{\"automargin\":true,\"gridcolor\":\"#EBF0F8\",\"linecolor\":\"#EBF0F8\",\"ticks\":\"\",\"title\":{\"standoff\":15},\"zerolinecolor\":\"#EBF0F8\",\"zerolinewidth\":2}}},\"title\":{\"font\":{\"size\":22,\"color\":\"Black\"},\"text\":\"<b>Hierarchical Clustering\",\"x\":0.5,\"xanchor\":\"center\",\"yanchor\":\"top\"},\"hoverlabel\":{\"font\":{\"size\":16,\"family\":\"Rockwell\"},\"bgcolor\":\"white\"},\"plot_bgcolor\":\"#ECEFF1\"},                        {\"responsive\": true}                    ).then(function(){\n",
              "                            \n",
              "var gd = document.getElementById('6065bfa3-9e90-4b45-a06c-b4a83454c3de');\n",
              "var x = new MutationObserver(function (mutations, observer) {{\n",
              "        var display = window.getComputedStyle(gd).display;\n",
              "        if (!display || display === 'none') {{\n",
              "            console.log([gd, 'removed!']);\n",
              "            Plotly.purge(gd);\n",
              "            observer.disconnect();\n",
              "        }}\n",
              "}});\n",
              "\n",
              "// Listen for the removal of the full notebook cells\n",
              "var notebookContainer = gd.closest('#notebook-container');\n",
              "if (notebookContainer) {{\n",
              "    x.observe(notebookContainer, {childList: true});\n",
              "}}\n",
              "\n",
              "// Listen for the clearing of the current output cell\n",
              "var outputEl = gd.closest('.output');\n",
              "if (outputEl) {{\n",
              "    x.observe(outputEl, {childList: true});\n",
              "}}\n",
              "\n",
              "                        })                };                            </script>        </div>\n",
              "</body>\n",
              "</html>"
            ]
          },
          "metadata": {}
        }
      ]
    },
    {
      "cell_type": "markdown",
      "metadata": {
        "id": "4spXl2_C6flq"
      },
      "source": [
        "## Visualize Terms\n",
        "\n",
        "We can visualize the selected terms for a few topics by creating bar charts out of the c-TF-IDF scores for each topic representation. Insights can be gained from the relative c-TF-IDF scores between and within topics. Moreover, you can easily compare topic representations to each other."
      ]
    },
    {
      "cell_type": "code",
      "metadata": {
        "colab": {
          "base_uri": "https://localhost:8080/",
          "height": 517
        },
        "id": "zpm9LsKW6mi5",
        "outputId": "4c665415-049b-457e-db2f-47a873399c88"
      },
      "source": [
        "topic_model.visualize_barchart(top_n_topics=5)"
      ],
      "execution_count": null,
      "outputs": [
        {
          "output_type": "display_data",
          "data": {
            "text/html": [
              "<html>\n",
              "<head><meta charset=\"utf-8\" /></head>\n",
              "<body>\n",
              "    <div>            <script src=\"https://cdnjs.cloudflare.com/ajax/libs/mathjax/2.7.5/MathJax.js?config=TeX-AMS-MML_SVG\"></script><script type=\"text/javascript\">if (window.MathJax) {MathJax.Hub.Config({SVG: {font: \"STIX-Web\"}});}</script>                <script type=\"text/javascript\">window.PlotlyConfig = {MathJaxConfig: 'local'};</script>\n",
              "        <script src=\"https://cdn.plot.ly/plotly-2.8.3.min.js\"></script>                <div id=\"9cd683c9-2389-4800-a030-59231cc4e623\" class=\"plotly-graph-div\" style=\"height:500px; width:1000px;\"></div>            <script type=\"text/javascript\">                                    window.PLOTLYENV=window.PLOTLYENV || {};                                    if (document.getElementById(\"9cd683c9-2389-4800-a030-59231cc4e623\")) {                    Plotly.newPlot(                        \"9cd683c9-2389-4800-a030-59231cc4e623\",                        [{\"marker\":{\"color\":\"#D55E00\"},\"orientation\":\"h\",\"x\":[0.009835509430141836,0.010731103132769898,0.01104797709163965,0.01162954304379549,0.017664149094079973],\"y\":[\"it  \",\"your  \",\"read  \",\"this  \",\"you  \"],\"type\":\"bar\",\"xaxis\":\"x\",\"yaxis\":\"y\"},{\"marker\":{\"color\":\"#0072B2\"},\"orientation\":\"h\",\"x\":[0.008964523912141403,0.009398870777639188,0.012440424838403363,0.012898509070638624,0.035565966696601795],\"y\":[\"it  \",\"to  \",\"the  \",\"the surge  \",\"surge  \"],\"type\":\"bar\",\"xaxis\":\"x2\",\"yaxis\":\"y2\"},{\"marker\":{\"color\":\"#CC79A7\"},\"orientation\":\"h\",\"x\":[0.009353240825641032,0.010531586478093425,0.012051558533798626,0.017513299389472183,0.01812349843964987],\"y\":[\"and  \",\"to  \",\"the  \",\"pings  \",\"ping  \"],\"type\":\"bar\",\"xaxis\":\"x3\",\"yaxis\":\"y3\"},{\"marker\":{\"color\":\"#E69F00\"},\"orientation\":\"h\",\"x\":[0.00937938375839598,0.00965732759786295,0.010033340759852427,0.01082448532514457,0.025826690815921],\"y\":[\"the  \",\"they  \",\"drivers  \",\"to  \",\"uber  \"],\"type\":\"bar\",\"xaxis\":\"x4\",\"yaxis\":\"y4\"},{\"marker\":{\"color\":\"#56B4E9\"},\"orientation\":\"h\",\"x\":[0.008652321261254703,0.009047019141499798,0.009740120662365591,0.010212548719652973,0.03497195675388543],\"y\":[\"rides  \",\"the  \",\"to  \",\"and  \",\"lyft  \"],\"type\":\"bar\",\"xaxis\":\"x5\",\"yaxis\":\"y5\"}],                        {\"template\":{\"data\":{\"barpolar\":[{\"marker\":{\"line\":{\"color\":\"white\",\"width\":0.5},\"pattern\":{\"fillmode\":\"overlay\",\"size\":10,\"solidity\":0.2}},\"type\":\"barpolar\"}],\"bar\":[{\"error_x\":{\"color\":\"#2a3f5f\"},\"error_y\":{\"color\":\"#2a3f5f\"},\"marker\":{\"line\":{\"color\":\"white\",\"width\":0.5},\"pattern\":{\"fillmode\":\"overlay\",\"size\":10,\"solidity\":0.2}},\"type\":\"bar\"}],\"carpet\":[{\"aaxis\":{\"endlinecolor\":\"#2a3f5f\",\"gridcolor\":\"#C8D4E3\",\"linecolor\":\"#C8D4E3\",\"minorgridcolor\":\"#C8D4E3\",\"startlinecolor\":\"#2a3f5f\"},\"baxis\":{\"endlinecolor\":\"#2a3f5f\",\"gridcolor\":\"#C8D4E3\",\"linecolor\":\"#C8D4E3\",\"minorgridcolor\":\"#C8D4E3\",\"startlinecolor\":\"#2a3f5f\"},\"type\":\"carpet\"}],\"choropleth\":[{\"colorbar\":{\"outlinewidth\":0,\"ticks\":\"\"},\"type\":\"choropleth\"}],\"contourcarpet\":[{\"colorbar\":{\"outlinewidth\":0,\"ticks\":\"\"},\"type\":\"contourcarpet\"}],\"contour\":[{\"colorbar\":{\"outlinewidth\":0,\"ticks\":\"\"},\"colorscale\":[[0.0,\"#0d0887\"],[0.1111111111111111,\"#46039f\"],[0.2222222222222222,\"#7201a8\"],[0.3333333333333333,\"#9c179e\"],[0.4444444444444444,\"#bd3786\"],[0.5555555555555556,\"#d8576b\"],[0.6666666666666666,\"#ed7953\"],[0.7777777777777778,\"#fb9f3a\"],[0.8888888888888888,\"#fdca26\"],[1.0,\"#f0f921\"]],\"type\":\"contour\"}],\"heatmapgl\":[{\"colorbar\":{\"outlinewidth\":0,\"ticks\":\"\"},\"colorscale\":[[0.0,\"#0d0887\"],[0.1111111111111111,\"#46039f\"],[0.2222222222222222,\"#7201a8\"],[0.3333333333333333,\"#9c179e\"],[0.4444444444444444,\"#bd3786\"],[0.5555555555555556,\"#d8576b\"],[0.6666666666666666,\"#ed7953\"],[0.7777777777777778,\"#fb9f3a\"],[0.8888888888888888,\"#fdca26\"],[1.0,\"#f0f921\"]],\"type\":\"heatmapgl\"}],\"heatmap\":[{\"colorbar\":{\"outlinewidth\":0,\"ticks\":\"\"},\"colorscale\":[[0.0,\"#0d0887\"],[0.1111111111111111,\"#46039f\"],[0.2222222222222222,\"#7201a8\"],[0.3333333333333333,\"#9c179e\"],[0.4444444444444444,\"#bd3786\"],[0.5555555555555556,\"#d8576b\"],[0.6666666666666666,\"#ed7953\"],[0.7777777777777778,\"#fb9f3a\"],[0.8888888888888888,\"#fdca26\"],[1.0,\"#f0f921\"]],\"type\":\"heatmap\"}],\"histogram2dcontour\":[{\"colorbar\":{\"outlinewidth\":0,\"ticks\":\"\"},\"colorscale\":[[0.0,\"#0d0887\"],[0.1111111111111111,\"#46039f\"],[0.2222222222222222,\"#7201a8\"],[0.3333333333333333,\"#9c179e\"],[0.4444444444444444,\"#bd3786\"],[0.5555555555555556,\"#d8576b\"],[0.6666666666666666,\"#ed7953\"],[0.7777777777777778,\"#fb9f3a\"],[0.8888888888888888,\"#fdca26\"],[1.0,\"#f0f921\"]],\"type\":\"histogram2dcontour\"}],\"histogram2d\":[{\"colorbar\":{\"outlinewidth\":0,\"ticks\":\"\"},\"colorscale\":[[0.0,\"#0d0887\"],[0.1111111111111111,\"#46039f\"],[0.2222222222222222,\"#7201a8\"],[0.3333333333333333,\"#9c179e\"],[0.4444444444444444,\"#bd3786\"],[0.5555555555555556,\"#d8576b\"],[0.6666666666666666,\"#ed7953\"],[0.7777777777777778,\"#fb9f3a\"],[0.8888888888888888,\"#fdca26\"],[1.0,\"#f0f921\"]],\"type\":\"histogram2d\"}],\"histogram\":[{\"marker\":{\"pattern\":{\"fillmode\":\"overlay\",\"size\":10,\"solidity\":0.2}},\"type\":\"histogram\"}],\"mesh3d\":[{\"colorbar\":{\"outlinewidth\":0,\"ticks\":\"\"},\"type\":\"mesh3d\"}],\"parcoords\":[{\"line\":{\"colorbar\":{\"outlinewidth\":0,\"ticks\":\"\"}},\"type\":\"parcoords\"}],\"pie\":[{\"automargin\":true,\"type\":\"pie\"}],\"scatter3d\":[{\"line\":{\"colorbar\":{\"outlinewidth\":0,\"ticks\":\"\"}},\"marker\":{\"colorbar\":{\"outlinewidth\":0,\"ticks\":\"\"}},\"type\":\"scatter3d\"}],\"scattercarpet\":[{\"marker\":{\"colorbar\":{\"outlinewidth\":0,\"ticks\":\"\"}},\"type\":\"scattercarpet\"}],\"scattergeo\":[{\"marker\":{\"colorbar\":{\"outlinewidth\":0,\"ticks\":\"\"}},\"type\":\"scattergeo\"}],\"scattergl\":[{\"marker\":{\"colorbar\":{\"outlinewidth\":0,\"ticks\":\"\"}},\"type\":\"scattergl\"}],\"scattermapbox\":[{\"marker\":{\"colorbar\":{\"outlinewidth\":0,\"ticks\":\"\"}},\"type\":\"scattermapbox\"}],\"scatterpolargl\":[{\"marker\":{\"colorbar\":{\"outlinewidth\":0,\"ticks\":\"\"}},\"type\":\"scatterpolargl\"}],\"scatterpolar\":[{\"marker\":{\"colorbar\":{\"outlinewidth\":0,\"ticks\":\"\"}},\"type\":\"scatterpolar\"}],\"scatter\":[{\"marker\":{\"colorbar\":{\"outlinewidth\":0,\"ticks\":\"\"}},\"type\":\"scatter\"}],\"scatterternary\":[{\"marker\":{\"colorbar\":{\"outlinewidth\":0,\"ticks\":\"\"}},\"type\":\"scatterternary\"}],\"surface\":[{\"colorbar\":{\"outlinewidth\":0,\"ticks\":\"\"},\"colorscale\":[[0.0,\"#0d0887\"],[0.1111111111111111,\"#46039f\"],[0.2222222222222222,\"#7201a8\"],[0.3333333333333333,\"#9c179e\"],[0.4444444444444444,\"#bd3786\"],[0.5555555555555556,\"#d8576b\"],[0.6666666666666666,\"#ed7953\"],[0.7777777777777778,\"#fb9f3a\"],[0.8888888888888888,\"#fdca26\"],[1.0,\"#f0f921\"]],\"type\":\"surface\"}],\"table\":[{\"cells\":{\"fill\":{\"color\":\"#EBF0F8\"},\"line\":{\"color\":\"white\"}},\"header\":{\"fill\":{\"color\":\"#C8D4E3\"},\"line\":{\"color\":\"white\"}},\"type\":\"table\"}]},\"layout\":{\"annotationdefaults\":{\"arrowcolor\":\"#2a3f5f\",\"arrowhead\":0,\"arrowwidth\":1},\"autotypenumbers\":\"strict\",\"coloraxis\":{\"colorbar\":{\"outlinewidth\":0,\"ticks\":\"\"}},\"colorscale\":{\"diverging\":[[0,\"#8e0152\"],[0.1,\"#c51b7d\"],[0.2,\"#de77ae\"],[0.3,\"#f1b6da\"],[0.4,\"#fde0ef\"],[0.5,\"#f7f7f7\"],[0.6,\"#e6f5d0\"],[0.7,\"#b8e186\"],[0.8,\"#7fbc41\"],[0.9,\"#4d9221\"],[1,\"#276419\"]],\"sequential\":[[0.0,\"#0d0887\"],[0.1111111111111111,\"#46039f\"],[0.2222222222222222,\"#7201a8\"],[0.3333333333333333,\"#9c179e\"],[0.4444444444444444,\"#bd3786\"],[0.5555555555555556,\"#d8576b\"],[0.6666666666666666,\"#ed7953\"],[0.7777777777777778,\"#fb9f3a\"],[0.8888888888888888,\"#fdca26\"],[1.0,\"#f0f921\"]],\"sequentialminus\":[[0.0,\"#0d0887\"],[0.1111111111111111,\"#46039f\"],[0.2222222222222222,\"#7201a8\"],[0.3333333333333333,\"#9c179e\"],[0.4444444444444444,\"#bd3786\"],[0.5555555555555556,\"#d8576b\"],[0.6666666666666666,\"#ed7953\"],[0.7777777777777778,\"#fb9f3a\"],[0.8888888888888888,\"#fdca26\"],[1.0,\"#f0f921\"]]},\"colorway\":[\"#636efa\",\"#EF553B\",\"#00cc96\",\"#ab63fa\",\"#FFA15A\",\"#19d3f3\",\"#FF6692\",\"#B6E880\",\"#FF97FF\",\"#FECB52\"],\"font\":{\"color\":\"#2a3f5f\"},\"geo\":{\"bgcolor\":\"white\",\"lakecolor\":\"white\",\"landcolor\":\"white\",\"showlakes\":true,\"showland\":true,\"subunitcolor\":\"#C8D4E3\"},\"hoverlabel\":{\"align\":\"left\"},\"hovermode\":\"closest\",\"mapbox\":{\"style\":\"light\"},\"paper_bgcolor\":\"white\",\"plot_bgcolor\":\"white\",\"polar\":{\"angularaxis\":{\"gridcolor\":\"#EBF0F8\",\"linecolor\":\"#EBF0F8\",\"ticks\":\"\"},\"bgcolor\":\"white\",\"radialaxis\":{\"gridcolor\":\"#EBF0F8\",\"linecolor\":\"#EBF0F8\",\"ticks\":\"\"}},\"scene\":{\"xaxis\":{\"backgroundcolor\":\"white\",\"gridcolor\":\"#DFE8F3\",\"gridwidth\":2,\"linecolor\":\"#EBF0F8\",\"showbackground\":true,\"ticks\":\"\",\"zerolinecolor\":\"#EBF0F8\"},\"yaxis\":{\"backgroundcolor\":\"white\",\"gridcolor\":\"#DFE8F3\",\"gridwidth\":2,\"linecolor\":\"#EBF0F8\",\"showbackground\":true,\"ticks\":\"\",\"zerolinecolor\":\"#EBF0F8\"},\"zaxis\":{\"backgroundcolor\":\"white\",\"gridcolor\":\"#DFE8F3\",\"gridwidth\":2,\"linecolor\":\"#EBF0F8\",\"showbackground\":true,\"ticks\":\"\",\"zerolinecolor\":\"#EBF0F8\"}},\"shapedefaults\":{\"line\":{\"color\":\"#2a3f5f\"}},\"ternary\":{\"aaxis\":{\"gridcolor\":\"#DFE8F3\",\"linecolor\":\"#A2B1C6\",\"ticks\":\"\"},\"baxis\":{\"gridcolor\":\"#DFE8F3\",\"linecolor\":\"#A2B1C6\",\"ticks\":\"\"},\"bgcolor\":\"white\",\"caxis\":{\"gridcolor\":\"#DFE8F3\",\"linecolor\":\"#A2B1C6\",\"ticks\":\"\"}},\"title\":{\"x\":0.05},\"xaxis\":{\"automargin\":true,\"gridcolor\":\"#EBF0F8\",\"linecolor\":\"#EBF0F8\",\"ticks\":\"\",\"title\":{\"standoff\":15},\"zerolinecolor\":\"#EBF0F8\",\"zerolinewidth\":2},\"yaxis\":{\"automargin\":true,\"gridcolor\":\"#EBF0F8\",\"linecolor\":\"#EBF0F8\",\"ticks\":\"\",\"title\":{\"standoff\":15},\"zerolinecolor\":\"#EBF0F8\",\"zerolinewidth\":2}}},\"xaxis\":{\"anchor\":\"y\",\"domain\":[0.0,0.175],\"showgrid\":true},\"yaxis\":{\"anchor\":\"x\",\"domain\":[0.6000000000000001,1.0],\"showgrid\":true},\"xaxis2\":{\"anchor\":\"y2\",\"domain\":[0.275,0.45],\"showgrid\":true},\"yaxis2\":{\"anchor\":\"x2\",\"domain\":[0.6000000000000001,1.0],\"showgrid\":true},\"xaxis3\":{\"anchor\":\"y3\",\"domain\":[0.55,0.7250000000000001],\"showgrid\":true},\"yaxis3\":{\"anchor\":\"x3\",\"domain\":[0.6000000000000001,1.0],\"showgrid\":true},\"xaxis4\":{\"anchor\":\"y4\",\"domain\":[0.825,1.0],\"showgrid\":true},\"yaxis4\":{\"anchor\":\"x4\",\"domain\":[0.6000000000000001,1.0],\"showgrid\":true},\"xaxis5\":{\"anchor\":\"y5\",\"domain\":[0.0,0.175],\"showgrid\":true},\"yaxis5\":{\"anchor\":\"x5\",\"domain\":[0.0,0.4],\"showgrid\":true},\"xaxis6\":{\"anchor\":\"y6\",\"domain\":[0.275,0.45],\"showgrid\":true},\"yaxis6\":{\"anchor\":\"x6\",\"domain\":[0.0,0.4],\"showgrid\":true},\"xaxis7\":{\"anchor\":\"y7\",\"domain\":[0.55,0.7250000000000001],\"showgrid\":true},\"yaxis7\":{\"anchor\":\"x7\",\"domain\":[0.0,0.4],\"showgrid\":true},\"xaxis8\":{\"anchor\":\"y8\",\"domain\":[0.825,1.0],\"showgrid\":true},\"yaxis8\":{\"anchor\":\"x8\",\"domain\":[0.0,0.4],\"showgrid\":true},\"annotations\":[{\"font\":{\"size\":16},\"showarrow\":false,\"text\":\"Topic 0\",\"x\":0.0875,\"xanchor\":\"center\",\"xref\":\"paper\",\"y\":1.0,\"yanchor\":\"bottom\",\"yref\":\"paper\"},{\"font\":{\"size\":16},\"showarrow\":false,\"text\":\"Topic 1\",\"x\":0.36250000000000004,\"xanchor\":\"center\",\"xref\":\"paper\",\"y\":1.0,\"yanchor\":\"bottom\",\"yref\":\"paper\"},{\"font\":{\"size\":16},\"showarrow\":false,\"text\":\"Topic 2\",\"x\":0.6375000000000001,\"xanchor\":\"center\",\"xref\":\"paper\",\"y\":1.0,\"yanchor\":\"bottom\",\"yref\":\"paper\"},{\"font\":{\"size\":16},\"showarrow\":false,\"text\":\"Topic 3\",\"x\":0.9125,\"xanchor\":\"center\",\"xref\":\"paper\",\"y\":1.0,\"yanchor\":\"bottom\",\"yref\":\"paper\"},{\"font\":{\"size\":16},\"showarrow\":false,\"text\":\"Topic 4\",\"x\":0.0875,\"xanchor\":\"center\",\"xref\":\"paper\",\"y\":0.4,\"yanchor\":\"bottom\",\"yref\":\"paper\"}],\"title\":{\"font\":{\"size\":22,\"color\":\"Black\"},\"text\":\"<b>Topic Word Scores\",\"x\":0.5,\"xanchor\":\"center\",\"yanchor\":\"top\"},\"hoverlabel\":{\"font\":{\"size\":16,\"family\":\"Rockwell\"},\"bgcolor\":\"white\"},\"showlegend\":false,\"width\":1000,\"height\":500},                        {\"responsive\": true}                    ).then(function(){\n",
              "                            \n",
              "var gd = document.getElementById('9cd683c9-2389-4800-a030-59231cc4e623');\n",
              "var x = new MutationObserver(function (mutations, observer) {{\n",
              "        var display = window.getComputedStyle(gd).display;\n",
              "        if (!display || display === 'none') {{\n",
              "            console.log([gd, 'removed!']);\n",
              "            Plotly.purge(gd);\n",
              "            observer.disconnect();\n",
              "        }}\n",
              "}});\n",
              "\n",
              "// Listen for the removal of the full notebook cells\n",
              "var notebookContainer = gd.closest('#notebook-container');\n",
              "if (notebookContainer) {{\n",
              "    x.observe(notebookContainer, {childList: true});\n",
              "}}\n",
              "\n",
              "// Listen for the clearing of the current output cell\n",
              "var outputEl = gd.closest('.output');\n",
              "if (outputEl) {{\n",
              "    x.observe(outputEl, {childList: true});\n",
              "}}\n",
              "\n",
              "                        })                };                            </script>        </div>\n",
              "</body>\n",
              "</html>"
            ]
          },
          "metadata": {}
        }
      ]
    },
    {
      "cell_type": "markdown",
      "metadata": {
        "id": "QCPdi6_z6sbT"
      },
      "source": [
        "## Visualize Topic Similarity\n",
        "Having generated topic embeddings, through both c-TF-IDF and embeddings, we can create a similarity matrix by simply applying cosine similarities through those topic embeddings. The result will be a matrix indicating how similar certain topics are to each other."
      ]
    },
    {
      "cell_type": "code",
      "metadata": {
        "colab": {
          "base_uri": "https://localhost:8080/",
          "height": 1000
        },
        "id": "edzNhZuZ6wTr",
        "outputId": "426dcde8-7941-4dcd-a746-309d3b723c20"
      },
      "source": [
        "topic_model.visualize_heatmap(n_clusters=20, width=1000, height=1000)"
      ],
      "execution_count": null,
      "outputs": [
        {
          "output_type": "display_data",
          "data": {
            "text/html": [
              "<html>\n",
              "<head><meta charset=\"utf-8\" /></head>\n",
              "<body>\n",
              "    <div>            <script src=\"https://cdnjs.cloudflare.com/ajax/libs/mathjax/2.7.5/MathJax.js?config=TeX-AMS-MML_SVG\"></script><script type=\"text/javascript\">if (window.MathJax) {MathJax.Hub.Config({SVG: {font: \"STIX-Web\"}});}</script>                <script type=\"text/javascript\">window.PlotlyConfig = {MathJaxConfig: 'local'};</script>\n",
              "        <script src=\"https://cdn.plot.ly/plotly-2.8.3.min.js\"></script>                <div id=\"921e00df-ba3b-4fdd-a233-831f684ed9ef\" class=\"plotly-graph-div\" style=\"height:1000px; width:1000px;\"></div>            <script type=\"text/javascript\">                                    window.PLOTLYENV=window.PLOTLYENV || {};                                    if (document.getElementById(\"921e00df-ba3b-4fdd-a233-831f684ed9ef\")) {                    Plotly.newPlot(                        \"921e00df-ba3b-4fdd-a233-831f684ed9ef\",                        [{\"coloraxis\":\"coloraxis\",\"name\":\"0\",\"x\":[\"0_you_this_read\",\"17_he_his_homeless\",\"21_her_she_poo\",\"30_blacks_white_black\",\"32_racist_race_color\",\"1_surge_the surge_the\",\"2_ping_pings_the\",\"5_rating_ratings_stars\",\"9_tip_tips_the\",\"12_order_orders_food\",\"16_hour_week_hours\",\"18_boost_trips_promo\",\"24_rides_ride_you\",\"26_area_to_in\",\"44_app_rider_rider app\",\"67_expenses_year_tax\",\"3_uber_to_drivers\",\"4_lyft_and_to\",\"6_bitcoin_is_the\",\"7_algorithm_the_drivers\",\"13_uber_the_you\",\"22_drivers_to_are\",\"27_driver_uber_the\",\"29_the_of_and\",\"31_cancel_minutes_the\",\"36_uber_they_to\",\"41_rideshare_rides_you\",\"54_you_make_to\",\"59_car_used_used car\",\"69_uber_flexibility_job\",\"8_pool_pools_the\",\"23_iphone_app_phone\",\"49_aqua_aquas_hybrid\",\"10_algorithm_the algorithm_...\",\"58_algorithm_lyft_lyfts\",\"11_smove_grab_petrol\",\"37_solid effort_sir_at your\",\"48_australia_country_aussie\",\"14_pax_the pax_the\",\"35_pax_stars_rating\",\"46_pax_uber_the pax\",\"56_pax_paxs_they\",\"15_saturday_weekend_friday\",\"19_email_deactivation_deact...\",\"62_forum_members_here\",\"66_ezlink_card_ezlink card\",\"20_ufc_ck_ufc drivers\",\"28_trips_trip_hours\",\"45_drive_driving_now\",\"68_another week_its_week or\",\"25_rate_acceptance_acceptan...\",\"52_acceptance_acceptance ra...\",\"33_mile_cents_per\",\"61_65_65 for_for 85\",\"34_lyft_pings_ping\",\"60_lyft_tsx_lower\",\"38_thumbs_thumbs down_down\",\"43_neil_yoda_guy\",\"50_shake_dog_lcr dog\",\"55_fuel_gas_tank\",\"64_rakos_monkey_the monkey\",\"65_child_approved_seat\",\"39_airport_the airport_wait...\",\"53_cab_cabbie_yellow\",\"40_ant_ants_iq\",\"42_ants_ant_blind\",\"47_quest_quests_my quest\",\"51_df_the df_dfs\",\"57_lies_lie_lying\",\"63_128077_128514_127462127482\"],\"y\":[\"0_you_this_read\",\"17_he_his_homeless\",\"21_her_she_poo\",\"30_blacks_white_black\",\"32_racist_race_color\",\"1_surge_the surge_the\",\"2_ping_pings_the\",\"5_rating_ratings_stars\",\"9_tip_tips_the\",\"12_order_orders_food\",\"16_hour_week_hours\",\"18_boost_trips_promo\",\"24_rides_ride_you\",\"26_area_to_in\",\"44_app_rider_rider app\",\"67_expenses_year_tax\",\"3_uber_to_drivers\",\"4_lyft_and_to\",\"6_bitcoin_is_the\",\"7_algorithm_the_drivers\",\"13_uber_the_you\",\"22_drivers_to_are\",\"27_driver_uber_the\",\"29_the_of_and\",\"31_cancel_minutes_the\",\"36_uber_they_to\",\"41_rideshare_rides_you\",\"54_you_make_to\",\"59_car_used_used car\",\"69_uber_flexibility_job\",\"8_pool_pools_the\",\"23_iphone_app_phone\",\"49_aqua_aquas_hybrid\",\"10_algorithm_the algorithm_...\",\"58_algorithm_lyft_lyfts\",\"11_smove_grab_petrol\",\"37_solid effort_sir_at your\",\"48_australia_country_aussie\",\"14_pax_the pax_the\",\"35_pax_stars_rating\",\"46_pax_uber_the pax\",\"56_pax_paxs_they\",\"15_saturday_weekend_friday\",\"19_email_deactivation_deact...\",\"62_forum_members_here\",\"66_ezlink_card_ezlink card\",\"20_ufc_ck_ufc drivers\",\"28_trips_trip_hours\",\"45_drive_driving_now\",\"68_another week_its_week or\",\"25_rate_acceptance_acceptan...\",\"52_acceptance_acceptance ra...\",\"33_mile_cents_per\",\"61_65_65 for_for 85\",\"34_lyft_pings_ping\",\"60_lyft_tsx_lower\",\"38_thumbs_thumbs down_down\",\"43_neil_yoda_guy\",\"50_shake_dog_lcr dog\",\"55_fuel_gas_tank\",\"64_rakos_monkey_the monkey\",\"65_child_approved_seat\",\"39_airport_the airport_wait...\",\"53_cab_cabbie_yellow\",\"40_ant_ants_iq\",\"42_ants_ant_blind\",\"47_quest_quests_my quest\",\"51_df_the df_dfs\",\"57_lies_lie_lying\",\"63_128077_128514_127462127482\"],\"z\":[[0.9999999999999991,0.815925112397379,0.8408033727495914,0.6905373194936132,0.7831708468973605,0.703732285840072,0.7951157139275539,0.7595410402467518,0.7740899992107729,0.6686091310527482,0.6961409485043137,0.6940786695253076,0.720798690732667,0.6925049333569174,0.7418674319366019,0.7773080733642809,0.7930569099721483,0.8032529987387474,0.8757985254009336,0.7700549549509822,0.874206618679455,0.7953422364468401,0.770993184691318,0.8584770592206503,0.8428788782916972,0.8037332447728095,0.8401120004728452,0.8969083254907709,0.7126381852978146,0.7359526812756346,0.6402948579754454,0.5681746724459154,0.5394830680807209,0.5092824930866281,0.44349669050398066,0.6350376049978184,0.7108444667643221,0.6243752939159128,0.706711747870774,0.644736574006851,0.7158529630396996,0.7125562228367325,0.5227722179855698,0.6982792900049013,0.5987881234298156,0.5025919543984013,0.5490170740192671,0.5433513436280061,0.6534262269438751,0.7347366835870638,0.4823391683836841,0.571690894192959,0.4344976328878719,0.453094936921848,0.6862390392555174,0.6300447959747748,0.5731857234872818,0.5918253875175213,0.6268472510352013,0.5268930876919041,0.5906382163312963,0.5524893952703415,0.5037072124231471,0.552672229218775,0.35305385577672216,0.4845581036660237,0.37277999276666335,0.4844328230278581,0.603700637505212,0.3930410835121301],[0.815925112397379,1.0000000000000007,0.8334043527222831,0.7372318384460533,0.7402872934336077,0.7442849802160393,0.7804973378249751,0.7567649452496042,0.7242138652007641,0.6735096274314156,0.7004481070487052,0.681266082141509,0.6850601279106938,0.747024625172123,0.7172228259213189,0.7426230364319168,0.7738555613678483,0.7807223273271976,0.8451252520208128,0.8064356483838969,0.8456387160563906,0.75365500919138,0.7903516545349404,0.8683610298986385,0.7961026826751835,0.826424805012843,0.8030188797043118,0.8397143586282102,0.7365026058939954,0.7209305842340171,0.6220315278647359,0.5606924470611621,0.5528772563356885,0.512650700294672,0.4421884430369955,0.6481481808674127,0.6851870287063252,0.647047439824242,0.665245558605233,0.6174885013787835,0.691163612702651,0.7076688996619659,0.5149720350615109,0.6484818470362343,0.6023085840077882,0.5060845018450355,0.5892036324329016,0.5461284957121333,0.617418478636651,0.6691785215377909,0.4710190703462028,0.587957281187184,0.48713990675897495,0.472182755874963,0.6704358254428752,0.5905023492062988,0.550673021162113,0.667813441541244,0.5958367283670569,0.5446683819820058,0.6106717021724712,0.553407406307088,0.568217726009681,0.537638928480901,0.3376862693878957,0.47397308299891366,0.3794811577817542,0.48959145876429255,0.5522776835089436,0.38487717855881987],[0.8408033727495914,0.8334043527222831,1.0000000000000002,0.7221272915833676,0.7851573450958742,0.6988662039932458,0.7440544167942603,0.7375752350811065,0.7099062726689432,0.7170193268350008,0.697724987502996,0.6754873407435857,0.6879745182281783,0.6887269571689498,0.7206378372135075,0.7529710529663446,0.7695848428802434,0.7936005207897906,0.8194993064329339,0.7601734654959643,0.8347326409650407,0.7740146237690507,0.7788689400397618,0.8245625285059915,0.8086532422705844,0.8053355765856038,0.8004770919610946,0.862244574873125,0.7470891485276421,0.7330851416093304,0.6271304771283923,0.5837677811489003,0.6194336658688198,0.5039910577092734,0.46084453094408595,0.649921033150635,0.6569371439552658,0.6422950210497891,0.7048894384155053,0.6674471308986455,0.724442929314686,0.7225955994197644,0.5003859752135005,0.6441034805164108,0.5856312501823221,0.5015029574153579,0.5747708276866598,0.5086705774453851,0.6441733528102735,0.6184457004758467,0.448060122068785,0.5637397773845083,0.474824151860571,0.4114552152015242,0.6984741130583588,0.6101822008306571,0.5647269325108434,0.6283389056269393,0.6556878785004513,0.6124663958488719,0.603110036623257,0.5906085645731426,0.5424856902156904,0.5698650513321841,0.4004187327286056,0.5180774471987677,0.3718744614261151,0.47576087479521867,0.5616649367618602,0.34972721676305607],[0.6905373194936132,0.7372318384460533,0.7221272915833676,0.9999999999999994,0.908470104789433,0.6413679632964764,0.699877569609304,0.6980745749058447,0.63420428525898,0.643205069225025,0.6446852145023007,0.6074738193580071,0.6205883910224381,0.6783417113163028,0.6290562906086641,0.6669311367600551,0.6879155944766846,0.6878681057631725,0.752740685619005,0.699544013826152,0.751320466221845,0.6768905806936024,0.7151623287577571,0.7713933699545287,0.6954005725986937,0.7202365291710163,0.7121758887233473,0.7361074657875702,0.6992990960082468,0.642523231711014,0.6126684113399756,0.5451797513559986,0.608960793675693,0.46800642391549085,0.43817881866778613,0.6542620649832465,0.6275488405433767,0.690179133028235,0.5906758984047193,0.6124828014231231,0.6076360629280021,0.6523337784343946,0.4604021287574606,0.5759645826295646,0.5822597471522862,0.4730231546732895,0.5931940272318438,0.48466513504877656,0.5562552722485793,0.5665802422503846,0.45497032064770426,0.5846931696924813,0.47327041976948014,0.45957877193439267,0.6675084049996468,0.6046060748410358,0.6046468730893357,0.6076628224477318,0.5934183445983203,0.5637206757612859,0.6178115460121028,0.5936840233680944,0.5092589257563681,0.5804288717968874,0.3889989217492464,0.5012329609590709,0.357222083212531,0.4499715781908227,0.4999961973670448,0.3894851051206733],[0.7831708468973605,0.7402872934336077,0.7851573450958742,0.908470104789433,0.999999999999999,0.6759032774544379,0.7358600698734755,0.7408497609031458,0.6984773965912262,0.6939061376207675,0.668965978574799,0.6397746293249539,0.6839049249543463,0.7084420347392041,0.7078240826207769,0.7260080769750038,0.7523653529802098,0.749421458919837,0.7928912978131525,0.7385467980417877,0.8061300012071333,0.7683843869066092,0.7858249137762148,0.8128683801125199,0.7567131311868217,0.7563920309603438,0.7759176583181386,0.8056410416501583,0.7437407668155199,0.7197718039644411,0.6390171071277375,0.6065437671891929,0.6420565828047075,0.50081052474878,0.4654436392172444,0.6655953857553598,0.6611988979910163,0.7293964009276727,0.6483025606881685,0.6288454984082628,0.6704963348790092,0.684928461910609,0.4753479424422338,0.5929845495651053,0.5707770382374663,0.49173261801466067,0.598405842985362,0.5352270651120228,0.6324964902264194,0.599071058120707,0.47069442238758263,0.5980553341910774,0.46745722001020135,0.43633718775689184,0.7031675104783088,0.6300852977886343,0.6219780674754266,0.6106200494857277,0.6329539899865759,0.5804642524810274,0.6297566049611492,0.6254174703996547,0.526999276484446,0.5941078304270468,0.41419442728362205,0.5369575431110329,0.3536338082964994,0.4612159611408594,0.5686678199288471,0.389247836687601],[0.703732285840072,0.7442849802160393,0.6988662039932458,0.6413679632964764,0.6759032774544379,1.0,0.701468651038033,0.7355925010404163,0.6646465423863597,0.6777974540082824,0.6410233225125657,0.7194368166900773,0.6274711753825646,0.6932519689329139,0.6516970524604213,0.6890325592803204,0.7121515846479696,0.7251214640453169,0.7696533870621594,0.7336966480800811,0.771707335772724,0.6981639437002375,0.732805551425226,0.7891541391375362,0.7328819333384191,0.750819285842731,0.725166847935273,0.7367258232058538,0.7343425552651778,0.6930104539600852,0.6032767970791899,0.5704756216475674,0.5495832315193713,0.487206044460294,0.4372903433039753,0.6188601476173606,0.597854162826497,0.5966531466692374,0.6255898875187959,0.6527676674117329,0.6514017180461799,0.7538026882292075,0.5056738381317274,0.586001891898767,0.5511288387971554,0.5316645839989476,0.5664698585555673,0.5282633334081749,0.6132199152488224,0.608618712038721,0.43052807531303483,0.5151881259454096,0.48735215291077877,0.4274337229879579,0.6456607133240398,0.5932998364086023,0.5857104754050749,0.5528746140881208,0.546196388585231,0.5886913854779162,0.5468330384176069,0.5597132685212001,0.5337980196770805,0.526729007105199,0.29828704834854436,0.43097267757520874,0.37630217763600676,0.47021845878600144,0.5057247825584428,0.36057654103425024],[0.7951157139275539,0.7804973378249751,0.7440544167942603,0.699877569609304,0.7358600698734755,0.701468651038033,0.9999999999999993,0.7445680048621619,0.7531765957444466,0.7120109562801009,0.7088964148068603,0.6773991926071484,0.6791071190700273,0.7436496106697275,0.7393399951147722,0.7189173750483699,0.7704624938259548,0.7644239879270369,0.8235408224231201,0.8042195333582457,0.857803948776878,0.7589396471819989,0.7884521174852275,0.8526201818801658,0.7980269882884664,0.815656888117608,0.7888127343063304,0.8209613573515852,0.7107462636664273,0.717817356823707,0.6620168159146589,0.6124952861383058,0.5571816356056624,0.5133639870822663,0.4712271838887818,0.6489013851889248,0.7040769376584071,0.6483885395960906,0.6496899186945124,0.6415225270407956,0.6712807658680654,0.6971936992536172,0.4931240262009906,0.6860207433491134,0.6388653241855711,0.5270330125399192,0.5861056312667703,0.5744879353533692,0.6130058570635866,0.6450928228761593,0.4609597434927314,0.5908205367130628,0.49835462589218105,0.4816831551836642,0.8388217869692651,0.6340945101617228,0.5918807805309161,0.5631977119988589,0.6493208103020092,0.5397480386852421,0.5828620164806546,0.5668359462573639,0.630269648239224,0.563628745808507,0.4189468451655879,0.5256111629719143,0.43636415703851367,0.49815900885265174,0.4974548715431303,0.4333984493474538],[0.7595410402467518,0.7567649452496042,0.7375752350811065,0.6980745749058447,0.7408497609031458,0.7355925010404163,0.7445680048621619,0.9999999999999999,0.7306791884346254,0.6861649020784376,0.6967962207837355,0.7064819411650991,0.6848177532286754,0.672532843835296,0.6869386673490916,0.7213548895985558,0.7123385293950069,0.7236039737810757,0.7894787791012511,0.7423251798983856,0.7985895498701274,0.7163507554243437,0.7241683936471662,0.8095276115523826,0.7563312351153763,0.7578407199344969,0.7906145799218903,0.8035944337624813,0.7039567266971763,0.6890507896721576,0.645324701096979,0.5943693781997591,0.5806104334792821,0.5271071221421716,0.4573751062756064,0.6573716314520672,0.714860176007052,0.6423418072811286,0.6590980052275419,0.8251951485870446,0.6600507794253679,0.6995577598769417,0.4746395548173099,0.6295589342166497,0.6113722387358846,0.5258604524900702,0.5807764576734307,0.5528818035922474,0.5865420727802881,0.6320393599185099,0.5775203156753663,0.6363149381584154,0.5665482969829537,0.5175325982171328,0.6626123495364621,0.6929116517580278,0.7391630855403774,0.5993388645304073,0.6050836637406884,0.5714117566917452,0.579949173159476,0.6196027271366683,0.5156631001560484,0.5354201025632321,0.34999114800686276,0.46862805472244295,0.3523311974007861,0.527998262470543,0.5424573392643868,0.4346374502665993],[0.7740899992107729,0.7242138652007641,0.7099062726689432,0.63420428525898,0.6984773965912262,0.6646465423863597,0.7531765957444466,0.7306791884346254,0.9999999999999996,0.6698291478762273,0.6278453542515537,0.691647143616,0.6682640930945425,0.672143396150867,0.6652614844836978,0.680952220685636,0.7291276477479867,0.7247468700726004,0.7685320003793885,0.7484495051015557,0.7938766895345735,0.7234627998424495,0.7241882953012307,0.8152506228834049,0.7595065777151072,0.7847109958345887,0.7710681816456874,0.8059707002490974,0.6797977618357259,0.7143037270719064,0.6367709977764031,0.5490575634819268,0.5224480919059222,0.49094181057177994,0.4322837473719774,0.6709029802329357,0.6749843232291001,0.591306580706028,0.6387852405163453,0.6239310969455161,0.6725722389197814,0.6766411120916644,0.4851645340902043,0.5940336736253193,0.5895274746219825,0.498743307353051,0.5286317779640098,0.5612811620725274,0.5930002507175398,0.6227002335997698,0.45413025952791036,0.5521844815542545,0.5233846293245081,0.4595353783822286,0.6631693357413747,0.5916682311642762,0.6785721795186015,0.5471549032322031,0.6135831790485627,0.5656237875518361,0.5301168292066458,0.5293034338686825,0.5051513813618126,0.4969143347723155,0.37114416186433324,0.5210373014270147,0.3751032292144101,0.4672735966124689,0.562564059030007,0.33982182222257223],[0.6686091310527482,0.6735096274314156,0.7170193268350008,0.643205069225025,0.6939061376207675,0.6777974540082824,0.7120109562801009,0.6861649020784376,0.6698291478762273,1.0,0.6763327591358862,0.6717943606259057,0.6323216149119236,0.716836478619009,0.6853321477064971,0.6640478728223264,0.729405987773793,0.7145317652620007,0.7451081835472377,0.7520624387758902,0.7780618572541578,0.6967421173060192,0.7646739884573753,0.7676814577943419,0.7678194929487164,0.7652415666484008,0.7160286514714896,0.7473992074199063,0.7417216052206824,0.7034776112437934,0.6133132282477582,0.6255574921902629,0.5918436499732339,0.5417494253279175,0.5137599214187175,0.6806347068963519,0.6175920771575278,0.6264599079952293,0.6312992990474421,0.652919972585632,0.6643805820669748,0.6644117832613952,0.49342775654074883,0.6076109352908646,0.5638406090498498,0.539478172455167,0.5732586209528838,0.5701162561603644,0.628744628326117,0.5508947951037007,0.4329540732451734,0.56952622916736,0.4741698737337257,0.41421656301422866,0.6882145442127471,0.6055607709085556,0.679248760778161,0.569433646690934,0.6344740225333624,0.6350756261073588,0.5724190063793643,0.6187152902749139,0.6120742625473768,0.5629475203413344,0.4101795163526942,0.5220910792441655,0.4331757171447135,0.4593232023459165,0.46154455431739216,0.4206271627448181],[0.6961409485043137,0.7004481070487052,0.697724987502996,0.6446852145023007,0.668965978574799,0.6410233225125657,0.7088964148068603,0.6967962207837355,0.6278453542515537,0.6763327591358862,0.9999999999999998,0.6933952551060503,0.6356183427585109,0.724693364530064,0.6752083612600088,0.7389453344376103,0.6941743173342947,0.6987478977408188,0.7446348820789236,0.6917454354081053,0.7560674843049555,0.6525993697025154,0.717815582729248,0.7232628433378497,0.7999222081311842,0.7456707522844032,0.7127578885400265,0.7742543201544955,0.6781033854802435,0.7446780010491499,0.6316957027814872,0.583344654181399,0.5493107106762101,0.5038049018900002,0.4545488121857573,0.6040036632585709,0.6860015295624001,0.6289048938039672,0.5904284984241993,0.6252607338439214,0.6090245080594476,0.6333726827673378,0.727041208104681,0.6391013753685445,0.6095581119365767,0.5210013791565292,0.5885207284337913,0.6910708544918609,0.6318806021948148,0.7142108122771735,0.49780366234888285,0.5614948628902587,0.5608118952595182,0.5544787109300839,0.6623132845569406,0.6076943736647178,0.5557472338472595,0.5536075323083961,0.5724704936463729,0.5686991576020131,0.5278818472384459,0.547904549468995,0.5798704271166701,0.5290795901817281,0.37138280223440784,0.44795924756951494,0.4344997221417975,0.4913323406856794,0.4518165755851672,0.4511285277774233],[0.6940786695253076,0.681266082141509,0.6754873407435857,0.6074738193580071,0.6397746293249539,0.7194368166900773,0.6773991926071484,0.7064819411650991,0.691647143616,0.6717943606259057,0.6933952551060503,0.9999999999999999,0.6832675600852393,0.6627123202675872,0.6647804634861039,0.6937068091257299,0.7196740164996445,0.7146856152430087,0.7141617252850978,0.7296228588979294,0.7594218651683591,0.7034524098717837,0.7169764130167232,0.7217579458342213,0.7433787680607048,0.7630224846643124,0.7423168005313688,0.7233030097921059,0.7203299677681657,0.7241899006065113,0.6077180544581197,0.5564428063913989,0.5774660314050223,0.5231207582818871,0.5125847340831373,0.6640621511873778,0.5785107280236019,0.5752265577052998,0.6158058515058275,0.693386129640546,0.671014042853631,0.7022484679234059,0.6219800557174511,0.6089488446338374,0.566117554795327,0.5669478508642233,0.6647442892420179,0.6979810648942137,0.6257981979366511,0.63652154868988,0.5174198256955194,0.5819425050390262,0.5880751915898278,0.5099401860681259,0.6569642450233919,0.6478960752017364,0.6086125568367884,0.5478930367574235,0.5860266503024256,0.5933050325485202,0.559462940375599,0.5845520801974741,0.5476603398340907,0.5876757190322583,0.3315443333231929,0.4597061259017394,0.435003858547939,0.47412524245183796,0.46998084695767867,0.31025142882893875],[0.720798690732667,0.6850601279106938,0.6879745182281783,0.6205883910224381,0.6839049249543463,0.6274711753825646,0.6791071190700273,0.6848177532286754,0.6682640930945425,0.6323216149119236,0.6356183427585109,0.6832675600852393,1.0,0.6602198808243136,0.7790475115111734,0.6616922208459944,0.7903333440159631,0.8050426034931395,0.749526768328772,0.7590196748912449,0.7969789200506336,0.7411046698041341,0.8150587724886493,0.7555828243811421,0.7246865363777838,0.7820043323154586,0.9061903816618303,0.7477194736043896,0.7283878677050784,0.748767413174197,0.6491590497842263,0.5737702447242844,0.6075852361704221,0.5098556435657232,0.5279590517320917,0.6230046546471075,0.598656287090832,0.5588108696105535,0.6295820247211775,0.6107423172829779,0.6670309700807252,0.6704786561097428,0.47401809608990153,0.5626923632057762,0.5235923475054944,0.5014461824234805,0.5742248909076294,0.7162270893905693,0.7201513462683201,0.5716557359202605,0.4041613913889218,0.5272904372902533,0.4562568030611417,0.4078430522308816,0.6755163414850591,0.692234004975627,0.5381788614554707,0.5471170794720385,0.6047961876682639,0.5268391177393358,0.522161063643255,0.6131454449814692,0.5194502580427204,0.5466553619349466,0.3616309381337688,0.46393671163551964,0.4185522883549319,0.42400524020718844,0.48879184655295754,0.3243343841431232],[0.6925049333569174,0.747024625172123,0.6887269571689498,0.6783417113163028,0.7084420347392041,0.6932519689329139,0.7436496106697275,0.672532843835296,0.672143396150867,0.716836478619009,0.724693364530064,0.6627123202675872,0.6602198808243136,0.9999999999999992,0.7187286982267629,0.6774433219689023,0.7287351860685214,0.7385674752967938,0.7625991384148801,0.7563437604806281,0.7845715684304186,0.6845014760426028,0.7958322846399801,0.7852511129969506,0.7436951856633327,0.7529717623382817,0.7416333528693412,0.7591282314538375,0.7201195751745442,0.7211655135224105,0.6789186034894464,0.6210042861453491,0.558191739810904,0.4975061885980745,0.5221900547024383,0.6583085276880493,0.6642688541264751,0.6973704754010538,0.6449625454174239,0.6190644600687554,0.6802437318186894,0.6994028495060389,0.5505272400155509,0.6300889764512196,0.643948812657498,0.5501029011314992,0.5946759474884618,0.592794300310425,0.6321263920517145,0.6303111266764533,0.4587984488989073,0.5969827188292899,0.5054509918473374,0.48187515840700734,0.7129470511189867,0.6487438341939105,0.6201123138746955,0.5164467457403371,0.5931504992007502,0.5637089434281204,0.5923093931212358,0.5671506600267759,0.7038342529755298,0.5654601580980031,0.3442859377338958,0.45901364287470453,0.43789782152613155,0.4848594203958706,0.501837618113258,0.44719525586644965],[0.7418674319366019,0.7172228259213189,0.7206378372135075,0.6290562906086641,0.7078240826207769,0.6516970524604213,0.7393399951147722,0.6869386673490916,0.6652614844836978,0.6853321477064971,0.6752083612600088,0.6647804634861039,0.7790475115111734,0.7187286982267629,0.9999999999999998,0.6955241818108646,0.7824966547830268,0.762752727103811,0.7693627318011872,0.7899255291237243,0.7956789922816961,0.7604416319307099,0.844648504967834,0.7825052974335887,0.7486434887521843,0.7833491916459023,0.8212530331779554,0.7466078735642798,0.7323132826626213,0.7358036053693373,0.6395378352981257,0.8280196512937543,0.6225497679024303,0.5479789738433296,0.5243902838135442,0.6340081519239766,0.637459197025484,0.6249142499526745,0.6155410574605453,0.5950541697997476,0.6591717913116082,0.6515225584175833,0.49473359751252793,0.6434966525002529,0.6211543113359781,0.6122127061745478,0.5974059085527897,0.5428823682262928,0.6277376325338839,0.5783689289841015,0.4612528120821911,0.5911371148485514,0.4634878747178067,0.43565033364799094,0.7019784467483934,0.669923710035199,0.5718276212725232,0.5935880149362698,0.6065321381026273,0.5400898464350146,0.5504984964253262,0.5976204773850067,0.5559005718580032,0.5138413671462977,0.3723844124168991,0.48182541856857164,0.44240790786674566,0.4358392599560589,0.47648295815026004,0.3905580699915481],[0.7773080733642809,0.7426230364319168,0.7529710529663446,0.6669311367600551,0.7260080769750038,0.6890325592803204,0.7189173750483699,0.7213548895985558,0.680952220685636,0.6640478728223264,0.7389453344376103,0.6937068091257299,0.6616922208459944,0.6774433219689023,0.6955241818108646,1.0000000000000007,0.7489190425866635,0.7409268357054877,0.8105608802517618,0.7122182178427647,0.814048840686453,0.7139908889498018,0.749359985339299,0.7870772248367427,0.7314808512025107,0.780264500139146,0.7773536871236736,0.811331011592086,0.7453693064845917,0.7551005449653352,0.6149610983581846,0.6047218920850954,0.5411650265621877,0.5036794588020773,0.4439451556097163,0.6390910326039925,0.6470321778768641,0.6587536974573787,0.6478247073208754,0.6484817008330471,0.6578688060152686,0.673318489787607,0.5225318021382237,0.6319551806734431,0.5693122703410199,0.5377992902194244,0.521953062558651,0.5828212793373683,0.6502701568819653,0.622205755928766,0.5187495370936336,0.5803262873060351,0.6020788394038785,0.5155161973248109,0.6884916352138446,0.6233832508288085,0.565365882402674,0.5747254352960937,0.6030690954045909,0.5725647901970385,0.549780935075654,0.5817101165805362,0.5333823229835666,0.5474780167892898,0.333974409089975,0.4528462307332597,0.3917350829716814,0.5073958863932579,0.5201519042362788,0.42286696114880884],[0.7930569099721483,0.7738555613678483,0.7695848428802434,0.6879155944766846,0.7523653529802098,0.7121515846479696,0.7704624938259548,0.7123385293950069,0.7291276477479867,0.729405987773793,0.6941743173342947,0.7196740164996445,0.7903333440159631,0.7287351860685214,0.7824966547830268,0.7489190425866635,0.9999999999999994,0.8865741778234701,0.8328326787190511,0.88644901607065,0.930938226491375,0.8687591274739891,0.9053950987770698,0.8455594055680202,0.8107340632880159,0.9533065624935615,0.8677947674614669,0.8244293425824158,0.7967749190091381,0.8451792979101808,0.643561476388327,0.6669328116323311,0.5894697830739023,0.5737340682838767,0.6082764928794093,0.6964477828450762,0.6458965356606152,0.6822905899053953,0.6863807721895194,0.6178127211277941,0.7762585715765767,0.7504857535371788,0.5011938987845058,0.6595033737120516,0.584755537246019,0.5711437037183752,0.5928784207779532,0.6290148408358346,0.7483825744994407,0.6014840518280546,0.46218678120893186,0.6169488338904441,0.49348027478690165,0.43406109212224026,0.798874328138748,0.746984290200902,0.5565626569821603,0.5835750858705858,0.5895518688656256,0.5583469747324985,0.571055738471224,0.6207370246576521,0.6508622392195643,0.6730702718368182,0.3779382562264383,0.5109058116432159,0.39347267173810263,0.4552360114494415,0.5331828750008875,0.33343384673551457],[0.8032529987387474,0.7807223273271976,0.7936005207897906,0.6878681057631725,0.749421458919837,0.7251214640453169,0.7644239879270369,0.7236039737810757,0.7247468700726004,0.7145317652620007,0.6987478977408188,0.7146856152430087,0.8050426034931395,0.7385674752967938,0.762752727103811,0.7409268357054877,0.8865741778234701,0.9999999999999997,0.8361566406126195,0.84006121114292,0.8919062203921064,0.8133013985691363,0.8545986520099822,0.8524730516425664,0.8121751794773536,0.8828781062885703,0.8708555109445781,0.8305990904764478,0.7763338355969217,0.8187914851459135,0.6550891989549426,0.6377237964554622,0.6052232954353703,0.5422606304252506,0.6959401345225128,0.6792156008169825,0.6646461779710972,0.6641080328206499,0.7006956657960154,0.6299529424463098,0.7541870881077963,0.7452973215796033,0.5040821332496119,0.67385848723697,0.5911634422530666,0.609031687695027,0.6048797249475717,0.6402271666094073,0.7102647097026699,0.6261713183900823,0.4656272151967891,0.6161167661646003,0.47997117090929037,0.45888516989359807,0.8730565625080139,0.8572897643816749,0.5647536650475912,0.5647496380052017,0.6472484811508442,0.6193495549306451,0.5900017316501593,0.609643321360121,0.6421041517979901,0.6193389381513362,0.35393548726839863,0.4885542861428671,0.4019517578203019,0.5042501233383075,0.553415829334073,0.37146078558153245],[0.8757985254009336,0.8451252520208128,0.8194993064329339,0.752740685619005,0.7928912978131525,0.7696533870621594,0.8235408224231201,0.7894787791012511,0.7685320003793885,0.7451081835472377,0.7446348820789236,0.7141617252850978,0.749526768328772,0.7625991384148801,0.7693627318011872,0.8105608802517618,0.8328326787190511,0.8361566406126195,1.0000000000000004,0.8372948594451237,0.893119962813882,0.7760323836415376,0.8092096774110096,0.9028363302111627,0.8475822058768626,0.8627020384710438,0.8595757426175169,0.8877402881436472,0.7779128381579811,0.7746892627094119,0.6785812642838175,0.6505022910957493,0.6123660985527005,0.6094588930617285,0.49841872847247887,0.6888225075903799,0.7189294840272255,0.6824581000599131,0.7022775809737464,0.6577204039265692,0.7102694342731366,0.7278522707773639,0.5264889358880183,0.6706961139625144,0.6338808662143134,0.5498792987955528,0.6038060338531622,0.5815197305885709,0.6417004087383634,0.7178908786736966,0.5125848056852111,0.6225385691390409,0.5637931853168876,0.5071170323021991,0.7305184079843948,0.649239779141817,0.6081442686208692,0.6112520570981473,0.6335078052404486,0.6058778675736777,0.6025953588651397,0.6100028698814879,0.5809341694826227,0.5745956786205036,0.38621215689960464,0.5133403682946878,0.4263959078351375,0.5211229144177657,0.5811817339029349,0.4455392777113138],[0.7700549549509822,0.8064356483838969,0.7601734654959643,0.699544013826152,0.7385467980417877,0.7336966480800811,0.8042195333582457,0.7423251798983856,0.7484495051015557,0.7520624387758902,0.6917454354081053,0.7296228588979294,0.7590196748912449,0.7563437604806281,0.7899255291237243,0.7122182178427647,0.88644901607065,0.84006121114292,0.8372948594451237,0.9999999999999993,0.881205458169829,0.8562084111285932,0.8873273417847991,0.8886366228864162,0.8022083121015261,0.9156885001186581,0.8393605710398601,0.8141708121472722,0.794179059707425,0.7879380234620741,0.6637926076088658,0.6665663514617769,0.6053416889391122,0.7860060256399273,0.7345859017747165,0.6997743248331588,0.6706425157926557,0.6482005470711136,0.6946006514338471,0.6462680426249385,0.7563554229778121,0.7498073033607843,0.5117742897081384,0.6498783658603647,0.6133056394488953,0.5736475633655297,0.609734678133648,0.6172032376206352,0.6782363626273639,0.6200541163484552,0.483183446742224,0.6347451729892213,0.5223585343765921,0.47377394020381824,0.761961341967342,0.7033398668653147,0.5963050987892907,0.5986885800570679,0.5928920363117872,0.5675243680821711,0.5853467802207013,0.595362223710704,0.6324237413974367,0.5952841646213404,0.412120463609852,0.5556193740083137,0.43614102929131554,0.468998767656183,0.5446100842862877,0.40010925188062896],[0.874206618679455,0.8456387160563906,0.8347326409650407,0.751320466221845,0.8061300012071333,0.771707335772724,0.857803948776878,0.7985895498701274,0.7938766895345735,0.7780618572541578,0.7560674843049555,0.7594218651683591,0.7969789200506336,0.7845715684304186,0.7956789922816961,0.814048840686453,0.930938226491375,0.8919062203921064,0.893119962813882,0.881205458169829,1.0000000000000004,0.8496578813315944,0.8842497913788083,0.924516036230663,0.8779215480673632,0.9439720266356281,0.9088148400785436,0.9189795844541381,0.8012442320128296,0.8376145059785522,0.6938236963773935,0.6479379248739282,0.6120842239156002,0.556783949418071,0.5366683505619924,0.7218731899771308,0.7386906301713201,0.7086496119415326,0.7239002452680314,0.6886270591859572,0.7647910004021451,0.7824259856094437,0.5424073406997924,0.7176168816694993,0.655571302749597,0.5642399627639725,0.6154483535724431,0.6353597613514024,0.7218540186880338,0.6773168429382932,0.5070282250919881,0.643747704034607,0.5410060711870859,0.5202928139854908,0.8040609702570141,0.7304316472472248,0.6132207032900657,0.6094070978565961,0.6511800304816562,0.599324364620388,0.6197328132466062,0.639345953683068,0.6447852821151623,0.6421476656386129,0.3927553616780324,0.5276637867163781,0.42090410428826946,0.4940708542184111,0.5676829073843075,0.4096832343789707],[0.7953422364468401,0.75365500919138,0.7740146237690507,0.6768905806936024,0.7683843869066092,0.6981639437002375,0.7589396471819989,0.7163507554243437,0.7234627998424495,0.6967421173060192,0.6525993697025154,0.7034524098717837,0.7411046698041341,0.6845014760426028,0.7604416319307099,0.7139908889498018,0.8687591274739891,0.8133013985691363,0.7760323836415376,0.8562084111285932,0.8496578813315944,1.0000000000000002,0.8874706892539969,0.8242176549116144,0.780724106914049,0.8838200961357254,0.830671967987485,0.8086813644735396,0.7934380243063529,0.7473484365220471,0.6286780098242432,0.6282435588400451,0.5790549833041388,0.519690240179507,0.5314957053516651,0.6388462583669018,0.6395104015903611,0.6597434515200243,0.6692609169852526,0.621845476227563,0.746393171358151,0.797300574259704,0.47354242737538543,0.6568553541316996,0.6262702724165097,0.58377708106303,0.5853540575225061,0.5785886265699454,0.7545566187560488,0.5820723608399173,0.44387873316582044,0.568285358462608,0.4395069544263897,0.4553113645799555,0.7247529207093976,0.6782016998735866,0.5881319926066206,0.5800628725950684,0.5661155459241749,0.5423850457226729,0.5735058496081499,0.5912970685669754,0.5367853649689799,0.605498371436697,0.36455966715532107,0.5065386484748262,0.37393194737489943,0.4812650557223931,0.5268989027621305,0.4037268401711215],[0.770993184691318,0.7903516545349404,0.7788689400397618,0.7151623287577571,0.7858249137762148,0.732805551425226,0.7884521174852275,0.7241683936471662,0.7241882953012307,0.7646739884573753,0.717815582729248,0.7169764130167232,0.8150587724886493,0.7958322846399801,0.844648504967834,0.749359985339299,0.9053950987770698,0.8545986520099822,0.8092096774110096,0.8873273417847991,0.8842497913788083,0.8874706892539969,0.9999999999999987,0.8706559168568925,0.7875028168874696,0.8994367798207138,0.8527634939609032,0.8158121446961139,0.8692975112669379,0.8285128648808722,0.6787759389000215,0.6852524745875432,0.6437586344998002,0.557371430839668,0.5912261593668799,0.707934305480589,0.6547961336550229,0.7101906883847325,0.6793643599691972,0.6462755380375962,0.7512060734290266,0.7401244550090974,0.5417548790787848,0.6605865170582041,0.6270174732964813,0.6193471033961231,0.6435629456729046,0.6405928512785296,0.8066828954232507,0.6192304205943465,0.4581702370098449,0.6206021612665085,0.499458334072295,0.4726165177010683,0.7976961252890428,0.7518737344223808,0.6080574737171096,0.6291099361489045,0.6710162949797842,0.6357844007922627,0.6098150076807725,0.6798557175308785,0.6552065916352761,0.6729553680448414,0.4041188805658251,0.5310925236906039,0.4340760955190074,0.4762262045573344,0.5208810012423502,0.420255033500344],[0.8584770592206503,0.8683610298986385,0.8245625285059915,0.7713933699545287,0.8128683801125199,0.7891541391375362,0.8526201818801658,0.8095276115523826,0.8152506228834049,0.7676814577943419,0.7232628433378497,0.7217579458342213,0.7555828243811421,0.7852511129969506,0.7825052974335887,0.7870772248367427,0.8455594055680202,0.8524730516425664,0.9028363302111627,0.8886366228864162,0.924516036230663,0.8242176549116144,0.8706559168568925,1.000000000000001,0.8456072175253649,0.9083595030179569,0.8742884646437956,0.9082729743972606,0.8049899821861891,0.78948675250989,0.6860429125989836,0.6406514703399575,0.6100249080070776,0.5682330333913941,0.502928740203595,0.7120766280754992,0.7097561004213386,0.7126179882487257,0.7192391390551869,0.664510382619646,0.764209779976096,0.760869046355811,0.5121663668104641,0.6698845205051586,0.6239997412694869,0.5296113282349413,0.6187442327945982,0.5983286556641647,0.6447205631554614,0.6847179795289069,0.4908362550927139,0.639719054428427,0.5200647962024588,0.49916574086458565,0.7383189448890436,0.6620030326855694,0.6165726387988264,0.604536000723434,0.6315075479760389,0.5985986341086582,0.6160959880484618,0.6097621774418609,0.5996078144779787,0.5629706430170891,0.4000548607707799,0.5478669934317502,0.4015563814234451,0.492676289920257,0.5838274472970313,0.38949457156933026],[0.8428788782916972,0.7961026826751835,0.8086532422705844,0.6954005725986937,0.7567131311868217,0.7328819333384191,0.7980269882884664,0.7563312351153763,0.7595065777151072,0.7678194929487164,0.7999222081311842,0.7433787680607048,0.7246865363777838,0.7436951856633327,0.7486434887521843,0.7314808512025107,0.8107340632880159,0.8121751794773536,0.8475822058768626,0.8022083121015261,0.8779215480673632,0.780724106914049,0.7875028168874696,0.8456072175253649,1.0000000000000007,0.8527163913418521,0.8331769634505186,0.8673378439038216,0.7340527955376132,0.7446855210321381,0.6663202304826207,0.6116583749106915,0.597126510678917,0.5510043523549957,0.4958894443221896,0.6605257301725643,0.7113369706150414,0.6222546256573365,0.6929948456032474,0.6719022373369881,0.7337265214672649,0.7452499868001047,0.5778916106750334,0.7502669296990125,0.6523078841569719,0.5666210475879613,0.6118179885196101,0.6349044031657135,0.6480313879952325,0.7108230766623982,0.6144356569638197,0.6290489277243215,0.5274984311148192,0.5023774416047723,0.7309922299401809,0.6565019466120648,0.5932273792274856,0.614083990700824,0.6247782783395044,0.5604799028922095,0.5903317755810075,0.5921903553644191,0.6081857140154491,0.588372114547615,0.3845439920939597,0.5048191967829879,0.4594160774866976,0.5149681667137643,0.534766879359502,0.4517663379661525],[0.8037332447728095,0.826424805012843,0.8053355765856038,0.7202365291710163,0.7563920309603438,0.750819285842731,0.815656888117608,0.7578407199344969,0.7847109958345887,0.7652415666484008,0.7456707522844032,0.7630224846643124,0.7820043323154586,0.7529717623382817,0.7833491916459023,0.780264500139146,0.9533065624935615,0.8828781062885703,0.8627020384710438,0.9156885001186581,0.9439720266356281,0.8838200961357254,0.8994367798207138,0.9083595030179569,0.8527163913418521,0.9999999999999998,0.8809034103360264,0.8869469929926548,0.8103582571108848,0.8438802659968855,0.6697838722275826,0.6653481089569979,0.6126434649116328,0.5882278898602407,0.5734850418261652,0.7273636630412095,0.6849269283441076,0.6892160696782538,0.6992988898829916,0.6580169865116211,0.7925320189388538,0.7834291382036489,0.5124890645433254,0.6772527498818306,0.622705051403249,0.5786448330131008,0.6359760114016878,0.6438012877084275,0.72966984735073,0.6326337781200803,0.48198604041579113,0.6346096250648948,0.5715649008454656,0.5067775559735594,0.7845256592482779,0.7210380719671312,0.5887966240696083,0.6015269766564957,0.6029447194429948,0.5885206757848345,0.5945962488809114,0.6240898933281732,0.6295114098578243,0.6442231468683662,0.39474481878898443,0.5366749587719145,0.4269967708286303,0.4796342706377272,0.540760855572782,0.36102919477101425],[0.8401120004728452,0.8030188797043118,0.8004770919610946,0.7121758887233473,0.7759176583181386,0.725166847935273,0.7888127343063304,0.7906145799218903,0.7710681816456874,0.7160286514714896,0.7127578885400265,0.7423168005313688,0.9061903816618303,0.7416333528693412,0.8212530331779554,0.7773536871236736,0.8677947674614669,0.8708555109445781,0.8595757426175169,0.8393605710398601,0.9088148400785436,0.830671967987485,0.8527634939609032,0.8742884646437956,0.8331769634505186,0.8809034103360264,1.0,0.8909938710479655,0.7933391483913743,0.7965157269952785,0.711709977318683,0.659103148497107,0.6527261739462038,0.5387563808568936,0.5294799758400035,0.6978460574636504,0.6921763041616521,0.6551610650053844,0.7132320761846012,0.6748751287177615,0.7374882051165397,0.7601328070150107,0.5283107897590998,0.6795692663005747,0.6158516099715453,0.5645856638279666,0.6144125864261852,0.6739587054803916,0.7146739770641374,0.6467352092377987,0.4709993535343712,0.5920578163953656,0.5074934441362146,0.45776350791316966,0.7443781424995912,0.7205662342219907,0.5994898880249555,0.6153930375244746,0.6327424515060788,0.5651475538408511,0.5847208552472949,0.6083091198583682,0.554097851330026,0.5845642397820436,0.3973297249793756,0.5306348368697772,0.4387692808996526,0.4855283744575509,0.5738798740558649,0.3743438298345891],[0.8969083254907709,0.8397143586282102,0.862244574873125,0.7361074657875702,0.8056410416501583,0.7367258232058538,0.8209613573515852,0.8035944337624813,0.8059707002490974,0.7473992074199063,0.7742543201544955,0.7233030097921059,0.7477194736043896,0.7591282314538375,0.7466078735642798,0.811331011592086,0.8244293425824158,0.8305990904764478,0.8877402881436472,0.8141708121472722,0.9189795844541381,0.8086813644735396,0.8158121446961139,0.9082729743972606,0.8673378439038216,0.8869469929926548,0.8909938710479655,1.0000000000000004,0.7755897363089079,0.790535488924362,0.6676596045733887,0.6117308212951554,0.5870950858369353,0.5219425731013351,0.4496328001064878,0.6902329550894829,0.7267888277654588,0.6870421453983072,0.7199588897158197,0.6876066289400734,0.7310607316505827,0.7361958281376566,0.5165574341553224,0.7010371340567159,0.6172868314219764,0.5149843126778718,0.5934634253829388,0.5880637258624462,0.6895222699975644,0.6842029528951531,0.48466713354948054,0.5978896142922006,0.5246103833804544,0.4912233673551709,0.7111217069363003,0.6486746541812927,0.5921742413958004,0.6143716111368901,0.6468828900159009,0.599362225849357,0.6010689118834857,0.5816942759302737,0.5453514651334007,0.5855667932349293,0.3863663927701743,0.5145271645273417,0.3931477494961898,0.49842430997841236,0.6159510405866168,0.39797913170062876],[0.7126381852978146,0.7365026058939954,0.7470891485276421,0.6992990960082468,0.7437407668155199,0.7343425552651778,0.7107462636664273,0.7039567266971763,0.6797977618357259,0.7417216052206824,0.6781033854802435,0.7203299677681657,0.7283878677050784,0.7201195751745442,0.7323132826626213,0.7453693064845917,0.7967749190091381,0.7763338355969217,0.7779128381579811,0.794179059707425,0.8012442320128296,0.7934380243063529,0.8692975112669379,0.8049899821861891,0.7340527955376132,0.8103582571108848,0.7933391483913743,0.7755897363089079,0.9999999999999999,0.7647479497691935,0.6384608121841711,0.6797544791984933,0.6504663006243271,0.5557644515631874,0.537220898452121,0.6997734922036357,0.6226263860625365,0.6743925267356246,0.6468652022952878,0.6567671292807951,0.68518390307912,0.7114369172343501,0.5196989519928232,0.6356509167005889,0.5830196784902669,0.6126889035148013,0.5905009081960562,0.5820072628990024,0.7783723763898138,0.5823369752592289,0.4641420001827104,0.5822053473274938,0.551160031869612,0.486962507111922,0.7338809317398564,0.6774272600690464,0.6244820371815926,0.6107556340852188,0.6608337567991304,0.6831669833560887,0.5953789950361632,0.712778502123431,0.5564191386802163,0.6127909295134243,0.43980569801338937,0.5533419507631523,0.3923158278315871,0.48424179080347696,0.5295988356693572,0.4189536478077774],[0.7359526812756346,0.7209305842340171,0.7330851416093304,0.642523231711014,0.7197718039644411,0.6930104539600852,0.717817356823707,0.6890507896721576,0.7143037270719064,0.7034776112437934,0.7446780010491499,0.7241899006065113,0.748767413174197,0.7211655135224105,0.7358036053693373,0.7551005449653352,0.8451792979101808,0.8187914851459135,0.7746892627094119,0.7879380234620741,0.8376145059785522,0.7473484365220471,0.8285128648808722,0.78948675250989,0.7446855210321381,0.8438802659968855,0.7965157269952785,0.790535488924362,0.7647479497691935,1.0,0.6514887995577906,0.6599911038841906,0.6254379036842777,0.5417397091270253,0.5852922208654578,0.6860583495643068,0.674712981931107,0.6673244048683599,0.6314074366924606,0.6177210675164121,0.6956869696602316,0.6775804539957094,0.519368618862041,0.6389415359493055,0.5771873477275637,0.5730389620412555,0.600934827047047,0.6638053232978249,0.7091116779898339,0.5944970066680453,0.45948915913371036,0.6129382154557055,0.4960668293496353,0.46056766402079935,0.7625176696840856,0.7043590120836986,0.5948251516091156,0.5674566357396407,0.6357773528726602,0.592387089703597,0.5699056696958961,0.6381009549809518,0.6239653480494644,0.5841564006401518,0.39170811539960104,0.5184454081726912,0.41698250492505196,0.4656896126157275,0.5501597893647642,0.35356517557426365],[0.6402948579754454,0.6220315278647359,0.6271304771283923,0.6126684113399756,0.6390171071277375,0.6032767970791899,0.6620168159146589,0.645324701096979,0.6367709977764031,0.6133132282477582,0.6316957027814872,0.6077180544581197,0.6491590497842263,0.6789186034894464,0.6395378352981257,0.6149610983581846,0.643561476388327,0.6550891989549426,0.6785812642838175,0.6637926076088658,0.6938236963773935,0.6286780098242432,0.6787759389000215,0.6860429125989836,0.6663202304826207,0.6697838722275826,0.711709977318683,0.6676596045733887,0.6384608121841711,0.6514887995577906,1.0,0.5468044396670412,0.6933355182754976,0.4635998188371215,0.45545856316855804,0.5869078632649437,0.5686543178323278,0.5879845008763086,0.5510383708710475,0.5896689467122453,0.5741767523312247,0.60218639145061,0.48969553810565325,0.5531404902221003,0.5455280707414288,0.5065427435914298,0.5195697397586296,0.5575980959584074,0.5566977328351563,0.5226700426879775,0.41277169479810805,0.5116111769005468,0.4479011143468983,0.44656598625349886,0.6378421963720968,0.5642811992481916,0.5664999021341828,0.519608257696086,0.5967150211443915,0.6101570910531979,0.5438515790879228,0.55256195505092,0.545874202333483,0.4256064923515155,0.39450010409312486,0.508223397887195,0.35985526322358213,0.485787240280285,0.47010478948127415,0.42357410406365886],[0.5681746724459154,0.5606924470611621,0.5837677811489003,0.5451797513559986,0.6065437671891929,0.5704756216475674,0.6124952861383058,0.5943693781997591,0.5490575634819268,0.6255574921902629,0.583344654181399,0.5564428063913989,0.5737702447242844,0.6210042861453491,0.8280196512937543,0.6047218920850954,0.6669328116323311,0.6377237964554622,0.6505022910957493,0.6665663514617769,0.6479379248739282,0.6282435588400451,0.6852524745875432,0.6406514703399575,0.6116583749106915,0.6653481089569979,0.659103148497107,0.6117308212951554,0.6797544791984933,0.6599911038841906,0.5468044396670412,0.9999999999999993,0.6040104657307128,0.5150536774545946,0.5214117643818426,0.5766832644628379,0.5302475242639099,0.5632919262595013,0.5061527007235277,0.5217784191201623,0.5530456174398858,0.5545663965288279,0.40205499181688825,0.569712459843782,0.5037011352623934,0.5864643400449956,0.4808566167869088,0.46474194596101803,0.5414831864575587,0.469030272464275,0.40257057266873353,0.5178679375197311,0.43351699745664984,0.38516842871834356,0.6453463823585137,0.589091415157682,0.5524601415351956,0.5151826778284919,0.5053921809094828,0.47389734139458817,0.4696113735234886,0.5383968245836782,0.5131610537778346,0.41618910117570435,0.3769837054003988,0.46378665141675374,0.3646266212945361,0.39444289913864267,0.4515409562042603,0.3605248240595419],[0.5394830680807209,0.5528772563356885,0.6194336658688198,0.608960793675693,0.6420565828047075,0.5495832315193713,0.5571816356056624,0.5806104334792821,0.5224480919059222,0.5918436499732339,0.5493107106762101,0.5774660314050223,0.6075852361704221,0.558191739810904,0.6225497679024303,0.5411650265621877,0.5894697830739023,0.6052232954353703,0.6123660985527005,0.6053416889391122,0.6120842239156002,0.5790549833041388,0.6437586344998002,0.6100249080070776,0.597126510678917,0.6126434649116328,0.6527261739462038,0.5870950858369353,0.6504663006243271,0.6254379036842777,0.6933355182754976,0.6040104657307128,1.0000000000000002,0.47078560473817976,0.4753668146444951,0.5458755464856309,0.4998143806262922,0.562819688052138,0.5387915200121985,0.5727244105868847,0.5761261438758916,0.6084513323211758,0.3783483831837563,0.4760799745343797,0.48784437113960527,0.4863036010384926,0.470348171277511,0.47165354580169433,0.4997915764628935,0.4197281683558524,0.3887467597087756,0.4812362008598232,0.41644818939158773,0.36637721325794836,0.5944154492790958,0.5646995437335374,0.5327596287675996,0.5399841241095934,0.6022256329648645,0.5862423250380157,0.558257572459857,0.5559835828785165,0.49720394877841184,0.4012119538893043,0.5008175255627209,0.5723740005464674,0.3711197177684725,0.3908224067978613,0.42486328074718105,0.34961630824643775],[0.5092824930866281,0.512650700294672,0.5039910577092734,0.46800642391549085,0.50081052474878,0.487206044460294,0.5133639870822663,0.5271071221421716,0.49094181057177994,0.5417494253279175,0.5038049018900002,0.5231207582818871,0.5098556435657232,0.4975061885980745,0.5479789738433296,0.5036794588020773,0.5737340682838767,0.5422606304252506,0.6094588930617285,0.7860060256399273,0.556783949418071,0.519690240179507,0.557371430839668,0.5682330333913941,0.5510043523549957,0.5882278898602407,0.5387563808568936,0.5219425731013351,0.5557644515631874,0.5417397091270253,0.4635998188371215,0.5150536774545946,0.47078560473817976,1.0000000000000002,0.7838578517170329,0.5070728396493572,0.4890272762906288,0.43882835779316787,0.5079472468114963,0.4946102620709588,0.5336226861291021,0.5159880498332133,0.3965509563878675,0.42802877902418457,0.4317883448575254,0.40753428954161797,0.40992251660068624,0.4289562870945193,0.3766883590519148,0.4324615667765661,0.3819025341732881,0.4613785954184441,0.4061377465420037,0.3453638723320744,0.5224601238762836,0.47859427554680145,0.463704926436564,0.47745420495748464,0.45153017212868857,0.4131818568346818,0.4358092255037903,0.4497695613629614,0.47136929121244237,0.4022475884299416,0.4052523518654496,0.49802567148748333,0.3788920659348166,0.3512048647611542,0.4206118266916169,0.3401762833945069],[0.44349669050398066,0.4421884430369955,0.46084453094408595,0.43817881866778613,0.4654436392172444,0.4372903433039753,0.4712271838887818,0.4573751062756064,0.4322837473719774,0.5137599214187175,0.4545488121857573,0.5125847340831373,0.5279590517320917,0.5221900547024383,0.5243902838135442,0.4439451556097163,0.6082764928794093,0.6959401345225128,0.49841872847247887,0.7345859017747165,0.5366683505619924,0.5314957053516651,0.5912261593668799,0.502928740203595,0.4958894443221896,0.5734850418261652,0.5294799758400035,0.4496328001064878,0.537220898452121,0.5852922208654578,0.45545856316855804,0.5214117643818426,0.4753668146444951,0.7838578517170329,1.0000000000000002,0.49518592956779467,0.4455700512678516,0.4336971251058003,0.4861805932059017,0.47083200504816575,0.54951288804961,0.5176407762056113,0.35907282309786664,0.43253636887958785,0.42921525364283847,0.4912495649734671,0.4012751562743537,0.477352165811042,0.4604697222113338,0.3831374620720292,0.3829980197151328,0.4991319265406881,0.39047797830477726,0.3013376155648153,0.7025235706691808,0.7444692338663624,0.48548220544131754,0.4219387586714608,0.478792082064019,0.4604840805865524,0.4488457304865319,0.4487688117498667,0.5610312825977255,0.48015663467905845,0.3324910605764281,0.430564661251225,0.32245889438770736,0.39333599734262725,0.3811278541099825,0.314078376931497],[0.6350376049978184,0.6481481808674127,0.649921033150635,0.6542620649832465,0.6655953857553598,0.6188601476173606,0.6489013851889248,0.6573716314520672,0.6709029802329357,0.6806347068963519,0.6040036632585709,0.6640621511873778,0.6230046546471075,0.6583085276880493,0.6340081519239766,0.6390910326039925,0.6964477828450762,0.6792156008169825,0.6888225075903799,0.6997743248331588,0.7218731899771308,0.6388462583669018,0.707934305480589,0.7120766280754992,0.6605257301725643,0.7273636630412095,0.6978460574636504,0.6902329550894829,0.6997734922036357,0.6860583495643068,0.5869078632649437,0.5766832644628379,0.5458755464856309,0.5070728396493572,0.49518592956779467,1.0000000000000007,0.6395570358730621,0.577059469429332,0.5680051915185996,0.6294655324549829,0.6092678802488465,0.6131468210632107,0.4630285746318821,0.608892961201651,0.5044479954509659,0.4987546864483773,0.6217377771569423,0.5410412469693768,0.6301891292538992,0.5549066552987028,0.42619331529015714,0.5621420219561861,0.527668957628646,0.4241312348698665,0.6426723106707369,0.5954967601474305,0.6343446434278186,0.545869351109702,0.5973292955733673,0.5900798020948393,0.567770198178434,0.5735439166144721,0.5063404783401527,0.515210167349119,0.39807892792012617,0.5121596976178773,0.3843005112349014,0.43763629943402604,0.5271917336579002,0.3307927773073534],[0.7108444667643221,0.6851870287063252,0.6569371439552658,0.6275488405433767,0.6611988979910163,0.597854162826497,0.7040769376584071,0.714860176007052,0.6749843232291001,0.6175920771575278,0.6860015295624001,0.5785107280236019,0.598656287090832,0.6642688541264751,0.637459197025484,0.6470321778768641,0.6458965356606152,0.6646461779710972,0.7189294840272255,0.6706425157926557,0.7386906301713201,0.6395104015903611,0.6547961336550229,0.7097561004213386,0.7113369706150414,0.6849269283441076,0.6921763041616521,0.7267888277654588,0.6226263860625365,0.674712981931107,0.5686543178323278,0.5302475242639099,0.4998143806262922,0.4890272762906288,0.4455700512678516,0.6395570358730621,1.0000000000000002,0.5782865125768639,0.5978064917059419,0.6525405465293591,0.6014411750155716,0.6426183529974578,0.4787016894981418,0.6091097741165876,0.5865318200264339,0.4970088164469588,0.545445725742202,0.5207909099221816,0.548256130418278,0.6301155846045886,0.48739847620719845,0.5871983781847488,0.46205666063926315,0.4777146834661953,0.6507128675431058,0.5969316505727967,0.6129391473915282,0.502975415865497,0.5838083434465468,0.5245565584244581,0.5032037770090279,0.5377580896932164,0.506551749211404,0.46320513648101797,0.3285101632162019,0.42697892666154447,0.36622400436785285,0.47438025400641126,0.5159111890741335,0.5638295373111077],[0.6243752939159128,0.647047439824242,0.6422950210497891,0.690179133028235,0.7293964009276727,0.5966531466692374,0.6483885395960906,0.6423418072811286,0.591306580706028,0.6264599079952293,0.6289048938039672,0.5752265577052998,0.5588108696105535,0.6973704754010538,0.6249142499526745,0.6587536974573787,0.6822905899053953,0.6641080328206499,0.6824581000599131,0.6482005470711136,0.7086496119415326,0.6597434515200243,0.7101906883847325,0.7126179882487257,0.6222546256573365,0.6892160696782538,0.6551610650053844,0.6870421453983072,0.6743925267356246,0.6673244048683599,0.5879845008763086,0.5632919262595013,0.562819688052138,0.43882835779316787,0.4336971251058003,0.577059469429332,0.5782865125768639,0.9999999999999998,0.5611553493244786,0.5759854621303342,0.6039855147837341,0.6123429001913923,0.4576508493408848,0.5345110826812448,0.5556216870474023,0.4347177002324044,0.5459550356455396,0.5114421614228094,0.5505891174089124,0.4862078572320904,0.40975297905456315,0.5420806448794764,0.4180571674853983,0.39526910578842706,0.6435301487443734,0.5978306233751944,0.5588282920254832,0.5659679109957526,0.573465419938693,0.5204386198565258,0.5836951363801457,0.5769454324147345,0.59934053482403,0.5403454945556511,0.4335373321174838,0.5294010514107313,0.33804280375259144,0.44181622939341714,0.4992731974394268,0.34808763404074006],[0.706711747870774,0.665245558605233,0.7048894384155053,0.5906758984047193,0.6483025606881685,0.6255898875187959,0.6496899186945124,0.6590980052275419,0.6387852405163453,0.6312992990474421,0.5904284984241993,0.6158058515058275,0.6295820247211775,0.6449625454174239,0.6155410574605453,0.6478247073208754,0.6863807721895194,0.7006956657960154,0.7022775809737464,0.6946006514338471,0.7239002452680314,0.6692609169852526,0.6793643599691972,0.7192391390551869,0.6929948456032474,0.6992988898829916,0.7132320761846012,0.7199588897158197,0.6468652022952878,0.6314074366924606,0.5510383708710475,0.5061527007235277,0.5387915200121985,0.5079472468114963,0.4861805932059017,0.5680051915185996,0.5978064917059419,0.5611553493244786,1.0000000000000002,0.8216073184846194,0.9437961504692982,0.9058720051213779,0.4468138373869868,0.5229495010702053,0.5308360801405809,0.48975660462646703,0.5316767464523366,0.5052244808030943,0.5267064334183726,0.6078296300230778,0.39691450049068266,0.4907998847570334,0.4335875059861909,0.4303882938193942,0.6455626891360035,0.6416782829408454,0.5426382878221482,0.5477766074114644,0.6155194319980632,0.5365247277181252,0.5331382688965904,0.5261288989951747,0.5126043980115909,0.49442211414343173,0.40274237264126905,0.5146778924595521,0.3933475340479945,0.4021960334526727,0.49513024648833626,0.33816666825765096],[0.644736574006851,0.6174885013787835,0.6674471308986455,0.6124828014231231,0.6288454984082628,0.6527676674117329,0.6415225270407956,0.8251951485870446,0.6239310969455161,0.652919972585632,0.6252607338439214,0.693386129640546,0.6107423172829779,0.6190644600687554,0.5950541697997476,0.6484817008330471,0.6178127211277941,0.6299529424463098,0.6577204039265692,0.6462680426249385,0.6886270591859572,0.621845476227563,0.6462755380375962,0.664510382619646,0.6719022373369881,0.6580169865116211,0.6748751287177615,0.6876066289400734,0.6567671292807951,0.6177210675164121,0.5896689467122453,0.5217784191201623,0.5727244105868847,0.4946102620709588,0.47083200504816575,0.6294655324549829,0.6525405465293591,0.5759854621303342,0.8216073184846194,0.9999999999999992,0.7871411291441686,0.8064326299231525,0.45414439764765774,0.5614861146385782,0.5598684411358854,0.5317091869921539,0.5608965925742558,0.5272614993342035,0.5429921958627595,0.5911831072576771,0.5478048189884439,0.5945347512095782,0.5734638529662716,0.5009814717851426,0.633643822217142,0.6709235854200107,0.6966690949610537,0.6144865617121114,0.66612542125319,0.592509436517585,0.56884300699715,0.623868222289079,0.5186402233302924,0.5082700539838617,0.39832166552623083,0.4907486689231053,0.3835471620712627,0.4707642465148709,0.478133506352732,0.420950079152942],[0.7158529630396996,0.691163612702651,0.724442929314686,0.6076360629280021,0.6704963348790092,0.6514017180461799,0.6712807658680654,0.6600507794253679,0.6725722389197814,0.6643805820669748,0.6090245080594476,0.671014042853631,0.6670309700807252,0.6802437318186894,0.6591717913116082,0.6578688060152686,0.7762585715765767,0.7541870881077963,0.7102694342731366,0.7563554229778121,0.7647910004021451,0.746393171358151,0.7512060734290266,0.764209779976096,0.7337265214672649,0.7925320189388538,0.7374882051165397,0.7310607316505827,0.68518390307912,0.6956869696602316,0.5741767523312247,0.5530456174398858,0.5761261438758916,0.5336226861291021,0.54951288804961,0.6092678802488465,0.6014411750155716,0.6039855147837341,0.9437961504692982,0.7871411291441686,0.9999999999999996,0.9306362264847561,0.46268622986930047,0.552439722362905,0.5517734656105936,0.5164123886961429,0.564355119882752,0.5472148348201583,0.5587213150356477,0.6012860303714476,0.4281732692865638,0.5549386448217618,0.4492173062293218,0.41848031673480135,0.6980234826292235,0.6971337169676586,0.5681576052137115,0.5541983481132958,0.6072678921048881,0.5416942020384817,0.5471603184629464,0.5686016028452215,0.5825364763940686,0.5389691347882292,0.4193799546917628,0.5419987684930154,0.412712293109046,0.4058927007074507,0.4811593603865447,0.3194110021517098],[0.7125562228367325,0.7076688996619659,0.7225955994197644,0.6523337784343946,0.684928461910609,0.7538026882292075,0.6971936992536172,0.6995577598769417,0.6766411120916644,0.6644117832613952,0.6333726827673378,0.7022484679234059,0.6704786561097428,0.6994028495060389,0.6515225584175833,0.673318489787607,0.7504857535371788,0.7452973215796033,0.7278522707773639,0.7498073033607843,0.7824259856094437,0.797300574259704,0.7401244550090974,0.760869046355811,0.7452499868001047,0.7834291382036489,0.7601328070150107,0.7361958281376566,0.7114369172343501,0.6775804539957094,0.60218639145061,0.5545663965288279,0.6084513323211758,0.5159880498332133,0.5176407762056113,0.6131468210632107,0.6426183529974578,0.6123429001913923,0.9058720051213779,0.8064326299231525,0.9306362264847561,1.0000000000000004,0.4796037412452282,0.595624818695373,0.6290520346074434,0.5445083799160684,0.5743175234181139,0.5497052207478026,0.5883568693660266,0.6209149761740028,0.44799131450075563,0.5422690402028643,0.47624076271483196,0.47113814369949747,0.6990690615311901,0.6894507853981225,0.6097235256946459,0.5658055522256813,0.6099387672598919,0.5656363080308728,0.5866554708365203,0.5875926406050094,0.5676143929621796,0.5418967029763402,0.41005821476527304,0.5350170764882893,0.4138584380770468,0.4509213737830031,0.5023238259418233,0.3691650075955858],[0.5227722179855698,0.5149720350615109,0.5003859752135005,0.4604021287574606,0.4753479424422338,0.5056738381317274,0.4931240262009906,0.4746395548173099,0.4851645340902043,0.49342775654074883,0.727041208104681,0.6219800557174511,0.47401809608990153,0.5505272400155509,0.49473359751252793,0.5225318021382237,0.5011938987845058,0.5040821332496119,0.5264889358880183,0.5117742897081384,0.5424073406997924,0.47354242737538543,0.5417548790787848,0.5121663668104641,0.5778916106750334,0.5124890645433254,0.5283107897590998,0.5165574341553224,0.5196989519928232,0.519368618862041,0.48969553810565325,0.40205499181688825,0.3783483831837563,0.3965509563878675,0.35907282309786664,0.4630285746318821,0.4787016894981418,0.4576508493408848,0.4468138373869868,0.45414439764765774,0.46268622986930047,0.4796037412452282,1.0000000000000009,0.4918420937631548,0.45363353795364464,0.4290642345744744,0.5159144155073776,0.5081343901257535,0.48706383151879146,0.6678553349092223,0.3359051783328706,0.39481609227431186,0.3635028146545303,0.3861465572938542,0.4950603144440666,0.45569013896781563,0.4528499985258383,0.4584469966200511,0.45197614636235905,0.38769589243457186,0.38795414975743303,0.39348233572918306,0.40618626457051765,0.40305446896721736,0.2766554403554757,0.3624443622552642,0.358186709685793,0.3866019604849127,0.33043900681277893,0.3214745611566565],[0.6982792900049013,0.6484818470362343,0.6441034805164108,0.5759645826295646,0.5929845495651053,0.586001891898767,0.6860207433491134,0.6295589342166497,0.5940336736253193,0.6076109352908646,0.6391013753685445,0.6089488446338374,0.5626923632057762,0.6300889764512196,0.6434966525002529,0.6319551806734431,0.6595033737120516,0.67385848723697,0.6706961139625144,0.6498783658603647,0.7176168816694993,0.6568553541316996,0.6605865170582041,0.6698845205051586,0.7502669296990125,0.6772527498818306,0.6795692663005747,0.7010371340567159,0.6356509167005889,0.6389415359493055,0.5531404902221003,0.569712459843782,0.4760799745343797,0.42802877902418457,0.43253636887958785,0.608892961201651,0.6091097741165876,0.5345110826812448,0.5229495010702053,0.5614861146385782,0.552439722362905,0.595624818695373,0.4918420937631548,0.9999999999999996,0.6552375516103236,0.5984863629150935,0.49477492303134146,0.4812119982375251,0.5538180544646688,0.5676234329043075,0.5207925018574856,0.5792209588759448,0.40773854873887316,0.4387827031771113,0.6768637847154306,0.6062510336037833,0.5067986367804481,0.4933651278959222,0.5219247738173228,0.4762624383183598,0.44187903644757953,0.538828946426079,0.4930059446733587,0.4787513111695257,0.29474779031567333,0.3761247033342905,0.3559110771116071,0.46987722330253484,0.4647659363933609,0.46458116770788205],[0.5987881234298156,0.6023085840077882,0.5856312501823221,0.5822597471522862,0.5707770382374663,0.5511288387971554,0.6388653241855711,0.6113722387358846,0.5895274746219825,0.5638406090498498,0.6095581119365767,0.566117554795327,0.5235923475054944,0.643948812657498,0.6211543113359781,0.5693122703410199,0.584755537246019,0.5911634422530666,0.6338808662143134,0.6133056394488953,0.655571302749597,0.6262702724165097,0.6270174732964813,0.6239997412694869,0.6523078841569719,0.622705051403249,0.6158516099715453,0.6172868314219764,0.5830196784902669,0.5771873477275637,0.5455280707414288,0.5037011352623934,0.48784437113960527,0.4317883448575254,0.42921525364283847,0.5044479954509659,0.5865318200264339,0.5556216870474023,0.5308360801405809,0.5598684411358854,0.5517734656105936,0.6290520346074434,0.45363353795364464,0.6552375516103236,0.9999999999999997,0.5337656440240126,0.485302851962386,0.4392340484413843,0.49164778808147397,0.5079331588631502,0.4588076989706255,0.5374761358248804,0.40813236611958403,0.43259552247550925,0.6298804026518483,0.5882140448237878,0.5700315494592085,0.5350527759408478,0.5325680674369682,0.45500050825363236,0.5265916782010736,0.5309055203007057,0.5408687439453947,0.5113483672862877,0.35602833506617726,0.4358210629930344,0.465742086148085,0.450435009671041,0.3588967114410794,0.4927395730149555],[0.5025919543984013,0.5060845018450355,0.5015029574153579,0.4730231546732895,0.49173261801466067,0.5316645839989476,0.5270330125399192,0.5258604524900702,0.498743307353051,0.539478172455167,0.5210013791565292,0.5669478508642233,0.5014461824234805,0.5501029011314992,0.6122127061745478,0.5377992902194244,0.5711437037183752,0.609031687695027,0.5498792987955528,0.5736475633655297,0.5642399627639725,0.58377708106303,0.6193471033961231,0.5296113282349413,0.5666210475879613,0.5786448330131008,0.5645856638279666,0.5149843126778718,0.6126889035148013,0.5730389620412555,0.5065427435914298,0.5864643400449956,0.4863036010384926,0.40753428954161797,0.4912495649734671,0.4987546864483773,0.4970088164469588,0.4347177002324044,0.48975660462646703,0.5317091869921539,0.5164123886961429,0.5445083799160684,0.4290642345744744,0.5984863629150935,0.5337656440240126,1.0000000000000007,0.42231484843960926,0.43470922895217495,0.5239721522074935,0.4688368621024084,0.42289319607406667,0.4845525043968264,0.4012602868742325,0.3950800148041856,0.6380182508017936,0.6263319169109538,0.49449875830848733,0.4243664862006069,0.48060123725439197,0.4910936003490361,0.4655009980304884,0.5036113902079693,0.46709680954185756,0.43405359569678786,0.2833454648835909,0.35040861086216024,0.34897306432765995,0.41148330919676585,0.3551432530202966,0.3967973631656906],[0.5490170740192671,0.5892036324329016,0.5747708276866598,0.5931940272318438,0.598405842985362,0.5664698585555673,0.5861056312667703,0.5807764576734307,0.5286317779640098,0.5732586209528838,0.5885207284337913,0.6647442892420179,0.5742248909076294,0.5946759474884618,0.5974059085527897,0.521953062558651,0.5928784207779532,0.6048797249475717,0.6038060338531622,0.609734678133648,0.6154483535724431,0.5853540575225061,0.6435629456729046,0.6187442327945982,0.6118179885196101,0.6359760114016878,0.6144125864261852,0.5934634253829388,0.5905009081960562,0.600934827047047,0.5195697397586296,0.4808566167869088,0.470348171277511,0.40992251660068624,0.4012751562743537,0.6217377771569423,0.545445725742202,0.5459550356455396,0.5316767464523366,0.5608965925742558,0.564355119882752,0.5743175234181139,0.5159144155073776,0.49477492303134146,0.485302851962386,0.42231484843960926,0.9999999999999997,0.4848756690346273,0.49489293767940445,0.5414000646334012,0.37783893454973894,0.4592267053576351,0.4290542399742406,0.41726963353333224,0.5729851218666208,0.5572491818683231,0.4974179663255341,0.5473491121136553,0.5139755830101074,0.5066699208780662,0.4764301388226018,0.4847239535467623,0.5004320276370345,0.5293431125280025,0.3027857714729397,0.42669096147607033,0.3481040410707362,0.4544400018976978,0.4489609217916711,0.3139236553198948],[0.5433513436280061,0.5461284957121333,0.5086705774453851,0.48466513504877656,0.5352270651120228,0.5282633334081749,0.5744879353533692,0.5528818035922474,0.5612811620725274,0.5701162561603644,0.6910708544918609,0.6979810648942137,0.7162270893905693,0.592794300310425,0.5428823682262928,0.5828212793373683,0.6290148408358346,0.6402271666094073,0.5815197305885709,0.6172032376206352,0.6353597613514024,0.5785886265699454,0.6405928512785296,0.5983286556641647,0.6349044031657135,0.6438012877084275,0.6739587054803916,0.5880637258624462,0.5820072628990024,0.6638053232978249,0.5575980959584074,0.46474194596101803,0.47165354580169433,0.4289562870945193,0.477352165811042,0.5410412469693768,0.5207909099221816,0.5114421614228094,0.5052244808030943,0.5272614993342035,0.5472148348201583,0.5497052207478026,0.5081343901257535,0.4812119982375251,0.4392340484413843,0.43470922895217495,0.4848756690346273,0.9999999999999998,0.6327669938101287,0.5489510357133371,0.37832143122018913,0.468595855405781,0.5052732105082065,0.4343149878021726,0.5966826467959636,0.573910373114961,0.4710560118081794,0.4456164496291678,0.49257121527098574,0.4642397141582566,0.44799972075297334,0.4503407701982262,0.566544480385149,0.4704720430223003,0.3101141499387532,0.39122652414506187,0.41281975098828694,0.4193520434807173,0.39147923887548197,0.29544444670852305],[0.6534262269438751,0.617418478636651,0.6441733528102735,0.5562552722485793,0.6324964902264194,0.6132199152488224,0.6130058570635866,0.5865420727802881,0.5930002507175398,0.628744628326117,0.6318806021948148,0.6257981979366511,0.7201513462683201,0.6321263920517145,0.6277376325338839,0.6502701568819653,0.7483825744994407,0.7102647097026699,0.6417004087383634,0.6782363626273639,0.7218540186880338,0.7545566187560488,0.8066828954232507,0.6447205631554614,0.6480313879952325,0.72966984735073,0.7146739770641374,0.6895222699975644,0.7783723763898138,0.7091116779898339,0.5566977328351563,0.5414831864575587,0.4997915764628935,0.3766883590519148,0.4604697222113338,0.6301891292538992,0.548256130418278,0.5505891174089124,0.5267064334183726,0.5429921958627595,0.5587213150356477,0.5883568693660266,0.48706383151879146,0.5538180544646688,0.49164778808147397,0.5239721522074935,0.49489293767940445,0.6327669938101287,1.0000000000000009,0.5416506197314979,0.3485145792216796,0.4783542663546742,0.4616825143414975,0.3947302608891109,0.6538107167457465,0.6240271710186658,0.5090960853029565,0.5249028837431352,0.5590239121493986,0.5885854500356517,0.4773784879963616,0.6047116471467676,0.47290722888264547,0.564424292467324,0.3121289909062571,0.4092811239746712,0.3555207167859,0.4480187756042355,0.4825024783493044,0.3232050941651297],[0.7347366835870638,0.6691785215377909,0.6184457004758467,0.5665802422503846,0.599071058120707,0.608618712038721,0.6450928228761593,0.6320393599185099,0.6227002335997698,0.5508947951037007,0.7142108122771735,0.63652154868988,0.5716557359202605,0.6303111266764533,0.5783689289841015,0.622205755928766,0.6014840518280546,0.6261713183900823,0.7178908786736966,0.6200541163484552,0.6773168429382932,0.5820723608399173,0.6192304205943465,0.6847179795289069,0.7108230766623982,0.6326337781200803,0.6467352092377987,0.6842029528951531,0.5823369752592289,0.5944970066680453,0.5226700426879775,0.469030272464275,0.4197281683558524,0.4324615667765661,0.3831374620720292,0.5549066552987028,0.6301155846045886,0.4862078572320904,0.6078296300230778,0.5911831072576771,0.6012860303714476,0.6209149761740028,0.6678553349092223,0.5676234329043075,0.5079331588631502,0.4688368621024084,0.5414000646334012,0.5489510357133371,0.5416506197314979,1.0,0.44851422483202397,0.48961687777751606,0.5056697332814164,0.46600445140533503,0.5635994660652939,0.5441270329146985,0.5092230327472524,0.49300068765912297,0.5328344647963978,0.44399497861384907,0.4730982114172051,0.46878183575560484,0.4601083875845656,0.4468126846586394,0.28132402707788956,0.38448067566426203,0.3335373405557288,0.44865011093084656,0.4920358242874532,0.39249765832199374],[0.4823391683836841,0.4710190703462028,0.448060122068785,0.45497032064770426,0.47069442238758263,0.43052807531303483,0.4609597434927314,0.5775203156753663,0.45413025952791036,0.4329540732451734,0.49780366234888285,0.5174198256955194,0.4041613913889218,0.4587984488989073,0.4612528120821911,0.5187495370936336,0.46218678120893186,0.4656272151967891,0.5125848056852111,0.483183446742224,0.5070282250919881,0.44387873316582044,0.4581702370098449,0.4908362550927139,0.6144356569638197,0.48198604041579113,0.4709993535343712,0.48466713354948054,0.4641420001827104,0.45948915913371036,0.41277169479810805,0.40257057266873353,0.3887467597087756,0.3819025341732881,0.3829980197151328,0.42619331529015714,0.48739847620719845,0.40975297905456315,0.39691450049068266,0.5478048189884439,0.4281732692865638,0.44799131450075563,0.3359051783328706,0.5207925018574856,0.4588076989706255,0.42289319607406667,0.37783893454973894,0.37832143122018913,0.3485145792216796,0.44851422483202397,1.0000000000000007,0.8688107922223206,0.5237481714148209,0.4760512162378694,0.4680288351132458,0.49371316673853594,0.49566635381775853,0.37163646632306524,0.44878633714526,0.3600500843936606,0.36889421133862105,0.4463662007096638,0.41006245592653423,0.35185603758120687,0.20562294105396656,0.27188608872814446,0.27720283684948055,0.3616800619999799,0.36034386324416595,0.350944017429977],[0.571690894192959,0.587957281187184,0.5637397773845083,0.5846931696924813,0.5980553341910774,0.5151881259454096,0.5908205367130628,0.6363149381584154,0.5521844815542545,0.56952622916736,0.5614948628902587,0.5819425050390262,0.5272904372902533,0.5969827188292899,0.5911371148485514,0.5803262873060351,0.6169488338904441,0.6161167661646003,0.6225385691390409,0.6347451729892213,0.643747704034607,0.568285358462608,0.6206021612665085,0.639719054428427,0.6290489277243215,0.6346096250648948,0.5920578163953656,0.5978896142922006,0.5822053473274938,0.6129382154557055,0.5116111769005468,0.5178679375197311,0.4812362008598232,0.4613785954184441,0.4991319265406881,0.5621420219561861,0.5871983781847488,0.5420806448794764,0.4907998847570334,0.5945347512095782,0.5549386448217618,0.5422690402028643,0.39481609227431186,0.5792209588759448,0.5374761358248804,0.4845525043968264,0.4592267053576351,0.468595855405781,0.4783542663546742,0.48961687777751606,0.8688107922223206,1.0000000000000004,0.5125519265584162,0.5085587299451834,0.6179116876105131,0.6073030922459469,0.5709962234403001,0.42657255585191556,0.5357729210573883,0.4677280359027355,0.4584652889980972,0.5519834669916658,0.5160337132606598,0.43410148546600946,0.2842606275947097,0.367348499922019,0.3702224839314032,0.4124296170378583,0.4333743037586284,0.36909892126746674],[0.4344976328878719,0.48713990675897495,0.474824151860571,0.47327041976948014,0.46745722001020135,0.48735215291077877,0.49835462589218105,0.5665482969829537,0.5233846293245081,0.4741698737337257,0.5608118952595182,0.5880751915898278,0.4562568030611417,0.5054509918473374,0.4634878747178067,0.6020788394038785,0.49348027478690165,0.47997117090929037,0.5637931853168876,0.5223585343765921,0.5410060711870859,0.4395069544263897,0.499458334072295,0.5200647962024588,0.5274984311148192,0.5715649008454656,0.5074934441362146,0.5246103833804544,0.551160031869612,0.4960668293496353,0.4479011143468983,0.43351699745664984,0.41644818939158773,0.4061377465420037,0.39047797830477726,0.527668957628646,0.46205666063926315,0.4180571674853983,0.4335875059861909,0.5734638529662716,0.4492173062293218,0.47624076271483196,0.3635028146545303,0.40773854873887316,0.40813236611958403,0.4012602868742325,0.4290542399742406,0.5052732105082065,0.4616825143414975,0.5056697332814164,0.5237481714148209,0.5125519265584162,1.0000000000000004,0.5436595094359373,0.5006038347244166,0.474241325595315,0.5235385073753407,0.44060478387712537,0.43621973311036943,0.49673061671933866,0.37304880754360104,0.46494574659066906,0.35993655142553316,0.37344746132725265,0.2625425634354357,0.3152794554099,0.26411079231703805,0.41768418264990415,0.3109197801251621,0.2845452060348485],[0.453094936921848,0.472182755874963,0.4114552152015242,0.45957877193439267,0.43633718775689184,0.4274337229879579,0.4816831551836642,0.5175325982171328,0.4595353783822286,0.41421656301422866,0.5544787109300839,0.5099401860681259,0.4078430522308816,0.48187515840700734,0.43565033364799094,0.5155161973248109,0.43406109212224026,0.45888516989359807,0.5071170323021991,0.47377394020381824,0.5202928139854908,0.4553113645799555,0.4726165177010683,0.49916574086458565,0.5023774416047723,0.5067775559735594,0.45776350791316966,0.4912233673551709,0.486962507111922,0.46056766402079935,0.44656598625349886,0.38516842871834356,0.36637721325794836,0.3453638723320744,0.3013376155648153,0.4241312348698665,0.4777146834661953,0.39526910578842706,0.4303882938193942,0.5009814717851426,0.41848031673480135,0.47113814369949747,0.3861465572938542,0.4387827031771113,0.43259552247550925,0.3950800148041856,0.41726963353333224,0.4343149878021726,0.3947302608891109,0.46600445140533503,0.4760512162378694,0.5085587299451834,0.5436595094359373,0.9999999999999999,0.4449764348471145,0.44166170608877064,0.4315985547659462,0.3554538170015624,0.4212612254073648,0.4096618133708724,0.39403348891022133,0.4486150681859522,0.32680074744925786,0.3429146436479251,0.2244572558225831,0.27485962338605807,0.27649725959259097,0.3209027190048922,0.2732463863430161,0.42553766495268963],[0.6862390392555174,0.6704358254428752,0.6984741130583588,0.6675084049996468,0.7031675104783088,0.6456607133240398,0.8388217869692651,0.6626123495364621,0.6631693357413747,0.6882145442127471,0.6623132845569406,0.6569642450233919,0.6755163414850591,0.7129470511189867,0.7019784467483934,0.6884916352138446,0.798874328138748,0.8730565625080139,0.7305184079843948,0.761961341967342,0.8040609702570141,0.7247529207093976,0.7976961252890428,0.7383189448890436,0.7309922299401809,0.7845256592482779,0.7443781424995912,0.7111217069363003,0.7338809317398564,0.7625176696840856,0.6378421963720968,0.6453463823585137,0.5944154492790958,0.5224601238762836,0.7025235706691808,0.6426723106707369,0.6507128675431058,0.6435301487443734,0.6455626891360035,0.633643822217142,0.6980234826292235,0.6990690615311901,0.4950603144440666,0.6768637847154306,0.6298804026518483,0.6380182508017936,0.5729851218666208,0.5966826467959636,0.6538107167457465,0.5635994660652939,0.4680288351132458,0.6179116876105131,0.5006038347244166,0.4449764348471145,0.9999999999999988,0.8629812485182303,0.6089877628382168,0.5562557100354303,0.6951934024134142,0.6121994967489427,0.5854761811588433,0.6273013295464108,0.6961103563434002,0.6372724740481839,0.4202137442809162,0.5229017399954823,0.42652032519438615,0.5313843148618087,0.4699285160421186,0.4306452810946606],[0.6300447959747748,0.5905023492062988,0.6101822008306571,0.6046060748410358,0.6300852977886343,0.5932998364086023,0.6340945101617228,0.6929116517580278,0.5916682311642762,0.6055607709085556,0.6076943736647178,0.6478960752017364,0.692234004975627,0.6487438341939105,0.669923710035199,0.6233832508288085,0.746984290200902,0.8572897643816749,0.649239779141817,0.7033398668653147,0.7304316472472248,0.6782016998735866,0.7518737344223808,0.6620030326855694,0.6565019466120648,0.7210380719671312,0.7205662342219907,0.6486746541812927,0.6774272600690464,0.7043590120836986,0.5642811992481916,0.589091415157682,0.5646995437335374,0.47859427554680145,0.7444692338663624,0.5954967601474305,0.5969316505727967,0.5978306233751944,0.6416782829408454,0.6709235854200107,0.6971337169676586,0.6894507853981225,0.45569013896781563,0.6062510336037833,0.5882140448237878,0.6263319169109538,0.5572491818683231,0.573910373114961,0.6240271710186658,0.5441270329146985,0.49371316673853594,0.6073030922459469,0.474241325595315,0.44166170608877064,0.8629812485182303,1.0000000000000009,0.6329700011006858,0.5092744483417109,0.6275342708841722,0.600068001085784,0.5417725806583295,0.6045488117406547,0.6210915684978122,0.6107761999707317,0.32071968930646405,0.43840704122598717,0.3631435648223872,0.5053151081631919,0.48395391549143546,0.39813372496581717],[0.5731857234872818,0.550673021162113,0.5647269325108434,0.6046468730893357,0.6219780674754266,0.5857104754050749,0.5918807805309161,0.7391630855403774,0.6785721795186015,0.679248760778161,0.5557472338472595,0.6086125568367884,0.5381788614554707,0.6201123138746955,0.5718276212725232,0.565365882402674,0.5565626569821603,0.5647536650475912,0.6081442686208692,0.5963050987892907,0.6132207032900657,0.5881319926066206,0.6080574737171096,0.6165726387988264,0.5932273792274856,0.5887966240696083,0.5994898880249555,0.5921742413958004,0.6244820371815926,0.5948251516091156,0.5664999021341828,0.5524601415351956,0.5327596287675996,0.463704926436564,0.48548220544131754,0.6343446434278186,0.6129391473915282,0.5588282920254832,0.5426382878221482,0.6966690949610537,0.5681576052137115,0.6097235256946459,0.4528499985258383,0.5067986367804481,0.5700315494592085,0.49449875830848733,0.4974179663255341,0.4710560118081794,0.5090960853029565,0.5092230327472524,0.49566635381775853,0.5709962234403001,0.5235385073753407,0.4315985547659462,0.6089877628382168,0.6329700011006858,0.9999999999999997,0.5424948150701072,0.5934784705683851,0.5467642588259319,0.5435216132429037,0.5862502945804271,0.4622443623686286,0.4833112390624531,0.37180846596258244,0.47994601636009915,0.2993451616463034,0.4293592264049122,0.46127147226728943,0.41929631598107187],[0.5918253875175213,0.667813441541244,0.6283389056269393,0.6076628224477318,0.6106200494857277,0.5528746140881208,0.5631977119988589,0.5993388645304073,0.5471549032322031,0.569433646690934,0.5536075323083961,0.5478930367574235,0.5471170794720385,0.5164467457403371,0.5935880149362698,0.5747254352960937,0.5835750858705858,0.5647496380052017,0.6112520570981473,0.5986885800570679,0.6094070978565961,0.5800628725950684,0.6291099361489045,0.604536000723434,0.614083990700824,0.6015269766564957,0.6153930375244746,0.6143716111368901,0.6107556340852188,0.5674566357396407,0.519608257696086,0.5151826778284919,0.5399841241095934,0.47745420495748464,0.4219387586714608,0.545869351109702,0.502975415865497,0.5659679109957526,0.5477766074114644,0.6144865617121114,0.5541983481132958,0.5658055522256813,0.4584469966200511,0.4933651278959222,0.5350527759408478,0.4243664862006069,0.5473491121136553,0.4456164496291678,0.5249028837431352,0.49300068765912297,0.37163646632306524,0.42657255585191556,0.44060478387712537,0.3554538170015624,0.5562557100354303,0.5092744483417109,0.5424948150701072,1.0000000000000009,0.5716302199420966,0.5108105905785038,0.5492725412638787,0.5090642415288653,0.4189201784221516,0.5196211721567355,0.49004769956808236,0.5540966867815522,0.371675147422961,0.4613809628497667,0.49136761836376486,0.3274918760412083],[0.6268472510352013,0.5958367283670569,0.6556878785004513,0.5934183445983203,0.6329539899865759,0.546196388585231,0.6493208103020092,0.6050836637406884,0.6135831790485627,0.6344740225333624,0.5724704936463729,0.5860266503024256,0.6047961876682639,0.5931504992007502,0.6065321381026273,0.6030690954045909,0.5895518688656256,0.6472484811508442,0.6335078052404486,0.5928920363117872,0.6511800304816562,0.5661155459241749,0.6710162949797842,0.6315075479760389,0.6247782783395044,0.6029447194429948,0.6327424515060788,0.6468828900159009,0.6608337567991304,0.6357773528726602,0.5967150211443915,0.5053921809094828,0.6022256329648645,0.45153017212868857,0.478792082064019,0.5973292955733673,0.5838083434465468,0.573465419938693,0.6155194319980632,0.66612542125319,0.6072678921048881,0.6099387672598919,0.45197614636235905,0.5219247738173228,0.5325680674369682,0.48060123725439197,0.5139755830101074,0.49257121527098574,0.5590239121493986,0.5328344647963978,0.44878633714526,0.5357729210573883,0.43621973311036943,0.4212612254073648,0.6951934024134142,0.6275342708841722,0.5934784705683851,0.5716302199420966,1.0000000000000004,0.5766536693863825,0.6008825013378891,0.6012274944462991,0.5438118816562372,0.5003530950634035,0.4126591520651247,0.5040055166429765,0.3930686774633125,0.432656786161234,0.44509357062340843,0.37391870838393726],[0.5268930876919041,0.5446683819820058,0.6124663958488719,0.5637206757612859,0.5804642524810274,0.5886913854779162,0.5397480386852421,0.5714117566917452,0.5656237875518361,0.6350756261073588,0.5686991576020131,0.5933050325485202,0.5268391177393358,0.5637089434281204,0.5400898464350146,0.5725647901970385,0.5583469747324985,0.6193495549306451,0.6058778675736777,0.5675243680821711,0.599324364620388,0.5423850457226729,0.6357844007922627,0.5985986341086582,0.5604799028922095,0.5885206757848345,0.5651475538408511,0.599362225849357,0.6831669833560887,0.592387089703597,0.6101570910531979,0.47389734139458817,0.5862423250380157,0.4131818568346818,0.4604840805865524,0.5900798020948393,0.5245565584244581,0.5204386198565258,0.5365247277181252,0.592509436517585,0.5416942020384817,0.5656363080308728,0.38769589243457186,0.4762624383183598,0.45500050825363236,0.4910936003490361,0.5066699208780662,0.4642397141582566,0.5885854500356517,0.44399497861384907,0.3600500843936606,0.4677280359027355,0.49673061671933866,0.4096618133708724,0.6121994967489427,0.600068001085784,0.5467642588259319,0.5108105905785038,0.5766536693863825,0.9999999999999998,0.49250190314345216,0.6098754236747823,0.5058079402899157,0.4736458583608415,0.3946991123305265,0.4687129131451121,0.29096784604619197,0.43521321822552533,0.43829435442214837,0.34966420613701427],[0.5906382163312963,0.6106717021724712,0.603110036623257,0.6178115460121028,0.6297566049611492,0.5468330384176069,0.5828620164806546,0.579949173159476,0.5301168292066458,0.5724190063793643,0.5278818472384459,0.559462940375599,0.522161063643255,0.5923093931212358,0.5504984964253262,0.549780935075654,0.571055738471224,0.5900017316501593,0.6025953588651397,0.5853467802207013,0.6197328132466062,0.5735058496081499,0.6098150076807725,0.6160959880484618,0.5903317755810075,0.5945962488809114,0.5847208552472949,0.6010689118834857,0.5953789950361632,0.5699056696958961,0.5438515790879228,0.4696113735234886,0.558257572459857,0.4358092255037903,0.4488457304865319,0.567770198178434,0.5032037770090279,0.5836951363801457,0.5331382688965904,0.56884300699715,0.5471603184629464,0.5866554708365203,0.38795414975743303,0.44187903644757953,0.5265916782010736,0.4655009980304884,0.4764301388226018,0.44799972075297334,0.4773784879963616,0.4730982114172051,0.36889421133862105,0.4584652889980972,0.37304880754360104,0.39403348891022133,0.5854761811588433,0.5417725806583295,0.5435216132429037,0.5492725412638787,0.6008825013378891,0.49250190314345216,1.0000000000000002,0.5079786938445697,0.5268575569859794,0.43642642174443996,0.41799836284982467,0.5195241104085633,0.3478672899444671,0.3787950996696199,0.402535856416489,0.30793109451217443],[0.5524893952703415,0.553407406307088,0.5906085645731426,0.5936840233680944,0.6254174703996547,0.5597132685212001,0.5668359462573639,0.6196027271366683,0.5293034338686825,0.6187152902749139,0.547904549468995,0.5845520801974741,0.6131454449814692,0.5671506600267759,0.5976204773850067,0.5817101165805362,0.6207370246576521,0.609643321360121,0.6100028698814879,0.595362223710704,0.639345953683068,0.5912970685669754,0.6798557175308785,0.6097621774418609,0.5921903553644191,0.6240898933281732,0.6083091198583682,0.5816942759302737,0.712778502123431,0.6381009549809518,0.55256195505092,0.5383968245836782,0.5559835828785165,0.4497695613629614,0.4487688117498667,0.5735439166144721,0.5377580896932164,0.5769454324147345,0.5261288989951747,0.623868222289079,0.5686016028452215,0.5875926406050094,0.39348233572918306,0.538828946426079,0.5309055203007057,0.5036113902079693,0.4847239535467623,0.4503407701982262,0.6047116471467676,0.46878183575560484,0.4463662007096638,0.5519834669916658,0.46494574659066906,0.4486150681859522,0.6273013295464108,0.6045488117406547,0.5862502945804271,0.5090642415288653,0.6012274944462991,0.6098754236747823,0.5079786938445697,0.9999999999999997,0.5365301841246904,0.5603944911717917,0.42539885246294445,0.48709389073806364,0.3256358142549101,0.42163851569302946,0.3969227380507538,0.35775283403634683],[0.5037072124231471,0.568217726009681,0.5424856902156904,0.5092589257563681,0.526999276484446,0.5337980196770805,0.630269648239224,0.5156631001560484,0.5051513813618126,0.6120742625473768,0.5798704271166701,0.5476603398340907,0.5194502580427204,0.7038342529755298,0.5559005718580032,0.5333823229835666,0.6508622392195643,0.6421041517979901,0.5809341694826227,0.6324237413974367,0.6447852821151623,0.5367853649689799,0.6552065916352761,0.5996078144779787,0.6081857140154491,0.6295114098578243,0.554097851330026,0.5453514651334007,0.5564191386802163,0.6239653480494644,0.545874202333483,0.5131610537778346,0.49720394877841184,0.47136929121244237,0.5610312825977255,0.5063404783401527,0.506551749211404,0.59934053482403,0.5126043980115909,0.5186402233302924,0.5825364763940686,0.5676143929621796,0.40618626457051765,0.4930059446733587,0.5408687439453947,0.46709680954185756,0.5004320276370345,0.566544480385149,0.47290722888264547,0.4601083875845656,0.41006245592653423,0.5160337132606598,0.35993655142553316,0.32680074744925786,0.6961103563434002,0.6210915684978122,0.4622443623686286,0.4189201784221516,0.5438118816562372,0.5058079402899157,0.5268575569859794,0.5365301841246904,1.0000000000000004,0.5688093345806854,0.35943539581958667,0.4208891557041079,0.37147661005257454,0.4089519800375504,0.32686608526510263,0.3462779600139348],[0.552672229218775,0.537638928480901,0.5698650513321841,0.5804288717968874,0.5941078304270468,0.526729007105199,0.563628745808507,0.5354201025632321,0.4969143347723155,0.5629475203413344,0.5290795901817281,0.5876757190322583,0.5466553619349466,0.5654601580980031,0.5138413671462977,0.5474780167892898,0.6730702718368182,0.6193389381513362,0.5745956786205036,0.5952841646213404,0.6421476656386129,0.605498371436697,0.6729553680448414,0.5629706430170891,0.588372114547615,0.6442231468683662,0.5845642397820436,0.5855667932349293,0.6127909295134243,0.5841564006401518,0.4256064923515155,0.41618910117570435,0.4012119538893043,0.4022475884299416,0.48015663467905845,0.515210167349119,0.46320513648101797,0.5403454945556511,0.49442211414343173,0.5082700539838617,0.5389691347882292,0.5418967029763402,0.40305446896721736,0.4787513111695257,0.5113483672862877,0.43405359569678786,0.5293431125280025,0.4704720430223003,0.564424292467324,0.4468126846586394,0.35185603758120687,0.43410148546600946,0.37344746132725265,0.3429146436479251,0.6372724740481839,0.6107761999707317,0.4833112390624531,0.5196211721567355,0.5003530950634035,0.4736458583608415,0.43642642174443996,0.5603944911717917,0.5688093345806854,0.9999999999999997,0.31768612261514484,0.3952766698670441,0.3506731301396017,0.4007578075848282,0.38951128979591076,0.2905518931294912],[0.35305385577672216,0.3376862693878957,0.4004187327286056,0.3889989217492464,0.41419442728362205,0.29828704834854436,0.4189468451655879,0.34999114800686276,0.37114416186433324,0.4101795163526942,0.37138280223440784,0.3315443333231929,0.3616309381337688,0.3442859377338958,0.3723844124168991,0.333974409089975,0.3779382562264383,0.35393548726839863,0.38621215689960464,0.412120463609852,0.3927553616780324,0.36455966715532107,0.4041188805658251,0.4000548607707799,0.3845439920939597,0.39474481878898443,0.3973297249793756,0.3863663927701743,0.43980569801338937,0.39170811539960104,0.39450010409312486,0.3769837054003988,0.5008175255627209,0.4052523518654496,0.3324910605764281,0.39807892792012617,0.3285101632162019,0.4335373321174838,0.40274237264126905,0.39832166552623083,0.4193799546917628,0.41005821476527304,0.2766554403554757,0.29474779031567333,0.35602833506617726,0.2833454648835909,0.3027857714729397,0.3101141499387532,0.3121289909062571,0.28132402707788956,0.20562294105396656,0.2842606275947097,0.2625425634354357,0.2244572558225831,0.4202137442809162,0.32071968930646405,0.37180846596258244,0.49004769956808236,0.4126591520651247,0.3946991123305265,0.41799836284982467,0.42539885246294445,0.35943539581958667,0.31768612261514484,0.9999999999999997,0.9144466930170028,0.29252701684535015,0.22401729923900215,0.34321128807746415,0.20687282352533112],[0.4845581036660237,0.47397308299891366,0.5180774471987677,0.5012329609590709,0.5369575431110329,0.43097267757520874,0.5256111629719143,0.46862805472244295,0.5210373014270147,0.5220910792441655,0.44795924756951494,0.4597061259017394,0.46393671163551964,0.45901364287470453,0.48182541856857164,0.4528462307332597,0.5109058116432159,0.4885542861428671,0.5133403682946878,0.5556193740083137,0.5276637867163781,0.5065386484748262,0.5310925236906039,0.5478669934317502,0.5048191967829879,0.5366749587719145,0.5306348368697772,0.5145271645273417,0.5533419507631523,0.5184454081726912,0.508223397887195,0.46378665141675374,0.5723740005464674,0.49802567148748333,0.430564661251225,0.5121596976178773,0.42697892666154447,0.5294010514107313,0.5146778924595521,0.4907486689231053,0.5419987684930154,0.5350170764882893,0.3624443622552642,0.3761247033342905,0.4358210629930344,0.35040861086216024,0.42669096147607033,0.39122652414506187,0.4092811239746712,0.38448067566426203,0.27188608872814446,0.367348499922019,0.3152794554099,0.27485962338605807,0.5229017399954823,0.43840704122598717,0.47994601636009915,0.5540966867815522,0.5040055166429765,0.4687129131451121,0.5195241104085633,0.48709389073806364,0.4208891557041079,0.3952766698670441,0.9144466930170028,1.0000000000000007,0.35491389874547563,0.3233680333793844,0.4471690856472444,0.23299539094394156],[0.37277999276666335,0.3794811577817542,0.3718744614261151,0.357222083212531,0.3536338082964994,0.37630217763600676,0.43636415703851367,0.3523311974007861,0.3751032292144101,0.4331757171447135,0.4344997221417975,0.435003858547939,0.4185522883549319,0.43789782152613155,0.44240790786674566,0.3917350829716814,0.39347267173810263,0.4019517578203019,0.4263959078351375,0.43614102929131554,0.42090410428826946,0.37393194737489943,0.4340760955190074,0.4015563814234451,0.4594160774866976,0.4269967708286303,0.4387692808996526,0.3931477494961898,0.3923158278315871,0.41698250492505196,0.35985526322358213,0.3646266212945361,0.3711197177684725,0.3788920659348166,0.32245889438770736,0.3843005112349014,0.36622400436785285,0.33804280375259144,0.3933475340479945,0.3835471620712627,0.412712293109046,0.4138584380770468,0.358186709685793,0.3559110771116071,0.465742086148085,0.34897306432765995,0.3481040410707362,0.41281975098828694,0.3555207167859,0.3335373405557288,0.27720283684948055,0.3702224839314032,0.26411079231703805,0.27649725959259097,0.42652032519438615,0.3631435648223872,0.2993451616463034,0.371675147422961,0.3930686774633125,0.29096784604619197,0.3478672899444671,0.3256358142549101,0.37147661005257454,0.3506731301396017,0.29252701684535015,0.35491389874547563,1.0000000000000009,0.2946701031085749,0.2833622916702587,0.295902701371411],[0.4844328230278581,0.48959145876429255,0.47576087479521867,0.4499715781908227,0.4612159611408594,0.47021845878600144,0.49815900885265174,0.527998262470543,0.4672735966124689,0.4593232023459165,0.4913323406856794,0.47412524245183796,0.42400524020718844,0.4848594203958706,0.4358392599560589,0.5073958863932579,0.4552360114494415,0.5042501233383075,0.5211229144177657,0.468998767656183,0.4940708542184111,0.4812650557223931,0.4762262045573344,0.492676289920257,0.5149681667137643,0.4796342706377272,0.4855283744575509,0.49842430997841236,0.48424179080347696,0.4656896126157275,0.485787240280285,0.39444289913864267,0.3908224067978613,0.3512048647611542,0.39333599734262725,0.43763629943402604,0.47438025400641126,0.44181622939341714,0.4021960334526727,0.4707642465148709,0.4058927007074507,0.4509213737830031,0.3866019604849127,0.46987722330253484,0.450435009671041,0.41148330919676585,0.4544400018976978,0.4193520434807173,0.4480187756042355,0.44865011093084656,0.3616800619999799,0.4124296170378583,0.41768418264990415,0.3209027190048922,0.5313843148618087,0.5053151081631919,0.4293592264049122,0.4613809628497667,0.432656786161234,0.43521321822552533,0.3787950996696199,0.42163851569302946,0.4089519800375504,0.4007578075848282,0.22401729923900215,0.3233680333793844,0.2946701031085749,0.9999999999999997,0.3694866920149858,0.3076161140989744],[0.603700637505212,0.5522776835089436,0.5616649367618602,0.4999961973670448,0.5686678199288471,0.5057247825584428,0.4974548715431303,0.5424573392643868,0.562564059030007,0.46154455431739216,0.4518165755851672,0.46998084695767867,0.48879184655295754,0.501837618113258,0.47648295815026004,0.5201519042362788,0.5331828750008875,0.553415829334073,0.5811817339029349,0.5446100842862877,0.5676829073843075,0.5268989027621305,0.5208810012423502,0.5838274472970313,0.534766879359502,0.540760855572782,0.5738798740558649,0.6159510405866168,0.5295988356693572,0.5501597893647642,0.47010478948127415,0.4515409562042603,0.42486328074718105,0.4206118266916169,0.3811278541099825,0.5271917336579002,0.5159111890741335,0.4992731974394268,0.49513024648833626,0.478133506352732,0.4811593603865447,0.5023238259418233,0.33043900681277893,0.4647659363933609,0.3588967114410794,0.3551432530202966,0.4489609217916711,0.39147923887548197,0.4825024783493044,0.4920358242874532,0.36034386324416595,0.4333743037586284,0.3109197801251621,0.2732463863430161,0.4699285160421186,0.48395391549143546,0.46127147226728943,0.49136761836376486,0.44509357062340843,0.43829435442214837,0.402535856416489,0.3969227380507538,0.32686608526510263,0.38951128979591076,0.34321128807746415,0.4471690856472444,0.2833622916702587,0.3694866920149858,0.9999999999999996,0.24537403375969646],[0.3930410835121301,0.38487717855881987,0.34972721676305607,0.3894851051206733,0.389247836687601,0.36057654103425024,0.4333984493474538,0.4346374502665993,0.33982182222257223,0.4206271627448181,0.4511285277774233,0.31025142882893875,0.3243343841431232,0.44719525586644965,0.3905580699915481,0.42286696114880884,0.33343384673551457,0.37146078558153245,0.4455392777113138,0.40010925188062896,0.4096832343789707,0.4037268401711215,0.420255033500344,0.38949457156933026,0.4517663379661525,0.36102919477101425,0.3743438298345891,0.39797913170062876,0.4189536478077774,0.35356517557426365,0.42357410406365886,0.3605248240595419,0.34961630824643775,0.3401762833945069,0.314078376931497,0.3307927773073534,0.5638295373111077,0.34808763404074006,0.33816666825765096,0.420950079152942,0.3194110021517098,0.3691650075955858,0.3214745611566565,0.46458116770788205,0.4927395730149555,0.3967973631656906,0.3139236553198948,0.29544444670852305,0.3232050941651297,0.39249765832199374,0.350944017429977,0.36909892126746674,0.2845452060348485,0.42553766495268963,0.4306452810946606,0.39813372496581717,0.41929631598107187,0.3274918760412083,0.37391870838393726,0.34966420613701427,0.30793109451217443,0.35775283403634683,0.3462779600139348,0.2905518931294912,0.20687282352533112,0.23299539094394156,0.295902701371411,0.3076161140989744,0.24537403375969646,0.9999999999999997]],\"type\":\"heatmap\",\"xaxis\":\"x\",\"yaxis\":\"y\",\"hovertemplate\":\"x: %{x}<br>y: %{y}<br>Similarity Score: %{z}<extra></extra>\"}],                        {\"template\":{\"data\":{\"bar\":[{\"error_x\":{\"color\":\"#2a3f5f\"},\"error_y\":{\"color\":\"#2a3f5f\"},\"marker\":{\"line\":{\"color\":\"#E5ECF6\",\"width\":0.5},\"pattern\":{\"fillmode\":\"overlay\",\"size\":10,\"solidity\":0.2}},\"type\":\"bar\"}],\"barpolar\":[{\"marker\":{\"line\":{\"color\":\"#E5ECF6\",\"width\":0.5},\"pattern\":{\"fillmode\":\"overlay\",\"size\":10,\"solidity\":0.2}},\"type\":\"barpolar\"}],\"carpet\":[{\"aaxis\":{\"endlinecolor\":\"#2a3f5f\",\"gridcolor\":\"white\",\"linecolor\":\"white\",\"minorgridcolor\":\"white\",\"startlinecolor\":\"#2a3f5f\"},\"baxis\":{\"endlinecolor\":\"#2a3f5f\",\"gridcolor\":\"white\",\"linecolor\":\"white\",\"minorgridcolor\":\"white\",\"startlinecolor\":\"#2a3f5f\"},\"type\":\"carpet\"}],\"choropleth\":[{\"colorbar\":{\"outlinewidth\":0,\"ticks\":\"\"},\"type\":\"choropleth\"}],\"contour\":[{\"colorbar\":{\"outlinewidth\":0,\"ticks\":\"\"},\"colorscale\":[[0.0,\"#0d0887\"],[0.1111111111111111,\"#46039f\"],[0.2222222222222222,\"#7201a8\"],[0.3333333333333333,\"#9c179e\"],[0.4444444444444444,\"#bd3786\"],[0.5555555555555556,\"#d8576b\"],[0.6666666666666666,\"#ed7953\"],[0.7777777777777778,\"#fb9f3a\"],[0.8888888888888888,\"#fdca26\"],[1.0,\"#f0f921\"]],\"type\":\"contour\"}],\"contourcarpet\":[{\"colorbar\":{\"outlinewidth\":0,\"ticks\":\"\"},\"type\":\"contourcarpet\"}],\"heatmap\":[{\"colorbar\":{\"outlinewidth\":0,\"ticks\":\"\"},\"colorscale\":[[0.0,\"#0d0887\"],[0.1111111111111111,\"#46039f\"],[0.2222222222222222,\"#7201a8\"],[0.3333333333333333,\"#9c179e\"],[0.4444444444444444,\"#bd3786\"],[0.5555555555555556,\"#d8576b\"],[0.6666666666666666,\"#ed7953\"],[0.7777777777777778,\"#fb9f3a\"],[0.8888888888888888,\"#fdca26\"],[1.0,\"#f0f921\"]],\"type\":\"heatmap\"}],\"heatmapgl\":[{\"colorbar\":{\"outlinewidth\":0,\"ticks\":\"\"},\"colorscale\":[[0.0,\"#0d0887\"],[0.1111111111111111,\"#46039f\"],[0.2222222222222222,\"#7201a8\"],[0.3333333333333333,\"#9c179e\"],[0.4444444444444444,\"#bd3786\"],[0.5555555555555556,\"#d8576b\"],[0.6666666666666666,\"#ed7953\"],[0.7777777777777778,\"#fb9f3a\"],[0.8888888888888888,\"#fdca26\"],[1.0,\"#f0f921\"]],\"type\":\"heatmapgl\"}],\"histogram\":[{\"marker\":{\"pattern\":{\"fillmode\":\"overlay\",\"size\":10,\"solidity\":0.2}},\"type\":\"histogram\"}],\"histogram2d\":[{\"colorbar\":{\"outlinewidth\":0,\"ticks\":\"\"},\"colorscale\":[[0.0,\"#0d0887\"],[0.1111111111111111,\"#46039f\"],[0.2222222222222222,\"#7201a8\"],[0.3333333333333333,\"#9c179e\"],[0.4444444444444444,\"#bd3786\"],[0.5555555555555556,\"#d8576b\"],[0.6666666666666666,\"#ed7953\"],[0.7777777777777778,\"#fb9f3a\"],[0.8888888888888888,\"#fdca26\"],[1.0,\"#f0f921\"]],\"type\":\"histogram2d\"}],\"histogram2dcontour\":[{\"colorbar\":{\"outlinewidth\":0,\"ticks\":\"\"},\"colorscale\":[[0.0,\"#0d0887\"],[0.1111111111111111,\"#46039f\"],[0.2222222222222222,\"#7201a8\"],[0.3333333333333333,\"#9c179e\"],[0.4444444444444444,\"#bd3786\"],[0.5555555555555556,\"#d8576b\"],[0.6666666666666666,\"#ed7953\"],[0.7777777777777778,\"#fb9f3a\"],[0.8888888888888888,\"#fdca26\"],[1.0,\"#f0f921\"]],\"type\":\"histogram2dcontour\"}],\"mesh3d\":[{\"colorbar\":{\"outlinewidth\":0,\"ticks\":\"\"},\"type\":\"mesh3d\"}],\"parcoords\":[{\"line\":{\"colorbar\":{\"outlinewidth\":0,\"ticks\":\"\"}},\"type\":\"parcoords\"}],\"pie\":[{\"automargin\":true,\"type\":\"pie\"}],\"scatter\":[{\"marker\":{\"colorbar\":{\"outlinewidth\":0,\"ticks\":\"\"}},\"type\":\"scatter\"}],\"scatter3d\":[{\"line\":{\"colorbar\":{\"outlinewidth\":0,\"ticks\":\"\"}},\"marker\":{\"colorbar\":{\"outlinewidth\":0,\"ticks\":\"\"}},\"type\":\"scatter3d\"}],\"scattercarpet\":[{\"marker\":{\"colorbar\":{\"outlinewidth\":0,\"ticks\":\"\"}},\"type\":\"scattercarpet\"}],\"scattergeo\":[{\"marker\":{\"colorbar\":{\"outlinewidth\":0,\"ticks\":\"\"}},\"type\":\"scattergeo\"}],\"scattergl\":[{\"marker\":{\"colorbar\":{\"outlinewidth\":0,\"ticks\":\"\"}},\"type\":\"scattergl\"}],\"scattermapbox\":[{\"marker\":{\"colorbar\":{\"outlinewidth\":0,\"ticks\":\"\"}},\"type\":\"scattermapbox\"}],\"scatterpolar\":[{\"marker\":{\"colorbar\":{\"outlinewidth\":0,\"ticks\":\"\"}},\"type\":\"scatterpolar\"}],\"scatterpolargl\":[{\"marker\":{\"colorbar\":{\"outlinewidth\":0,\"ticks\":\"\"}},\"type\":\"scatterpolargl\"}],\"scatterternary\":[{\"marker\":{\"colorbar\":{\"outlinewidth\":0,\"ticks\":\"\"}},\"type\":\"scatterternary\"}],\"surface\":[{\"colorbar\":{\"outlinewidth\":0,\"ticks\":\"\"},\"colorscale\":[[0.0,\"#0d0887\"],[0.1111111111111111,\"#46039f\"],[0.2222222222222222,\"#7201a8\"],[0.3333333333333333,\"#9c179e\"],[0.4444444444444444,\"#bd3786\"],[0.5555555555555556,\"#d8576b\"],[0.6666666666666666,\"#ed7953\"],[0.7777777777777778,\"#fb9f3a\"],[0.8888888888888888,\"#fdca26\"],[1.0,\"#f0f921\"]],\"type\":\"surface\"}],\"table\":[{\"cells\":{\"fill\":{\"color\":\"#EBF0F8\"},\"line\":{\"color\":\"white\"}},\"header\":{\"fill\":{\"color\":\"#C8D4E3\"},\"line\":{\"color\":\"white\"}},\"type\":\"table\"}]},\"layout\":{\"annotationdefaults\":{\"arrowcolor\":\"#2a3f5f\",\"arrowhead\":0,\"arrowwidth\":1},\"autotypenumbers\":\"strict\",\"coloraxis\":{\"colorbar\":{\"outlinewidth\":0,\"ticks\":\"\"}},\"colorscale\":{\"diverging\":[[0,\"#8e0152\"],[0.1,\"#c51b7d\"],[0.2,\"#de77ae\"],[0.3,\"#f1b6da\"],[0.4,\"#fde0ef\"],[0.5,\"#f7f7f7\"],[0.6,\"#e6f5d0\"],[0.7,\"#b8e186\"],[0.8,\"#7fbc41\"],[0.9,\"#4d9221\"],[1,\"#276419\"]],\"sequential\":[[0.0,\"#0d0887\"],[0.1111111111111111,\"#46039f\"],[0.2222222222222222,\"#7201a8\"],[0.3333333333333333,\"#9c179e\"],[0.4444444444444444,\"#bd3786\"],[0.5555555555555556,\"#d8576b\"],[0.6666666666666666,\"#ed7953\"],[0.7777777777777778,\"#fb9f3a\"],[0.8888888888888888,\"#fdca26\"],[1.0,\"#f0f921\"]],\"sequentialminus\":[[0.0,\"#0d0887\"],[0.1111111111111111,\"#46039f\"],[0.2222222222222222,\"#7201a8\"],[0.3333333333333333,\"#9c179e\"],[0.4444444444444444,\"#bd3786\"],[0.5555555555555556,\"#d8576b\"],[0.6666666666666666,\"#ed7953\"],[0.7777777777777778,\"#fb9f3a\"],[0.8888888888888888,\"#fdca26\"],[1.0,\"#f0f921\"]]},\"colorway\":[\"#636efa\",\"#EF553B\",\"#00cc96\",\"#ab63fa\",\"#FFA15A\",\"#19d3f3\",\"#FF6692\",\"#B6E880\",\"#FF97FF\",\"#FECB52\"],\"font\":{\"color\":\"#2a3f5f\"},\"geo\":{\"bgcolor\":\"white\",\"lakecolor\":\"white\",\"landcolor\":\"#E5ECF6\",\"showlakes\":true,\"showland\":true,\"subunitcolor\":\"white\"},\"hoverlabel\":{\"align\":\"left\"},\"hovermode\":\"closest\",\"mapbox\":{\"style\":\"light\"},\"paper_bgcolor\":\"white\",\"plot_bgcolor\":\"#E5ECF6\",\"polar\":{\"angularaxis\":{\"gridcolor\":\"white\",\"linecolor\":\"white\",\"ticks\":\"\"},\"bgcolor\":\"#E5ECF6\",\"radialaxis\":{\"gridcolor\":\"white\",\"linecolor\":\"white\",\"ticks\":\"\"}},\"scene\":{\"xaxis\":{\"backgroundcolor\":\"#E5ECF6\",\"gridcolor\":\"white\",\"gridwidth\":2,\"linecolor\":\"white\",\"showbackground\":true,\"ticks\":\"\",\"zerolinecolor\":\"white\"},\"yaxis\":{\"backgroundcolor\":\"#E5ECF6\",\"gridcolor\":\"white\",\"gridwidth\":2,\"linecolor\":\"white\",\"showbackground\":true,\"ticks\":\"\",\"zerolinecolor\":\"white\"},\"zaxis\":{\"backgroundcolor\":\"#E5ECF6\",\"gridcolor\":\"white\",\"gridwidth\":2,\"linecolor\":\"white\",\"showbackground\":true,\"ticks\":\"\",\"zerolinecolor\":\"white\"}},\"shapedefaults\":{\"line\":{\"color\":\"#2a3f5f\"}},\"ternary\":{\"aaxis\":{\"gridcolor\":\"white\",\"linecolor\":\"white\",\"ticks\":\"\"},\"baxis\":{\"gridcolor\":\"white\",\"linecolor\":\"white\",\"ticks\":\"\"},\"bgcolor\":\"#E5ECF6\",\"caxis\":{\"gridcolor\":\"white\",\"linecolor\":\"white\",\"ticks\":\"\"}},\"title\":{\"x\":0.05},\"xaxis\":{\"automargin\":true,\"gridcolor\":\"white\",\"linecolor\":\"white\",\"ticks\":\"\",\"title\":{\"standoff\":15},\"zerolinecolor\":\"white\",\"zerolinewidth\":2},\"yaxis\":{\"automargin\":true,\"gridcolor\":\"white\",\"linecolor\":\"white\",\"ticks\":\"\",\"title\":{\"standoff\":15},\"zerolinecolor\":\"white\",\"zerolinewidth\":2}}},\"xaxis\":{\"anchor\":\"y\",\"domain\":[0.0,1.0],\"scaleanchor\":\"y\",\"constrain\":\"domain\"},\"yaxis\":{\"anchor\":\"x\",\"domain\":[0.0,1.0],\"autorange\":\"reversed\",\"constrain\":\"domain\"},\"coloraxis\":{\"colorbar\":{\"title\":{\"text\":\"Similarity Score\"}},\"colorscale\":[[0.0,\"rgb(247,252,240)\"],[0.125,\"rgb(224,243,219)\"],[0.25,\"rgb(204,235,197)\"],[0.375,\"rgb(168,221,181)\"],[0.5,\"rgb(123,204,196)\"],[0.625,\"rgb(78,179,211)\"],[0.75,\"rgb(43,140,190)\"],[0.875,\"rgb(8,104,172)\"],[1.0,\"rgb(8,64,129)\"]]},\"margin\":{\"t\":60},\"title\":{\"font\":{\"size\":22,\"color\":\"Black\"},\"text\":\"<b>Similarity Matrix\",\"y\":0.95,\"x\":0.55,\"xanchor\":\"center\",\"yanchor\":\"top\"},\"hoverlabel\":{\"font\":{\"size\":16,\"family\":\"Rockwell\"},\"bgcolor\":\"white\"},\"width\":1000,\"height\":1000,\"showlegend\":true,\"legend\":{\"title\":{\"text\":\"Trend\"}}},                        {\"responsive\": true}                    ).then(function(){\n",
              "                            \n",
              "var gd = document.getElementById('921e00df-ba3b-4fdd-a233-831f684ed9ef');\n",
              "var x = new MutationObserver(function (mutations, observer) {{\n",
              "        var display = window.getComputedStyle(gd).display;\n",
              "        if (!display || display === 'none') {{\n",
              "            console.log([gd, 'removed!']);\n",
              "            Plotly.purge(gd);\n",
              "            observer.disconnect();\n",
              "        }}\n",
              "}});\n",
              "\n",
              "// Listen for the removal of the full notebook cells\n",
              "var notebookContainer = gd.closest('#notebook-container');\n",
              "if (notebookContainer) {{\n",
              "    x.observe(notebookContainer, {childList: true});\n",
              "}}\n",
              "\n",
              "// Listen for the clearing of the current output cell\n",
              "var outputEl = gd.closest('.output');\n",
              "if (outputEl) {{\n",
              "    x.observe(outputEl, {childList: true});\n",
              "}}\n",
              "\n",
              "                        })                };                            </script>        </div>\n",
              "</body>\n",
              "</html>"
            ]
          },
          "metadata": {}
        }
      ]
    },
    {
      "cell_type": "markdown",
      "metadata": {
        "id": "_ak_CLR164mx"
      },
      "source": [
        "## Visualize Term Score Decline\n",
        "Topics are represented by a number of words starting with the best representative word. Each word is represented by a c-TF-IDF score. The higher the score, the more representative a word to the topic is. Since the topic words are sorted by their c-TF-IDF score, the scores slowly decline with each word that is added. At some point adding words to the topic representation only marginally increases the total c-TF-IDF score and would not be beneficial for its representation.\n",
        "\n",
        "To visualize this effect, we can plot the c-TF-IDF scores for each topic by the term rank of each word. In other words, the position of the words (term rank), where the words with the highest c-TF-IDF score will have a rank of 1, will be put on the x-axis. Whereas the y-axis will be populated by the c-TF-IDF scores. The result is a visualization that shows you the decline of c-TF-IDF score when adding words to the topic representation. It allows you, using the elbow method, the select the best number of words in a topic.\n"
      ]
    },
    {
      "cell_type": "code",
      "metadata": {
        "colab": {
          "base_uri": "https://localhost:8080/",
          "height": 517
        },
        "id": "7gT3Korh6-MX",
        "outputId": "9ad5ce71-5e48-4503-93a2-92adec2ccc98"
      },
      "source": [
        "topic_model.visualize_term_rank()"
      ],
      "execution_count": null,
      "outputs": [
        {
          "output_type": "display_data",
          "data": {
            "text/html": [
              "<html>\n",
              "<head><meta charset=\"utf-8\" /></head>\n",
              "<body>\n",
              "    <div>            <script src=\"https://cdnjs.cloudflare.com/ajax/libs/mathjax/2.7.5/MathJax.js?config=TeX-AMS-MML_SVG\"></script><script type=\"text/javascript\">if (window.MathJax) {MathJax.Hub.Config({SVG: {font: \"STIX-Web\"}});}</script>                <script type=\"text/javascript\">window.PlotlyConfig = {MathJaxConfig: 'local'};</script>\n",
              "        <script src=\"https://cdn.plot.ly/plotly-2.8.3.min.js\"></script>                <div id=\"b965d0c7-5615-4596-b0ef-32878cd07d5b\" class=\"plotly-graph-div\" style=\"height:500px; width:800px;\"></div>            <script type=\"text/javascript\">                                    window.PLOTLYENV=window.PLOTLYENV || {};                                    if (document.getElementById(\"b965d0c7-5615-4596-b0ef-32878cd07d5b\")) {                    Plotly.newPlot(                        \"b965d0c7-5615-4596-b0ef-32878cd07d5b\",                        [{\"hovertext\":\"<b>Topic -1</b>:the_to_and_you_of_that_is_in_for_i\",\"line\":{\"color\":\"black\",\"width\":1.5},\"mode\":\"lines+lines\",\"name\":\"\",\"opacity\":0.1,\"x\":[1,2,3,4,5,6,7,8,9,10],\"y\":[0.010734558042072346,0.01022758697976772,0.009421084188537144,0.008057432786441464,0.007892089299337051,0.007591951402778895,0.007588640471653059,0.007532292119003264,0.007323184308240093,0.007056074056149754],\"type\":\"scatter\"},{\"hovertext\":\"<b>Topic 0</b>:you_this_read_your_it_that_lol_to_i\",\"line\":{\"color\":\"black\",\"width\":1.5},\"mode\":\"lines+lines\",\"name\":\"\",\"opacity\":0.1,\"x\":[1,2,3,4,5,6,7,8,9,10],\"y\":[0.017664149094079973,0.01162954304379549,0.01104797709163965,0.010731103132769898,0.009835509430141836,0.009663626847929284,0.009051110709521646,0.008532971511227132,0.00838502074326918,0.008181646510952309],\"type\":\"scatter\"},{\"hovertext\":\"<b>Topic 1</b>:surge_the surge_the_to_it_and_in_is\",\"line\":{\"color\":\"black\",\"width\":1.5},\"mode\":\"lines+lines\",\"name\":\"\",\"opacity\":0.1,\"x\":[1,2,3,4,5,6,7,8,9,10],\"y\":[0.035565966696601795,0.012898509070638624,0.012440424838403363,0.009398870777639188,0.008964523912141403,0.0089419237735981,0.00869660206760583,0.008095992824567426,0.008048979337594818,0.007823763029018962],\"type\":\"scatter\"},{\"hovertext\":\"<b>Topic 2</b>:ping_pings_the_to_and_in_of_you_get\",\"line\":{\"color\":\"black\",\"width\":1.5},\"mode\":\"lines+lines\",\"name\":\"\",\"opacity\":0.1,\"x\":[1,2,3,4,5,6,7,8,9,10],\"y\":[0.01812349843964987,0.017513299389472183,0.012051558533798626,0.010531586478093425,0.009353240825641032,0.008151339537184483,0.007899836109677616,0.007860700689849861,0.007820025830289972,0.007545798725136568],\"type\":\"scatter\"},{\"hovertext\":\"<b>Topic 3</b>:uber_to_drivers_they_the_you_is_for\",\"line\":{\"color\":\"black\",\"width\":1.5},\"mode\":\"lines+lines\",\"name\":\"\",\"opacity\":0.1,\"x\":[1,2,3,4,5,6,7,8,9,10],\"y\":[0.025826690815921,0.01082448532514457,0.010033340759852427,0.00965732759786295,0.00937938375839598,0.009098859242654344,0.009054249934296219,0.008687361180780827,0.008586726334629041,0.00847333596792709],\"type\":\"scatter\"},{\"hovertext\":\"<b>Topic 4</b>:lyft_and_to_the_rides_is_for_in_you\",\"line\":{\"color\":\"black\",\"width\":1.5},\"mode\":\"lines+lines\",\"name\":\"\",\"opacity\":0.1,\"x\":[1,2,3,4,5,6,7,8,9,10],\"y\":[0.03497195675388543,0.010212548719652973,0.009740120662365591,0.009047019141499798,0.008652321261254703,0.00840723687895141,0.008227498979956884,0.007920883132502927,0.007765409147070886,0.007340965209675999],\"type\":\"scatter\"},{\"hovertext\":\"<b>Topic 5</b>:rating_ratings_stars_the_to_you_and\",\"line\":{\"color\":\"black\",\"width\":1.5},\"mode\":\"lines+lines\",\"name\":\"\",\"opacity\":0.1,\"x\":[1,2,3,4,5,6,7,8,9,10],\"y\":[0.024911582371168868,0.019278747337889944,0.010134727344212937,0.009693870079412793,0.009131238372285078,0.009091793977413998,0.008529427830223538,0.00846629078252883,0.00842563658142462,0.008277120336098636],\"type\":\"scatter\"},{\"hovertext\":\"<b>Topic 6</b>:bitcoin_is_the_you_it_to_its_in_of_\",\"line\":{\"color\":\"black\",\"width\":1.5},\"mode\":\"lines+lines\",\"name\":\"\",\"opacity\":0.1,\"x\":[1,2,3,4,5,6,7,8,9,10],\"y\":[0.02338537574023535,0.010564671478330222,0.01054860877734469,0.010127665584547562,0.009770528718766866,0.009369341133286217,0.008727527876562,0.00871262271045859,0.008676525749934858,0.008478978845575873],\"type\":\"scatter\"},{\"hovertext\":\"<b>Topic 7</b>:algorithm_the_drivers_to_uber_and_o\",\"line\":{\"color\":\"black\",\"width\":1.5},\"mode\":\"lines+lines\",\"name\":\"\",\"opacity\":0.1,\"x\":[1,2,3,4,5,6,7,8,9,10],\"y\":[0.014817364680688925,0.01207551262530285,0.011796653627008451,0.010891435829295784,0.010453609318655143,0.010322458426099001,0.0098117871712781,0.009190140051920408,0.008387373685855869,0.008243452255057996],\"type\":\"scatter\"},{\"hovertext\":\"<b>Topic 8</b>:pool_pools_the_opt_and_out_to_you_u\",\"line\":{\"color\":\"black\",\"width\":1.5},\"mode\":\"lines+lines\",\"name\":\"\",\"opacity\":0.1,\"x\":[1,2,3,4,5,6,7,8,9,10],\"y\":[0.04767927770328862,0.011681744509832975,0.009538887060933308,0.009426311082962846,0.009230556213047057,0.009126358384061804,0.008848988954726807,0.007923171521781788,0.007870091290591576,0.007798378322708125],\"type\":\"scatter\"},{\"hovertext\":\"<b>Topic 9</b>:tip_tips_the_of_to_they_and_that_is\",\"line\":{\"color\":\"black\",\"width\":1.5},\"mode\":\"lines+lines\",\"name\":\"\",\"opacity\":0.1,\"x\":[1,2,3,4,5,6,7,8,9,10],\"y\":[0.02462177397965929,0.021391889698449573,0.01231189794075145,0.01045449182552301,0.009910509915248333,0.009629950554923572,0.009593837901121205,0.008976198336126959,0.007871071944052743,0.007656974436741917],\"type\":\"scatter\"},{\"hovertext\":\"<b>Topic 10</b>:algorithm_the algorithm_patent_the\",\"line\":{\"color\":\"black\",\"width\":1.5},\"mode\":\"lines+lines\",\"name\":\"\",\"opacity\":0.1,\"x\":[1,2,3,4,5,6,7,8,9,10],\"y\":[0.04529966067208757,0.02621985215465467,0.025434108593316764,0.013780481624128973,0.011791037954491152,0.01123716962490161,0.010799639309173893,0.010786490812572117,0.009470287186224403,0.009301463648206658],\"type\":\"scatter\"},{\"hovertext\":\"<b>Topic 11</b>:smove_grab_petrol_incentives_for_t\",\"line\":{\"color\":\"black\",\"width\":1.5},\"mode\":\"lines+lines\",\"name\":\"\",\"opacity\":0.1,\"x\":[1,2,3,4,5,6,7,8,9,10],\"y\":[0.05530396888881806,0.02148403650010831,0.014747539142168795,0.013095337809177456,0.012214391755342367,0.01174331066057342,0.01106536330069397,0.009819655445294282,0.00978472324031684,0.009480290415243328],\"type\":\"scatter\"},{\"hovertext\":\"<b>Topic 12</b>:order_orders_food_the_delivery_res\",\"line\":{\"color\":\"black\",\"width\":1.5},\"mode\":\"lines+lines\",\"name\":\"\",\"opacity\":0.1,\"x\":[1,2,3,4,5,6,7,8,9,10],\"y\":[0.0161155446219999,0.015806592493563615,0.015735630459991427,0.013900117682798228,0.011423676200581153,0.011155755691919466,0.010455420108625721,0.010241240831929664,0.00973255303907921,0.009191294514865967],\"type\":\"scatter\"},{\"hovertext\":\"<b>Topic 13</b>:uber_the_you_and_to_fare_for_are_o\",\"line\":{\"color\":\"black\",\"width\":1.5},\"mode\":\"lines+lines\",\"name\":\"\",\"opacity\":0.1,\"x\":[1,2,3,4,5,6,7,8,9,10],\"y\":[0.011455349311343574,0.010883616589353516,0.010549900889428221,0.008940032912267526,0.008700725515826157,0.00842854080568871,0.008216695147650482,0.008181226522722294,0.00775704772436205,0.007423199179490572],\"type\":\"scatter\"},{\"hovertext\":\"<b>Topic 14</b>:pax_the pax_the_to_if_and_is_me_th\",\"line\":{\"color\":\"black\",\"width\":1.5},\"mode\":\"lines+lines\",\"name\":\"\",\"opacity\":0.1,\"x\":[1,2,3,4,5,6,7,8,9,10],\"y\":[0.0499294558084997,0.015513501193073508,0.011627153012668583,0.009977446528824483,0.008898794167271778,0.008862981644976996,0.008326130067097324,0.008229384651714789,0.00798142894875926,0.007940775397738428],\"type\":\"scatter\"},{\"hovertext\":\"<b>Topic 15</b>:saturday_weekend_friday_day_today_\",\"line\":{\"color\":\"black\",\"width\":1.5},\"mode\":\"lines+lines\",\"name\":\"\",\"opacity\":0.1,\"x\":[1,2,3,4,5,6,7,8,9,10],\"y\":[0.01998195819827349,0.017218746374793342,0.015119262153750887,0.01433168234714245,0.013687390014246036,0.01334905947077086,0.012629187518173447,0.012054474348835217,0.010409111028154295,0.00981703344393989],\"type\":\"scatter\"},{\"hovertext\":\"<b>Topic 16</b>:hour_week_hours_you_in_make_money_\",\"line\":{\"color\":\"black\",\"width\":1.5},\"mode\":\"lines+lines\",\"name\":\"\",\"opacity\":0.1,\"x\":[1,2,3,4,5,6,7,8,9,10],\"y\":[0.01681520219562729,0.016231830645863466,0.015171365420833386,0.014887406120117812,0.010848474739908172,0.009464267962743364,0.008964533223095206,0.008856580400249267,0.00848506806412801,0.008073076580546701],\"type\":\"scatter\"},{\"hovertext\":\"<b>Topic 17</b>:he_his_homeless_in_to_of_and_hes_t\",\"line\":{\"color\":\"black\",\"width\":1.5},\"mode\":\"lines+lines\",\"name\":\"\",\"opacity\":0.1,\"x\":[1,2,3,4,5,6,7,8,9,10],\"y\":[0.02744533120684202,0.016883239874371004,0.014516661755699732,0.012118795279865396,0.010675498612755343,0.009669659089633758,0.009606054869056389,0.009569631365553841,0.00835095374319632,0.007797312225742952],\"type\":\"scatter\"},{\"hovertext\":\"<b>Topic 18</b>:boost_trips_promo_week_boosts_prom\",\"line\":{\"color\":\"black\",\"width\":1.5},\"mode\":\"lines+lines\",\"name\":\"\",\"opacity\":0.1,\"x\":[1,2,3,4,5,6,7,8,9,10],\"y\":[0.0249798515855227,0.024904010811161236,0.015469443966509101,0.012680629875482217,0.011803240345940979,0.011231534124974359,0.010832330710665911,0.010692307410707662,0.010091624673804029,0.010030876274725162],\"type\":\"scatter\"},{\"hovertext\":\"<b>Topic 19</b>:email_deactivation_deactivated_sen\",\"line\":{\"color\":\"black\",\"width\":1.5},\"mode\":\"lines+lines\",\"name\":\"\",\"opacity\":0.1,\"x\":[1,2,3,4,5,6,7,8,9,10],\"y\":[0.026241918550970925,0.015531972321341245,0.015353474421560674,0.014211544986840973,0.013313783182145888,0.013167416089347026,0.012122336462977558,0.012111811049596351,0.011183456281472005,0.010935105412121397],\"type\":\"scatter\"},{\"hovertext\":\"<b>Topic 20</b>:ufc_ck_ufc drivers_smove_for_for u\",\"line\":{\"color\":\"black\",\"width\":1.5},\"mode\":\"lines+lines\",\"name\":\"\",\"opacity\":0.1,\"x\":[1,2,3,4,5,6,7,8,9,10],\"y\":[0.0706362901100071,0.026408823597299555,0.021166401006975546,0.016357517759920545,0.013452747515894587,0.013163380206964287,0.011579967167563448,0.011128702007024692,0.010879739333533645,0.0107478936167112],\"type\":\"scatter\"},{\"hovertext\":\"<b>Topic 21</b>:her_she_poo_makeup_the_you_to_smel\",\"line\":{\"color\":\"black\",\"width\":1.5},\"mode\":\"lines+lines\",\"name\":\"\",\"opacity\":0.1,\"x\":[1,2,3,4,5,6,7,8,9,10],\"y\":[0.020483725770702253,0.020140712755329884,0.013412866280818942,0.012627883994738751,0.010628192917702426,0.010421181868131147,0.009298497645659628,0.008852406723078228,0.008832017381963115,0.008829916561599172],\"type\":\"scatter\"},{\"hovertext\":\"<b>Topic 22</b>:drivers_to_are_this_driver_many_th\",\"line\":{\"color\":\"black\",\"width\":1.5},\"mode\":\"lines+lines\",\"name\":\"\",\"opacity\":0.1,\"x\":[1,2,3,4,5,6,7,8,9,10],\"y\":[0.03238001813539259,0.011757026213622046,0.010301024191836835,0.010161301379952085,0.010044347704611179,0.009891155178052535,0.009459754213546175,0.00944636943449716,0.009037668104070872,0.00897615188941365],\"type\":\"scatter\"},{\"hovertext\":\"<b>Topic 23</b>:iphone_app_phone_the app_apps_the_\",\"line\":{\"color\":\"black\",\"width\":1.5},\"mode\":\"lines+lines\",\"name\":\"\",\"opacity\":0.1,\"x\":[1,2,3,4,5,6,7,8,9,10],\"y\":[0.03423994471403817,0.0257682895338299,0.023713529477742905,0.01950649534119896,0.01369689294054851,0.013517806062661909,0.013126338292399021,0.012374847187001107,0.010882603495034233,0.010799350293992845],\"type\":\"scatter\"},{\"hovertext\":\"<b>Topic 24</b>:rides_ride_you_of_it_only_or_the_l\",\"line\":{\"color\":\"black\",\"width\":1.5},\"mode\":\"lines+lines\",\"name\":\"\",\"opacity\":0.1,\"x\":[1,2,3,4,5,6,7,8,9,10],\"y\":[0.04918608870970484,0.027004778346442253,0.013428558791423005,0.010179087167977321,0.008768265996948061,0.00863651212771589,0.008224012276307415,0.008164511570107256,0.007846759004125296,0.0077921604878161115],\"type\":\"scatter\"},{\"hovertext\":\"<b>Topic 25</b>:rate_acceptance_acceptance rate_ca\",\"line\":{\"color\":\"black\",\"width\":1.5},\"mode\":\"lines+lines\",\"name\":\"\",\"opacity\":0.1,\"x\":[1,2,3,4,5,6,7,8,9,10],\"y\":[0.055917312299130675,0.05163021507497902,0.040117439568442395,0.03435115575006987,0.028091603696059734,0.014025102724654829,0.012868005920648356,0.011387272135170887,0.011149150989648434,0.011098554111744728],\"type\":\"scatter\"},{\"hovertext\":\"<b>Topic 26</b>:area_to_in_place_central_go_locati\",\"line\":{\"color\":\"black\",\"width\":1.5},\"mode\":\"lines+lines\",\"name\":\"\",\"opacity\":0.1,\"x\":[1,2,3,4,5,6,7,8,9,10],\"y\":[0.01499157809812637,0.013227861867871598,0.012880096719474455,0.010870847522624938,0.010376879641551803,0.010052370384894477,0.009766935998740133,0.009683136749951506,0.009601270536549,0.009266825618726786],\"type\":\"scatter\"},{\"hovertext\":\"<b>Topic 27</b>:driver_uber_the_to_in_rider_car_th\",\"line\":{\"color\":\"black\",\"width\":1.5},\"mode\":\"lines+lines\",\"name\":\"\",\"opacity\":0.1,\"x\":[1,2,3,4,5,6,7,8,9,10],\"y\":[0.012931447784609126,0.012817127575196806,0.012124512363053962,0.01055531735272907,0.010000035575138809,0.009596798173842616,0.009562265496083659,0.009472442964454368,0.00943825364720243,0.00933333781405583],\"type\":\"scatter\"},{\"hovertext\":\"<b>Topic 28</b>:trips_trip_hours_long_hour_long tr\",\"line\":{\"color\":\"black\",\"width\":1.5},\"mode\":\"lines+lines\",\"name\":\"\",\"opacity\":0.1,\"x\":[1,2,3,4,5,6,7,8,9,10],\"y\":[0.05185829107522448,0.030988383728104793,0.02219466785226871,0.018554307384041745,0.017082978051835795,0.015445657901892907,0.014403889620396217,0.014171421728410884,0.013997396842678547,0.012389937960010484],\"type\":\"scatter\"},{\"hovertext\":\"<b>Topic 29</b>:the_of_and_people_in_to_that_have_\",\"line\":{\"color\":\"black\",\"width\":1.5},\"mode\":\"lines+lines\",\"name\":\"\",\"opacity\":0.1,\"x\":[1,2,3,4,5,6,7,8,9,10],\"y\":[0.014384887738808312,0.012426019424377105,0.01167408553073194,0.010120038540491802,0.009336173519894221,0.00901385093074487,0.008770518006044468,0.007887868556331896,0.00782936703634526,0.0074741203299210236],\"type\":\"scatter\"},{\"hovertext\":\"<b>Topic 30</b>:blacks_white_black_and_whites_of_i\",\"line\":{\"color\":\"black\",\"width\":1.5},\"mode\":\"lines+lines\",\"name\":\"\",\"opacity\":0.1,\"x\":[1,2,3,4,5,6,7,8,9,10],\"y\":[0.02107654263349838,0.019842152494770483,0.01829061185036837,0.013778361814487428,0.011308698586128239,0.010755528434406239,0.010131701238713072,0.009401475949058569,0.008945308212212759,0.008893794061682636],\"type\":\"scatter\"},{\"hovertext\":\"<b>Topic 31</b>:cancel_minutes_the_you_arrive_to_a\",\"line\":{\"color\":\"black\",\"width\":1.5},\"mode\":\"lines+lines\",\"name\":\"\",\"opacity\":0.1,\"x\":[1,2,3,4,5,6,7,8,9,10],\"y\":[0.025458776451653512,0.014484887677439261,0.01207228998584584,0.012060493959011044,0.011412555431294474,0.010610528712316634,0.010120787510834353,0.010050255035693251,0.00941376805380978,0.009363304430630623],\"type\":\"scatter\"},{\"hovertext\":\"<b>Topic 32</b>:racist_race_color_white_that_to_is\",\"line\":{\"color\":\"black\",\"width\":1.5},\"mode\":\"lines+lines\",\"name\":\"\",\"opacity\":0.1,\"x\":[1,2,3,4,5,6,7,8,9,10],\"y\":[0.02139578150836211,0.017371255057845293,0.012677722168075877,0.011362926477402613,0.011069916999531141,0.010924746971415914,0.010030584610216067,0.00986322992956597,0.009712669991031797,0.009340646315527985],\"type\":\"scatter\"},{\"hovertext\":\"<b>Topic 33</b>:mile_cents_per_per mile_mileage_ce\",\"line\":{\"color\":\"black\",\"width\":1.5},\"mode\":\"lines+lines\",\"name\":\"\",\"opacity\":0.1,\"x\":[1,2,3,4,5,6,7,8,9,10],\"y\":[0.03322491322165761,0.031199316836444464,0.03058238708126203,0.029559075337642984,0.02214507114008539,0.02175094539781857,0.021684071946305,0.020085462022367464,0.01687880162611876,0.016804140973483758],\"type\":\"scatter\"},{\"hovertext\":\"<b>Topic 34</b>:lyft_pings_ping_pt_on_was_to_pink_\",\"line\":{\"color\":\"black\",\"width\":1.5},\"mode\":\"lines+lines\",\"name\":\"\",\"opacity\":0.1,\"x\":[1,2,3,4,5,6,7,8,9,10],\"y\":[0.03166759712101619,0.01644983254612727,0.01245404497165184,0.012192777712198982,0.010413616077504925,0.010169891315440126,0.009203453698723574,0.009075639854931825,0.008960891587949257,0.008926734101470605],\"type\":\"scatter\"},{\"hovertext\":\"<b>Topic 35</b>:pax_stars_rating_star_rate_give_th\",\"line\":{\"color\":\"black\",\"width\":1.5},\"mode\":\"lines+lines\",\"name\":\"\",\"opacity\":0.1,\"x\":[1,2,3,4,5,6,7,8,9,10],\"y\":[0.03419869143319507,0.02780733540632529,0.02038896855803504,0.020143535848868716,0.014422178101825304,0.014362972779166176,0.010974405218104562,0.010191455588603146,0.010169652881361131,0.010093349050321368],\"type\":\"scatter\"},{\"hovertext\":\"<b>Topic 36</b>:uber_they_to_the_drivers_pay_and_f\",\"line\":{\"color\":\"black\",\"width\":1.5},\"mode\":\"lines+lines\",\"name\":\"\",\"opacity\":0.1,\"x\":[1,2,3,4,5,6,7,8,9,10],\"y\":[0.018292784771098355,0.013338975835663583,0.010429405895903797,0.010292194272182961,0.010154815114246735,0.009996349390064168,0.009871794553329847,0.00909831771080272,0.008851011905326236,0.008156849109885702],\"type\":\"scatter\"},{\"hovertext\":\"<b>Topic 37</b>:solid effort_sir_at your_solid_128\",\"line\":{\"color\":\"black\",\"width\":1.5},\"mode\":\"lines+lines\",\"name\":\"\",\"opacity\":0.1,\"x\":[1,2,3,4,5,6,7,8,9,10],\"y\":[0.060217856323570136,0.046360647513438845,0.04519174342750071,0.04457285052187322,0.04343759045095237,0.042677064657502456,0.0264976787352835,0.025070895577613484,0.02497344699398511,0.023365098619586168],\"type\":\"scatter\"},{\"hovertext\":\"<b>Topic 38</b>:thumbs_thumbs down_down_feedback_m\",\"line\":{\"color\":\"black\",\"width\":1.5},\"mode\":\"lines+lines\",\"name\":\"\",\"opacity\":0.1,\"x\":[1,2,3,4,5,6,7,8,9,10],\"y\":[0.03797950743060472,0.03355176635210236,0.023357271971832953,0.016225240987694026,0.015890729205419226,0.014607202903556197,0.014323889015040956,0.014299030265620608,0.013913315285574584,0.013778878841270936],\"type\":\"scatter\"},{\"hovertext\":\"<b>Topic 39</b>:airport_the airport_waiting_an air\",\"line\":{\"color\":\"black\",\"width\":1.5},\"mode\":\"lines+lines\",\"name\":\"\",\"opacity\":0.1,\"x\":[1,2,3,4,5,6,7,8,9,10],\"y\":[0.06177180178720431,0.03225525709512632,0.015927928311665656,0.015067031498500657,0.01448746855323684,0.013782946982712055,0.012493243406310636,0.012118301192717725,0.012004489796683575,0.011577656182518334],\"type\":\"scatter\"},{\"hovertext\":\"<b>Topic 40</b>:ant_ants_iq_the ants_the ant_mindl\",\"line\":{\"color\":\"black\",\"width\":1.5},\"mode\":\"lines+lines\",\"name\":\"\",\"opacity\":0.1,\"x\":[1,2,3,4,5,6,7,8,9,10],\"y\":[0.08248024649579054,0.07564960444865998,0.02814051539403053,0.024346016683125124,0.022512412315224422,0.019821514864912456,0.016048450363267828,0.01429806534781153,0.01429806534781153,0.01429806534781153],\"type\":\"scatter\"},{\"hovertext\":\"<b>Topic 41</b>:rideshare_rides_you_dont_to_are_an\",\"line\":{\"color\":\"black\",\"width\":1.5},\"mode\":\"lines+lines\",\"name\":\"\",\"opacity\":0.1,\"x\":[1,2,3,4,5,6,7,8,9,10],\"y\":[0.01693486868156836,0.014125217342321934,0.011214288737904766,0.01064374253058904,0.01030281264141651,0.010106979900222295,0.009668045638229535,0.009662339078538801,0.009249905321998445,0.008624052097612495],\"type\":\"scatter\"},{\"hovertext\":\"<b>Topic 42</b>:ants_ant_blind_blind ants_strategy\",\"line\":{\"color\":\"black\",\"width\":1.5},\"mode\":\"lines+lines\",\"name\":\"\",\"opacity\":0.1,\"x\":[1,2,3,4,5,6,7,8,9,10],\"y\":[0.053288168969476434,0.030924047860499158,0.02780050477841952,0.025224115469513222,0.019673449399224708,0.013684938551060302,0.012660757189786414,0.011493262408398762,0.010794961746621813,0.010612365360682208],\"type\":\"scatter\"},{\"hovertext\":\"<b>Topic 43</b>:neil_yoda_guy_chris_he_al gore_ryt\",\"line\":{\"color\":\"black\",\"width\":1.5},\"mode\":\"lines+lines\",\"name\":\"\",\"opacity\":0.1,\"x\":[1,2,3,4,5,6,7,8,9,10],\"y\":[0.05368106827741867,0.03566612706367358,0.03459645429736265,0.03358156079930578,0.025739321768758185,0.02488057902020537,0.02488057902020537,0.02488057902020537,0.02488057902020537,0.023777418042449053],\"type\":\"scatter\"},{\"hovertext\":\"<b>Topic 44</b>:app_rider_rider app_the app_that_t\",\"line\":{\"color\":\"black\",\"width\":1.5},\"mode\":\"lines+lines\",\"name\":\"\",\"opacity\":0.1,\"x\":[1,2,3,4,5,6,7,8,9,10],\"y\":[0.02899391900355041,0.022731983360956474,0.01567759087564817,0.015328960500153518,0.012757481886546216,0.012204937789241928,0.01195653626362853,0.011150960644006539,0.010516644037454006,0.010476727782969961],\"type\":\"scatter\"},{\"hovertext\":\"<b>Topic 45</b>:drive_driving_now_you_car_hot to_d\",\"line\":{\"color\":\"black\",\"width\":1.5},\"mode\":\"lines+lines\",\"name\":\"\",\"opacity\":0.1,\"x\":[1,2,3,4,5,6,7,8,9,10],\"y\":[0.0661815071282237,0.04017793298617078,0.028278336745391586,0.027455150565459992,0.025947807484818113,0.023584888341700475,0.023584888341700475,0.02353963738361225,0.022808562764033313,0.021298561502781498],\"type\":\"scatter\"},{\"hovertext\":\"<b>Topic 46</b>:pax_uber_the pax_they_to_their_tha\",\"line\":{\"color\":\"black\",\"width\":1.5},\"mode\":\"lines+lines\",\"name\":\"\",\"opacity\":0.1,\"x\":[1,2,3,4,5,6,7,8,9,10],\"y\":[0.042340548716197614,0.015721001753615023,0.012846021349920599,0.01205368968006976,0.01168722568693635,0.011251409546300732,0.010510531868750717,0.01042305519206846,0.008997574449587882,0.008922619538229227],\"type\":\"scatter\"},{\"hovertext\":\"<b>Topic 47</b>:quest_quests_my quest_quest is_the\",\"line\":{\"color\":\"black\",\"width\":1.5},\"mode\":\"lines+lines\",\"name\":\"\",\"opacity\":0.1,\"x\":[1,2,3,4,5,6,7,8,9,10],\"y\":[0.12323207433037808,0.04025999253180096,0.033168635076818644,0.022662575434506293,0.01927320940339864,0.017171103830845958,0.017171103830845958,0.017171103830845958,0.0164097673814085,0.0164097673814085],\"type\":\"scatter\"},{\"hovertext\":\"<b>Topic 48</b>:australia_country_aussie_generatio\",\"line\":{\"color\":\"black\",\"width\":1.5},\"mode\":\"lines+lines\",\"name\":\"\",\"opacity\":0.1,\"x\":[1,2,3,4,5,6,7,8,9,10],\"y\":[0.032480643401712576,0.02764255007815437,0.019483227325845915,0.018343993169001514,0.017956094272871922,0.015418854804370082,0.015251916054955395,0.013764126225211294,0.013214344673486377,0.013165149410329787],\"type\":\"scatter\"},{\"hovertext\":\"<b>Topic 49</b>:aqua_aquas_hybrid_attrage_the aqua\",\"line\":{\"color\":\"black\",\"width\":1.5},\"mode\":\"lines+lines\",\"name\":\"\",\"opacity\":0.1,\"x\":[1,2,3,4,5,6,7,8,9,10],\"y\":[0.047865104393403135,0.03515733051483365,0.029180747364243472,0.02376465639440485,0.023308027164536796,0.02281968810853719,0.016809195757638586,0.016146339150369608,0.015538684776357862,0.014847019047947763],\"type\":\"scatter\"},{\"hovertext\":\"<b>Topic 50</b>:shake_dog_lcr dog_liao_lol haha_lc\",\"line\":{\"color\":\"black\",\"width\":1.5},\"mode\":\"lines+lines\",\"name\":\"\",\"opacity\":0.1,\"x\":[1,2,3,4,5,6,7,8,9,10],\"y\":[0.07707673241665744,0.06197992645330743,0.03605860163933986,0.035796116649532785,0.032563068927567586,0.03208943956783178,0.029153724641110195,0.028445237547451416,0.028032679111887168,0.02515436806031767],\"type\":\"scatter\"},{\"hovertext\":\"<b>Topic 51</b>:df_the df_dfs_it_df has_dfw_dulles\",\"line\":{\"color\":\"black\",\"width\":1.5},\"mode\":\"lines+lines\",\"name\":\"\",\"opacity\":0.1,\"x\":[1,2,3,4,5,6,7,8,9,10],\"y\":[0.06500419976264153,0.03234983138631923,0.027810449853478313,0.016893225611141312,0.01598217022047157,0.01564802067478778,0.015215535279904933,0.012223911234948877,0.012172966429056744,0.011330356714604686],\"type\":\"scatter\"},{\"hovertext\":\"<b>Topic 52</b>:acceptance_acceptance rate_rate_ub\",\"line\":{\"color\":\"black\",\"width\":1.5},\"mode\":\"lines+lines\",\"name\":\"\",\"opacity\":0.1,\"x\":[1,2,3,4,5,6,7,8,9,10],\"y\":[0.03336476340446454,0.025088626338656727,0.021436132689712076,0.018299943564959467,0.013997951702874963,0.013419261957603982,0.012172401959710361,0.01212807754224521,0.012018627784840292,0.011898084922836932],\"type\":\"scatter\"},{\"hovertext\":\"<b>Topic 53</b>:cab_cabbie_yellow_yellow cab_you_c\",\"line\":{\"color\":\"black\",\"width\":1.5},\"mode\":\"lines+lines\",\"name\":\"\",\"opacity\":0.1,\"x\":[1,2,3,4,5,6,7,8,9,10],\"y\":[0.07466094865340879,0.023516243791657385,0.020052049052364188,0.018273085823245397,0.018091102041961554,0.016987101192474728,0.014783529167219844,0.014783529167219844,0.014280158118805127,0.01412805356604693],\"type\":\"scatter\"},{\"hovertext\":\"<b>Topic 54</b>:you_make_to_money_the_and_dont_do_\",\"line\":{\"color\":\"black\",\"width\":1.5},\"mode\":\"lines+lines\",\"name\":\"\",\"opacity\":0.1,\"x\":[1,2,3,4,5,6,7,8,9,10],\"y\":[0.01467207328768452,0.011080419594608343,0.010876063776283662,0.01063165162188021,0.00979571029255514,0.009099666087151185,0.008646907035988454,0.007906308774456383,0.007688028931240347,0.007627650741469693],\"type\":\"scatter\"},{\"hovertext\":\"<b>Topic 55</b>:fuel_gas_tank_pump_top up_gallon_t\",\"line\":{\"color\":\"black\",\"width\":1.5},\"mode\":\"lines+lines\",\"name\":\"\",\"opacity\":0.1,\"x\":[1,2,3,4,5,6,7,8,9,10],\"y\":[0.06092055216482882,0.04746810237519909,0.03427473547652535,0.03199751763030239,0.03066472712262863,0.02280908896403083,0.02252072341246871,0.02245325370686385,0.02203388006294013,0.019036500881388894],\"type\":\"scatter\"},{\"hovertext\":\"<b>Topic 56</b>:pax_paxs_they_surge_the_drivers_mo\",\"line\":{\"color\":\"black\",\"width\":1.5},\"mode\":\"lines+lines\",\"name\":\"\",\"opacity\":0.1,\"x\":[1,2,3,4,5,6,7,8,9,10],\"y\":[0.023582858815696196,0.020332552590377518,0.015923447529850244,0.014723625863387844,0.011036379915803871,0.011008399689865724,0.01072155742756209,0.010208318116499283,0.009741450369417736,0.008633116033156462],\"type\":\"scatter\"},{\"hovertext\":\"<b>Topic 57</b>:lies_lie_lying_the truth_people li\",\"line\":{\"color\":\"black\",\"width\":1.5},\"mode\":\"lines+lines\",\"name\":\"\",\"opacity\":0.1,\"x\":[1,2,3,4,5,6,7,8,9,10],\"y\":[0.07456358968096143,0.07217657558214984,0.034282947050866354,0.024338822353662075,0.024221490834239665,0.02314755266384113,0.02314755266384113,0.022829843940672206,0.022385622527349252,0.022385622527349252],\"type\":\"scatter\"},{\"hovertext\":\"<b>Topic 58</b>:algorithm_lyft_lyfts_lyfts algorit\",\"line\":{\"color\":\"black\",\"width\":1.5},\"mode\":\"lines+lines\",\"name\":\"\",\"opacity\":0.1,\"x\":[1,2,3,4,5,6,7,8,9,10],\"y\":[0.03270229685971481,0.027066310640248573,0.021897738295357037,0.016264657070231735,0.015786701239825517,0.015594456829526988,0.01390220320551069,0.013746205021395324,0.013681444960724785,0.013510898700826727],\"type\":\"scatter\"},{\"hovertext\":\"<b>Topic 59</b>:car_used_used car_the_and_cars_cla\",\"line\":{\"color\":\"black\",\"width\":1.5},\"mode\":\"lines+lines\",\"name\":\"\",\"opacity\":0.1,\"x\":[1,2,3,4,5,6,7,8,9,10],\"y\":[0.025340791230642794,0.012820888944025444,0.012780295022501968,0.011792744667858963,0.011783677227258295,0.011573500021176195,0.011548463972225004,0.011356226082919925,0.011354044750410124,0.011056196505863163],\"type\":\"scatter\"},{\"hovertext\":\"<b>Topic 60</b>:lyft_tsx_lower_tl_on lyft_uber_rat\",\"line\":{\"color\":\"black\",\"width\":1.5},\"mode\":\"lines+lines\",\"name\":\"\",\"opacity\":0.1,\"x\":[1,2,3,4,5,6,7,8,9,10],\"y\":[0.04131623102816164,0.019977511485520367,0.018623132844867423,0.017457969502892735,0.016097875975962822,0.01597853119410611,0.015410807989351365,0.01423096855736589,0.013305848254922512,0.013219855429851681],\"type\":\"scatter\"},{\"hovertext\":\"<b>Topic 61</b>:65_65 for_for 85_85_90 im_for_90_f\",\"line\":{\"color\":\"black\",\"width\":1.5},\"mode\":\"lines+lines\",\"name\":\"\",\"opacity\":0.1,\"x\":[1,2,3,4,5,6,7,8,9,10],\"y\":[0.11255886074375354,0.09971258455859504,0.0827271391182492,0.07618636619064519,0.04701086267313868,0.040974970904239336,0.04016001234497769,0.03988503382343801,0.03924867311736102,0.03780147907461866],\"type\":\"scatter\"},{\"hovertext\":\"<b>Topic 62</b>:forum_members_here_there_forums_me\",\"line\":{\"color\":\"black\",\"width\":1.5},\"mode\":\"lines+lines\",\"name\":\"\",\"opacity\":0.1,\"x\":[1,2,3,4,5,6,7,8,9,10],\"y\":[0.046991059812347996,0.03742953383209774,0.02568664035131181,0.022637499649501704,0.019320716858976444,0.019320716858976444,0.019271734392594848,0.018911298427974094,0.018911298427974094,0.018911298427974094],\"type\":\"scatter\"},{\"hovertext\":\"<b>Topic 63</b>:128077_128514_127462127482_nice128\",\"line\":{\"color\":\"black\",\"width\":1.5},\"mode\":\"lines+lines\",\"name\":\"\",\"opacity\":0.1,\"x\":[1,2,3,4,5,6,7,8,9,10],\"y\":[0.12394424665100333,0.10334992799119755,0.05150108125050145,0.05150108125050145,0.05150108125050145,0.05150108125050145,0.05150108125050145,0.05150108125050145,0.05150108125050145,0.05150108125050145],\"type\":\"scatter\"},{\"hovertext\":\"<b>Topic 64</b>:rakos_monkey_the monkey_algo_rakos\",\"line\":{\"color\":\"black\",\"width\":1.5},\"mode\":\"lines+lines\",\"name\":\"\",\"opacity\":0.1,\"x\":[1,2,3,4,5,6,7,8,9,10],\"y\":[0.15947901625888508,0.0462198014964634,0.036635019713702685,0.03178260360717875,0.029638939351460204,0.029638939351460204,0.026603335517442983,0.021455794960892158,0.020865666372565175,0.01813508365146389],\"type\":\"scatter\"},{\"hovertext\":\"<b>Topic 65</b>:child_approved_seat_children_child\",\"line\":{\"color\":\"black\",\"width\":1.5},\"mode\":\"lines+lines\",\"name\":\"\",\"opacity\":0.1,\"x\":[1,2,3,4,5,6,7,8,9,10],\"y\":[0.051318509429512424,0.024167472477388065,0.02393928030092017,0.023131180363277198,0.01912515027096134,0.01883490779574703,0.01702244044914139,0.016529762729526387,0.015860312406808415,0.014875588806008753],\"type\":\"scatter\"},{\"hovertext\":\"<b>Topic 66</b>:ezlink_card_ezlink card_auto_reloa\",\"line\":{\"color\":\"black\",\"width\":1.5},\"mode\":\"lines+lines\",\"name\":\"\",\"opacity\":0.1,\"x\":[1,2,3,4,5,6,7,8,9,10],\"y\":[0.08060615577072378,0.07261905761048977,0.05463816089764214,0.046817326612827434,0.04371052871811371,0.04005643165878449,0.029170465116931596,0.025849907109606527,0.022036798099002882,0.02151302361130418],\"type\":\"scatter\"},{\"hovertext\":\"<b>Topic 67</b>:expenses_year_tax_about_income_is_\",\"line\":{\"color\":\"black\",\"width\":1.5},\"mode\":\"lines+lines\",\"name\":\"\",\"opacity\":0.1,\"x\":[1,2,3,4,5,6,7,8,9,10],\"y\":[0.01938385588560035,0.0184620085142895,0.017685906572643552,0.014461484203394999,0.014153591175687983,0.013589609444052537,0.01305939522989491,0.012451402882190302,0.012160813826345403,0.0114631194212332],\"type\":\"scatter\"},{\"hovertext\":\"<b>Topic 68</b>:another week_its_week or_thats_whe\",\"line\":{\"color\":\"black\",\"width\":1.5},\"mode\":\"lines+lines\",\"name\":\"\",\"opacity\":0.1,\"x\":[1,2,3,4,5,6,7,8,9,10],\"y\":[0.0350228502228458,0.031183007391348185,0.027041226253994136,0.023842512460976528,0.023095248725227557,0.022136938396105203,0.021235954134760645,0.019712838715121795,0.019712838715121795,0.019712838715121795],\"type\":\"scatter\"},{\"hovertext\":\"<b>Topic 69</b>:uber_flexibility_job_work_to_my_fo\",\"line\":{\"color\":\"black\",\"width\":1.5},\"mode\":\"lines+lines\",\"name\":\"\",\"opacity\":0.1,\"x\":[1,2,3,4,5,6,7,8,9,10],\"y\":[0.020972631571377087,0.020953085108045916,0.016218228254491207,0.013363046484836907,0.011341600644988901,0.01115721816580731,0.011072777826848979,0.010680634881006,0.01052343775126492,0.009652300174351171],\"type\":\"scatter\"}],                        {\"template\":{\"data\":{\"barpolar\":[{\"marker\":{\"line\":{\"color\":\"white\",\"width\":0.5},\"pattern\":{\"fillmode\":\"overlay\",\"size\":10,\"solidity\":0.2}},\"type\":\"barpolar\"}],\"bar\":[{\"error_x\":{\"color\":\"#2a3f5f\"},\"error_y\":{\"color\":\"#2a3f5f\"},\"marker\":{\"line\":{\"color\":\"white\",\"width\":0.5},\"pattern\":{\"fillmode\":\"overlay\",\"size\":10,\"solidity\":0.2}},\"type\":\"bar\"}],\"carpet\":[{\"aaxis\":{\"endlinecolor\":\"#2a3f5f\",\"gridcolor\":\"#C8D4E3\",\"linecolor\":\"#C8D4E3\",\"minorgridcolor\":\"#C8D4E3\",\"startlinecolor\":\"#2a3f5f\"},\"baxis\":{\"endlinecolor\":\"#2a3f5f\",\"gridcolor\":\"#C8D4E3\",\"linecolor\":\"#C8D4E3\",\"minorgridcolor\":\"#C8D4E3\",\"startlinecolor\":\"#2a3f5f\"},\"type\":\"carpet\"}],\"choropleth\":[{\"colorbar\":{\"outlinewidth\":0,\"ticks\":\"\"},\"type\":\"choropleth\"}],\"contourcarpet\":[{\"colorbar\":{\"outlinewidth\":0,\"ticks\":\"\"},\"type\":\"contourcarpet\"}],\"contour\":[{\"colorbar\":{\"outlinewidth\":0,\"ticks\":\"\"},\"colorscale\":[[0.0,\"#0d0887\"],[0.1111111111111111,\"#46039f\"],[0.2222222222222222,\"#7201a8\"],[0.3333333333333333,\"#9c179e\"],[0.4444444444444444,\"#bd3786\"],[0.5555555555555556,\"#d8576b\"],[0.6666666666666666,\"#ed7953\"],[0.7777777777777778,\"#fb9f3a\"],[0.8888888888888888,\"#fdca26\"],[1.0,\"#f0f921\"]],\"type\":\"contour\"}],\"heatmapgl\":[{\"colorbar\":{\"outlinewidth\":0,\"ticks\":\"\"},\"colorscale\":[[0.0,\"#0d0887\"],[0.1111111111111111,\"#46039f\"],[0.2222222222222222,\"#7201a8\"],[0.3333333333333333,\"#9c179e\"],[0.4444444444444444,\"#bd3786\"],[0.5555555555555556,\"#d8576b\"],[0.6666666666666666,\"#ed7953\"],[0.7777777777777778,\"#fb9f3a\"],[0.8888888888888888,\"#fdca26\"],[1.0,\"#f0f921\"]],\"type\":\"heatmapgl\"}],\"heatmap\":[{\"colorbar\":{\"outlinewidth\":0,\"ticks\":\"\"},\"colorscale\":[[0.0,\"#0d0887\"],[0.1111111111111111,\"#46039f\"],[0.2222222222222222,\"#7201a8\"],[0.3333333333333333,\"#9c179e\"],[0.4444444444444444,\"#bd3786\"],[0.5555555555555556,\"#d8576b\"],[0.6666666666666666,\"#ed7953\"],[0.7777777777777778,\"#fb9f3a\"],[0.8888888888888888,\"#fdca26\"],[1.0,\"#f0f921\"]],\"type\":\"heatmap\"}],\"histogram2dcontour\":[{\"colorbar\":{\"outlinewidth\":0,\"ticks\":\"\"},\"colorscale\":[[0.0,\"#0d0887\"],[0.1111111111111111,\"#46039f\"],[0.2222222222222222,\"#7201a8\"],[0.3333333333333333,\"#9c179e\"],[0.4444444444444444,\"#bd3786\"],[0.5555555555555556,\"#d8576b\"],[0.6666666666666666,\"#ed7953\"],[0.7777777777777778,\"#fb9f3a\"],[0.8888888888888888,\"#fdca26\"],[1.0,\"#f0f921\"]],\"type\":\"histogram2dcontour\"}],\"histogram2d\":[{\"colorbar\":{\"outlinewidth\":0,\"ticks\":\"\"},\"colorscale\":[[0.0,\"#0d0887\"],[0.1111111111111111,\"#46039f\"],[0.2222222222222222,\"#7201a8\"],[0.3333333333333333,\"#9c179e\"],[0.4444444444444444,\"#bd3786\"],[0.5555555555555556,\"#d8576b\"],[0.6666666666666666,\"#ed7953\"],[0.7777777777777778,\"#fb9f3a\"],[0.8888888888888888,\"#fdca26\"],[1.0,\"#f0f921\"]],\"type\":\"histogram2d\"}],\"histogram\":[{\"marker\":{\"pattern\":{\"fillmode\":\"overlay\",\"size\":10,\"solidity\":0.2}},\"type\":\"histogram\"}],\"mesh3d\":[{\"colorbar\":{\"outlinewidth\":0,\"ticks\":\"\"},\"type\":\"mesh3d\"}],\"parcoords\":[{\"line\":{\"colorbar\":{\"outlinewidth\":0,\"ticks\":\"\"}},\"type\":\"parcoords\"}],\"pie\":[{\"automargin\":true,\"type\":\"pie\"}],\"scatter3d\":[{\"line\":{\"colorbar\":{\"outlinewidth\":0,\"ticks\":\"\"}},\"marker\":{\"colorbar\":{\"outlinewidth\":0,\"ticks\":\"\"}},\"type\":\"scatter3d\"}],\"scattercarpet\":[{\"marker\":{\"colorbar\":{\"outlinewidth\":0,\"ticks\":\"\"}},\"type\":\"scattercarpet\"}],\"scattergeo\":[{\"marker\":{\"colorbar\":{\"outlinewidth\":0,\"ticks\":\"\"}},\"type\":\"scattergeo\"}],\"scattergl\":[{\"marker\":{\"colorbar\":{\"outlinewidth\":0,\"ticks\":\"\"}},\"type\":\"scattergl\"}],\"scattermapbox\":[{\"marker\":{\"colorbar\":{\"outlinewidth\":0,\"ticks\":\"\"}},\"type\":\"scattermapbox\"}],\"scatterpolargl\":[{\"marker\":{\"colorbar\":{\"outlinewidth\":0,\"ticks\":\"\"}},\"type\":\"scatterpolargl\"}],\"scatterpolar\":[{\"marker\":{\"colorbar\":{\"outlinewidth\":0,\"ticks\":\"\"}},\"type\":\"scatterpolar\"}],\"scatter\":[{\"marker\":{\"colorbar\":{\"outlinewidth\":0,\"ticks\":\"\"}},\"type\":\"scatter\"}],\"scatterternary\":[{\"marker\":{\"colorbar\":{\"outlinewidth\":0,\"ticks\":\"\"}},\"type\":\"scatterternary\"}],\"surface\":[{\"colorbar\":{\"outlinewidth\":0,\"ticks\":\"\"},\"colorscale\":[[0.0,\"#0d0887\"],[0.1111111111111111,\"#46039f\"],[0.2222222222222222,\"#7201a8\"],[0.3333333333333333,\"#9c179e\"],[0.4444444444444444,\"#bd3786\"],[0.5555555555555556,\"#d8576b\"],[0.6666666666666666,\"#ed7953\"],[0.7777777777777778,\"#fb9f3a\"],[0.8888888888888888,\"#fdca26\"],[1.0,\"#f0f921\"]],\"type\":\"surface\"}],\"table\":[{\"cells\":{\"fill\":{\"color\":\"#EBF0F8\"},\"line\":{\"color\":\"white\"}},\"header\":{\"fill\":{\"color\":\"#C8D4E3\"},\"line\":{\"color\":\"white\"}},\"type\":\"table\"}]},\"layout\":{\"annotationdefaults\":{\"arrowcolor\":\"#2a3f5f\",\"arrowhead\":0,\"arrowwidth\":1},\"autotypenumbers\":\"strict\",\"coloraxis\":{\"colorbar\":{\"outlinewidth\":0,\"ticks\":\"\"}},\"colorscale\":{\"diverging\":[[0,\"#8e0152\"],[0.1,\"#c51b7d\"],[0.2,\"#de77ae\"],[0.3,\"#f1b6da\"],[0.4,\"#fde0ef\"],[0.5,\"#f7f7f7\"],[0.6,\"#e6f5d0\"],[0.7,\"#b8e186\"],[0.8,\"#7fbc41\"],[0.9,\"#4d9221\"],[1,\"#276419\"]],\"sequential\":[[0.0,\"#0d0887\"],[0.1111111111111111,\"#46039f\"],[0.2222222222222222,\"#7201a8\"],[0.3333333333333333,\"#9c179e\"],[0.4444444444444444,\"#bd3786\"],[0.5555555555555556,\"#d8576b\"],[0.6666666666666666,\"#ed7953\"],[0.7777777777777778,\"#fb9f3a\"],[0.8888888888888888,\"#fdca26\"],[1.0,\"#f0f921\"]],\"sequentialminus\":[[0.0,\"#0d0887\"],[0.1111111111111111,\"#46039f\"],[0.2222222222222222,\"#7201a8\"],[0.3333333333333333,\"#9c179e\"],[0.4444444444444444,\"#bd3786\"],[0.5555555555555556,\"#d8576b\"],[0.6666666666666666,\"#ed7953\"],[0.7777777777777778,\"#fb9f3a\"],[0.8888888888888888,\"#fdca26\"],[1.0,\"#f0f921\"]]},\"colorway\":[\"#636efa\",\"#EF553B\",\"#00cc96\",\"#ab63fa\",\"#FFA15A\",\"#19d3f3\",\"#FF6692\",\"#B6E880\",\"#FF97FF\",\"#FECB52\"],\"font\":{\"color\":\"#2a3f5f\"},\"geo\":{\"bgcolor\":\"white\",\"lakecolor\":\"white\",\"landcolor\":\"white\",\"showlakes\":true,\"showland\":true,\"subunitcolor\":\"#C8D4E3\"},\"hoverlabel\":{\"align\":\"left\"},\"hovermode\":\"closest\",\"mapbox\":{\"style\":\"light\"},\"paper_bgcolor\":\"white\",\"plot_bgcolor\":\"white\",\"polar\":{\"angularaxis\":{\"gridcolor\":\"#EBF0F8\",\"linecolor\":\"#EBF0F8\",\"ticks\":\"\"},\"bgcolor\":\"white\",\"radialaxis\":{\"gridcolor\":\"#EBF0F8\",\"linecolor\":\"#EBF0F8\",\"ticks\":\"\"}},\"scene\":{\"xaxis\":{\"backgroundcolor\":\"white\",\"gridcolor\":\"#DFE8F3\",\"gridwidth\":2,\"linecolor\":\"#EBF0F8\",\"showbackground\":true,\"ticks\":\"\",\"zerolinecolor\":\"#EBF0F8\"},\"yaxis\":{\"backgroundcolor\":\"white\",\"gridcolor\":\"#DFE8F3\",\"gridwidth\":2,\"linecolor\":\"#EBF0F8\",\"showbackground\":true,\"ticks\":\"\",\"zerolinecolor\":\"#EBF0F8\"},\"zaxis\":{\"backgroundcolor\":\"white\",\"gridcolor\":\"#DFE8F3\",\"gridwidth\":2,\"linecolor\":\"#EBF0F8\",\"showbackground\":true,\"ticks\":\"\",\"zerolinecolor\":\"#EBF0F8\"}},\"shapedefaults\":{\"line\":{\"color\":\"#2a3f5f\"}},\"ternary\":{\"aaxis\":{\"gridcolor\":\"#DFE8F3\",\"linecolor\":\"#A2B1C6\",\"ticks\":\"\"},\"baxis\":{\"gridcolor\":\"#DFE8F3\",\"linecolor\":\"#A2B1C6\",\"ticks\":\"\"},\"bgcolor\":\"white\",\"caxis\":{\"gridcolor\":\"#DFE8F3\",\"linecolor\":\"#A2B1C6\",\"ticks\":\"\"}},\"title\":{\"x\":0.05},\"xaxis\":{\"automargin\":true,\"gridcolor\":\"#EBF0F8\",\"linecolor\":\"#EBF0F8\",\"ticks\":\"\",\"title\":{\"standoff\":15},\"zerolinecolor\":\"#EBF0F8\",\"zerolinewidth\":2},\"yaxis\":{\"automargin\":true,\"gridcolor\":\"#EBF0F8\",\"linecolor\":\"#EBF0F8\",\"ticks\":\"\",\"title\":{\"standoff\":15},\"zerolinecolor\":\"#EBF0F8\",\"zerolinewidth\":2}}},\"xaxis\":{\"range\":[0,10],\"tick0\":1,\"dtick\":2,\"title\":{\"text\":\"Term Rank\"}},\"title\":{\"font\":{\"size\":22,\"color\":\"Black\"},\"text\":\"<b>Term score decline per Topic</b>\",\"y\":0.9,\"x\":0.5,\"xanchor\":\"center\",\"yanchor\":\"top\"},\"hoverlabel\":{\"font\":{\"size\":16,\"family\":\"Rockwell\"},\"bgcolor\":\"white\"},\"showlegend\":false,\"width\":800,\"height\":500,\"yaxis\":{\"title\":{\"text\":\"c-TF-IDF score\"}}},                        {\"responsive\": true}                    ).then(function(){\n",
              "                            \n",
              "var gd = document.getElementById('b965d0c7-5615-4596-b0ef-32878cd07d5b');\n",
              "var x = new MutationObserver(function (mutations, observer) {{\n",
              "        var display = window.getComputedStyle(gd).display;\n",
              "        if (!display || display === 'none') {{\n",
              "            console.log([gd, 'removed!']);\n",
              "            Plotly.purge(gd);\n",
              "            observer.disconnect();\n",
              "        }}\n",
              "}});\n",
              "\n",
              "// Listen for the removal of the full notebook cells\n",
              "var notebookContainer = gd.closest('#notebook-container');\n",
              "if (notebookContainer) {{\n",
              "    x.observe(notebookContainer, {childList: true});\n",
              "}}\n",
              "\n",
              "// Listen for the clearing of the current output cell\n",
              "var outputEl = gd.closest('.output');\n",
              "if (outputEl) {{\n",
              "    x.observe(outputEl, {childList: true});\n",
              "}}\n",
              "\n",
              "                        })                };                            </script>        </div>\n",
              "</body>\n",
              "</html>"
            ]
          },
          "metadata": {}
        }
      ]
    },
    {
      "cell_type": "markdown",
      "metadata": {
        "id": "D48ienfZrfP0"
      },
      "source": [
        "# **Topic Representation**\n",
        "After having created the topic model, you might not be satisfied with some of the parameters you have chosen. Fortunately, BERTopic allows you to update the topics after they have been created. \n",
        "\n",
        "This allows for fine-tuning the model to your specifications and wishes. "
      ]
    },
    {
      "cell_type": "markdown",
      "metadata": {
        "id": "c4m3UMsw-Zxk"
      },
      "source": [
        "## Update Topics\n",
        "When you have trained a model and viewed the topics and the words that represent them,\n",
        "you might not be satisfied with the representation. Perhaps you forgot to remove\n",
        "stopwords or you want to try out a different `n_gram_range`. We can use the function `update_topics` to update \n",
        "the topic representation with new parameters for `c-TF-IDF`: \n"
      ]
    },
    {
      "cell_type": "code",
      "metadata": {
        "id": "KWm7B-FJ-iYW"
      },
      "source": [
        "topic_model.update_topics(docs, topics, n_gram_range=(1, 2))"
      ],
      "execution_count": null,
      "outputs": []
    },
    {
      "cell_type": "code",
      "metadata": {
        "colab": {
          "base_uri": "https://localhost:8080/"
        },
        "id": "wf31gQavdtfG",
        "outputId": "b2cf3d47-f665-44fe-bbe0-c927e4d73363"
      },
      "source": [
        "topic_model.get_topic(0)   # We select topic that we viewed before"
      ],
      "execution_count": null,
      "outputs": [
        {
          "output_type": "execute_result",
          "data": {
            "text/plain": [
              "[('space', 0.011119596146117955),\n",
              " ('nasa', 0.0047697533973351915),\n",
              " ('shuttle', 0.0044533985251824495),\n",
              " ('orbit', 0.004129278694477752),\n",
              " ('spacecraft', 0.004011023125258004),\n",
              " ('satellite', 0.003783732360211832),\n",
              " ('moon', 0.003639954930862572),\n",
              " ('lunar', 0.0034753177228921146),\n",
              " ('the moon', 0.002821040122532999),\n",
              " ('mars', 0.0028033947303940923)]"
            ]
          },
          "metadata": {
            "tags": []
          },
          "execution_count": 10
        }
      ]
    },
    {
      "cell_type": "markdown",
      "metadata": {
        "id": "9antKpdC91A-"
      },
      "source": [
        "## Topic Reduction\n",
        "We can also reduce the number of topics after having trained a BERTopic model. The advantage of doing so, \n",
        "is that you can decide the number of topics after knowing how many are actually created. It is difficult to \n",
        "predict before training your model how many topics that are in your documents and how many will be extracted. \n",
        "Instead, we can decide afterwards how many topics seems realistic:\n",
        "\n",
        "\n",
        "\n"
      ]
    },
    {
      "cell_type": "code",
      "metadata": {
        "id": "5m4Nd7Us-Peg",
        "colab": {
          "base_uri": "https://localhost:8080/"
        },
        "outputId": "2d442d39-5bc5-4e7f-c155-6e6c664f6714"
      },
      "source": [
        "new_topics, new_probs = topic_model.reduce_topics(docs, topics, probs, nr_topics=60)"
      ],
      "execution_count": null,
      "outputs": [
        {
          "output_type": "stream",
          "name": "stderr",
          "text": [
            "2021-10-17 06:05:02,666 - BERTopic - Reduced number of topics from 220 to 61\n"
          ]
        }
      ]
    },
    {
      "cell_type": "markdown",
      "metadata": {
        "id": "LXYJ745O-03Z"
      },
      "source": [
        "# **Search Topics**\n",
        "After having trained our model, we can use `find_topics` to search for topics that are similar \n",
        "to an input search_term. Here, we are going to be searching for topics that closely relate the \n",
        "search term \"vehicle\". Then, we extract the most similar topic and check the results: "
      ]
    },
    {
      "cell_type": "code",
      "metadata": {
        "colab": {
          "base_uri": "https://localhost:8080/"
        },
        "id": "lAdiVYej-2i-",
        "outputId": "c107bd7d-1025-4d4d-b179-d007c7d16cd2"
      },
      "source": [
        "similar_topics, similarity = topic_model.find_topics(\"vehicle\", top_n=5); similar_topics"
      ],
      "execution_count": null,
      "outputs": [
        {
          "output_type": "execute_result",
          "data": {
            "text/plain": [
              "[71, 45, 77, 9, 56]"
            ]
          },
          "metadata": {
            "tags": []
          },
          "execution_count": 11
        }
      ]
    },
    {
      "cell_type": "code",
      "metadata": {
        "colab": {
          "base_uri": "https://localhost:8080/"
        },
        "id": "Q9paNa09d3Xy",
        "outputId": "545bbd07-8850-46d4-fdb7-28cb3d158b15"
      },
      "source": [
        "topic_model.get_topic(71)"
      ],
      "execution_count": null,
      "outputs": [
        {
          "output_type": "execute_result",
          "data": {
            "text/plain": [
              "[('car', 0.03740731827314482),\n",
              " ('the car', 0.027790363401304377),\n",
              " ('dealer', 0.013837911908704722),\n",
              " ('the dealer', 0.009515109324321468),\n",
              " ('owner', 0.008430722097917726),\n",
              " ('previous owner', 0.008157988442865012),\n",
              " ('cars', 0.005827046491488879),\n",
              " ('the odometer', 0.00514870077683653),\n",
              " ('bought car', 0.004667512506960727),\n",
              " ('car with', 0.004498685875558186)]"
            ]
          },
          "metadata": {
            "tags": []
          },
          "execution_count": 12
        }
      ]
    },
    {
      "cell_type": "markdown",
      "metadata": {
        "id": "wekNoQNuUVoU"
      },
      "source": [
        "# **Model serialization**\n",
        "The model and its internal settings can easily be saved. Note that the documents and embeddings will not be saved. However, UMAP and HDBSCAN will be saved. "
      ]
    },
    {
      "cell_type": "code",
      "metadata": {
        "id": "nWUF1uxiSb_a"
      },
      "source": [
        "# Save model\n",
        "topic_model.save(\"my_model\")\t"
      ],
      "execution_count": null,
      "outputs": []
    },
    {
      "cell_type": "code",
      "metadata": {
        "id": "y_eHBI1jSb6i"
      },
      "source": [
        "# Load model\n",
        "my_model = BERTopic.load(\"my_model\")\t"
      ],
      "execution_count": null,
      "outputs": []
    },
    {
      "cell_type": "markdown",
      "metadata": {
        "id": "2eyImbal7lb8"
      },
      "source": [
        "# **Embedding Models**\n",
        "The parameter `embedding_model` takes in a string pointing to a sentence-transformers model, a SentenceTransformer, or a Flair DocumentEmbedding model."
      ]
    },
    {
      "cell_type": "markdown",
      "metadata": {
        "id": "8ZKyW7NZpnEk"
      },
      "source": [
        "## Sentence-Transformers\n",
        "You can select any model from sentence-transformers here and pass it through BERTopic with embedding_model:\n",
        "\n"
      ]
    },
    {
      "cell_type": "code",
      "metadata": {
        "id": "k7sPgNfzprbP"
      },
      "source": [
        "topic_model = BERTopic(embedding_model=\"xlm-r-bert-base-nli-stsb-mean-tokens\")"
      ],
      "execution_count": null,
      "outputs": []
    },
    {
      "cell_type": "markdown",
      "metadata": {
        "id": "8vv7i1JTp62V"
      },
      "source": [
        "Or select a SentenceTransformer model with your own parameters:\n"
      ]
    },
    {
      "cell_type": "code",
      "metadata": {
        "id": "Eh5qp58Hp7Ua"
      },
      "source": [
        "from sentence_transformers import SentenceTransformer\n",
        "\n",
        "sentence_model = SentenceTransformer(\"distilbert-base-nli-mean-tokens\", device=\"cpu\")\n",
        "topic_model = BERTopic(embedding_model=sentence_model, verbose=True)"
      ],
      "execution_count": null,
      "outputs": []
    },
    {
      "cell_type": "markdown",
      "metadata": {
        "id": "SoMc1W-x7-b5"
      },
      "source": [
        "Click [here](https://www.sbert.net/docs/pretrained_models.html) for a list of supported sentence transformers models.  \n"
      ]
    }
  ]
}