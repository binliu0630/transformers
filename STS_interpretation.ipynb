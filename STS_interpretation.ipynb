{
  "nbformat": 4,
  "nbformat_minor": 0,
  "metadata": {
    "colab": {
      "name": "STS_interpretation.ipynb",
      "provenance": [],
      "collapsed_sections": [],
      "include_colab_link": true
    },
    "kernelspec": {
      "display_name": "Python 3",
      "language": "python",
      "name": "python3"
    },
    "language_info": {
      "codemirror_mode": {
        "name": "ipython",
        "version": 3
      },
      "file_extension": ".py",
      "mimetype": "text/x-python",
      "name": "python",
      "nbconvert_exporter": "python",
      "pygments_lexer": "ipython3",
      "version": "3.8.5"
    },
    "widgets": {
      "application/vnd.jupyter.widget-state+json": {
        "00e1c691cc2e43fa997d9d317482f5c9": {
          "model_module": "@jupyter-widgets/controls",
          "model_name": "HBoxModel",
          "state": {
            "_view_name": "HBoxView",
            "_dom_classes": [],
            "_model_name": "HBoxModel",
            "_view_module": "@jupyter-widgets/controls",
            "_model_module_version": "1.5.0",
            "_view_count": null,
            "_view_module_version": "1.5.0",
            "box_style": "",
            "layout": "IPY_MODEL_389e230ad5d4462b9373a2a8386a0286",
            "_model_module": "@jupyter-widgets/controls",
            "children": [
              "IPY_MODEL_06e3b4811a2d4a6591d8bb853998f4c4",
              "IPY_MODEL_e75cb833a15d4c1c85a98b248766771c"
            ]
          }
        },
        "389e230ad5d4462b9373a2a8386a0286": {
          "model_module": "@jupyter-widgets/base",
          "model_name": "LayoutModel",
          "state": {
            "_view_name": "LayoutView",
            "grid_template_rows": null,
            "right": null,
            "justify_content": null,
            "_view_module": "@jupyter-widgets/base",
            "overflow": null,
            "_model_module_version": "1.2.0",
            "_view_count": null,
            "flex_flow": null,
            "width": null,
            "min_width": null,
            "border": null,
            "align_items": null,
            "bottom": null,
            "_model_module": "@jupyter-widgets/base",
            "top": null,
            "grid_column": null,
            "overflow_y": null,
            "overflow_x": null,
            "grid_auto_flow": null,
            "grid_area": null,
            "grid_template_columns": null,
            "flex": null,
            "_model_name": "LayoutModel",
            "justify_items": null,
            "grid_row": null,
            "max_height": null,
            "align_content": null,
            "visibility": null,
            "align_self": null,
            "height": null,
            "min_height": null,
            "padding": null,
            "grid_auto_rows": null,
            "grid_gap": null,
            "max_width": null,
            "order": null,
            "_view_module_version": "1.2.0",
            "grid_template_areas": null,
            "object_position": null,
            "object_fit": null,
            "grid_auto_columns": null,
            "margin": null,
            "display": null,
            "left": null
          }
        },
        "06e3b4811a2d4a6591d8bb853998f4c4": {
          "model_module": "@jupyter-widgets/controls",
          "model_name": "FloatProgressModel",
          "state": {
            "_view_name": "ProgressView",
            "style": "IPY_MODEL_86c10f7891b74c9b8cf04e93872bb60e",
            "_dom_classes": [],
            "description": "Downloading: 100%",
            "_model_name": "FloatProgressModel",
            "bar_style": "success",
            "max": 480,
            "_view_module": "@jupyter-widgets/controls",
            "_model_module_version": "1.5.0",
            "value": 480,
            "_view_count": null,
            "_view_module_version": "1.5.0",
            "orientation": "horizontal",
            "min": 0,
            "description_tooltip": null,
            "_model_module": "@jupyter-widgets/controls",
            "layout": "IPY_MODEL_53d0b155ea0f4096887001194090e38c"
          }
        },
        "e75cb833a15d4c1c85a98b248766771c": {
          "model_module": "@jupyter-widgets/controls",
          "model_name": "HTMLModel",
          "state": {
            "_view_name": "HTMLView",
            "style": "IPY_MODEL_4a0b676c2c5d49c7b4343d3169ec85c0",
            "_dom_classes": [],
            "description": "",
            "_model_name": "HTMLModel",
            "placeholder": "​",
            "_view_module": "@jupyter-widgets/controls",
            "_model_module_version": "1.5.0",
            "value": " 480/480 [00:00&lt;00:00, 2.54kB/s]",
            "_view_count": null,
            "_view_module_version": "1.5.0",
            "description_tooltip": null,
            "_model_module": "@jupyter-widgets/controls",
            "layout": "IPY_MODEL_b54297b97ff44325a2d153804562b115"
          }
        },
        "86c10f7891b74c9b8cf04e93872bb60e": {
          "model_module": "@jupyter-widgets/controls",
          "model_name": "ProgressStyleModel",
          "state": {
            "_view_name": "StyleView",
            "_model_name": "ProgressStyleModel",
            "description_width": "initial",
            "_view_module": "@jupyter-widgets/base",
            "_model_module_version": "1.5.0",
            "_view_count": null,
            "_view_module_version": "1.2.0",
            "bar_color": null,
            "_model_module": "@jupyter-widgets/controls"
          }
        },
        "53d0b155ea0f4096887001194090e38c": {
          "model_module": "@jupyter-widgets/base",
          "model_name": "LayoutModel",
          "state": {
            "_view_name": "LayoutView",
            "grid_template_rows": null,
            "right": null,
            "justify_content": null,
            "_view_module": "@jupyter-widgets/base",
            "overflow": null,
            "_model_module_version": "1.2.0",
            "_view_count": null,
            "flex_flow": null,
            "width": null,
            "min_width": null,
            "border": null,
            "align_items": null,
            "bottom": null,
            "_model_module": "@jupyter-widgets/base",
            "top": null,
            "grid_column": null,
            "overflow_y": null,
            "overflow_x": null,
            "grid_auto_flow": null,
            "grid_area": null,
            "grid_template_columns": null,
            "flex": null,
            "_model_name": "LayoutModel",
            "justify_items": null,
            "grid_row": null,
            "max_height": null,
            "align_content": null,
            "visibility": null,
            "align_self": null,
            "height": null,
            "min_height": null,
            "padding": null,
            "grid_auto_rows": null,
            "grid_gap": null,
            "max_width": null,
            "order": null,
            "_view_module_version": "1.2.0",
            "grid_template_areas": null,
            "object_position": null,
            "object_fit": null,
            "grid_auto_columns": null,
            "margin": null,
            "display": null,
            "left": null
          }
        },
        "4a0b676c2c5d49c7b4343d3169ec85c0": {
          "model_module": "@jupyter-widgets/controls",
          "model_name": "DescriptionStyleModel",
          "state": {
            "_view_name": "StyleView",
            "_model_name": "DescriptionStyleModel",
            "description_width": "",
            "_view_module": "@jupyter-widgets/base",
            "_model_module_version": "1.5.0",
            "_view_count": null,
            "_view_module_version": "1.2.0",
            "_model_module": "@jupyter-widgets/controls"
          }
        },
        "b54297b97ff44325a2d153804562b115": {
          "model_module": "@jupyter-widgets/base",
          "model_name": "LayoutModel",
          "state": {
            "_view_name": "LayoutView",
            "grid_template_rows": null,
            "right": null,
            "justify_content": null,
            "_view_module": "@jupyter-widgets/base",
            "overflow": null,
            "_model_module_version": "1.2.0",
            "_view_count": null,
            "flex_flow": null,
            "width": null,
            "min_width": null,
            "border": null,
            "align_items": null,
            "bottom": null,
            "_model_module": "@jupyter-widgets/base",
            "top": null,
            "grid_column": null,
            "overflow_y": null,
            "overflow_x": null,
            "grid_auto_flow": null,
            "grid_area": null,
            "grid_template_columns": null,
            "flex": null,
            "_model_name": "LayoutModel",
            "justify_items": null,
            "grid_row": null,
            "max_height": null,
            "align_content": null,
            "visibility": null,
            "align_self": null,
            "height": null,
            "min_height": null,
            "padding": null,
            "grid_auto_rows": null,
            "grid_gap": null,
            "max_width": null,
            "order": null,
            "_view_module_version": "1.2.0",
            "grid_template_areas": null,
            "object_position": null,
            "object_fit": null,
            "grid_auto_columns": null,
            "margin": null,
            "display": null,
            "left": null
          }
        },
        "821d155379ef4b308928827edd87bd31": {
          "model_module": "@jupyter-widgets/controls",
          "model_name": "HBoxModel",
          "state": {
            "_view_name": "HBoxView",
            "_dom_classes": [],
            "_model_name": "HBoxModel",
            "_view_module": "@jupyter-widgets/controls",
            "_model_module_version": "1.5.0",
            "_view_count": null,
            "_view_module_version": "1.5.0",
            "box_style": "",
            "layout": "IPY_MODEL_112ed98461dc447b85bad6a176707d18",
            "_model_module": "@jupyter-widgets/controls",
            "children": [
              "IPY_MODEL_4ca09a722fc044efac696136f22ea00d",
              "IPY_MODEL_75742ae3219b4493842f6320ae7bc84a"
            ]
          }
        },
        "112ed98461dc447b85bad6a176707d18": {
          "model_module": "@jupyter-widgets/base",
          "model_name": "LayoutModel",
          "state": {
            "_view_name": "LayoutView",
            "grid_template_rows": null,
            "right": null,
            "justify_content": null,
            "_view_module": "@jupyter-widgets/base",
            "overflow": null,
            "_model_module_version": "1.2.0",
            "_view_count": null,
            "flex_flow": null,
            "width": null,
            "min_width": null,
            "border": null,
            "align_items": null,
            "bottom": null,
            "_model_module": "@jupyter-widgets/base",
            "top": null,
            "grid_column": null,
            "overflow_y": null,
            "overflow_x": null,
            "grid_auto_flow": null,
            "grid_area": null,
            "grid_template_columns": null,
            "flex": null,
            "_model_name": "LayoutModel",
            "justify_items": null,
            "grid_row": null,
            "max_height": null,
            "align_content": null,
            "visibility": null,
            "align_self": null,
            "height": null,
            "min_height": null,
            "padding": null,
            "grid_auto_rows": null,
            "grid_gap": null,
            "max_width": null,
            "order": null,
            "_view_module_version": "1.2.0",
            "grid_template_areas": null,
            "object_position": null,
            "object_fit": null,
            "grid_auto_columns": null,
            "margin": null,
            "display": null,
            "left": null
          }
        },
        "4ca09a722fc044efac696136f22ea00d": {
          "model_module": "@jupyter-widgets/controls",
          "model_name": "FloatProgressModel",
          "state": {
            "_view_name": "ProgressView",
            "style": "IPY_MODEL_06c579a521fe4b7486d3560ecd14101b",
            "_dom_classes": [],
            "description": "Downloading: 100%",
            "_model_name": "FloatProgressModel",
            "bar_style": "success",
            "max": 331070498,
            "_view_module": "@jupyter-widgets/controls",
            "_model_module_version": "1.5.0",
            "value": 331070498,
            "_view_count": null,
            "_view_module_version": "1.5.0",
            "orientation": "horizontal",
            "min": 0,
            "description_tooltip": null,
            "_model_module": "@jupyter-widgets/controls",
            "layout": "IPY_MODEL_1e24e70f1f6e4670a91810d3e9696971"
          }
        },
        "75742ae3219b4493842f6320ae7bc84a": {
          "model_module": "@jupyter-widgets/controls",
          "model_name": "HTMLModel",
          "state": {
            "_view_name": "HTMLView",
            "style": "IPY_MODEL_fadfe829235647b18a10d2be8a25a13d",
            "_dom_classes": [],
            "description": "",
            "_model_name": "HTMLModel",
            "placeholder": "​",
            "_view_module": "@jupyter-widgets/controls",
            "_model_module_version": "1.5.0",
            "value": " 331M/331M [00:08&lt;00:00, 37.4MB/s]",
            "_view_count": null,
            "_view_module_version": "1.5.0",
            "description_tooltip": null,
            "_model_module": "@jupyter-widgets/controls",
            "layout": "IPY_MODEL_1ebd913a4b53469b85f06d62500ab64a"
          }
        },
        "06c579a521fe4b7486d3560ecd14101b": {
          "model_module": "@jupyter-widgets/controls",
          "model_name": "ProgressStyleModel",
          "state": {
            "_view_name": "StyleView",
            "_model_name": "ProgressStyleModel",
            "description_width": "initial",
            "_view_module": "@jupyter-widgets/base",
            "_model_module_version": "1.5.0",
            "_view_count": null,
            "_view_module_version": "1.2.0",
            "bar_color": null,
            "_model_module": "@jupyter-widgets/controls"
          }
        },
        "1e24e70f1f6e4670a91810d3e9696971": {
          "model_module": "@jupyter-widgets/base",
          "model_name": "LayoutModel",
          "state": {
            "_view_name": "LayoutView",
            "grid_template_rows": null,
            "right": null,
            "justify_content": null,
            "_view_module": "@jupyter-widgets/base",
            "overflow": null,
            "_model_module_version": "1.2.0",
            "_view_count": null,
            "flex_flow": null,
            "width": null,
            "min_width": null,
            "border": null,
            "align_items": null,
            "bottom": null,
            "_model_module": "@jupyter-widgets/base",
            "top": null,
            "grid_column": null,
            "overflow_y": null,
            "overflow_x": null,
            "grid_auto_flow": null,
            "grid_area": null,
            "grid_template_columns": null,
            "flex": null,
            "_model_name": "LayoutModel",
            "justify_items": null,
            "grid_row": null,
            "max_height": null,
            "align_content": null,
            "visibility": null,
            "align_self": null,
            "height": null,
            "min_height": null,
            "padding": null,
            "grid_auto_rows": null,
            "grid_gap": null,
            "max_width": null,
            "order": null,
            "_view_module_version": "1.2.0",
            "grid_template_areas": null,
            "object_position": null,
            "object_fit": null,
            "grid_auto_columns": null,
            "margin": null,
            "display": null,
            "left": null
          }
        },
        "fadfe829235647b18a10d2be8a25a13d": {
          "model_module": "@jupyter-widgets/controls",
          "model_name": "DescriptionStyleModel",
          "state": {
            "_view_name": "StyleView",
            "_model_name": "DescriptionStyleModel",
            "description_width": "",
            "_view_module": "@jupyter-widgets/base",
            "_model_module_version": "1.5.0",
            "_view_count": null,
            "_view_module_version": "1.2.0",
            "_model_module": "@jupyter-widgets/controls"
          }
        },
        "1ebd913a4b53469b85f06d62500ab64a": {
          "model_module": "@jupyter-widgets/base",
          "model_name": "LayoutModel",
          "state": {
            "_view_name": "LayoutView",
            "grid_template_rows": null,
            "right": null,
            "justify_content": null,
            "_view_module": "@jupyter-widgets/base",
            "overflow": null,
            "_model_module_version": "1.2.0",
            "_view_count": null,
            "flex_flow": null,
            "width": null,
            "min_width": null,
            "border": null,
            "align_items": null,
            "bottom": null,
            "_model_module": "@jupyter-widgets/base",
            "top": null,
            "grid_column": null,
            "overflow_y": null,
            "overflow_x": null,
            "grid_auto_flow": null,
            "grid_area": null,
            "grid_template_columns": null,
            "flex": null,
            "_model_name": "LayoutModel",
            "justify_items": null,
            "grid_row": null,
            "max_height": null,
            "align_content": null,
            "visibility": null,
            "align_self": null,
            "height": null,
            "min_height": null,
            "padding": null,
            "grid_auto_rows": null,
            "grid_gap": null,
            "max_width": null,
            "order": null,
            "_view_module_version": "1.2.0",
            "grid_template_areas": null,
            "object_position": null,
            "object_fit": null,
            "grid_auto_columns": null,
            "margin": null,
            "display": null,
            "left": null
          }
        },
        "c4f033021ff94a4b89a600439359cf5d": {
          "model_module": "@jupyter-widgets/controls",
          "model_name": "HBoxModel",
          "state": {
            "_view_name": "HBoxView",
            "_dom_classes": [],
            "_model_name": "HBoxModel",
            "_view_module": "@jupyter-widgets/controls",
            "_model_module_version": "1.5.0",
            "_view_count": null,
            "_view_module_version": "1.5.0",
            "box_style": "",
            "layout": "IPY_MODEL_a7dacdc4f9844e9689a417f9c9df0cfc",
            "_model_module": "@jupyter-widgets/controls",
            "children": [
              "IPY_MODEL_017626a6d68545a9b24a33117422bfde",
              "IPY_MODEL_f9c2e7aecbb94a3082fc829b0535698b"
            ]
          }
        },
        "a7dacdc4f9844e9689a417f9c9df0cfc": {
          "model_module": "@jupyter-widgets/base",
          "model_name": "LayoutModel",
          "state": {
            "_view_name": "LayoutView",
            "grid_template_rows": null,
            "right": null,
            "justify_content": null,
            "_view_module": "@jupyter-widgets/base",
            "overflow": null,
            "_model_module_version": "1.2.0",
            "_view_count": null,
            "flex_flow": null,
            "width": null,
            "min_width": null,
            "border": null,
            "align_items": null,
            "bottom": null,
            "_model_module": "@jupyter-widgets/base",
            "top": null,
            "grid_column": null,
            "overflow_y": null,
            "overflow_x": null,
            "grid_auto_flow": null,
            "grid_area": null,
            "grid_template_columns": null,
            "flex": null,
            "_model_name": "LayoutModel",
            "justify_items": null,
            "grid_row": null,
            "max_height": null,
            "align_content": null,
            "visibility": null,
            "align_self": null,
            "height": null,
            "min_height": null,
            "padding": null,
            "grid_auto_rows": null,
            "grid_gap": null,
            "max_width": null,
            "order": null,
            "_view_module_version": "1.2.0",
            "grid_template_areas": null,
            "object_position": null,
            "object_fit": null,
            "grid_auto_columns": null,
            "margin": null,
            "display": null,
            "left": null
          }
        },
        "017626a6d68545a9b24a33117422bfde": {
          "model_module": "@jupyter-widgets/controls",
          "model_name": "FloatProgressModel",
          "state": {
            "_view_name": "ProgressView",
            "style": "IPY_MODEL_126f962516f74ede865882e0d8caecd7",
            "_dom_classes": [],
            "description": "Downloading: 100%",
            "_model_name": "FloatProgressModel",
            "bar_style": "success",
            "max": 898823,
            "_view_module": "@jupyter-widgets/controls",
            "_model_module_version": "1.5.0",
            "value": 898823,
            "_view_count": null,
            "_view_module_version": "1.5.0",
            "orientation": "horizontal",
            "min": 0,
            "description_tooltip": null,
            "_model_module": "@jupyter-widgets/controls",
            "layout": "IPY_MODEL_c8714e3345754ab6806053ab5a48bbcc"
          }
        },
        "f9c2e7aecbb94a3082fc829b0535698b": {
          "model_module": "@jupyter-widgets/controls",
          "model_name": "HTMLModel",
          "state": {
            "_view_name": "HTMLView",
            "style": "IPY_MODEL_51bc8e7429e94b00bb3ddd4b6b455f19",
            "_dom_classes": [],
            "description": "",
            "_model_name": "HTMLModel",
            "placeholder": "​",
            "_view_module": "@jupyter-widgets/controls",
            "_model_module_version": "1.5.0",
            "value": " 899k/899k [00:00&lt;00:00, 1.16MB/s]",
            "_view_count": null,
            "_view_module_version": "1.5.0",
            "description_tooltip": null,
            "_model_module": "@jupyter-widgets/controls",
            "layout": "IPY_MODEL_436b1a5085254c8a8a1d9683773708d1"
          }
        },
        "126f962516f74ede865882e0d8caecd7": {
          "model_module": "@jupyter-widgets/controls",
          "model_name": "ProgressStyleModel",
          "state": {
            "_view_name": "StyleView",
            "_model_name": "ProgressStyleModel",
            "description_width": "initial",
            "_view_module": "@jupyter-widgets/base",
            "_model_module_version": "1.5.0",
            "_view_count": null,
            "_view_module_version": "1.2.0",
            "bar_color": null,
            "_model_module": "@jupyter-widgets/controls"
          }
        },
        "c8714e3345754ab6806053ab5a48bbcc": {
          "model_module": "@jupyter-widgets/base",
          "model_name": "LayoutModel",
          "state": {
            "_view_name": "LayoutView",
            "grid_template_rows": null,
            "right": null,
            "justify_content": null,
            "_view_module": "@jupyter-widgets/base",
            "overflow": null,
            "_model_module_version": "1.2.0",
            "_view_count": null,
            "flex_flow": null,
            "width": null,
            "min_width": null,
            "border": null,
            "align_items": null,
            "bottom": null,
            "_model_module": "@jupyter-widgets/base",
            "top": null,
            "grid_column": null,
            "overflow_y": null,
            "overflow_x": null,
            "grid_auto_flow": null,
            "grid_area": null,
            "grid_template_columns": null,
            "flex": null,
            "_model_name": "LayoutModel",
            "justify_items": null,
            "grid_row": null,
            "max_height": null,
            "align_content": null,
            "visibility": null,
            "align_self": null,
            "height": null,
            "min_height": null,
            "padding": null,
            "grid_auto_rows": null,
            "grid_gap": null,
            "max_width": null,
            "order": null,
            "_view_module_version": "1.2.0",
            "grid_template_areas": null,
            "object_position": null,
            "object_fit": null,
            "grid_auto_columns": null,
            "margin": null,
            "display": null,
            "left": null
          }
        },
        "51bc8e7429e94b00bb3ddd4b6b455f19": {
          "model_module": "@jupyter-widgets/controls",
          "model_name": "DescriptionStyleModel",
          "state": {
            "_view_name": "StyleView",
            "_model_name": "DescriptionStyleModel",
            "description_width": "",
            "_view_module": "@jupyter-widgets/base",
            "_model_module_version": "1.5.0",
            "_view_count": null,
            "_view_module_version": "1.2.0",
            "_model_module": "@jupyter-widgets/controls"
          }
        },
        "436b1a5085254c8a8a1d9683773708d1": {
          "model_module": "@jupyter-widgets/base",
          "model_name": "LayoutModel",
          "state": {
            "_view_name": "LayoutView",
            "grid_template_rows": null,
            "right": null,
            "justify_content": null,
            "_view_module": "@jupyter-widgets/base",
            "overflow": null,
            "_model_module_version": "1.2.0",
            "_view_count": null,
            "flex_flow": null,
            "width": null,
            "min_width": null,
            "border": null,
            "align_items": null,
            "bottom": null,
            "_model_module": "@jupyter-widgets/base",
            "top": null,
            "grid_column": null,
            "overflow_y": null,
            "overflow_x": null,
            "grid_auto_flow": null,
            "grid_area": null,
            "grid_template_columns": null,
            "flex": null,
            "_model_name": "LayoutModel",
            "justify_items": null,
            "grid_row": null,
            "max_height": null,
            "align_content": null,
            "visibility": null,
            "align_self": null,
            "height": null,
            "min_height": null,
            "padding": null,
            "grid_auto_rows": null,
            "grid_gap": null,
            "max_width": null,
            "order": null,
            "_view_module_version": "1.2.0",
            "grid_template_areas": null,
            "object_position": null,
            "object_fit": null,
            "grid_auto_columns": null,
            "margin": null,
            "display": null,
            "left": null
          }
        },
        "02ba658add534383a551e4ac7774d109": {
          "model_module": "@jupyter-widgets/controls",
          "model_name": "HBoxModel",
          "state": {
            "_view_name": "HBoxView",
            "_dom_classes": [],
            "_model_name": "HBoxModel",
            "_view_module": "@jupyter-widgets/controls",
            "_model_module_version": "1.5.0",
            "_view_count": null,
            "_view_module_version": "1.5.0",
            "box_style": "",
            "layout": "IPY_MODEL_7206cff8f5bd4a59a2f7d59fa0b788fa",
            "_model_module": "@jupyter-widgets/controls",
            "children": [
              "IPY_MODEL_feb664d03fbc48f2ae5c9cedaf398165",
              "IPY_MODEL_98e0b73e482c45f8a54c8d0b26f803ce"
            ]
          }
        },
        "7206cff8f5bd4a59a2f7d59fa0b788fa": {
          "model_module": "@jupyter-widgets/base",
          "model_name": "LayoutModel",
          "state": {
            "_view_name": "LayoutView",
            "grid_template_rows": null,
            "right": null,
            "justify_content": null,
            "_view_module": "@jupyter-widgets/base",
            "overflow": null,
            "_model_module_version": "1.2.0",
            "_view_count": null,
            "flex_flow": null,
            "width": null,
            "min_width": null,
            "border": null,
            "align_items": null,
            "bottom": null,
            "_model_module": "@jupyter-widgets/base",
            "top": null,
            "grid_column": null,
            "overflow_y": null,
            "overflow_x": null,
            "grid_auto_flow": null,
            "grid_area": null,
            "grid_template_columns": null,
            "flex": null,
            "_model_name": "LayoutModel",
            "justify_items": null,
            "grid_row": null,
            "max_height": null,
            "align_content": null,
            "visibility": null,
            "align_self": null,
            "height": null,
            "min_height": null,
            "padding": null,
            "grid_auto_rows": null,
            "grid_gap": null,
            "max_width": null,
            "order": null,
            "_view_module_version": "1.2.0",
            "grid_template_areas": null,
            "object_position": null,
            "object_fit": null,
            "grid_auto_columns": null,
            "margin": null,
            "display": null,
            "left": null
          }
        },
        "feb664d03fbc48f2ae5c9cedaf398165": {
          "model_module": "@jupyter-widgets/controls",
          "model_name": "FloatProgressModel",
          "state": {
            "_view_name": "ProgressView",
            "style": "IPY_MODEL_111d7d15d17d4ad3bcba7087996624a1",
            "_dom_classes": [],
            "description": "Downloading: 100%",
            "_model_name": "FloatProgressModel",
            "bar_style": "success",
            "max": 456318,
            "_view_module": "@jupyter-widgets/controls",
            "_model_module_version": "1.5.0",
            "value": 456318,
            "_view_count": null,
            "_view_module_version": "1.5.0",
            "orientation": "horizontal",
            "min": 0,
            "description_tooltip": null,
            "_model_module": "@jupyter-widgets/controls",
            "layout": "IPY_MODEL_9f35e6949fa4431cae5ecbb10894e7f6"
          }
        },
        "98e0b73e482c45f8a54c8d0b26f803ce": {
          "model_module": "@jupyter-widgets/controls",
          "model_name": "HTMLModel",
          "state": {
            "_view_name": "HTMLView",
            "style": "IPY_MODEL_ef16f7be790947f984fed06d915768c5",
            "_dom_classes": [],
            "description": "",
            "_model_name": "HTMLModel",
            "placeholder": "​",
            "_view_module": "@jupyter-widgets/controls",
            "_model_module_version": "1.5.0",
            "value": " 456k/456k [00:00&lt;00:00, 1.14MB/s]",
            "_view_count": null,
            "_view_module_version": "1.5.0",
            "description_tooltip": null,
            "_model_module": "@jupyter-widgets/controls",
            "layout": "IPY_MODEL_4a29fefec3e3468681d04615cb7edc4a"
          }
        },
        "111d7d15d17d4ad3bcba7087996624a1": {
          "model_module": "@jupyter-widgets/controls",
          "model_name": "ProgressStyleModel",
          "state": {
            "_view_name": "StyleView",
            "_model_name": "ProgressStyleModel",
            "description_width": "initial",
            "_view_module": "@jupyter-widgets/base",
            "_model_module_version": "1.5.0",
            "_view_count": null,
            "_view_module_version": "1.2.0",
            "bar_color": null,
            "_model_module": "@jupyter-widgets/controls"
          }
        },
        "9f35e6949fa4431cae5ecbb10894e7f6": {
          "model_module": "@jupyter-widgets/base",
          "model_name": "LayoutModel",
          "state": {
            "_view_name": "LayoutView",
            "grid_template_rows": null,
            "right": null,
            "justify_content": null,
            "_view_module": "@jupyter-widgets/base",
            "overflow": null,
            "_model_module_version": "1.2.0",
            "_view_count": null,
            "flex_flow": null,
            "width": null,
            "min_width": null,
            "border": null,
            "align_items": null,
            "bottom": null,
            "_model_module": "@jupyter-widgets/base",
            "top": null,
            "grid_column": null,
            "overflow_y": null,
            "overflow_x": null,
            "grid_auto_flow": null,
            "grid_area": null,
            "grid_template_columns": null,
            "flex": null,
            "_model_name": "LayoutModel",
            "justify_items": null,
            "grid_row": null,
            "max_height": null,
            "align_content": null,
            "visibility": null,
            "align_self": null,
            "height": null,
            "min_height": null,
            "padding": null,
            "grid_auto_rows": null,
            "grid_gap": null,
            "max_width": null,
            "order": null,
            "_view_module_version": "1.2.0",
            "grid_template_areas": null,
            "object_position": null,
            "object_fit": null,
            "grid_auto_columns": null,
            "margin": null,
            "display": null,
            "left": null
          }
        },
        "ef16f7be790947f984fed06d915768c5": {
          "model_module": "@jupyter-widgets/controls",
          "model_name": "DescriptionStyleModel",
          "state": {
            "_view_name": "StyleView",
            "_model_name": "DescriptionStyleModel",
            "description_width": "",
            "_view_module": "@jupyter-widgets/base",
            "_model_module_version": "1.5.0",
            "_view_count": null,
            "_view_module_version": "1.2.0",
            "_model_module": "@jupyter-widgets/controls"
          }
        },
        "4a29fefec3e3468681d04615cb7edc4a": {
          "model_module": "@jupyter-widgets/base",
          "model_name": "LayoutModel",
          "state": {
            "_view_name": "LayoutView",
            "grid_template_rows": null,
            "right": null,
            "justify_content": null,
            "_view_module": "@jupyter-widgets/base",
            "overflow": null,
            "_model_module_version": "1.2.0",
            "_view_count": null,
            "flex_flow": null,
            "width": null,
            "min_width": null,
            "border": null,
            "align_items": null,
            "bottom": null,
            "_model_module": "@jupyter-widgets/base",
            "top": null,
            "grid_column": null,
            "overflow_y": null,
            "overflow_x": null,
            "grid_auto_flow": null,
            "grid_area": null,
            "grid_template_columns": null,
            "flex": null,
            "_model_name": "LayoutModel",
            "justify_items": null,
            "grid_row": null,
            "max_height": null,
            "align_content": null,
            "visibility": null,
            "align_self": null,
            "height": null,
            "min_height": null,
            "padding": null,
            "grid_auto_rows": null,
            "grid_gap": null,
            "max_width": null,
            "order": null,
            "_view_module_version": "1.2.0",
            "grid_template_areas": null,
            "object_position": null,
            "object_fit": null,
            "grid_auto_columns": null,
            "margin": null,
            "display": null,
            "left": null
          }
        },
        "97e9a115eb074be1a15aa4e507212766": {
          "model_module": "@jupyter-widgets/controls",
          "model_name": "HBoxModel",
          "state": {
            "_view_name": "HBoxView",
            "_dom_classes": [],
            "_model_name": "HBoxModel",
            "_view_module": "@jupyter-widgets/controls",
            "_model_module_version": "1.5.0",
            "_view_count": null,
            "_view_module_version": "1.5.0",
            "box_style": "",
            "layout": "IPY_MODEL_4865d4b641e442e09084cca36d1b193e",
            "_model_module": "@jupyter-widgets/controls",
            "children": [
              "IPY_MODEL_33f0d533927343029bdad0fdbe3455d9",
              "IPY_MODEL_968be20a1ebb452da2caf04be1f433e5"
            ]
          }
        },
        "4865d4b641e442e09084cca36d1b193e": {
          "model_module": "@jupyter-widgets/base",
          "model_name": "LayoutModel",
          "state": {
            "_view_name": "LayoutView",
            "grid_template_rows": null,
            "right": null,
            "justify_content": null,
            "_view_module": "@jupyter-widgets/base",
            "overflow": null,
            "_model_module_version": "1.2.0",
            "_view_count": null,
            "flex_flow": null,
            "width": null,
            "min_width": null,
            "border": null,
            "align_items": null,
            "bottom": null,
            "_model_module": "@jupyter-widgets/base",
            "top": null,
            "grid_column": null,
            "overflow_y": null,
            "overflow_x": null,
            "grid_auto_flow": null,
            "grid_area": null,
            "grid_template_columns": null,
            "flex": null,
            "_model_name": "LayoutModel",
            "justify_items": null,
            "grid_row": null,
            "max_height": null,
            "align_content": null,
            "visibility": null,
            "align_self": null,
            "height": null,
            "min_height": null,
            "padding": null,
            "grid_auto_rows": null,
            "grid_gap": null,
            "max_width": null,
            "order": null,
            "_view_module_version": "1.2.0",
            "grid_template_areas": null,
            "object_position": null,
            "object_fit": null,
            "grid_auto_columns": null,
            "margin": null,
            "display": null,
            "left": null
          }
        },
        "33f0d533927343029bdad0fdbe3455d9": {
          "model_module": "@jupyter-widgets/controls",
          "model_name": "FloatProgressModel",
          "state": {
            "_view_name": "ProgressView",
            "style": "IPY_MODEL_5abfb454b22644afa60c0dd658cea4f3",
            "_dom_classes": [],
            "description": "Downloading: 100%",
            "_model_name": "FloatProgressModel",
            "bar_style": "success",
            "max": 1355863,
            "_view_module": "@jupyter-widgets/controls",
            "_model_module_version": "1.5.0",
            "value": 1355863,
            "_view_count": null,
            "_view_module_version": "1.5.0",
            "orientation": "horizontal",
            "min": 0,
            "description_tooltip": null,
            "_model_module": "@jupyter-widgets/controls",
            "layout": "IPY_MODEL_2bb9520d2fad49be9c50c80990693a20"
          }
        },
        "968be20a1ebb452da2caf04be1f433e5": {
          "model_module": "@jupyter-widgets/controls",
          "model_name": "HTMLModel",
          "state": {
            "_view_name": "HTMLView",
            "style": "IPY_MODEL_7c40a04fa24e47c6a725b91bfb4328f6",
            "_dom_classes": [],
            "description": "",
            "_model_name": "HTMLModel",
            "placeholder": "​",
            "_view_module": "@jupyter-widgets/controls",
            "_model_module_version": "1.5.0",
            "value": " 1.36M/1.36M [00:44&lt;00:00, 30.2kB/s]",
            "_view_count": null,
            "_view_module_version": "1.5.0",
            "description_tooltip": null,
            "_model_module": "@jupyter-widgets/controls",
            "layout": "IPY_MODEL_6b394fc684894b0895439dee62d09c8f"
          }
        },
        "5abfb454b22644afa60c0dd658cea4f3": {
          "model_module": "@jupyter-widgets/controls",
          "model_name": "ProgressStyleModel",
          "state": {
            "_view_name": "StyleView",
            "_model_name": "ProgressStyleModel",
            "description_width": "initial",
            "_view_module": "@jupyter-widgets/base",
            "_model_module_version": "1.5.0",
            "_view_count": null,
            "_view_module_version": "1.2.0",
            "bar_color": null,
            "_model_module": "@jupyter-widgets/controls"
          }
        },
        "2bb9520d2fad49be9c50c80990693a20": {
          "model_module": "@jupyter-widgets/base",
          "model_name": "LayoutModel",
          "state": {
            "_view_name": "LayoutView",
            "grid_template_rows": null,
            "right": null,
            "justify_content": null,
            "_view_module": "@jupyter-widgets/base",
            "overflow": null,
            "_model_module_version": "1.2.0",
            "_view_count": null,
            "flex_flow": null,
            "width": null,
            "min_width": null,
            "border": null,
            "align_items": null,
            "bottom": null,
            "_model_module": "@jupyter-widgets/base",
            "top": null,
            "grid_column": null,
            "overflow_y": null,
            "overflow_x": null,
            "grid_auto_flow": null,
            "grid_area": null,
            "grid_template_columns": null,
            "flex": null,
            "_model_name": "LayoutModel",
            "justify_items": null,
            "grid_row": null,
            "max_height": null,
            "align_content": null,
            "visibility": null,
            "align_self": null,
            "height": null,
            "min_height": null,
            "padding": null,
            "grid_auto_rows": null,
            "grid_gap": null,
            "max_width": null,
            "order": null,
            "_view_module_version": "1.2.0",
            "grid_template_areas": null,
            "object_position": null,
            "object_fit": null,
            "grid_auto_columns": null,
            "margin": null,
            "display": null,
            "left": null
          }
        },
        "7c40a04fa24e47c6a725b91bfb4328f6": {
          "model_module": "@jupyter-widgets/controls",
          "model_name": "DescriptionStyleModel",
          "state": {
            "_view_name": "StyleView",
            "_model_name": "DescriptionStyleModel",
            "description_width": "",
            "_view_module": "@jupyter-widgets/base",
            "_model_module_version": "1.5.0",
            "_view_count": null,
            "_view_module_version": "1.2.0",
            "_model_module": "@jupyter-widgets/controls"
          }
        },
        "6b394fc684894b0895439dee62d09c8f": {
          "model_module": "@jupyter-widgets/base",
          "model_name": "LayoutModel",
          "state": {
            "_view_name": "LayoutView",
            "grid_template_rows": null,
            "right": null,
            "justify_content": null,
            "_view_module": "@jupyter-widgets/base",
            "overflow": null,
            "_model_module_version": "1.2.0",
            "_view_count": null,
            "flex_flow": null,
            "width": null,
            "min_width": null,
            "border": null,
            "align_items": null,
            "bottom": null,
            "_model_module": "@jupyter-widgets/base",
            "top": null,
            "grid_column": null,
            "overflow_y": null,
            "overflow_x": null,
            "grid_auto_flow": null,
            "grid_area": null,
            "grid_template_columns": null,
            "flex": null,
            "_model_name": "LayoutModel",
            "justify_items": null,
            "grid_row": null,
            "max_height": null,
            "align_content": null,
            "visibility": null,
            "align_self": null,
            "height": null,
            "min_height": null,
            "padding": null,
            "grid_auto_rows": null,
            "grid_gap": null,
            "max_width": null,
            "order": null,
            "_view_module_version": "1.2.0",
            "grid_template_areas": null,
            "object_position": null,
            "object_fit": null,
            "grid_auto_columns": null,
            "margin": null,
            "display": null,
            "left": null
          }
        },
        "0f64cfc53cea4f1cbfdba9b60f8f993e": {
          "model_module": "@jupyter-widgets/controls",
          "model_name": "HBoxModel",
          "state": {
            "_view_name": "HBoxView",
            "_dom_classes": [],
            "_model_name": "HBoxModel",
            "_view_module": "@jupyter-widgets/controls",
            "_model_module_version": "1.5.0",
            "_view_count": null,
            "_view_module_version": "1.5.0",
            "box_style": "",
            "layout": "IPY_MODEL_88d332634a594333b8cf873bbdfd290e",
            "_model_module": "@jupyter-widgets/controls",
            "children": [
              "IPY_MODEL_05ab611ad33f44b1a83e814b82d0b950",
              "IPY_MODEL_487d3b85bc534ac7a3b8d5f4400852f6"
            ]
          }
        },
        "88d332634a594333b8cf873bbdfd290e": {
          "model_module": "@jupyter-widgets/base",
          "model_name": "LayoutModel",
          "state": {
            "_view_name": "LayoutView",
            "grid_template_rows": null,
            "right": null,
            "justify_content": null,
            "_view_module": "@jupyter-widgets/base",
            "overflow": null,
            "_model_module_version": "1.2.0",
            "_view_count": null,
            "flex_flow": null,
            "width": null,
            "min_width": null,
            "border": null,
            "align_items": null,
            "bottom": null,
            "_model_module": "@jupyter-widgets/base",
            "top": null,
            "grid_column": null,
            "overflow_y": null,
            "overflow_x": null,
            "grid_auto_flow": null,
            "grid_area": null,
            "grid_template_columns": null,
            "flex": null,
            "_model_name": "LayoutModel",
            "justify_items": null,
            "grid_row": null,
            "max_height": null,
            "align_content": null,
            "visibility": null,
            "align_self": null,
            "height": null,
            "min_height": null,
            "padding": null,
            "grid_auto_rows": null,
            "grid_gap": null,
            "max_width": null,
            "order": null,
            "_view_module_version": "1.2.0",
            "grid_template_areas": null,
            "object_position": null,
            "object_fit": null,
            "grid_auto_columns": null,
            "margin": null,
            "display": null,
            "left": null
          }
        },
        "05ab611ad33f44b1a83e814b82d0b950": {
          "model_module": "@jupyter-widgets/controls",
          "model_name": "FloatProgressModel",
          "state": {
            "_view_name": "ProgressView",
            "style": "IPY_MODEL_4dbca5516b354a90bbe2e1a6f4380719",
            "_dom_classes": [],
            "description": "Downloading: 100%",
            "_model_name": "FloatProgressModel",
            "bar_style": "success",
            "max": 442,
            "_view_module": "@jupyter-widgets/controls",
            "_model_module_version": "1.5.0",
            "value": 442,
            "_view_count": null,
            "_view_module_version": "1.5.0",
            "orientation": "horizontal",
            "min": 0,
            "description_tooltip": null,
            "_model_module": "@jupyter-widgets/controls",
            "layout": "IPY_MODEL_e94122b812d345989c1aa4cd268af6cd"
          }
        },
        "487d3b85bc534ac7a3b8d5f4400852f6": {
          "model_module": "@jupyter-widgets/controls",
          "model_name": "HTMLModel",
          "state": {
            "_view_name": "HTMLView",
            "style": "IPY_MODEL_c7688ad0b6c74b47ba54ac0b7fab3a66",
            "_dom_classes": [],
            "description": "",
            "_model_name": "HTMLModel",
            "placeholder": "​",
            "_view_module": "@jupyter-widgets/controls",
            "_model_module_version": "1.5.0",
            "value": " 442/442 [00:00&lt;00:00, 12.0kB/s]",
            "_view_count": null,
            "_view_module_version": "1.5.0",
            "description_tooltip": null,
            "_model_module": "@jupyter-widgets/controls",
            "layout": "IPY_MODEL_276c769a509b47a4839083f8cede71a1"
          }
        },
        "4dbca5516b354a90bbe2e1a6f4380719": {
          "model_module": "@jupyter-widgets/controls",
          "model_name": "ProgressStyleModel",
          "state": {
            "_view_name": "StyleView",
            "_model_name": "ProgressStyleModel",
            "description_width": "initial",
            "_view_module": "@jupyter-widgets/base",
            "_model_module_version": "1.5.0",
            "_view_count": null,
            "_view_module_version": "1.2.0",
            "bar_color": null,
            "_model_module": "@jupyter-widgets/controls"
          }
        },
        "e94122b812d345989c1aa4cd268af6cd": {
          "model_module": "@jupyter-widgets/base",
          "model_name": "LayoutModel",
          "state": {
            "_view_name": "LayoutView",
            "grid_template_rows": null,
            "right": null,
            "justify_content": null,
            "_view_module": "@jupyter-widgets/base",
            "overflow": null,
            "_model_module_version": "1.2.0",
            "_view_count": null,
            "flex_flow": null,
            "width": null,
            "min_width": null,
            "border": null,
            "align_items": null,
            "bottom": null,
            "_model_module": "@jupyter-widgets/base",
            "top": null,
            "grid_column": null,
            "overflow_y": null,
            "overflow_x": null,
            "grid_auto_flow": null,
            "grid_area": null,
            "grid_template_columns": null,
            "flex": null,
            "_model_name": "LayoutModel",
            "justify_items": null,
            "grid_row": null,
            "max_height": null,
            "align_content": null,
            "visibility": null,
            "align_self": null,
            "height": null,
            "min_height": null,
            "padding": null,
            "grid_auto_rows": null,
            "grid_gap": null,
            "max_width": null,
            "order": null,
            "_view_module_version": "1.2.0",
            "grid_template_areas": null,
            "object_position": null,
            "object_fit": null,
            "grid_auto_columns": null,
            "margin": null,
            "display": null,
            "left": null
          }
        },
        "c7688ad0b6c74b47ba54ac0b7fab3a66": {
          "model_module": "@jupyter-widgets/controls",
          "model_name": "DescriptionStyleModel",
          "state": {
            "_view_name": "StyleView",
            "_model_name": "DescriptionStyleModel",
            "description_width": "",
            "_view_module": "@jupyter-widgets/base",
            "_model_module_version": "1.5.0",
            "_view_count": null,
            "_view_module_version": "1.2.0",
            "_model_module": "@jupyter-widgets/controls"
          }
        },
        "276c769a509b47a4839083f8cede71a1": {
          "model_module": "@jupyter-widgets/base",
          "model_name": "LayoutModel",
          "state": {
            "_view_name": "LayoutView",
            "grid_template_rows": null,
            "right": null,
            "justify_content": null,
            "_view_module": "@jupyter-widgets/base",
            "overflow": null,
            "_model_module_version": "1.2.0",
            "_view_count": null,
            "flex_flow": null,
            "width": null,
            "min_width": null,
            "border": null,
            "align_items": null,
            "bottom": null,
            "_model_module": "@jupyter-widgets/base",
            "top": null,
            "grid_column": null,
            "overflow_y": null,
            "overflow_x": null,
            "grid_auto_flow": null,
            "grid_area": null,
            "grid_template_columns": null,
            "flex": null,
            "_model_name": "LayoutModel",
            "justify_items": null,
            "grid_row": null,
            "max_height": null,
            "align_content": null,
            "visibility": null,
            "align_self": null,
            "height": null,
            "min_height": null,
            "padding": null,
            "grid_auto_rows": null,
            "grid_gap": null,
            "max_width": null,
            "order": null,
            "_view_module_version": "1.2.0",
            "grid_template_areas": null,
            "object_position": null,
            "object_fit": null,
            "grid_auto_columns": null,
            "margin": null,
            "display": null,
            "left": null
          }
        },
        "d3e62b3fa8504fddb8a0f20587faa01f": {
          "model_module": "@jupyter-widgets/controls",
          "model_name": "HBoxModel",
          "state": {
            "_view_name": "HBoxView",
            "_dom_classes": [],
            "_model_name": "HBoxModel",
            "_view_module": "@jupyter-widgets/controls",
            "_model_module_version": "1.5.0",
            "_view_count": null,
            "_view_module_version": "1.5.0",
            "box_style": "",
            "layout": "IPY_MODEL_c4acaff1a7174e44878aeef9ef0ee46e",
            "_model_module": "@jupyter-widgets/controls",
            "children": [
              "IPY_MODEL_06d0e1b7e8904df1a299086b02a2aa7b",
              "IPY_MODEL_22f0823f5a534f8c95cc7ca16c7d819b"
            ]
          }
        },
        "c4acaff1a7174e44878aeef9ef0ee46e": {
          "model_module": "@jupyter-widgets/base",
          "model_name": "LayoutModel",
          "state": {
            "_view_name": "LayoutView",
            "grid_template_rows": null,
            "right": null,
            "justify_content": null,
            "_view_module": "@jupyter-widgets/base",
            "overflow": null,
            "_model_module_version": "1.2.0",
            "_view_count": null,
            "flex_flow": null,
            "width": null,
            "min_width": null,
            "border": null,
            "align_items": null,
            "bottom": null,
            "_model_module": "@jupyter-widgets/base",
            "top": null,
            "grid_column": null,
            "overflow_y": null,
            "overflow_x": null,
            "grid_auto_flow": null,
            "grid_area": null,
            "grid_template_columns": null,
            "flex": null,
            "_model_name": "LayoutModel",
            "justify_items": null,
            "grid_row": null,
            "max_height": null,
            "align_content": null,
            "visibility": null,
            "align_self": null,
            "height": null,
            "min_height": null,
            "padding": null,
            "grid_auto_rows": null,
            "grid_gap": null,
            "max_width": null,
            "order": null,
            "_view_module_version": "1.2.0",
            "grid_template_areas": null,
            "object_position": null,
            "object_fit": null,
            "grid_auto_columns": null,
            "margin": null,
            "display": null,
            "left": null
          }
        },
        "06d0e1b7e8904df1a299086b02a2aa7b": {
          "model_module": "@jupyter-widgets/controls",
          "model_name": "FloatProgressModel",
          "state": {
            "_view_name": "ProgressView",
            "style": "IPY_MODEL_73e8fbfa237345628b0abd20f8a024e4",
            "_dom_classes": [],
            "description": "Downloading: 100%",
            "_model_name": "FloatProgressModel",
            "bar_style": "success",
            "max": 267967963,
            "_view_module": "@jupyter-widgets/controls",
            "_model_module_version": "1.5.0",
            "value": 267967963,
            "_view_count": null,
            "_view_module_version": "1.5.0",
            "orientation": "horizontal",
            "min": 0,
            "description_tooltip": null,
            "_model_module": "@jupyter-widgets/controls",
            "layout": "IPY_MODEL_93bd1299187d4551931f1af3ffd5e1d2"
          }
        },
        "22f0823f5a534f8c95cc7ca16c7d819b": {
          "model_module": "@jupyter-widgets/controls",
          "model_name": "HTMLModel",
          "state": {
            "_view_name": "HTMLView",
            "style": "IPY_MODEL_92116977f8f446bb94b7ce49239abe1a",
            "_dom_classes": [],
            "description": "",
            "_model_name": "HTMLModel",
            "placeholder": "​",
            "_view_module": "@jupyter-widgets/controls",
            "_model_module_version": "1.5.0",
            "value": " 268M/268M [00:05&lt;00:00, 45.2MB/s]",
            "_view_count": null,
            "_view_module_version": "1.5.0",
            "description_tooltip": null,
            "_model_module": "@jupyter-widgets/controls",
            "layout": "IPY_MODEL_982755910cf249d6b034c85ca923a764"
          }
        },
        "73e8fbfa237345628b0abd20f8a024e4": {
          "model_module": "@jupyter-widgets/controls",
          "model_name": "ProgressStyleModel",
          "state": {
            "_view_name": "StyleView",
            "_model_name": "ProgressStyleModel",
            "description_width": "initial",
            "_view_module": "@jupyter-widgets/base",
            "_model_module_version": "1.5.0",
            "_view_count": null,
            "_view_module_version": "1.2.0",
            "bar_color": null,
            "_model_module": "@jupyter-widgets/controls"
          }
        },
        "93bd1299187d4551931f1af3ffd5e1d2": {
          "model_module": "@jupyter-widgets/base",
          "model_name": "LayoutModel",
          "state": {
            "_view_name": "LayoutView",
            "grid_template_rows": null,
            "right": null,
            "justify_content": null,
            "_view_module": "@jupyter-widgets/base",
            "overflow": null,
            "_model_module_version": "1.2.0",
            "_view_count": null,
            "flex_flow": null,
            "width": null,
            "min_width": null,
            "border": null,
            "align_items": null,
            "bottom": null,
            "_model_module": "@jupyter-widgets/base",
            "top": null,
            "grid_column": null,
            "overflow_y": null,
            "overflow_x": null,
            "grid_auto_flow": null,
            "grid_area": null,
            "grid_template_columns": null,
            "flex": null,
            "_model_name": "LayoutModel",
            "justify_items": null,
            "grid_row": null,
            "max_height": null,
            "align_content": null,
            "visibility": null,
            "align_self": null,
            "height": null,
            "min_height": null,
            "padding": null,
            "grid_auto_rows": null,
            "grid_gap": null,
            "max_width": null,
            "order": null,
            "_view_module_version": "1.2.0",
            "grid_template_areas": null,
            "object_position": null,
            "object_fit": null,
            "grid_auto_columns": null,
            "margin": null,
            "display": null,
            "left": null
          }
        },
        "92116977f8f446bb94b7ce49239abe1a": {
          "model_module": "@jupyter-widgets/controls",
          "model_name": "DescriptionStyleModel",
          "state": {
            "_view_name": "StyleView",
            "_model_name": "DescriptionStyleModel",
            "description_width": "",
            "_view_module": "@jupyter-widgets/base",
            "_model_module_version": "1.5.0",
            "_view_count": null,
            "_view_module_version": "1.2.0",
            "_model_module": "@jupyter-widgets/controls"
          }
        },
        "982755910cf249d6b034c85ca923a764": {
          "model_module": "@jupyter-widgets/base",
          "model_name": "LayoutModel",
          "state": {
            "_view_name": "LayoutView",
            "grid_template_rows": null,
            "right": null,
            "justify_content": null,
            "_view_module": "@jupyter-widgets/base",
            "overflow": null,
            "_model_module_version": "1.2.0",
            "_view_count": null,
            "flex_flow": null,
            "width": null,
            "min_width": null,
            "border": null,
            "align_items": null,
            "bottom": null,
            "_model_module": "@jupyter-widgets/base",
            "top": null,
            "grid_column": null,
            "overflow_y": null,
            "overflow_x": null,
            "grid_auto_flow": null,
            "grid_area": null,
            "grid_template_columns": null,
            "flex": null,
            "_model_name": "LayoutModel",
            "justify_items": null,
            "grid_row": null,
            "max_height": null,
            "align_content": null,
            "visibility": null,
            "align_self": null,
            "height": null,
            "min_height": null,
            "padding": null,
            "grid_auto_rows": null,
            "grid_gap": null,
            "max_width": null,
            "order": null,
            "_view_module_version": "1.2.0",
            "grid_template_areas": null,
            "object_position": null,
            "object_fit": null,
            "grid_auto_columns": null,
            "margin": null,
            "display": null,
            "left": null
          }
        },
        "c7364edfb5fa487a9823a27675e9574c": {
          "model_module": "@jupyter-widgets/controls",
          "model_name": "HBoxModel",
          "state": {
            "_view_name": "HBoxView",
            "_dom_classes": [],
            "_model_name": "HBoxModel",
            "_view_module": "@jupyter-widgets/controls",
            "_model_module_version": "1.5.0",
            "_view_count": null,
            "_view_module_version": "1.5.0",
            "box_style": "",
            "layout": "IPY_MODEL_20dafac048824940b10b07c530cd576a",
            "_model_module": "@jupyter-widgets/controls",
            "children": [
              "IPY_MODEL_d27bfced8bb24f78828b3627c3645881",
              "IPY_MODEL_7529ac3b6e814a77985b59a712eb8a9a"
            ]
          }
        },
        "20dafac048824940b10b07c530cd576a": {
          "model_module": "@jupyter-widgets/base",
          "model_name": "LayoutModel",
          "state": {
            "_view_name": "LayoutView",
            "grid_template_rows": null,
            "right": null,
            "justify_content": null,
            "_view_module": "@jupyter-widgets/base",
            "overflow": null,
            "_model_module_version": "1.2.0",
            "_view_count": null,
            "flex_flow": null,
            "width": null,
            "min_width": null,
            "border": null,
            "align_items": null,
            "bottom": null,
            "_model_module": "@jupyter-widgets/base",
            "top": null,
            "grid_column": null,
            "overflow_y": null,
            "overflow_x": null,
            "grid_auto_flow": null,
            "grid_area": null,
            "grid_template_columns": null,
            "flex": null,
            "_model_name": "LayoutModel",
            "justify_items": null,
            "grid_row": null,
            "max_height": null,
            "align_content": null,
            "visibility": null,
            "align_self": null,
            "height": null,
            "min_height": null,
            "padding": null,
            "grid_auto_rows": null,
            "grid_gap": null,
            "max_width": null,
            "order": null,
            "_view_module_version": "1.2.0",
            "grid_template_areas": null,
            "object_position": null,
            "object_fit": null,
            "grid_auto_columns": null,
            "margin": null,
            "display": null,
            "left": null
          }
        },
        "d27bfced8bb24f78828b3627c3645881": {
          "model_module": "@jupyter-widgets/controls",
          "model_name": "FloatProgressModel",
          "state": {
            "_view_name": "ProgressView",
            "style": "IPY_MODEL_9b8bfd6526c84a349327f7d1917d702f",
            "_dom_classes": [],
            "description": "Downloading: 100%",
            "_model_name": "FloatProgressModel",
            "bar_style": "success",
            "max": 231508,
            "_view_module": "@jupyter-widgets/controls",
            "_model_module_version": "1.5.0",
            "value": 231508,
            "_view_count": null,
            "_view_module_version": "1.5.0",
            "orientation": "horizontal",
            "min": 0,
            "description_tooltip": null,
            "_model_module": "@jupyter-widgets/controls",
            "layout": "IPY_MODEL_a7b06139c788496b83c7ff0f9bd73880"
          }
        },
        "7529ac3b6e814a77985b59a712eb8a9a": {
          "model_module": "@jupyter-widgets/controls",
          "model_name": "HTMLModel",
          "state": {
            "_view_name": "HTMLView",
            "style": "IPY_MODEL_2417127f2b7443d79ae191594d3e9247",
            "_dom_classes": [],
            "description": "",
            "_model_name": "HTMLModel",
            "placeholder": "​",
            "_view_module": "@jupyter-widgets/controls",
            "_model_module_version": "1.5.0",
            "value": " 232k/232k [00:00&lt;00:00, 256kB/s]",
            "_view_count": null,
            "_view_module_version": "1.5.0",
            "description_tooltip": null,
            "_model_module": "@jupyter-widgets/controls",
            "layout": "IPY_MODEL_7cf3c6d8935e458fadf9b73540aca1d0"
          }
        },
        "9b8bfd6526c84a349327f7d1917d702f": {
          "model_module": "@jupyter-widgets/controls",
          "model_name": "ProgressStyleModel",
          "state": {
            "_view_name": "StyleView",
            "_model_name": "ProgressStyleModel",
            "description_width": "initial",
            "_view_module": "@jupyter-widgets/base",
            "_model_module_version": "1.5.0",
            "_view_count": null,
            "_view_module_version": "1.2.0",
            "bar_color": null,
            "_model_module": "@jupyter-widgets/controls"
          }
        },
        "a7b06139c788496b83c7ff0f9bd73880": {
          "model_module": "@jupyter-widgets/base",
          "model_name": "LayoutModel",
          "state": {
            "_view_name": "LayoutView",
            "grid_template_rows": null,
            "right": null,
            "justify_content": null,
            "_view_module": "@jupyter-widgets/base",
            "overflow": null,
            "_model_module_version": "1.2.0",
            "_view_count": null,
            "flex_flow": null,
            "width": null,
            "min_width": null,
            "border": null,
            "align_items": null,
            "bottom": null,
            "_model_module": "@jupyter-widgets/base",
            "top": null,
            "grid_column": null,
            "overflow_y": null,
            "overflow_x": null,
            "grid_auto_flow": null,
            "grid_area": null,
            "grid_template_columns": null,
            "flex": null,
            "_model_name": "LayoutModel",
            "justify_items": null,
            "grid_row": null,
            "max_height": null,
            "align_content": null,
            "visibility": null,
            "align_self": null,
            "height": null,
            "min_height": null,
            "padding": null,
            "grid_auto_rows": null,
            "grid_gap": null,
            "max_width": null,
            "order": null,
            "_view_module_version": "1.2.0",
            "grid_template_areas": null,
            "object_position": null,
            "object_fit": null,
            "grid_auto_columns": null,
            "margin": null,
            "display": null,
            "left": null
          }
        },
        "2417127f2b7443d79ae191594d3e9247": {
          "model_module": "@jupyter-widgets/controls",
          "model_name": "DescriptionStyleModel",
          "state": {
            "_view_name": "StyleView",
            "_model_name": "DescriptionStyleModel",
            "description_width": "",
            "_view_module": "@jupyter-widgets/base",
            "_model_module_version": "1.5.0",
            "_view_count": null,
            "_view_module_version": "1.2.0",
            "_model_module": "@jupyter-widgets/controls"
          }
        },
        "7cf3c6d8935e458fadf9b73540aca1d0": {
          "model_module": "@jupyter-widgets/base",
          "model_name": "LayoutModel",
          "state": {
            "_view_name": "LayoutView",
            "grid_template_rows": null,
            "right": null,
            "justify_content": null,
            "_view_module": "@jupyter-widgets/base",
            "overflow": null,
            "_model_module_version": "1.2.0",
            "_view_count": null,
            "flex_flow": null,
            "width": null,
            "min_width": null,
            "border": null,
            "align_items": null,
            "bottom": null,
            "_model_module": "@jupyter-widgets/base",
            "top": null,
            "grid_column": null,
            "overflow_y": null,
            "overflow_x": null,
            "grid_auto_flow": null,
            "grid_area": null,
            "grid_template_columns": null,
            "flex": null,
            "_model_name": "LayoutModel",
            "justify_items": null,
            "grid_row": null,
            "max_height": null,
            "align_content": null,
            "visibility": null,
            "align_self": null,
            "height": null,
            "min_height": null,
            "padding": null,
            "grid_auto_rows": null,
            "grid_gap": null,
            "max_width": null,
            "order": null,
            "_view_module_version": "1.2.0",
            "grid_template_areas": null,
            "object_position": null,
            "object_fit": null,
            "grid_auto_columns": null,
            "margin": null,
            "display": null,
            "left": null
          }
        },
        "0ea39f9274d84975a1d99b29b9c59915": {
          "model_module": "@jupyter-widgets/controls",
          "model_name": "HBoxModel",
          "state": {
            "_view_name": "HBoxView",
            "_dom_classes": [],
            "_model_name": "HBoxModel",
            "_view_module": "@jupyter-widgets/controls",
            "_model_module_version": "1.5.0",
            "_view_count": null,
            "_view_module_version": "1.5.0",
            "box_style": "",
            "layout": "IPY_MODEL_7c52631ce73c428e82ecd5e295343c0f",
            "_model_module": "@jupyter-widgets/controls",
            "children": [
              "IPY_MODEL_4b414fc7c631434a80d6a7e1d9f99b4d",
              "IPY_MODEL_db62f7417971445b8d963e0c1af02d10"
            ]
          }
        },
        "7c52631ce73c428e82ecd5e295343c0f": {
          "model_module": "@jupyter-widgets/base",
          "model_name": "LayoutModel",
          "state": {
            "_view_name": "LayoutView",
            "grid_template_rows": null,
            "right": null,
            "justify_content": null,
            "_view_module": "@jupyter-widgets/base",
            "overflow": null,
            "_model_module_version": "1.2.0",
            "_view_count": null,
            "flex_flow": null,
            "width": null,
            "min_width": null,
            "border": null,
            "align_items": null,
            "bottom": null,
            "_model_module": "@jupyter-widgets/base",
            "top": null,
            "grid_column": null,
            "overflow_y": null,
            "overflow_x": null,
            "grid_auto_flow": null,
            "grid_area": null,
            "grid_template_columns": null,
            "flex": null,
            "_model_name": "LayoutModel",
            "justify_items": null,
            "grid_row": null,
            "max_height": null,
            "align_content": null,
            "visibility": null,
            "align_self": null,
            "height": null,
            "min_height": null,
            "padding": null,
            "grid_auto_rows": null,
            "grid_gap": null,
            "max_width": null,
            "order": null,
            "_view_module_version": "1.2.0",
            "grid_template_areas": null,
            "object_position": null,
            "object_fit": null,
            "grid_auto_columns": null,
            "margin": null,
            "display": null,
            "left": null
          }
        },
        "4b414fc7c631434a80d6a7e1d9f99b4d": {
          "model_module": "@jupyter-widgets/controls",
          "model_name": "FloatProgressModel",
          "state": {
            "_view_name": "ProgressView",
            "style": "IPY_MODEL_6502a12e12644c5b80724bd27275f965",
            "_dom_classes": [],
            "description": "Downloading: 100%",
            "_model_name": "FloatProgressModel",
            "bar_style": "success",
            "max": 466062,
            "_view_module": "@jupyter-widgets/controls",
            "_model_module_version": "1.5.0",
            "value": 466062,
            "_view_count": null,
            "_view_module_version": "1.5.0",
            "orientation": "horizontal",
            "min": 0,
            "description_tooltip": null,
            "_model_module": "@jupyter-widgets/controls",
            "layout": "IPY_MODEL_fe56e979bc5f4ba7905433ffd7c52c70"
          }
        },
        "db62f7417971445b8d963e0c1af02d10": {
          "model_module": "@jupyter-widgets/controls",
          "model_name": "HTMLModel",
          "state": {
            "_view_name": "HTMLView",
            "style": "IPY_MODEL_c82b75fc8f5d456eaa1f15694e36ee56",
            "_dom_classes": [],
            "description": "",
            "_model_name": "HTMLModel",
            "placeholder": "​",
            "_view_module": "@jupyter-widgets/controls",
            "_model_module_version": "1.5.0",
            "value": " 466k/466k [00:00&lt;00:00, 836kB/s]",
            "_view_count": null,
            "_view_module_version": "1.5.0",
            "description_tooltip": null,
            "_model_module": "@jupyter-widgets/controls",
            "layout": "IPY_MODEL_47e9228684244620aec962ee5f652363"
          }
        },
        "6502a12e12644c5b80724bd27275f965": {
          "model_module": "@jupyter-widgets/controls",
          "model_name": "ProgressStyleModel",
          "state": {
            "_view_name": "StyleView",
            "_model_name": "ProgressStyleModel",
            "description_width": "initial",
            "_view_module": "@jupyter-widgets/base",
            "_model_module_version": "1.5.0",
            "_view_count": null,
            "_view_module_version": "1.2.0",
            "bar_color": null,
            "_model_module": "@jupyter-widgets/controls"
          }
        },
        "fe56e979bc5f4ba7905433ffd7c52c70": {
          "model_module": "@jupyter-widgets/base",
          "model_name": "LayoutModel",
          "state": {
            "_view_name": "LayoutView",
            "grid_template_rows": null,
            "right": null,
            "justify_content": null,
            "_view_module": "@jupyter-widgets/base",
            "overflow": null,
            "_model_module_version": "1.2.0",
            "_view_count": null,
            "flex_flow": null,
            "width": null,
            "min_width": null,
            "border": null,
            "align_items": null,
            "bottom": null,
            "_model_module": "@jupyter-widgets/base",
            "top": null,
            "grid_column": null,
            "overflow_y": null,
            "overflow_x": null,
            "grid_auto_flow": null,
            "grid_area": null,
            "grid_template_columns": null,
            "flex": null,
            "_model_name": "LayoutModel",
            "justify_items": null,
            "grid_row": null,
            "max_height": null,
            "align_content": null,
            "visibility": null,
            "align_self": null,
            "height": null,
            "min_height": null,
            "padding": null,
            "grid_auto_rows": null,
            "grid_gap": null,
            "max_width": null,
            "order": null,
            "_view_module_version": "1.2.0",
            "grid_template_areas": null,
            "object_position": null,
            "object_fit": null,
            "grid_auto_columns": null,
            "margin": null,
            "display": null,
            "left": null
          }
        },
        "c82b75fc8f5d456eaa1f15694e36ee56": {
          "model_module": "@jupyter-widgets/controls",
          "model_name": "DescriptionStyleModel",
          "state": {
            "_view_name": "StyleView",
            "_model_name": "DescriptionStyleModel",
            "description_width": "",
            "_view_module": "@jupyter-widgets/base",
            "_model_module_version": "1.5.0",
            "_view_count": null,
            "_view_module_version": "1.2.0",
            "_model_module": "@jupyter-widgets/controls"
          }
        },
        "47e9228684244620aec962ee5f652363": {
          "model_module": "@jupyter-widgets/base",
          "model_name": "LayoutModel",
          "state": {
            "_view_name": "LayoutView",
            "grid_template_rows": null,
            "right": null,
            "justify_content": null,
            "_view_module": "@jupyter-widgets/base",
            "overflow": null,
            "_model_module_version": "1.2.0",
            "_view_count": null,
            "flex_flow": null,
            "width": null,
            "min_width": null,
            "border": null,
            "align_items": null,
            "bottom": null,
            "_model_module": "@jupyter-widgets/base",
            "top": null,
            "grid_column": null,
            "overflow_y": null,
            "overflow_x": null,
            "grid_auto_flow": null,
            "grid_area": null,
            "grid_template_columns": null,
            "flex": null,
            "_model_name": "LayoutModel",
            "justify_items": null,
            "grid_row": null,
            "max_height": null,
            "align_content": null,
            "visibility": null,
            "align_self": null,
            "height": null,
            "min_height": null,
            "padding": null,
            "grid_auto_rows": null,
            "grid_gap": null,
            "max_width": null,
            "order": null,
            "_view_module_version": "1.2.0",
            "grid_template_areas": null,
            "object_position": null,
            "object_fit": null,
            "grid_auto_columns": null,
            "margin": null,
            "display": null,
            "left": null
          }
        },
        "b949b0e8ae854b27b6feeffdd77b637f": {
          "model_module": "@jupyter-widgets/controls",
          "model_name": "HBoxModel",
          "state": {
            "_view_name": "HBoxView",
            "_dom_classes": [],
            "_model_name": "HBoxModel",
            "_view_module": "@jupyter-widgets/controls",
            "_model_module_version": "1.5.0",
            "_view_count": null,
            "_view_module_version": "1.5.0",
            "box_style": "",
            "layout": "IPY_MODEL_02bafa9b909e4bb69f1317786b1cc074",
            "_model_module": "@jupyter-widgets/controls",
            "children": [
              "IPY_MODEL_3dcfecfd3343461e8245a9e31561f57e",
              "IPY_MODEL_1a1970af0ac4485cad929e47672fc920"
            ]
          }
        },
        "02bafa9b909e4bb69f1317786b1cc074": {
          "model_module": "@jupyter-widgets/base",
          "model_name": "LayoutModel",
          "state": {
            "_view_name": "LayoutView",
            "grid_template_rows": null,
            "right": null,
            "justify_content": null,
            "_view_module": "@jupyter-widgets/base",
            "overflow": null,
            "_model_module_version": "1.2.0",
            "_view_count": null,
            "flex_flow": null,
            "width": null,
            "min_width": null,
            "border": null,
            "align_items": null,
            "bottom": null,
            "_model_module": "@jupyter-widgets/base",
            "top": null,
            "grid_column": null,
            "overflow_y": null,
            "overflow_x": null,
            "grid_auto_flow": null,
            "grid_area": null,
            "grid_template_columns": null,
            "flex": null,
            "_model_name": "LayoutModel",
            "justify_items": null,
            "grid_row": null,
            "max_height": null,
            "align_content": null,
            "visibility": null,
            "align_self": null,
            "height": null,
            "min_height": null,
            "padding": null,
            "grid_auto_rows": null,
            "grid_gap": null,
            "max_width": null,
            "order": null,
            "_view_module_version": "1.2.0",
            "grid_template_areas": null,
            "object_position": null,
            "object_fit": null,
            "grid_auto_columns": null,
            "margin": null,
            "display": null,
            "left": null
          }
        },
        "3dcfecfd3343461e8245a9e31561f57e": {
          "model_module": "@jupyter-widgets/controls",
          "model_name": "FloatProgressModel",
          "state": {
            "_view_name": "ProgressView",
            "style": "IPY_MODEL_294ce901e4e4406d98786e3fe79be5c8",
            "_dom_classes": [],
            "description": "Downloading: 100%",
            "_model_name": "FloatProgressModel",
            "bar_style": "success",
            "max": 28,
            "_view_module": "@jupyter-widgets/controls",
            "_model_module_version": "1.5.0",
            "value": 28,
            "_view_count": null,
            "_view_module_version": "1.5.0",
            "orientation": "horizontal",
            "min": 0,
            "description_tooltip": null,
            "_model_module": "@jupyter-widgets/controls",
            "layout": "IPY_MODEL_56fe275036294812bba8d05fc48ffc7d"
          }
        },
        "1a1970af0ac4485cad929e47672fc920": {
          "model_module": "@jupyter-widgets/controls",
          "model_name": "HTMLModel",
          "state": {
            "_view_name": "HTMLView",
            "style": "IPY_MODEL_b097541da7284bb995e1460005b86d94",
            "_dom_classes": [],
            "description": "",
            "_model_name": "HTMLModel",
            "placeholder": "​",
            "_view_module": "@jupyter-widgets/controls",
            "_model_module_version": "1.5.0",
            "value": " 28.0/28.0 [00:30&lt;00:00, 1.08s/B]",
            "_view_count": null,
            "_view_module_version": "1.5.0",
            "description_tooltip": null,
            "_model_module": "@jupyter-widgets/controls",
            "layout": "IPY_MODEL_9f00968e0d4a498ca1f137414a5919d0"
          }
        },
        "294ce901e4e4406d98786e3fe79be5c8": {
          "model_module": "@jupyter-widgets/controls",
          "model_name": "ProgressStyleModel",
          "state": {
            "_view_name": "StyleView",
            "_model_name": "ProgressStyleModel",
            "description_width": "initial",
            "_view_module": "@jupyter-widgets/base",
            "_model_module_version": "1.5.0",
            "_view_count": null,
            "_view_module_version": "1.2.0",
            "bar_color": null,
            "_model_module": "@jupyter-widgets/controls"
          }
        },
        "56fe275036294812bba8d05fc48ffc7d": {
          "model_module": "@jupyter-widgets/base",
          "model_name": "LayoutModel",
          "state": {
            "_view_name": "LayoutView",
            "grid_template_rows": null,
            "right": null,
            "justify_content": null,
            "_view_module": "@jupyter-widgets/base",
            "overflow": null,
            "_model_module_version": "1.2.0",
            "_view_count": null,
            "flex_flow": null,
            "width": null,
            "min_width": null,
            "border": null,
            "align_items": null,
            "bottom": null,
            "_model_module": "@jupyter-widgets/base",
            "top": null,
            "grid_column": null,
            "overflow_y": null,
            "overflow_x": null,
            "grid_auto_flow": null,
            "grid_area": null,
            "grid_template_columns": null,
            "flex": null,
            "_model_name": "LayoutModel",
            "justify_items": null,
            "grid_row": null,
            "max_height": null,
            "align_content": null,
            "visibility": null,
            "align_self": null,
            "height": null,
            "min_height": null,
            "padding": null,
            "grid_auto_rows": null,
            "grid_gap": null,
            "max_width": null,
            "order": null,
            "_view_module_version": "1.2.0",
            "grid_template_areas": null,
            "object_position": null,
            "object_fit": null,
            "grid_auto_columns": null,
            "margin": null,
            "display": null,
            "left": null
          }
        },
        "b097541da7284bb995e1460005b86d94": {
          "model_module": "@jupyter-widgets/controls",
          "model_name": "DescriptionStyleModel",
          "state": {
            "_view_name": "StyleView",
            "_model_name": "DescriptionStyleModel",
            "description_width": "",
            "_view_module": "@jupyter-widgets/base",
            "_model_module_version": "1.5.0",
            "_view_count": null,
            "_view_module_version": "1.2.0",
            "_model_module": "@jupyter-widgets/controls"
          }
        },
        "9f00968e0d4a498ca1f137414a5919d0": {
          "model_module": "@jupyter-widgets/base",
          "model_name": "LayoutModel",
          "state": {
            "_view_name": "LayoutView",
            "grid_template_rows": null,
            "right": null,
            "justify_content": null,
            "_view_module": "@jupyter-widgets/base",
            "overflow": null,
            "_model_module_version": "1.2.0",
            "_view_count": null,
            "flex_flow": null,
            "width": null,
            "min_width": null,
            "border": null,
            "align_items": null,
            "bottom": null,
            "_model_module": "@jupyter-widgets/base",
            "top": null,
            "grid_column": null,
            "overflow_y": null,
            "overflow_x": null,
            "grid_auto_flow": null,
            "grid_area": null,
            "grid_template_columns": null,
            "flex": null,
            "_model_name": "LayoutModel",
            "justify_items": null,
            "grid_row": null,
            "max_height": null,
            "align_content": null,
            "visibility": null,
            "align_self": null,
            "height": null,
            "min_height": null,
            "padding": null,
            "grid_auto_rows": null,
            "grid_gap": null,
            "max_width": null,
            "order": null,
            "_view_module_version": "1.2.0",
            "grid_template_areas": null,
            "object_position": null,
            "object_fit": null,
            "grid_auto_columns": null,
            "margin": null,
            "display": null,
            "left": null
          }
        }
      }
    }
  },
  "cells": [
    {
      "cell_type": "markdown",
      "metadata": {
        "id": "view-in-github",
        "colab_type": "text"
      },
      "source": [
        "<a href=\"https://colab.research.google.com/github/binliu0630/transformers/blob/master/STS_interpretation.ipynb\" target=\"_parent\"><img src=\"https://colab.research.google.com/assets/colab-badge.svg\" alt=\"Open In Colab\"/></a>"
      ]
    },
    {
      "cell_type": "markdown",
      "metadata": {
        "id": "d5O3uoFtKhaS"
      },
      "source": [
        "https://towardsdatascience.com/semantic-similarity-using-transformers-8f3cb5bf66d6\n",
        "\n",
        "\n",
        "https://towardsdatascience.com/interpreting-semantic-text-similarity-from-transformer-models-ba1b08e6566c"
      ]
    },
    {
      "cell_type": "markdown",
      "metadata": {
        "id": "StBKzu5s18Gz"
      },
      "source": [
        "# Install libraries required"
      ]
    },
    {
      "cell_type": "code",
      "metadata": {
        "id": "iI4103Fr15UO",
        "outputId": "5c704b22-7704-4844-dd07-b03b3b1b967c",
        "colab": {
          "base_uri": "https://localhost:8080/"
        }
      },
      "source": [
        "!pip install transformers hdbscan pacmap"
      ],
      "execution_count": 2,
      "outputs": [
        {
          "output_type": "stream",
          "text": [
            "Collecting transformers\n",
            "\u001b[?25l  Downloading https://files.pythonhosted.org/packages/d5/43/cfe4ee779bbd6a678ac6a97c5a5cdeb03c35f9eaebbb9720b036680f9a2d/transformers-4.6.1-py3-none-any.whl (2.2MB)\n",
            "\u001b[K     |████████████████████████████████| 2.3MB 5.1MB/s \n",
            "\u001b[?25hRequirement already satisfied: filelock in /usr/local/lib/python3.7/dist-packages (from transformers) (3.0.12)\n",
            "Requirement already satisfied: regex!=2019.12.17 in /usr/local/lib/python3.7/dist-packages (from transformers) (2019.12.20)\n",
            "Collecting huggingface-hub==0.0.8\n",
            "  Downloading https://files.pythonhosted.org/packages/a1/88/7b1e45720ecf59c6c6737ff332f41c955963090a18e72acbcbeac6b25e86/huggingface_hub-0.0.8-py3-none-any.whl\n",
            "Requirement already satisfied: packaging in /usr/local/lib/python3.7/dist-packages (from transformers) (20.9)\n",
            "Collecting tokenizers<0.11,>=0.10.1\n",
            "\u001b[?25l  Downloading https://files.pythonhosted.org/packages/d4/e2/df3543e8ffdab68f5acc73f613de9c2b155ac47f162e725dcac87c521c11/tokenizers-0.10.3-cp37-cp37m-manylinux_2_5_x86_64.manylinux1_x86_64.manylinux_2_12_x86_64.manylinux2010_x86_64.whl (3.3MB)\n",
            "\u001b[K     |████████████████████████████████| 3.3MB 22.8MB/s \n",
            "\u001b[?25hRequirement already satisfied: requests in /usr/local/lib/python3.7/dist-packages (from transformers) (2.23.0)\n",
            "Requirement already satisfied: tqdm>=4.27 in /usr/local/lib/python3.7/dist-packages (from transformers) (4.41.1)\n",
            "Requirement already satisfied: numpy>=1.17 in /usr/local/lib/python3.7/dist-packages (from transformers) (1.19.5)\n",
            "Collecting sacremoses\n",
            "\u001b[?25l  Downloading https://files.pythonhosted.org/packages/75/ee/67241dc87f266093c533a2d4d3d69438e57d7a90abb216fa076e7d475d4a/sacremoses-0.0.45-py3-none-any.whl (895kB)\n",
            "\u001b[K     |████████████████████████████████| 901kB 34.3MB/s \n",
            "\u001b[?25hRequirement already satisfied: importlib-metadata; python_version < \"3.8\" in /usr/local/lib/python3.7/dist-packages (from transformers) (4.5.0)\n",
            "Requirement already satisfied: pyparsing>=2.0.2 in /usr/local/lib/python3.7/dist-packages (from packaging->transformers) (2.4.7)\n",
            "Requirement already satisfied: chardet<4,>=3.0.2 in /usr/local/lib/python3.7/dist-packages (from requests->transformers) (3.0.4)\n",
            "Requirement already satisfied: urllib3!=1.25.0,!=1.25.1,<1.26,>=1.21.1 in /usr/local/lib/python3.7/dist-packages (from requests->transformers) (1.24.3)\n",
            "Requirement already satisfied: certifi>=2017.4.17 in /usr/local/lib/python3.7/dist-packages (from requests->transformers) (2021.5.30)\n",
            "Requirement already satisfied: idna<3,>=2.5 in /usr/local/lib/python3.7/dist-packages (from requests->transformers) (2.10)\n",
            "Requirement already satisfied: six in /usr/local/lib/python3.7/dist-packages (from sacremoses->transformers) (1.15.0)\n",
            "Requirement already satisfied: joblib in /usr/local/lib/python3.7/dist-packages (from sacremoses->transformers) (1.0.1)\n",
            "Requirement already satisfied: click in /usr/local/lib/python3.7/dist-packages (from sacremoses->transformers) (7.1.2)\n",
            "Requirement already satisfied: zipp>=0.5 in /usr/local/lib/python3.7/dist-packages (from importlib-metadata; python_version < \"3.8\"->transformers) (3.4.1)\n",
            "Requirement already satisfied: typing-extensions>=3.6.4; python_version < \"3.8\" in /usr/local/lib/python3.7/dist-packages (from importlib-metadata; python_version < \"3.8\"->transformers) (3.7.4.3)\n",
            "Installing collected packages: huggingface-hub, tokenizers, sacremoses, transformers\n",
            "Successfully installed huggingface-hub-0.0.8 sacremoses-0.0.45 tokenizers-0.10.3 transformers-4.6.1\n"
          ],
          "name": "stdout"
        }
      ]
    },
    {
      "cell_type": "markdown",
      "metadata": {
        "id": "gfnAuxXD1_xe"
      },
      "source": [
        "# Download dataset"
      ]
    },
    {
      "cell_type": "code",
      "metadata": {
        "id": "-K49PF5o1t0C"
      },
      "source": [
        "!wget https://s3-us-west-2.amazonaws.com/ai2-website/data/ARC-V1-Feb2018.zip"
      ],
      "execution_count": null,
      "outputs": []
    },
    {
      "cell_type": "code",
      "metadata": {
        "id": "9Wwyr_gS1WoP"
      },
      "source": [
        "from zipfile import ZipFile\n",
        "\n",
        "with ZipFile('ARC-V1-Feb2018.zip', \"r\") as zip_obj:\n",
        "    zip_obj.extractall(\"data\")    "
      ],
      "execution_count": null,
      "outputs": []
    },
    {
      "cell_type": "markdown",
      "metadata": {
        "id": "7kQhnUE32F_1"
      },
      "source": [
        "# Import dataset into Pandas"
      ]
    },
    {
      "cell_type": "code",
      "metadata": {
        "id": "QTc0xdMj1WoP"
      },
      "source": [
        "import pandas as pd\n",
        "import numpy as np\n",
        "\n",
        "df = pd.read_csv(\"./data/ARC-V1-Feb2018-2/ARC-Easy/ARC-Easy-Train.csv\")"
      ],
      "execution_count": null,
      "outputs": []
    },
    {
      "cell_type": "markdown",
      "metadata": {
        "id": "ZO-9Jxw-2Pcl"
      },
      "source": [
        "# Load transformer model"
      ]
    },
    {
      "cell_type": "code",
      "metadata": {
        "id": "SE6uQniQ_pq8",
        "outputId": "e45fca16-16c0-4e42-f677-4fce063231ff",
        "colab": {
          "base_uri": "https://localhost:8080/",
          "height": 333,
          "referenced_widgets": [
            "00e1c691cc2e43fa997d9d317482f5c9",
            "389e230ad5d4462b9373a2a8386a0286",
            "06e3b4811a2d4a6591d8bb853998f4c4",
            "e75cb833a15d4c1c85a98b248766771c",
            "86c10f7891b74c9b8cf04e93872bb60e",
            "53d0b155ea0f4096887001194090e38c",
            "4a0b676c2c5d49c7b4343d3169ec85c0",
            "b54297b97ff44325a2d153804562b115",
            "821d155379ef4b308928827edd87bd31",
            "112ed98461dc447b85bad6a176707d18",
            "4ca09a722fc044efac696136f22ea00d",
            "75742ae3219b4493842f6320ae7bc84a",
            "06c579a521fe4b7486d3560ecd14101b",
            "1e24e70f1f6e4670a91810d3e9696971",
            "fadfe829235647b18a10d2be8a25a13d",
            "1ebd913a4b53469b85f06d62500ab64a",
            "c4f033021ff94a4b89a600439359cf5d",
            "a7dacdc4f9844e9689a417f9c9df0cfc",
            "017626a6d68545a9b24a33117422bfde",
            "f9c2e7aecbb94a3082fc829b0535698b",
            "126f962516f74ede865882e0d8caecd7",
            "c8714e3345754ab6806053ab5a48bbcc",
            "51bc8e7429e94b00bb3ddd4b6b455f19",
            "436b1a5085254c8a8a1d9683773708d1",
            "02ba658add534383a551e4ac7774d109",
            "7206cff8f5bd4a59a2f7d59fa0b788fa",
            "feb664d03fbc48f2ae5c9cedaf398165",
            "98e0b73e482c45f8a54c8d0b26f803ce",
            "111d7d15d17d4ad3bcba7087996624a1",
            "9f35e6949fa4431cae5ecbb10894e7f6",
            "ef16f7be790947f984fed06d915768c5",
            "4a29fefec3e3468681d04615cb7edc4a",
            "97e9a115eb074be1a15aa4e507212766",
            "4865d4b641e442e09084cca36d1b193e",
            "33f0d533927343029bdad0fdbe3455d9",
            "968be20a1ebb452da2caf04be1f433e5",
            "5abfb454b22644afa60c0dd658cea4f3",
            "2bb9520d2fad49be9c50c80990693a20",
            "7c40a04fa24e47c6a725b91bfb4328f6",
            "6b394fc684894b0895439dee62d09c8f"
          ]
        }
      },
      "source": [
        "from transformers import pipeline\n",
        "feature_extraction = pipeline('feature-extraction', model=\"distilroberta-base\", tokenizer=\"distilroberta-base\")\n"
      ],
      "execution_count": 3,
      "outputs": [
        {
          "output_type": "display_data",
          "data": {
            "application/vnd.jupyter.widget-view+json": {
              "model_id": "00e1c691cc2e43fa997d9d317482f5c9",
              "version_minor": 0,
              "version_major": 2
            },
            "text/plain": [
              "HBox(children=(FloatProgress(value=0.0, description='Downloading', max=480.0, style=ProgressStyle(description_…"
            ]
          },
          "metadata": {
            "tags": []
          }
        },
        {
          "output_type": "stream",
          "text": [
            "\n"
          ],
          "name": "stdout"
        },
        {
          "output_type": "display_data",
          "data": {
            "application/vnd.jupyter.widget-view+json": {
              "model_id": "821d155379ef4b308928827edd87bd31",
              "version_minor": 0,
              "version_major": 2
            },
            "text/plain": [
              "HBox(children=(FloatProgress(value=0.0, description='Downloading', max=331070498.0, style=ProgressStyle(descri…"
            ]
          },
          "metadata": {
            "tags": []
          }
        },
        {
          "output_type": "stream",
          "text": [
            "\n"
          ],
          "name": "stdout"
        },
        {
          "output_type": "stream",
          "text": [
            "Some weights of the model checkpoint at distilroberta-base were not used when initializing RobertaModel: ['lm_head.dense.weight', 'lm_head.decoder.weight', 'lm_head.dense.bias', 'lm_head.bias', 'lm_head.layer_norm.weight', 'lm_head.layer_norm.bias']\n",
            "- This IS expected if you are initializing RobertaModel from the checkpoint of a model trained on another task or with another architecture (e.g. initializing a BertForSequenceClassification model from a BertForPreTraining model).\n",
            "- This IS NOT expected if you are initializing RobertaModel from the checkpoint of a model that you expect to be exactly identical (initializing a BertForSequenceClassification model from a BertForSequenceClassification model).\n"
          ],
          "name": "stderr"
        },
        {
          "output_type": "display_data",
          "data": {
            "application/vnd.jupyter.widget-view+json": {
              "model_id": "c4f033021ff94a4b89a600439359cf5d",
              "version_minor": 0,
              "version_major": 2
            },
            "text/plain": [
              "HBox(children=(FloatProgress(value=0.0, description='Downloading', max=898823.0, style=ProgressStyle(descripti…"
            ]
          },
          "metadata": {
            "tags": []
          }
        },
        {
          "output_type": "stream",
          "text": [
            "\n"
          ],
          "name": "stdout"
        },
        {
          "output_type": "display_data",
          "data": {
            "application/vnd.jupyter.widget-view+json": {
              "model_id": "02ba658add534383a551e4ac7774d109",
              "version_minor": 0,
              "version_major": 2
            },
            "text/plain": [
              "HBox(children=(FloatProgress(value=0.0, description='Downloading', max=456318.0, style=ProgressStyle(descripti…"
            ]
          },
          "metadata": {
            "tags": []
          }
        },
        {
          "output_type": "stream",
          "text": [
            "\n"
          ],
          "name": "stdout"
        },
        {
          "output_type": "display_data",
          "data": {
            "application/vnd.jupyter.widget-view+json": {
              "model_id": "97e9a115eb074be1a15aa4e507212766",
              "version_minor": 0,
              "version_major": 2
            },
            "text/plain": [
              "HBox(children=(FloatProgress(value=0.0, description='Downloading', max=1355863.0, style=ProgressStyle(descript…"
            ]
          },
          "metadata": {
            "tags": []
          }
        },
        {
          "output_type": "stream",
          "text": [
            "\n"
          ],
          "name": "stdout"
        }
      ]
    },
    {
      "cell_type": "code",
      "metadata": {
        "id": "DzfZvMaQAFfQ"
      },
      "source": [
        "features = feature_extraction(\"i amsentence\")"
      ],
      "execution_count": 9,
      "outputs": []
    },
    {
      "cell_type": "code",
      "metadata": {
        "id": "KD3vU_RNAW38",
        "outputId": "9ea7a6d3-4c63-4ea8-a673-27b3c19f3fa9",
        "colab": {
          "base_uri": "https://localhost:8080/",
          "height": 367,
          "referenced_widgets": [
            "0f64cfc53cea4f1cbfdba9b60f8f993e",
            "88d332634a594333b8cf873bbdfd290e",
            "05ab611ad33f44b1a83e814b82d0b950",
            "487d3b85bc534ac7a3b8d5f4400852f6",
            "4dbca5516b354a90bbe2e1a6f4380719",
            "e94122b812d345989c1aa4cd268af6cd",
            "c7688ad0b6c74b47ba54ac0b7fab3a66",
            "276c769a509b47a4839083f8cede71a1",
            "d3e62b3fa8504fddb8a0f20587faa01f",
            "c4acaff1a7174e44878aeef9ef0ee46e",
            "06d0e1b7e8904df1a299086b02a2aa7b",
            "22f0823f5a534f8c95cc7ca16c7d819b",
            "73e8fbfa237345628b0abd20f8a024e4",
            "93bd1299187d4551931f1af3ffd5e1d2",
            "92116977f8f446bb94b7ce49239abe1a",
            "982755910cf249d6b034c85ca923a764",
            "c7364edfb5fa487a9823a27675e9574c",
            "20dafac048824940b10b07c530cd576a",
            "d27bfced8bb24f78828b3627c3645881",
            "7529ac3b6e814a77985b59a712eb8a9a",
            "9b8bfd6526c84a349327f7d1917d702f",
            "a7b06139c788496b83c7ff0f9bd73880",
            "2417127f2b7443d79ae191594d3e9247",
            "7cf3c6d8935e458fadf9b73540aca1d0",
            "0ea39f9274d84975a1d99b29b9c59915",
            "7c52631ce73c428e82ecd5e295343c0f",
            "4b414fc7c631434a80d6a7e1d9f99b4d",
            "db62f7417971445b8d963e0c1af02d10",
            "6502a12e12644c5b80724bd27275f965",
            "fe56e979bc5f4ba7905433ffd7c52c70",
            "c82b75fc8f5d456eaa1f15694e36ee56",
            "47e9228684244620aec962ee5f652363",
            "b949b0e8ae854b27b6feeffdd77b637f",
            "02bafa9b909e4bb69f1317786b1cc074",
            "3dcfecfd3343461e8245a9e31561f57e",
            "1a1970af0ac4485cad929e47672fc920",
            "294ce901e4e4406d98786e3fe79be5c8",
            "56fe275036294812bba8d05fc48ffc7d",
            "b097541da7284bb995e1460005b86d94",
            "9f00968e0d4a498ca1f137414a5919d0"
          ]
        }
      },
      "source": [
        "import numpy as np\n",
        "from transformers import AutoTokenizer, AutoModel, pipeline\n",
        "\n",
        "\n",
        "model = AutoModel.from_pretrained('distilbert-base-uncased')\n",
        "tokenizer = AutoTokenizer.from_pretrained('distilbert-base-uncased')\n",
        "nlp = pipeline('feature-extraction', model=model, tokenizer=tokenizer)\n",
        "\n",
        "features = nlp('Do you like cookies ?')\n",
        "print(features)\n",
        "features = np.squeeze(features)\n",
        "print(features.shape)\n",
        "# (7, 768)"
      ],
      "execution_count": 14,
      "outputs": [
        {
          "output_type": "display_data",
          "data": {
            "application/vnd.jupyter.widget-view+json": {
              "model_id": "0f64cfc53cea4f1cbfdba9b60f8f993e",
              "version_minor": 0,
              "version_major": 2
            },
            "text/plain": [
              "HBox(children=(FloatProgress(value=0.0, description='Downloading', max=442.0, style=ProgressStyle(description_…"
            ]
          },
          "metadata": {
            "tags": []
          }
        },
        {
          "output_type": "stream",
          "text": [
            "\n"
          ],
          "name": "stdout"
        },
        {
          "output_type": "display_data",
          "data": {
            "application/vnd.jupyter.widget-view+json": {
              "model_id": "d3e62b3fa8504fddb8a0f20587faa01f",
              "version_minor": 0,
              "version_major": 2
            },
            "text/plain": [
              "HBox(children=(FloatProgress(value=0.0, description='Downloading', max=267967963.0, style=ProgressStyle(descri…"
            ]
          },
          "metadata": {
            "tags": []
          }
        },
        {
          "output_type": "stream",
          "text": [
            "\n"
          ],
          "name": "stdout"
        },
        {
          "output_type": "stream",
          "text": [
            "Some weights of the model checkpoint at distilbert-base-uncased were not used when initializing DistilBertModel: ['vocab_transform.bias', 'vocab_transform.weight', 'vocab_layer_norm.weight', 'vocab_projector.weight', 'vocab_projector.bias', 'vocab_layer_norm.bias']\n",
            "- This IS expected if you are initializing DistilBertModel from the checkpoint of a model trained on another task or with another architecture (e.g. initializing a BertForSequenceClassification model from a BertForPreTraining model).\n",
            "- This IS NOT expected if you are initializing DistilBertModel from the checkpoint of a model that you expect to be exactly identical (initializing a BertForSequenceClassification model from a BertForSequenceClassification model).\n"
          ],
          "name": "stderr"
        },
        {
          "output_type": "display_data",
          "data": {
            "application/vnd.jupyter.widget-view+json": {
              "model_id": "c7364edfb5fa487a9823a27675e9574c",
              "version_minor": 0,
              "version_major": 2
            },
            "text/plain": [
              "HBox(children=(FloatProgress(value=0.0, description='Downloading', max=231508.0, style=ProgressStyle(descripti…"
            ]
          },
          "metadata": {
            "tags": []
          }
        },
        {
          "output_type": "stream",
          "text": [
            "\n"
          ],
          "name": "stdout"
        },
        {
          "output_type": "display_data",
          "data": {
            "application/vnd.jupyter.widget-view+json": {
              "model_id": "0ea39f9274d84975a1d99b29b9c59915",
              "version_minor": 0,
              "version_major": 2
            },
            "text/plain": [
              "HBox(children=(FloatProgress(value=0.0, description='Downloading', max=466062.0, style=ProgressStyle(descripti…"
            ]
          },
          "metadata": {
            "tags": []
          }
        },
        {
          "output_type": "stream",
          "text": [
            "\n"
          ],
          "name": "stdout"
        },
        {
          "output_type": "display_data",
          "data": {
            "application/vnd.jupyter.widget-view+json": {
              "model_id": "b949b0e8ae854b27b6feeffdd77b637f",
              "version_minor": 0,
              "version_major": 2
            },
            "text/plain": [
              "HBox(children=(FloatProgress(value=0.0, description='Downloading', max=28.0, style=ProgressStyle(description_w…"
            ]
          },
          "metadata": {
            "tags": []
          }
        },
        {
          "output_type": "stream",
          "text": [
            "\n",
            "[[[-0.09632865339517593, -0.052850302308797836, -0.022886190563440323, -0.09755348414182663, -0.00798530038446188, -0.2632831633090973, 0.03672304376959801, 0.501137912273407, -0.2910234034061432, -0.15326569974422455, 0.211557999253273, -0.1701526939868927, -0.1832878440618515, 0.2057831585407257, -0.05425066873431206, 0.06256579607725143, -0.019160067662596703, 0.2986120283603668, 0.02297154627740383, 0.003973204642534256, -0.02410067431628704, -0.20894388854503632, -0.040224574506282806, -0.040700774639844894, -0.08085818588733673, -0.07856667786836624, 0.15791268646717072, -0.07217413187026978, 0.2641969621181488, -0.06252199411392212, 0.12513259053230286, 0.19970881938934326, -0.17517702281475067, -0.1268942952156067, 0.11396736651659012, 0.22916936874389648, 0.08676175773143768, -0.12258884310722351, -0.07108567655086517, 0.0339498445391655, -0.3423280119895935, 0.055934540927410126, -0.030394090339541435, 0.12068111449480057, 0.034662242978811264, -0.211740642786026, -2.1146464347839355, -0.22745701670646667, -0.24274033308029175, -0.3608666956424713, 0.17604000866413116, 0.05404751002788544, 0.15563850104808807, 0.25228065252304077, 0.17079122364521027, 0.324590802192688, -0.33664727210998535, 0.450656533241272, -0.09838230907917023, 0.07773029059171677, 0.08330903202295303, 0.0660490170121193, -0.12348892539739609, -0.06137038394808769, -0.09709733724594116, 0.2445770502090454, -0.12310488522052765, 0.19943146407604218, -0.2280353605747223, 0.47730621695518494, -0.21343672275543213, -0.1573275476694107, 0.13931730389595032, -0.1282408982515335, 0.1926385462284088, 0.09873590618371964, -0.058600053191185, 0.06837053596973419, -0.1571815013885498, 0.2289540320634842, -0.2638601064682007, 0.3842540681362152, 0.35002127289772034, 0.08187178522348404, 0.11880479007959366, 0.16524407267570496, -0.41362839937210083, -0.2522471845149994, 0.295835942029953, 0.3156340420246124, -0.22949399054050446, -0.04849379137158394, 0.23842591047286987, 0.3010801672935486, 0.2400226593017578, -0.3346971273422241, -0.032893236726522446, -0.07740513235330582, 0.30845198035240173, 0.32951706647872925, 0.057611897587776184, -0.2548654079437256, 0.13284775614738464, -0.19267703592777252, -0.08430317044258118, -0.07637636363506317, -0.08272767812013626, -0.3486141562461853, 0.15482300519943237, -2.491765260696411, 0.17016953229904175, 0.11821313202381134, -0.027879009023308754, -0.2720043957233429, -0.06894462555646896, 0.37436744570732117, 0.36288100481033325, 0.15667922794818878, -0.0641578957438469, 0.07179562747478485, -0.12854015827178955, 0.2774488031864166, 0.07813101261854172, -0.26744014024734497, 0.02812834642827511, 0.23092004656791687, -0.07553352415561676, -0.14236074686050415, 0.10832154750823975, -0.03496776893734932, 0.37751471996307373, 0.3294926881790161, 0.11284488439559937, -0.03669411316514015, -0.19014209508895874, 0.28875741362571716, 0.20037853717803955, 0.004806427750736475, -0.051314279437065125, -0.04689852520823479, -0.27091673016548157, 0.04952400550246239, -2.9348537921905518, 0.19678379595279694, 0.48658907413482666, 0.06421640515327454, -0.12996384501457214, -0.11090759187936783, 0.23144881427288055, 0.1282968521118164, 0.1431981921195984, 0.19224363565444946, -0.06355029344558716, 0.07696697860956192, -0.23990710079669952, 0.07515999674797058, -0.43058884143829346, -0.03553677350282669, 0.24512633681297302, -0.028952527791261673, 0.18215268850326538, -0.26107296347618103, -0.05172157660126686, -0.05707290396094322, -0.21439625322818756, 0.2931990921497345, 0.3114125728607178, 0.20751406252384186, -0.024096108973026276, 0.3360297977924347, -0.2291257083415985, 0.15026360750198364, 0.5018346905708313, -0.15208739042282104, 0.06190953031182289, -0.13301347196102142, 0.14983424544334412, 0.26963868737220764, -0.03136991709470749, 0.005532297305762768, 0.03423419967293739, 0.15032270550727844, -0.05719801411032677, 0.006405618041753769, -0.057189490646123886, 0.13224993646144867, 0.3841702342033386, -0.199067160487175, -0.09482482075691223, 0.30216678977012634, 0.19549395143985748, -0.05854279547929764, 0.08608893305063248, 0.14507082104682922, 0.24172182381153107, -0.07460231333971024, -0.10903281718492508, -0.30705055594444275, 0.2530285120010376, 0.17253819108009338, -0.23960869014263153, -0.17869488894939423, -0.003630345221608877, 0.12073922157287598, -0.2965086102485657, 3.570355176925659, -0.04809564724564552, -0.12529246509075165, 0.12679792940616608, 0.1934083104133606, -0.005993646569550037, 0.00358989043161273, 0.003224303014576435, -0.07934139668941498, 0.11306348443031311, 0.07806649059057236, 0.194041445851326, 0.1132349818944931, -0.040643371641635895, -0.1944967806339264, 0.21726290881633759, 0.08180396258831024, -0.1378026008605957, 0.1176854595541954, -0.07008316367864609, 0.27487409114837646, 0.12820908427238464, 0.1962733417749405, -0.0793183296918869, -1.2065379619598389, -0.07657255232334137, -0.1067398265004158, 0.03436165302991867, 0.31069013476371765, -0.28246501088142395, -0.09578358381986618, -0.0011231210082769394, -0.04351792857050896, 0.19773150980472565, -0.09026459604501724, -0.08198262006044388, 0.2270756959915161, 0.1369657665491104, 0.30035126209259033, -0.19008387625217438, 0.35554128885269165, 0.15572622418403625, -0.027330027893185616, -0.016538336873054504, -0.11416061222553253, 0.08781708031892776, 0.02470937930047512, 0.02836001105606556, -0.26046252250671387, 0.15301287174224854, -0.10939551889896393, 0.01202520914375782, 0.2713901996612549, -0.2666216194629669, -0.12616340816020966, -0.21822519600391388, 0.11122191697359085, 0.1760302633047104, 0.05163748934864998, -0.38169464468955994, -0.1700463443994522, 0.11652354151010513, -0.3178376257419586, 0.15553845465183258, -0.07395228743553162, -0.11084409803152084, -0.12777522206306458, -0.3563838303089142, -3.9794158935546875, 0.020955534651875496, -0.05212806910276413, 0.2673802077770233, 0.1838965117931366, -0.13732974231243134, -0.03031875565648079, -0.014480672776699066, 0.3343774974346161, -0.4783744513988495, 0.449652761220932, 0.10191962122917175, 0.027513675391674042, 0.26285845041275024, -0.3037041425704956, 0.18372155725955963, -0.05139957368373871, -0.13106614351272583, 0.12477979063987732, -0.1043894812464714, 0.0026952207554131746, 0.30456578731536865, -0.19590720534324646, 0.16741149127483368, -0.0534621998667717, -0.0070043387822806835, -0.05427578091621399, 0.06184743717312813, -0.1206560954451561, -0.0805155336856842, 0.10579638183116913, -0.2545463740825653, 0.20368783175945282, -0.14417192339897156, -0.4104848802089691, -2.200770616531372, -0.1260305792093277, -0.1268593966960907, -0.27135416865348816, 0.13700711727142334, -0.12565167248249054, 0.2865169644355774, -0.1769106537103653, -0.3476107120513916, 0.08060567826032639, 0.04606955498456955, -0.237354576587677, 0.025016972795128822, 0.17341355979442596, 0.3425865173339844, -0.0013148181606084108, 0.2627454102039337, -0.1967126429080963, -0.004041348118335009, 0.19649803638458252, 0.09145823121070862, 0.19473308324813843, -0.09027790278196335, 0.062308911234140396, 0.07537464052438736, 0.543295681476593, -0.2910240888595581, -0.02319411188364029, -0.27360984683036804, 0.0174708254635334, 0.022670811042189598, -0.28728610277175903, 0.04465864971280098, 0.0013796103885397315, -0.1486377865076065, -0.1892147660255432, 0.20357397198677063, 0.17470024526119232, 0.48719775676727295, 0.11347264051437378, -0.23522593080997467, 0.6244499683380127, 0.30497458577156067, 0.07960508018732071, 0.48667219281196594, 0.15262870490550995, 0.00472479360178113, -0.21586990356445312, -0.1150428056716919, 0.11478269845247269, -0.020992537960410118, 0.12910649180412292, 1.246786117553711, -0.04867345467209816, 0.06118088588118553, -0.031244639307260513, 0.24458114802837372, 0.06871583312749863, 0.25059711933135986, 0.046915095299482346, 0.38412049412727356, -0.06780479103326797, 0.16107721626758575, -0.22321127355098724, 0.09466468542814255, -0.3095420300960541, -0.12173764407634735, -0.3394859731197357, 0.16566769778728485, 0.08674376457929611, -0.13743826746940613, 0.1995014250278473, -0.06576339900493622, -0.9356470108032227, -0.37630927562713623, 0.2136395275592804, -0.16977961361408234, 0.06867211312055588, -0.0004608997842296958, 0.19699697196483612, -0.13602933287620544, -0.18281953036785126, -0.23791296780109406, 0.36089378595352173, -0.19043435156345367, -0.27730903029441833, -0.27239176630973816, -0.08646722137928009, -0.4024339020252228, -0.0436546690762043, -0.03843170776963234, 0.2108769565820694, 0.13987411558628082, 0.13800226151943207, 0.04293353855609894, -0.02257920429110527, 0.3069327175617218, -0.839003324508667, 0.08146297186613083, -0.17905829846858978, -0.09767302870750427, -0.1944933533668518, -0.18759238719940186, 0.15585090219974518, -0.06462723761796951, -0.11779060959815979, -0.20792630314826965, 0.2836803197860718, -0.01665673404932022, 0.17418840527534485, -0.1599774807691574, 0.012761074118316174, -0.03377923369407654, -0.010892389342188835, 0.91304612159729, -0.06762780994176865, 0.08509007096290588, 0.23763695359230042, -0.10515083372592926, 0.25693970918655396, 0.18445871770381927, 0.23439626395702362, -0.03883596882224083, -0.2766510844230652, -0.09678634256124496, -0.07472965121269226, 0.034019339829683304, -0.35906851291656494, -0.13342417776584625, 0.1905856430530548, 0.059330832213163376, -0.008199394680559635, -0.16274383664131165, -0.5239816308021545, 0.16472752392292023, -0.13145381212234497, -0.2133703976869583, -0.04347793757915497, 0.04979756474494934, 0.11681164056062698, 0.11208786815404892, 0.1977502703666687, -0.10082370787858963, 0.3741086721420288, -0.2092185765504837, 0.2974330186843872, 0.03485548868775368, -0.02240792103111744, -0.02012096717953682, 0.29715022444725037, -0.1278228759765625, -0.17897653579711914, 0.05785353109240532, -0.18328459560871124, -0.0014393694000318646, 0.002986196195706725, 0.3273758292198181, 0.032617807388305664, 0.09041983634233475, 0.06616894900798798, 0.0854535847902298, 0.023461852222681046, -1.2739136219024658, 0.4269556701183319, 0.1581394225358963, 0.18305225670337677, 0.14053292572498322, -0.10688047856092453, -0.03931717947125435, 0.24490509927272797, 0.12311374396085739, 0.04309610649943352, -0.036565668880939484, 0.03483140468597412, -0.15450182557106018, -0.07634072750806808, 0.14734430611133575, 0.0532069057226181, 0.01891002617776394, -0.2695271670818329, -0.16752231121063232, -0.05788241699337959, 0.1677986979484558, 0.22360631823539734, 0.006023036781698465, -0.21905004978179932, -0.006341441068798304, 0.03291843459010124, -0.05541866645216942, 0.1942892223596573, 0.1417934000492096, 0.10760746151208878, 0.09137492626905441, -0.2352341264486313, -0.5277203321456909, -0.10630051791667938, 0.11959350109100342, -0.060114841908216476, 0.012531910091638565, 0.01721160113811493, 0.31217601895332336, 0.11907533556222916, -0.4851497709751129, 0.3727174401283264, -0.016878601163625717, -0.1329478770494461, 0.3790532350540161, 0.18623852729797363, -0.2457977831363678, 0.2621610462665558, -0.016614729538559914, -0.11942905932664871, 0.016743861138820648, -0.2049812376499176, 0.1270524263381958, -0.010617906227707863, 0.09741070866584778, 0.10364057868719101, 0.14977063238620758, -0.048194918781518936, -0.3884643018245697, -0.11188437789678574, 0.27655163407325745, -0.26115500926971436, -0.18090495467185974, 0.30210816860198975, -0.11620692163705826, -0.4569806456565857, -0.14521130919456482, -0.21041445434093475, -0.04017839580774307, -0.09857381135225296, 0.3351936340332031, 0.02401820570230484, -0.06553152948617935, 0.19624647498130798, -0.256496399641037, 0.23566380143165588, 0.019455213099718094, 0.25674912333488464, 0.37767842411994934, -0.19427451491355896, 0.10228496044874191, -0.3632390797138214, -0.37493446469306946, 0.21140927076339722, 0.03816651552915573, 0.16884498298168182, -0.1465739756822586, -0.02059866115450859, -0.02014251798391342, 0.11119736731052399, -0.14004847407341003, -0.23724861443042755, -0.0060838875360786915, 0.10253250598907471, -0.12869739532470703, -0.032661400735378265, 0.20704835653305054, 0.12746068835258484, -0.10467701405286789, -0.049585361033678055, -0.15245939791202545, 0.47213366627693176, 0.1253533810377121, 0.030446643009781837, 0.11226317286491394, 0.18197186291217804, 0.2849384844303131, -0.11882402747869492, -0.12931907176971436, -0.1427731066942215, -0.0970429927110672, -0.03259227052330971, 0.06227056309580803, -0.0001879578921943903, -0.052382200956344604, -0.45354148745536804, -0.0717744380235672, -0.16008388996124268, 2.2159881591796875, 0.47107261419296265, 0.05411718413233757, -0.11902591586112976, 0.16225992143154144, 0.010056592524051666, -0.1982295662164688, 0.2739962339401245, -0.16961710155010223, 0.3280467391014099, -0.08394374698400497, 0.294127494096756, 0.05654425173997879, 0.2052791714668274, 0.4641473889350891, 0.1380515694618225, 0.10611723363399506, -0.08293092995882034, -0.43922457098960876, -0.11772233992815018, -0.3591291010379791, 0.33324533700942993, 0.37090253829956055, 0.04649477079510689, 0.09526681154966354, 0.12949880957603455, -0.054770827293395996, -0.02631566673517227, 0.127007395029068, 0.1590731143951416, -0.18801897764205933, 0.04688481613993645, 0.06554902344942093, 0.3366278111934662, -0.17893429100513458, -0.010546228848397732, 0.1580643504858017, -0.2770726680755615, -0.3120640516281128, 0.10202299803495407, 0.06094552204012871, -0.3261086642742157, 0.37324824929237366, 0.10342906415462494, 0.06313522905111313, 0.34829437732696533, -0.2082207202911377, -0.37860170006752014, 0.18986976146697998, 0.276123583316803, -0.08659886568784714, -0.03780822455883026, -0.2360968291759491, 0.13052813708782196, -0.16062214970588684, -0.07011386007070541, -0.03969718515872955, -0.04041403532028198, -0.04655368626117706, 0.37789186835289, -0.08749968558549881, 0.28048452734947205, 0.207902729511261, -0.17658895254135132, 0.22706405818462372, 0.13168691098690033, -0.16820912063121796, -0.02103671059012413, 0.18100515007972717, -0.2514146566390991, 0.05681948736310005, 0.18928486108779907, 0.09406984597444534, 0.13009196519851685, 0.14546549320220947, -0.07374733686447144, 0.2522404193878174, -0.10025501996278763, -0.2027702033519745, -2.9013869762420654, 0.003930915147066116, 0.12419181317090988, 0.08223766833543777, -0.07522217929363251, 0.43881163001060486, 0.3384213149547577, -0.29399675130844116, 0.10529197752475739, -0.026591453701257706, 0.34241339564323425, 0.11519163846969604, 0.40967780351638794, -0.03516453877091408, 0.22408118844032288, 0.011560605838894844, 0.1338985413312912, -0.25855353474617004, -0.05074463412165642, -0.04976864159107208, 0.01135896984487772, 0.05701480433344841, 0.04141299054026604, -0.29576006531715393, -0.5394158363342285, 0.20686885714530945, -0.07785263657569885, -0.15308354794979095, 0.06403369456529617, 0.03650004789233208, -0.10349678993225098, 0.47347983717918396, -0.2385983020067215, 0.15612220764160156, -0.02259851060807705, -0.14753279089927673, -0.13776111602783203, 0.023479439318180084, 0.17860804498195648, 0.12125644832849503, -0.2621685862541199, 0.34569910168647766, -0.11504656821489334, 0.2653532326221466, -0.07352686673402786, -0.10865999758243561, 0.4134179651737213, -0.19410495460033417, 0.18864628672599792, -0.3358253538608551, -0.12821370363235474, 0.14180324971675873, 0.13402582705020905, 0.22517456114292145, 0.09358050674200058, 0.13893826305866241, 0.11398386210203171, 0.09703900665044785, -0.017647724598646164, -0.3755720555782318, 0.09767312556505203, 0.19022917747497559, 0.004278897307813168, 0.035322196781635284, 0.16743341088294983, -0.12382639199495316, 0.0552280992269516, 0.06928935647010803, -0.1416509449481964, -0.19274021685123444, -0.1800607293844223, -0.11765795946121216, 0.3217563331127167, 0.10090566426515579, 0.13994307816028595, -0.10111171752214432, 0.23984721302986145, 0.3321007490158081, 0.10654918104410172, 0.30920204520225525, -0.11368916928768158, 0.03413277864456177, 0.03991563245654106, -0.07452390342950821, 0.24650603532791138, -8.140267372131348, -0.04777441546320915, -0.015342503786087036, -0.29504266381263733, -0.07249291986227036, -0.23730677366256714, -0.10142754763364792, -0.325676828622818, 0.10381234437227249, -0.23857639729976654, 0.12728692591190338, 0.02824881486594677, -0.12137982249259949, -0.1132926344871521, 0.3090999722480774, 0.27796322107315063], [0.5927695035934448, -0.13714762032032013, -0.3926168382167816, -0.2103513926267624, 0.6550366878509521, 0.09559956192970276, -0.5962983965873718, 0.8403627872467041, 0.35099756717681885, -0.43103209137916565, 0.07276231050491333, -0.06679195910692215, -0.6167985796928406, 0.5319631695747375, -0.10949763655662537, 0.24137072265148163, 0.20843297243118286, 0.3419918417930603, -0.3813870847225189, 0.8952215313911438, 0.12308036535978317, 0.04015686362981796, -0.5136315822601318, 0.37093251943588257, -0.06389723718166351, -0.2318970113992691, 0.3649410307407379, 0.8455066084861755, 0.656478226184845, -0.07054033875465393, 0.8435483574867249, 0.49450936913490295, -0.6479533314704895, -0.1918921172618866, 0.018180685117840767, 0.2776622474193573, 0.09893637150526047, 0.22696177661418915, 0.22074481844902039, 0.3814484179019928, 0.021466663107275963, -0.5278408527374268, 0.040473856031894684, 0.506506085395813, -0.10774678736925125, -0.8395280241966248, 0.4945001006126404, -0.3371482193470001, -0.2085932344198227, -0.28095218539237976, 0.05996652692556381, 0.48745468258857727, -0.10796579718589783, 0.38178908824920654, -0.3321560025215149, 0.5301295518875122, -0.5510574579238892, 0.18809622526168823, -0.5622281432151794, -0.05022240802645683, 0.036563288420438766, 0.24302968382835388, 0.13617539405822754, -0.3078007400035858, -0.2173161506652832, 0.7964779734611511, -0.06053716316819191, 0.473038911819458, -0.844016969203949, 0.36466720700263977, 0.49046626687049866, -0.8062741160392761, -0.19391418993473053, -0.220313161611557, 0.32326218485832214, 0.16731570661067963, -0.021035009995102882, -0.20092037320137024, -0.11932996660470963, -0.12109237909317017, -0.22309139370918274, 0.7271878719329834, -0.35704922676086426, 0.6316491365432739, 0.1865895837545395, 0.09009183198213577, -0.4957849085330963, 0.20116689801216125, -0.04520164802670479, -0.1419203132390976, -0.06950969249010086, -0.22203603386878967, 0.604781448841095, 0.647692859172821, 0.26054367423057556, -0.8087257146835327, 0.05225566402077675, -0.3499636948108673, 0.4157615602016449, 0.423837810754776, 0.3000255525112152, -0.4127212464809418, 0.01630699448287487, -0.15338647365570068, -0.7186606526374817, 0.14094555377960205, 0.1989130824804306, -0.10978561639785767, 0.5339022278785706, -0.14889949560165405, 0.19067062437534332, -0.3961522579193115, -0.2949889898300171, -0.3042374849319458, 0.08592405915260315, 0.2689145505428314, 0.42284321784973145, 0.2964407205581665, -0.8465104103088379, 0.2342393398284912, -0.0396939292550087, -0.02949274331331253, 0.08630571514368057, 0.0030505775939673185, 0.20773231983184814, -0.21039816737174988, -0.061864130198955536, 0.6722714900970459, 0.18083572387695312, -0.933377206325531, 0.08557799458503723, 0.5081689953804016, 0.8953397274017334, -0.2827974259853363, -0.05300772935152054, -0.1263895481824875, 0.35337477922439575, 0.010684400796890259, 0.08605234324932098, -0.145410418510437, 0.18878203630447388, 0.30856379866600037, -0.11503887921571732, -0.48164159059524536, 0.812972366809845, 0.3540079593658447, -0.6433084011077881, -0.48584240674972534, 0.5890530943870544, 0.022160803899168968, 0.2364472597837448, 0.2726065516471863, -0.030162369832396507, -0.3489629030227661, 0.07855811715126038, 0.08413778990507126, -0.6384396553039551, 0.45446905493736267, 0.44886061549186707, -0.14552825689315796, 0.14321066439151764, -0.610238790512085, 0.231769397854805, 0.10365702956914902, -0.5620144605636597, 0.5380832552909851, -0.027691971510648727, 0.3406182825565338, -0.36359959840774536, 0.5190537571907043, -0.4758208692073822, -0.034828510135412216, 0.8718206286430359, -0.4456162452697754, 0.5148842334747314, -0.4658697843551636, -0.05588894709944725, 0.47526100277900696, -0.3258104622364044, 0.5403357148170471, -0.5253259539604187, 0.18537887930870056, -0.2126409113407135, 0.18657808005809784, 0.07714632898569107, 0.024181878194212914, 0.9279215335845947, -1.1051888465881348, 0.003502985928207636, 1.1868200302124023, 0.3845643103122711, 0.060467429459095, -0.5643460750579834, 0.2792564928531647, 0.7871300578117371, -0.5234494805335999, -0.6979039907455444, -0.26949718594551086, 0.6127389073371887, 0.09217614680528641, -0.39137962460517883, -0.7354097366333008, 0.4227224588394165, 0.2867821156978607, -0.5349382162094116, 0.6812660694122314, -0.2966597080230713, -0.2714148163795471, -0.3475019037723541, -0.05200044810771942, 0.12780719995498657, -0.3181840479373932, -0.17267633974552155, -0.017779165878891945, 0.20395876467227936, 0.08129324018955231, 0.0275510773062706, -0.1201740950345993, 0.31970831751823425, -0.5731632113456726, 0.44330134987831116, -0.20639961957931519, -0.7243603467941284, 0.5797750949859619, -0.03740669786930084, 0.5570558905601501, 0.15942640602588654, -0.3065982162952423, 0.31664368510246277, -0.2102946937084198, -0.4945719540119171, -0.1402050256729126, 1.2475359439849854, 0.35406583547592163, -0.17042803764343262, 0.006709093227982521, -0.49141842126846313, -0.12881793081760406, 0.21887369453907013, -0.4239519536495209, -0.3963148891925812, 0.6858065724372864, 0.32362014055252075, 1.0147899389266968, -0.3275364339351654, 0.11253294348716736, 0.22021785378456116, -0.8524112105369568, -0.20267730951309204, 0.1682790070772171, -0.41894760727882385, -0.41444480419158936, -0.279945433139801, -0.9575343728065491, 0.42020881175994873, 0.12973065674304962, -0.06242901831865311, 0.5862717032432556, -0.39975255727767944, 0.2770597040653229, -0.601275622844696, 0.1711469292640686, 0.6905286908149719, 0.26112526655197144, 0.03098314069211483, -0.25985535979270935, 0.3738703429698944, -0.005699504166841507, 0.8638522028923035, -0.05651136115193367, -0.207349494099617, 0.4645446240901947, 0.3689233958721161, -0.7877224683761597, -0.3540710210800171, -0.876115083694458, 0.21679314970970154, -0.5034888386726379, 0.20206835865974426, 0.39123043417930603, -0.06855300813913345, 0.902074933052063, 0.14188632369041443, 0.6947009563446045, -0.3801274597644806, 0.21593475341796875, -0.10817234218120575, -0.592787504196167, -0.6899097561836243, -0.5993582010269165, -0.310886025428772, 0.5182455778121948, -0.4632949233055115, -0.2996109426021576, 0.031361863017082214, -0.8183192014694214, 0.5186243057250977, 0.01633133739233017, 0.0033661217894405127, -0.4941212236881256, -0.04691158980131149, -0.8808140158653259, 0.02243901789188385, 0.3237605392932892, -0.3158727288246155, 0.2605895698070526, -0.23344288766384125, -0.28179821372032166, -3.5351951122283936, -0.7313799858093262, -0.7946465015411377, 0.09264522045850754, -0.118171826004982, -0.16413401067256927, 0.4591849148273468, -0.06772763282060623, -0.5712147951126099, -0.00482445303350687, 0.3557277321815491, -0.46448251605033875, -0.12034983187913895, 0.042170729488134384, 0.38017508387565613, -0.07813343405723572, 0.5974700450897217, -0.9738231897354126, -0.8747934103012085, 0.9559119343757629, -0.2918495833873749, 1.058300256729126, -0.14422725141048431, -0.36661994457244873, 0.24350863695144653, 1.9465891122817993, -0.7360366582870483, -0.38986870646476746, 0.04647171497344971, 0.24855881929397583, -0.1929953694343567, 0.40342482924461365, 0.3562718629837036, 0.29721689224243164, 0.10309009253978729, -0.1869194358587265, -0.04826976731419563, -0.6517370343208313, -0.22037120163440704, -0.3243320882320404, 0.026941455900669098, -0.3563969135284424, 0.09554972499608994, -0.21867644786834717, 0.9399508237838745, 0.015352132730185986, -0.11685721576213837, -0.19041642546653748, -0.2650452256202698, 0.045621078461408615, 0.09624116122722626, -0.4064905345439911, 1.1475653648376465, 0.16700375080108643, 0.6372559070587158, -0.18589304387569427, -0.06372988224029541, 0.5413212776184082, 0.469961941242218, -0.6933302283287048, 0.2953272759914398, 0.41919106245040894, -0.20438003540039062, -0.7566595077514648, 0.04378225654363632, 0.13047417998313904, -0.593212366104126, -0.1593206375837326, 0.5801411271095276, -0.010860508307814598, -0.5081782341003418, 0.46626508235931396, -0.05521900951862335, -0.9165842533111572, -0.4154640734195709, -0.3794756233692169, -0.14773036539554596, -0.2529568672180176, -0.05844732001423836, 0.0823848620057106, 0.1015651524066925, -0.4680488407611847, -0.5267615914344788, 0.34440889954566956, -0.27014458179473877, -1.3761929273605347, 0.3058105707168579, -0.3869067132472992, -0.03274821862578392, 0.28040045499801636, 0.5886120796203613, -0.1100359559059143, 0.4912050664424896, 0.0755782276391983, -0.23578192293643951, -0.25624218583106995, 0.5354571342468262, -0.8839151263237, 0.1811852753162384, -0.07512467354536057, -0.23766100406646729, -0.769889771938324, 0.05656401067972183, 0.045377545058727264, 0.12254339456558228, -0.42457205057144165, -0.4363759458065033, 0.27262672781944275, 0.11517411470413208, 0.10493060946464539, -0.1205298975110054, -0.9679834246635437, 0.02743745595216751, -0.02877405844628811, 0.11574476212263107, -0.14991827309131622, 0.29594072699546814, 0.23008346557617188, -0.635431706905365, -0.1968533992767334, 0.09636226296424866, 1.066344141960144, -0.9757093191146851, -0.680306613445282, -0.7116267085075378, -0.12097855657339096, 0.39285555481910706, -0.6085866689682007, -0.6128802299499512, 0.5884418487548828, 0.4442855417728424, -0.45962852239608765, -0.44394803047180176, -0.43094706535339355, 0.05379682779312134, 0.11849440634250641, -0.8390901684761047, -0.2076769322156906, -0.4755374491214752, -0.05523717403411865, -0.13223125040531158, 0.3437688946723938, -0.18096096813678741, 0.3891712725162506, -0.2838487923145294, -0.013515874743461609, -0.15820693969726562, -0.49634483456611633, 0.13122378289699554, 0.2334441840648651, -0.5033010840415955, 0.11924690753221512, -0.25352123379707336, -0.004290119744837284, 0.30632343888282776, -0.648309588432312, 0.6840078830718994, -0.47030872106552124, 0.05279054120182991, -0.37920233607292175, -0.20793715119361877, 0.2692653238773346, -0.19451789557933807, 0.6761719584465027, 0.5812886357307434, 0.3022264540195465, -0.1251252144575119, -0.02181139960885048, -0.10919464379549026, -0.21900811791419983, -0.20012229681015015, -0.09465866535902023, -0.37733355164527893, 0.13210918009281158, -0.3058043122291565, -0.32610785961151123, -0.021347185596823692, 0.1802404522895813, -0.9207164645195007, 0.31492727994918823, -0.5062689185142517, -0.019232042133808136, 0.26943841576576233, 0.40686485171318054, -0.08543802797794342, -0.022414660081267357, -0.4396972954273224, 0.22435666620731354, -0.30840304493904114, 0.2301282435655594, -0.38431471586227417, 0.27395954728126526, 0.13583646714687347, -0.5961021780967712, -0.7181527018547058, 0.23785802721977234, 0.5901985764503479, 0.4341954290866852, 0.17572180926799774, 0.4746285080909729, 0.2288692146539688, -0.27750125527381897, -0.7073695063591003, 0.622944176197052, 0.04332738369703293, -0.3061385452747345, 0.07834286242723465, 0.6229730844497681, -0.36859333515167236, 0.6800848841667175, -0.8326777815818787, -0.20001806318759918, -0.8589804768562317, -0.4317462146282196, -0.35019877552986145, 0.01430713664740324, 0.62611323595047, -0.10900720208883286, 0.3791108727455139, -0.05163104087114334, 0.36758652329444885, -0.0001500547514297068, -0.5174619555473328, 0.0254044272005558, -0.8451778888702393, 0.032388750463724136, -0.19442588090896606, -0.30482637882232666, -0.6169751882553101, 0.066855289041996, 0.04200894013047218, -0.5482068657875061, 1.118322730064392, 0.05348017439246178, 0.5333429574966431, -0.19833441078662872, 0.1856684535741806, 1.016648530960083, 0.10067253559827805, 0.24190203845500946, 0.24682499468326569, 0.04534214362502098, 0.0032096938230097294, -0.1446930319070816, 0.468003511428833, -0.20759959518909454, -0.020342104136943817, 0.05617813020944595, -0.2700275182723999, -0.00678067933768034, 0.07996919006109238, 0.4694119095802307, -0.030906371772289276, -0.04296483099460602, -0.44773510098457336, 0.39893776178359985, -0.5587852001190186, 0.10995371639728546, 0.14483577013015747, 0.44347670674324036, -0.3161379098892212, -0.3138153851032257, 0.3219188153743744, 0.5056486129760742, -0.730529248714447, 0.7171409130096436, 0.23544390499591827, 0.43688902258872986, 0.4211539328098297, -0.43287181854248047, -0.21927669644355774, -0.6294265389442444, 0.2846775949001312, 0.30728867650032043, 0.5748125910758972, 0.052196912467479706, 0.4243408739566803, -0.760387659072876, -0.27162817120552063, -0.48897111415863037, 0.8375827670097351, 0.9469810724258423, -0.1331370323896408, 0.043585386127233505, 0.6769353747367859, -0.3761477768421173, -0.373076468706131, 0.4477141797542572, -0.8957540392875671, 0.582466721534729, 0.08183256536722183, 0.17994724214076996, 0.37607651948928833, 0.16929692029953003, -0.17878545820713043, 0.16804930567741394, 0.4931674003601074, -0.3880932629108429, -0.529817521572113, 0.5038754343986511, -0.5001868009567261, 0.010409805923700333, 0.28478196263313293, 0.7572590112686157, -0.050888217985630035, -0.21280069649219513, -0.2219286859035492, -0.4095439910888672, 0.1588204801082611, -0.26227253675460815, -0.21157966554164886, 0.15214523673057556, 0.5121205449104309, 0.26605892181396484, -0.2798115015029907, -0.24955181777477264, 0.8270649909973145, -0.5659393668174744, -0.3879532814025879, 0.043863389641046524, -0.1309734731912613, -0.07985950261354446, 0.23003412783145905, 0.09868358820676804, 0.14648543298244476, 0.3559591472148895, -0.43804362416267395, -0.6851413249969482, 0.7114260196685791, 0.5207699537277222, 0.46679583191871643, -0.2168954610824585, -0.2391340136528015, 0.717390239238739, -0.6811119318008423, -0.5152214169502258, -0.6524180173873901, -0.4140556752681732, 0.19401772320270538, 0.8434733152389526, -0.406521737575531, 0.4362182915210724, 0.18888592720031738, 0.2080571949481964, -0.29933997988700867, -0.01204015500843525, 0.12579523026943207, 0.0772373303771019, 1.1555180549621582, -0.269199937582016, 0.7460466623306274, -0.16224271059036255, -0.23434188961982727, 0.22560538351535797, 0.009505167603492737, 0.7128270864486694, 0.7929186224937439, 0.050761494785547256, 0.3221931457519531, -0.9004122614860535, -0.6388257741928101, 0.05248058959841728, 0.44732722640037537, -1.5084645748138428, 0.9492148756980896, 0.27690279483795166, -0.21005378663539886, -0.15450794994831085, -0.32974427938461304, -0.1411052793264389, -0.6200527548789978, 0.28036266565322876, -0.008501948788762093, 0.5070888996124268, -0.14116452634334564, 1.2173484563827515, 0.16527558863162994, -0.7376381754875183, -0.15633775293827057, 0.5811765789985657, -0.38944482803344727, 0.4450913071632385, -0.8046384453773499, -0.03310097008943558, -0.1407414823770523, -1.0537209510803223, -0.32933905720710754, -1.0481760501861572, 0.8569221496582031, -0.03035561926662922, 0.801066517829895, 0.15246212482452393, 0.6216402649879456, -0.7907429933547974, 0.02196563221514225, -0.6202835440635681, -0.007997164502739906, 0.7491281628608704, 0.06321337074041367, -0.37327536940574646, 0.7974210977554321, -0.3690204620361328, 0.5877925157546997, -0.2143760621547699, -0.0386175811290741, 0.016255537047982216, -0.4270232021808624, 0.6378538012504578, -0.9317492246627808, -0.30202174186706543, 0.1523481011390686, 0.6033873558044434, -0.23035654425621033, 0.32737648487091064, 0.1413964033126831, 0.4324256479740143, 0.8853108882904053, 0.15930867195129395, -0.18672819435596466, -0.09054190665483475, 0.1549009382724762, -0.4382258355617523, 0.33888891339302063, -0.026490457355976105, 0.8423347473144531, -0.03880362957715988, 0.11159485578536987, 0.35642048716545105, -0.22136233747005463, -0.6991680860519409, 0.11481082439422607, 0.181151881814003, -0.13544194400310516, -0.42652201652526855, -0.0841328427195549, -0.5752127170562744, 0.20873969793319702, -0.15867018699645996, 0.18169309198856354, -0.5071358680725098, -0.21089263260364532, 0.20185527205467224, -0.15623416006565094, 0.2551332712173462, -1.594656229019165, 0.4049278795719147, 0.2335558384656906, -0.7463282942771912, 0.23818844556808472, -0.06983453035354614, 0.5424562692642212, -0.8497823476791382, 0.7410284876823425, -0.6946138739585876, -0.6852889657020569, -0.1281144618988037, -0.05004919692873955, -0.18494106829166412, 0.7132591605186462, -0.2806802988052368], [0.00884808786213398, -0.3647734522819519, 0.32701775431632996, 0.12914732098579407, 0.18780291080474854, 0.14014337956905365, -0.434982031583786, 0.7491132020950317, -0.4111084043979645, 0.05235157534480095, 0.352988064289093, -0.2682739198207855, -0.39331957697868347, 0.3205288350582123, -0.39074715971946716, 0.9082928895950317, 0.1179727166891098, 0.8631974458694458, -0.19478079676628113, 1.216017246246338, 0.21418936550617218, -0.13517698645591736, 0.23005633056163788, -0.16448841989040375, 0.20374795794487, -0.13944214582443237, 0.5354348421096802, 0.33525124192237854, 0.6392168998718262, -0.23429211974143982, 0.6445767283439636, -0.061080388724803925, -0.4090770184993744, -0.2717767059803009, 0.7225481867790222, 0.11771491169929504, 0.20631448924541473, 0.43654611706733704, 0.0723491981625557, -0.06829690933227539, -0.9621170163154602, -0.4363747537136078, -0.3785420060157776, 0.14489127695560455, -0.6329386830329895, -0.7725897431373596, 0.4298042356967926, -0.503427267074585, -0.2632056772708893, -0.3450198769569397, -0.20443099737167358, 0.6402167677879333, -0.3361605107784271, -0.14187680184841156, -0.4585912227630615, 1.0215835571289062, -0.6048160791397095, -0.19319528341293335, -0.6859629154205322, 0.3741498589515686, -0.6117331981658936, 0.0903318002820015, 0.0781673714518547, -0.05388389900326729, -0.0744084045290947, 0.998053789138794, -0.07228035479784012, 0.4918355345726013, -0.6478146314620972, -0.15515108406543732, -0.13254491984844208, -0.3400726020336151, -0.346953421831131, -0.13631704449653625, 0.215326189994812, 0.29624515771865845, -0.42225295305252075, 0.4096618592739105, -0.3449995517730713, 0.20265142619609833, -0.21147017180919647, 0.511955976486206, -0.27182793617248535, 0.4524995982646942, 0.18338504433631897, -0.41719117760658264, -0.5464483499526978, 0.316025048494339, -0.0011903562117367983, -0.6234899759292603, -0.15120816230773926, -0.47484517097473145, 0.5550314784049988, 0.3957936465740204, 0.38944047689437866, -0.7771012783050537, -0.04008602723479271, 0.08719165623188019, 0.34137463569641113, 0.5239155888557434, -0.4102399945259094, -0.9939538240432739, -0.22127273678779602, -0.07530052959918976, -0.17742250859737396, 0.34890109300613403, -0.26972323656082153, -0.33665066957473755, 0.45238304138183594, 0.41421666741371155, 0.37795621156692505, -0.5042827725410461, -0.17631158232688904, -0.13758771121501923, -0.016173437237739563, 0.3110754191875458, 0.4603077471256256, -0.16266107559204102, -0.4805392622947693, 0.043683990836143494, -0.380593866109848, -0.48114749789237976, 0.5611674785614014, 0.24532273411750793, -0.02817286178469658, -0.22286133468151093, 0.09923359751701355, -0.0029485784471035004, 0.21987874805927277, -1.0463439226150513, 0.3471572697162628, 0.5667850375175476, 0.6568907499313354, -0.4720897972583771, -0.0016442729393020272, -0.030750146135687828, 0.18755991756916046, 0.3341847360134125, 0.01380636915564537, -0.43993496894836426, 0.37337157130241394, -0.07055073231458664, 0.4967748522758484, -0.15862013399600983, 1.3379212617874146, 0.7047067880630493, -0.5503299236297607, 0.3446526527404785, 0.20890454947948456, 0.07519012689590454, 0.06017463281750679, -0.2049311399459839, 0.010510098189115524, -0.11314618587493896, 0.05900394171476364, -0.15537746250629425, -0.6242280006408691, 0.3774857223033905, 0.32510632276535034, 0.17099353671073914, 0.37816014885902405, -0.9989038705825806, -0.2723543643951416, 0.7060335874557495, 0.07051987200975418, 0.40917009115219116, -0.4112333059310913, 0.045038215816020966, -0.03143506497144699, 0.4704935848712921, -0.4605470895767212, 0.12674890458583832, 1.4038667678833008, -0.10221736878156662, -0.1273249238729477, -0.5342978239059448, 0.2219647467136383, 0.2147274911403656, 0.34834232926368713, 0.27835795283317566, -0.475656121969223, 0.20097528398036957, -0.21113361418247223, -0.3454161286354065, -0.12062698602676392, 0.4447110891342163, 0.44006451964378357, -0.6706629991531372, -0.19498492777347565, 0.2531346082687378, 0.3794732987880707, 0.2909320592880249, -0.12677405774593353, 0.28289794921875, 0.38159507513046265, -1.2017922401428223, -0.5582013130187988, -0.016814306378364563, -0.01129138469696045, 0.22815300524234772, -0.04494524747133255, -0.6945421695709229, 0.7432615756988525, 0.25383034348487854, -0.5419178009033203, 0.3786879777908325, 0.0871446281671524, -0.3223317563533783, 0.09875518828630447, 0.13675911724567413, 0.05449630692601204, 0.19825592637062073, 0.0727960392832756, 0.4985286295413971, 0.18909676373004913, 0.10357533395290375, 0.06725779920816422, 0.15773558616638184, -0.19365428388118744, -0.191986545920372, 0.20865987241268158, -0.4980029761791229, -0.6963468194007874, 0.6360113620758057, 0.19435463845729828, 0.5823013782501221, -0.04878221079707146, -0.2125513106584549, -0.09367059171199799, 0.08657204359769821, -0.34173446893692017, -0.3498743176460266, 0.9947682023048401, 0.25364506244659424, -0.2652599513530731, 0.31657230854034424, -0.5432469844818115, -0.41242703795433044, 0.3548195958137512, -0.7992511987686157, -0.4378955066204071, 0.4930649697780609, -0.008073323406279087, 0.6371122598648071, -0.20648911595344543, -0.08554182201623917, 0.03451359272003174, 0.3219847083091736, -0.5609899163246155, -0.05765765532851219, -0.5924880504608154, -0.8212273120880127, 0.20907868444919586, -0.25792306661605835, 0.39229512214660645, -0.3683653771877289, -0.31373268365859985, 0.5690134167671204, -0.4650197923183441, 0.4245689809322357, 0.012093525379896164, 0.6202511191368103, 0.9019626379013062, 0.28389495611190796, -0.36084139347076416, 0.3598366975784302, 0.31551316380500793, 0.6189489364624023, 0.6617279052734375, -0.011119876988232136, -0.012250988744199276, 0.24623480439186096, -0.01890164241194725, 0.4653768837451935, -0.17446933686733246, -0.7170319557189941, 0.44377222657203674, -0.0038567273877561092, -0.13237060606479645, -0.5355397462844849, 0.2804616093635559, 1.3321326971054077, -0.15101180970668793, 0.3483535349369049, -0.5561760067939758, 0.6033886075019836, 0.3421177268028259, 0.6241479516029358, -0.3125086724758148, -1.2053030729293823, -0.3543226420879364, 0.4310033917427063, -0.0910245031118393, -0.047730736434459686, 0.6924489140510559, -0.728689432144165, 0.444644957780838, 0.3706210255622864, -0.0028534710872918367, -0.2919143736362457, 0.3215886652469635, -0.6084945201873779, -0.04772672802209854, 0.56000155210495, -0.21199408173561096, 0.36382272839546204, -0.23718047142028809, -0.17748719453811646, -3.4835188388824463, -1.0249204635620117, -0.5523480772972107, -0.3144054710865021, 0.07909175753593445, -0.44273820519447327, 0.24480703473091125, -0.15248392522335052, -0.4897601902484894, -0.009595919400453568, 0.20745697617530823, -0.7294784188270569, 0.06282388418912888, -0.2509586215019226, 0.5022953748703003, -0.1337393820285797, 0.6092072129249573, -0.7666704058647156, -0.9660758376121521, 1.1550580263137817, 0.2685557007789612, 0.6850375533103943, 0.03765435516834259, -0.1415635347366333, 0.21675008535385132, 1.2329498529434204, -0.1763273924589157, -0.4515915811061859, -0.642098069190979, 0.521834671497345, -1.114513635635376, 0.1483754813671112, 0.22083134949207306, 0.42813757061958313, 0.5635401606559753, 0.027736589312553406, 0.12967807054519653, -0.3516668975353241, 0.535706639289856, -0.0649854838848114, -0.2547169625759125, 0.1451713740825653, -0.09502891451120377, -0.009915429167449474, 1.1834691762924194, -0.13663306832313538, -0.23361635208129883, -0.8734399080276489, 0.2011154443025589, 0.4349454939365387, 0.01436332706362009, -0.29652509093284607, 0.5756255984306335, -0.2772148847579956, 0.06849345564842224, -0.12085676938295364, 0.42898720502853394, 1.0208996534347534, 0.16484099626541138, -0.7694119811058044, 0.36362317204475403, 0.45837047696113586, -0.37351325154304504, -0.7001516222953796, 0.5928420424461365, -0.48573780059814453, -1.2239257097244263, -0.4890613257884979, 0.08472008258104324, 0.1630420982837677, -0.31017783284187317, 0.8469533324241638, -0.006360752508044243, -1.2981451749801636, -0.6724921464920044, 0.41808733344078064, 0.10782811045646667, -0.28217360377311707, -0.19214875996112823, 0.39273571968078613, -0.4435722529888153, -0.3029683828353882, -1.2143253087997437, 0.27802449464797974, -0.28383249044418335, -1.1994560956954956, 0.555246114730835, -0.1470959484577179, -0.25678348541259766, -0.4031800627708435, 0.44403335452079773, 0.10985846072435379, 0.46006929874420166, 0.3693121075630188, -0.06469087302684784, -0.2866249680519104, 0.7681296467781067, -0.7207192182540894, -0.009375183843076229, -0.14610160887241364, -0.25524410605430603, -0.4432806372642517, 0.6470097899436951, 0.09993642568588257, 0.7900485992431641, -0.01846724934875965, -0.43273502588272095, -0.12469760328531265, 0.5416235327720642, 0.12052781879901886, -0.5220502018928528, -0.31053510308265686, -0.1374594122171402, -0.2650264501571655, -0.6031274795532227, -0.13876314461231232, 0.681157648563385, 0.6123155355453491, -0.5784321427345276, 0.031967971473932266, -0.14547862112522125, 0.952238142490387, -0.46677061915397644, -0.8968337774276733, -1.0497761964797974, -0.29909878969192505, -0.17462505400180817, -0.8363710641860962, -0.21007518470287323, 0.1929987668991089, 0.23702052235603333, 0.0033887310419231653, 0.002944404724985361, 0.08658824861049652, 0.5407195091247559, 0.581234335899353, -0.27518361806869507, -0.4253692626953125, -0.15689243376255035, -0.19997909665107727, -0.5071122646331787, 0.1285119503736496, -0.03337332606315613, -0.05922465771436691, -1.0672266483306885, 0.08794713765382767, -0.23118776082992554, -0.7044615745544434, 0.11055737733840942, 0.2036324441432953, -0.46816903352737427, 0.000254888494964689, -0.1425580233335495, 0.16406309604644775, 0.2097480595111847, -0.2625010311603546, 0.3095439672470093, -0.6512832045555115, 0.3660971522331238, -0.6181160807609558, -0.3349872827529907, 0.22198088467121124, -0.013644070364534855, 0.7163735628128052, 0.36635980010032654, 0.543606698513031, 0.19368968904018402, -0.4322955906391144, -0.12883512675762177, -0.6730602383613586, -0.788377046585083, 0.45504775643348694, 0.15851245820522308, 0.08146496117115021, -0.2340007871389389, 0.34844768047332764, 0.38758283853530884, -0.18079109489917755, -0.642441987991333, -0.100788414478302, -0.5993189215660095, -0.8408058881759644, 0.0011200443841516972, 0.42000195384025574, 0.1057741641998291, -0.32238468527793884, 0.09675446152687073, -0.1307668387889862, -0.1031855046749115, 0.336892694234848, -0.9473916292190552, 0.07608553022146225, 0.1326574832201004, -0.7602161765098572, -0.9043778777122498, -0.5547190308570862, 0.4501075744628906, -0.7292600870132446, 0.5547910332679749, 0.47966450452804565, 0.08857259899377823, 0.29762235283851624, -0.4512298107147217, 0.34999310970306396, -0.15717065334320068, -0.37770915031433105, -0.1976662129163742, -0.2221529483795166, -0.15676672756671906, 0.23875349760055542, -0.22599677741527557, -0.046160027384757996, -0.9750980138778687, -0.49758362770080566, -0.2152075171470642, -0.2893331050872803, 0.5009078979492188, -0.1335267871618271, -0.47405806183815, -0.043169908225536346, -0.27972137928009033, -0.12557539343833923, -0.18553146719932556, -0.35132816433906555, -0.7917366623878479, 0.02527466230094433, 0.32859817147254944, 0.3831309974193573, -0.6896747946739197, -0.5847439169883728, -0.5173850059509277, -0.6151838898658752, 0.8336004018783569, 0.1809380054473877, 0.42814451456069946, -0.1901177167892456, 0.32741302251815796, 0.32926231622695923, 0.03912736847996712, 0.5280666351318359, 0.08175596594810486, -0.45538046956062317, 0.3990173935890198, -0.3878456950187683, 0.46633899211883545, 0.04449974745512009, 0.08768616616725922, 0.3686935305595398, -0.8557248115539551, 0.3132764995098114, 0.18113674223423004, 0.6293678283691406, -0.03292216360569, -0.1896020919084549, -0.432354599237442, 0.4634053707122803, -0.7266438603401184, 0.3531592786312103, -0.03642505407333374, 0.4309208393096924, -0.09867000579833984, 0.3062019944190979, 0.5971119999885559, 0.32728347182273865, -0.28653281927108765, 0.18111059069633484, 0.03963156044483185, 0.4666678011417389, 0.15530194342136383, -0.7523873448371887, 0.4855179488658905, -0.11312711238861084, 0.2507641911506653, 0.33255669474601746, 0.37911486625671387, 0.03152496740221977, -0.532488226890564, -0.8187558054924011, -0.18249966204166412, -0.4682053029537201, 0.21696549654006958, 0.47836896777153015, -0.005196107551455498, -0.6119617223739624, 0.48557695746421814, -0.34821897745132446, -0.41508933901786804, 0.9098417162895203, -0.4026085138320923, 0.32751184701919556, -0.16831929981708527, 0.9040124416351318, 0.4167359471321106, 0.2895214855670929, 0.2758159041404724, 0.2974245548248291, 1.0670207738876343, 0.08411472290754318, -0.3559722304344177, 0.4192192554473877, -0.3386856019496918, 0.1998237520456314, 0.3818199932575226, 0.8179202675819397, -0.0010511839063838124, 0.1343993991613388, 0.1192384883761406, -0.506482720375061, 0.24636611342430115, 0.27311021089553833, -0.5825635194778442, 0.2550906836986542, 0.9630285501480103, 0.44276294112205505, 0.08101163059473038, -0.41996118426322937, 0.4719450771808624, -0.41421228647232056, -0.4709421992301941, 0.23453389108181, -0.09379896521568298, -0.8520321846008301, 0.4222930371761322, -0.020729636773467064, 0.18007822334766388, -0.01908460631966591, -0.8313502669334412, -0.5799619555473328, 0.2558913826942444, 0.9881494045257568, -0.0020301297772675753, -0.09832006692886353, -0.5926734209060669, 0.7291722893714905, -0.3845292925834656, 0.06194242089986801, -0.09366098791360855, -0.3964945673942566, 0.05618491768836975, 0.4540589451789856, -0.5823171138763428, 0.03805341199040413, 0.20609481632709503, 0.033564019948244095, -0.10136924684047699, 0.3905825912952423, 0.015375357121229172, -0.1067846268415451, 1.6321643590927124, -0.013189584948122501, 0.3459559679031372, -0.15580643713474274, -0.8625258803367615, 0.5966923832893372, 0.14712797105312347, -0.08157933503389359, 0.4121660888195038, 0.24676202237606049, -0.17115554213523865, -0.09944022446870804, -0.2794204354286194, 0.3762624263763428, 0.7432975769042969, -1.0614289045333862, 0.3056282103061676, 0.09283091127872467, -0.09727359563112259, -0.18621692061424255, -0.4903133511543274, 0.6197504997253418, -0.28839048743247986, 0.1257643848657608, -0.021657904610037804, 1.2553244829177856, 0.032501574605703354, 1.0283441543579102, -0.08918674290180206, -0.14759185910224915, -0.09962741285562515, 0.3212440609931946, 0.22268247604370117, -0.013126852922141552, -0.4474495053291321, -0.3246901333332062, 0.37997350096702576, -0.3943820893764496, -0.048919424414634705, -0.8588590621948242, 0.35643717646598816, 0.14417296648025513, 0.4795862138271332, -0.38541457056999207, 0.8124045729637146, -0.6651416420936584, 0.2563934028148651, -0.6939740180969238, -0.12902139127254486, 0.6176998019218445, 0.5203537940979004, -0.7363263368606567, 0.5651782751083374, -0.6417890191078186, 0.3485378623008728, 0.080550916492939, -0.1346489042043686, 0.25722289085388184, -0.5149147510528564, -0.6138966083526611, -0.7757678627967834, -0.7169253826141357, 0.2989450991153717, 0.9456238746643066, -0.5921140909194946, 0.35829222202301025, 0.020432638004422188, 0.6038976907730103, 1.0542423725128174, -0.24120023846626282, -0.8760285377502441, 0.11116176098585129, 0.3794175982475281, -0.2257905900478363, 0.40268176794052124, 0.22484153509140015, 0.744563102722168, 0.3519672751426697, 0.5628927946090698, 0.43202415108680725, -0.5837188959121704, -0.8416309952735901, -0.010164939798414707, 0.13078056275844574, -0.1271294355392456, -0.02870015799999237, -0.4942868947982788, -1.0128276348114014, -0.04822130128741264, -0.10749386250972748, 0.10266595333814621, -0.47469571232795715, 0.5327958464622498, 0.4545290768146515, -0.6795844435691833, 0.0735965296626091, 0.0876728743314743, 0.2095474749803543, -0.031821928918361664, -0.8887255191802979, -0.48206478357315063, -0.4005892276763916, 0.3749241828918457, -0.5605288743972778, -0.04150911793112755, -0.886310338973999, -0.4279543459415436, -0.22091950476169586, 0.049826350063085556, 0.11720812320709229, 0.36718037724494934, -0.43832871317863464], [0.39967191219329834, 0.4182424247264862, 0.6106560826301575, 0.4146491587162018, 0.3568294048309326, -0.03366683050990105, -0.4247928559780121, 0.7091823220252991, -0.27698782086372375, 0.040685851126909256, 0.31500008702278137, -0.4440161883831024, -0.34678101539611816, 0.3615102767944336, -0.5371696949005127, 0.22822771966457367, 0.5458902716636658, 0.5555095076560974, 0.016191143542528152, 0.23025687038898468, 0.5374042987823486, 0.24181000888347626, -0.351148784160614, 0.17056967318058014, 0.22208692133426666, -0.18994706869125366, 0.5118249654769897, 0.1730503886938095, 0.12202818691730499, -0.5187116861343384, 0.4661047160625458, 0.5738589763641357, 0.031263966113328934, 0.03581841662526131, -0.38072869181632996, 0.19948135316371918, -0.4502561092376709, 0.007093183696269989, -0.18050172924995422, 0.11424817889928818, 0.0001290849904762581, -0.26263296604156494, -0.12528689205646515, 0.38183724880218506, -0.10976196825504303, -0.46871650218963623, 0.16901938617229462, 0.40857064723968506, -0.12198909372091293, 0.2364625483751297, 0.29237276315689087, 0.18759477138519287, 0.3500821590423584, -0.3528357744216919, -0.03957410529255867, 0.7932993769645691, -1.0849299430847168, -0.06941033899784088, -0.08486711978912354, -0.4541763961315155, -0.5383379459381104, 0.025992989540100098, 0.1817704439163208, -0.11197322607040405, -0.4651497006416321, 0.23810724914073944, -0.16422919929027557, 0.21230359375476837, -0.6712026000022888, 0.6511354446411133, -0.3930116593837738, -0.6778026819229126, 0.11717448383569717, 0.17641568183898926, 0.20676860213279724, 0.43517813086509705, 0.26324135065078735, 0.3981357514858246, -0.7439412474632263, 0.10134217143058777, -0.9261541366577148, 0.23258373141288757, -0.09324950724840164, 1.0016402006149292, -0.24662412703037262, -0.302530437707901, -0.7962579131126404, -0.041496314108371735, -0.189522385597229, 0.5569701790809631, -0.2163604497909546, -0.007941151969134808, 0.3029893636703491, 0.41656383872032166, 0.3185409903526306, -0.11723615974187851, 0.18393351137638092, 0.33833110332489014, -0.08605849742889404, 0.8266990184783936, -0.09909147769212723, -0.8279736638069153, -0.2693905830383301, 0.2792823016643524, -0.36460986733436584, 0.22850044071674347, 0.2187846451997757, -0.6736397743225098, 0.2866891920566559, 0.7684492468833923, 0.44154322147369385, -0.6351615190505981, -0.011905710212886333, 0.08317887783050537, -0.012234310619533062, -0.30033957958221436, -0.3351796567440033, -0.06633904576301575, -0.2972879409790039, -0.10801113396883011, -0.2578931748867035, -0.29319605231285095, 0.13421201705932617, 0.08946812897920609, 0.3709920048713684, -0.012403085827827454, -0.7230864763259888, 0.5859988927841187, 0.021833522245287895, -0.8877825140953064, 0.523402750492096, 0.3023810386657715, 0.41329365968704224, -0.04539085179567337, 0.31804516911506653, -0.288129061460495, 0.14468801021575928, -0.5535760521888733, -0.125346839427948, -0.3180902600288391, 0.43514081835746765, 0.3058197796344757, 0.35110390186309814, -0.23546580970287323, 0.6515694260597229, 0.06768927723169327, -0.311726838350296, -0.31649455428123474, -0.16393393278121948, 0.1888001561164856, 0.7329129576683044, 0.4422609806060791, 0.0666850358247757, -0.11434745043516159, 0.12990468740463257, 0.17425265908241272, -0.4561689794063568, 0.165115624666214, 0.3542352616786957, -0.26959559321403503, 0.00299703236669302, -0.23921994864940643, 0.17950069904327393, -0.10230147838592529, -0.3142887055873871, -0.1984451562166214, 0.22497455775737762, 0.4096534252166748, -0.3591192364692688, 0.3730285167694092, -0.08813443779945374, 0.8914419412612915, 1.2769050598144531, -0.604331910610199, 0.24441571533679962, -0.26333022117614746, 0.16726131737232208, 0.08945535868406296, 0.46531423926353455, 0.7709230184555054, 0.04239967465400696, -0.46299007534980774, 0.01781574822962284, -0.895849883556366, -0.18408522009849548, -0.4414985179901123, 0.4160255491733551, -0.30322161316871643, -0.28220832347869873, -0.20939795672893524, -0.0711599588394165, 0.31800687313079834, -0.6062789559364319, -0.21765226125717163, 0.6069897413253784, -0.7109938263893127, -0.5095613598823547, 0.17307886481285095, 0.3912395238876343, 0.09475602954626083, 0.15417800843715668, -0.29795169830322266, 0.399690717458725, 0.03427611663937569, -0.6962231993675232, -0.1103196069598198, 0.12522485852241516, -0.0347934290766716, -0.5229171514511108, 0.34334632754325867, 0.1574288159608841, 0.3262462913990021, 0.2533662021160126, 0.23253582417964935, -0.36134767532348633, -0.15306831896305084, 0.4224649667739868, 0.47910618782043457, 0.12114595621824265, -0.058171842247247696, -0.38658660650253296, 0.2981383204460144, -0.9361975789070129, 0.5753803253173828, 0.05114060640335083, 0.4487016499042511, 0.27180352807044983, -0.08182989805936813, -0.0021248208358883858, 0.6890134215354919, 0.14006783068180084, -0.1889900416135788, 0.9636391401290894, -0.026794441044330597, 0.19565287232398987, 0.6155351996421814, -0.005009979009628296, -0.2785860300064087, 0.6021149754524231, -0.42976444959640503, -0.4774799346923828, -0.08169736713171005, -0.14865587651729584, 0.5278228521347046, -0.2806641459465027, -0.013304704800248146, -0.13976798951625824, -0.26040858030319214, -0.7901169061660767, -0.013459510169923306, 0.15258462727069855, -0.5427989959716797, 0.18931059539318085, -0.6130161881446838, -0.02118389867246151, -0.023571189492940903, -0.16399075090885162, 0.16264225542545319, 0.2589817941188812, 0.7622963190078735, -0.8198272585868835, -0.2129027098417282, 0.48211002349853516, 0.29136499762535095, -0.6444646120071411, -0.38615062832832336, 0.13662618398666382, 0.04767186567187309, 0.3247200548648834, -0.40569838881492615, -0.23739388585090637, 0.07813868671655655, 0.05712617188692093, 0.7814605832099915, -0.004255217034369707, -1.1512079238891602, 0.37685295939445496, 0.28203731775283813, -0.14791741967201233, -0.6492502093315125, 0.3157895505428314, 1.2289526462554932, -0.6045016050338745, 0.21550430357456207, -0.6874061226844788, 0.3061188757419586, -0.3423217535018921, 0.131698876619339, -0.6527020335197449, -0.5791280269622803, -0.020482776686549187, 0.6969662308692932, -0.3481388986110687, -0.8619621396064758, 0.6638771295547485, -0.07794587314128876, -0.16954192519187927, 0.3157573938369751, 0.032809704542160034, -0.5880398750305176, 0.8064806461334229, -0.4300061762332916, 0.3219301998615265, 0.1883939653635025, -0.5321441888809204, 0.5320116877555847, -0.3732404410839081, -0.4536685049533844, -4.066041946411133, -0.4287983477115631, -0.48854151368141174, -0.3166356682777405, -0.014189849607646465, 0.22878126800060272, 0.2428964227437973, -0.5604593753814697, -0.4549407660961151, 0.07059847563505173, 0.18823625147342682, -0.12441141903400421, 0.5800507068634033, 0.35675764083862305, -0.053598109632730484, 0.1926836520433426, -0.008722605183720589, -0.9964775443077087, -0.5487931966781616, 0.5735372304916382, 0.276032030582428, 0.25795266032218933, 0.16638749837875366, -0.13361813127994537, 0.36262375116348267, 1.0205967426300049, 0.17655043303966522, 0.1582794487476349, -0.49353042244911194, -0.1331111192703247, 0.10025762021541595, 0.057153940200805664, 0.08655165880918503, 0.5788660645484924, 0.03750009834766388, -0.23344829678535461, 0.4849381446838379, -0.7160436511039734, -0.3834110498428345, 0.40612441301345825, -0.27047625184059143, -0.21489320695400238, -0.31101882457733154, -0.4005032777786255, 0.6198599934577942, -0.6423380374908447, 0.12667477130889893, -0.24819815158843994, -0.021135009825229645, 0.4102528691291809, 0.16018721461296082, 0.043494679033756256, -0.15435847640037537, 0.09678075462579727, 0.20735637843608856, -0.126627117395401, 0.4296744763851166, 0.7200648188591003, -0.09330210834741592, -0.7888396382331848, 0.9260441660881042, 0.22126035392284393, -0.7168001532554626, -0.2591351568698883, 0.3170258700847626, 0.006320402957499027, -0.3837485909461975, -0.36240631341934204, 0.1320694535970688, 0.22415874898433685, -0.31521376967430115, 0.3890184164047241, -0.3707030117511749, -0.9120053052902222, -0.19165247678756714, -0.12179399281740189, -0.30223527550697327, 0.3487569987773895, -0.04830076918005943, 0.7114076018333435, -0.5296819806098938, -0.6192685961723328, -1.1154239177703857, 0.019447853788733482, -0.15023928880691528, -1.0558397769927979, -0.3794710636138916, -0.23344536125659943, -0.20020177960395813, -0.4242140054702759, 0.2700120508670807, 0.13873499631881714, 0.2882045805454254, 0.17359040677547455, 0.33197885751724243, 0.11212821304798126, 0.2467835694551468, -0.2116728276014328, 0.30683034658432007, -0.14239174127578735, -0.16218078136444092, 0.03160571679472923, 0.622407853603363, -0.41127151250839233, 0.6839591860771179, -0.40814217925071716, -0.16010983288288116, -0.2880195379257202, 0.3572985827922821, 0.1707313358783722, -0.25510236620903015, -0.5465000867843628, -0.05133901163935661, -0.48734787106513977, -0.24261556565761566, -0.15728959441184998, 0.7081528902053833, 0.686438798904419, -0.4500231444835663, -0.3330231010913849, 0.3645109236240387, 0.5202250480651855, -0.9476238489151001, -0.5005011558532715, -0.4026288092136383, -0.4570066034793854, 0.392536997795105, 0.013531231321394444, -0.5086294412612915, 0.4336380064487457, 0.39744094014167786, -0.6724850535392761, 0.3606867492198944, -0.07990125566720963, 0.5838777422904968, 0.3433341383934021, -0.365517795085907, -0.40988197922706604, -0.06780068576335907, -0.24654555320739746, -0.023676559329032898, 0.26488539576530457, 0.022850727662444115, 0.543708860874176, -0.450165331363678, 0.16502398252487183, 0.6866829991340637, 0.29977741837501526, -0.2093699425458908, 0.1253271996974945, -0.5946362614631653, -0.11313065886497498, -0.08619105070829391, 0.24277986586093903, -0.4129413068294525, -0.22504566609859467, 0.506127119064331, -0.035572588443756104, 0.40655317902565, -0.48900139331817627, 0.19420714676380157, -0.40216654539108276, 0.48027223348617554, 0.7555333971977234, -0.7273756861686707, 0.09678135067224503, -0.522016167640686, -0.30138030648231506, -0.25568801164627075, -0.06928835809230804, -0.02589506283402443, 0.09572543948888779, -0.44699224829673767, 0.4329404830932617, -0.7988479733467102, 0.1746232509613037, 0.541815996170044, -0.04229925945401192, -0.6698938608169556, -0.1387125700712204, -0.42203599214553833, -0.3126068413257599, -0.5247836709022522, -0.29106780886650085, -0.11689230054616928, -0.46189555525779724, 0.515730619430542, 0.27351114153862, -0.017361750826239586, 0.09164105355739594, 0.1123211532831192, 0.03879586607217789, -0.2752450108528137, -0.14797402918338776, -0.514758825302124, -0.20000453293323517, 0.25449055433273315, -0.15589214861392975, 0.10982488840818405, 0.10386358946561813, 0.678225576877594, -0.0651194229722023, -0.4612385630607605, -0.01950170285999775, -0.22376695275306702, -0.28479036688804626, 0.44642120599746704, -0.14620047807693481, 0.08901174366474152, 0.45463699102401733, -0.5569996237754822, -0.2585737705230713, 0.2031773030757904, -0.48194384574890137, 0.04532274231314659, 0.606468141078949, 0.3077608644962311, 0.0066525982692837715, 0.21247482299804688, -0.3226938247680664, -0.46160170435905457, -0.20618243515491486, -0.12655547261238098, 0.23876212537288666, -0.94417804479599, -0.32393646240234375, 0.3923259377479553, 0.37095439434051514, -0.1538120061159134, 0.6537731885910034, -0.0822940319776535, -0.8248696327209473, 0.11564294993877411, -0.061517320573329926, 0.35847461223602295, 0.07017636299133301, -0.016876813024282455, 0.27125272154808044, 0.0960087850689888, -0.24241285026073456, 0.055357616394758224, -0.3474283516407013, -0.4852735996246338, -0.44472241401672363, 0.19812999665737152, 0.8292235136032104, -0.18788869678974152, -0.2141871303319931, -0.2957465946674347, 0.07703306525945663, -0.04094083234667778, 0.7711125612258911, -0.39499160647392273, 0.13203704357147217, -0.12880784273147583, -0.4336264729499817, -0.20212092995643616, 0.13055458664894104, 0.24805134534835815, 0.29357805848121643, -0.3657208979129791, -0.7907735705375671, 0.3563084304332733, 0.6609241962432861, 0.28845876455307007, 0.04277733340859413, 0.30540499091148376, -0.11806581914424896, -0.2268293797969818, -0.41218945384025574, 0.5294063091278076, 0.33550381660461426, 0.2921362519264221, -0.2423635721206665, 0.12994909286499023, 0.3450041711330414, -0.35706067085266113, -1.2763723134994507, -0.16075702011585236, -0.5114594101905823, 0.3788047134876251, 0.40637752413749695, -0.7168149352073669, -0.19156485795974731, 0.1435435712337494, -0.15993857383728027, -0.042413126677274704, 0.5646019577980042, -0.491873174905777, 0.6261435747146606, 0.3277255892753601, 0.3861544728279114, 0.35629719495773315, 0.16724015772342682, -0.2889665961265564, 0.21651804447174072, -0.044775038957595825, -0.30126845836639404, -0.023147448897361755, 0.45868635177612305, -0.6711884140968323, 0.23218445479869843, 0.0940893143415451, 0.8775766491889954, -0.31274911761283875, -0.04935802146792412, 0.15345913171768188, -0.7026610970497131, 0.07663523405790329, 0.6869690418243408, -0.32732534408569336, -0.15555551648139954, 0.6197399497032166, 0.1194039061665535, -0.9263760447502136, -0.3066003620624542, 0.8164202570915222, -0.21779148280620575, -0.1600087285041809, 0.24162723124027252, 0.508724570274353, 0.14272043108940125, 0.06284307688474655, 0.19125370681285858, -0.003457836341112852, 0.46797820925712585, -0.5319282412528992, -0.2461378574371338, 0.3567444086074829, -0.5281326770782471, -0.11647170782089233, 0.0019788616336882114, -0.2452157437801361, 0.3075476586818695, -0.5181708931922913, -0.04932013899087906, -0.30303332209587097, 0.3619823753833771, 0.18525230884552002, 1.189634919166565, -0.008190130814909935, 0.2339508980512619, -0.045458853244781494, 0.2657634913921356, 0.1729235053062439, 0.3202531337738037, 0.18563388288021088, -0.3882926106452942, 1.3258315324783325, -0.08817878365516663, 0.07039129734039307, 0.21180382370948792, 0.33750641345977783, 0.17325778305530548, -0.08224330097436905, -0.3558795154094696, 0.1106247827410698, 0.06543605029582977, 0.06894006580114365, 0.08400140702724457, 0.15949301421642303, 0.049253303557634354, 0.756966769695282, -0.6486236453056335, 0.3373173475265503, 0.3462773561477661, -0.5073856711387634, -0.7408806085586548, -0.47580593824386597, 0.25749340653419495, -0.000926828128285706, -0.3989822566509247, 1.1195729970932007, 0.3313201069831848, -0.07333345711231232, -0.06993206590414047, -0.45458969473838806, -0.17386150360107422, 0.09295777231454849, 0.6156237721443176, -0.7942615747451782, 0.1656166911125183, -0.37414994835853577, -0.1531146615743637, 0.26773181557655334, -0.5629266500473022, 0.24516957998275757, -0.8561177253723145, -0.25220754742622375, -0.08006889373064041, 0.155472069978714, 0.31552961468696594, -0.223930224776268, -0.46223968267440796, 0.14008581638336182, -0.2998400330543518, -0.43779075145721436, 0.47606340050697327, 0.3418036997318268, -0.07297589629888535, 0.12344756722450256, -0.3755824565887451, 0.15105074644088745, 0.5172959566116333, -0.4409281611442566, 0.11142206192016602, -0.19651542603969574, -0.5215649604797363, -0.3685055375099182, -0.1773081123828888, -0.01115559134632349, 0.27290940284729004, -0.18452908098697662, -0.6036249399185181, 0.07652385532855988, -0.03837455064058304, 0.508269190788269, 0.12774652242660522, 0.2710020840167999, 0.17776910960674286, 0.5028178691864014, 0.19279906153678894, 0.19387294352054596, 0.7391954660415649, 0.5977689027786255, 0.4225446879863739, 0.21086280047893524, -0.24049238860607147, -0.48374542593955994, -0.44589534401893616, -0.3747519850730896, 0.6501967906951904, 0.0860028937458992, -0.13455118238925934, 0.13605566322803497, -0.3270047903060913, -0.5412142276763916, -0.5071712732315063, -0.12023748457431793, 0.047329921275377274, 0.5501158833503723, -0.19346880912780762, -0.040242891758680344, -0.013466705568134785, 0.41150179505348206, 0.7334680557250977, 0.5582866072654724, -0.6648280620574951, -0.38152819871902466, -0.3193571865558624, -0.154743030667305, -0.15091510117053986, 0.18787400424480438, -0.21407544612884521, 0.08256024122238159, -0.23681995272636414, -0.21830855309963226, -0.3763220012187958, -0.1479816734790802, -0.3654836416244507], [0.2904675006866455, 0.25181668996810913, -0.15239717066287994, 0.11463559418916702, 0.7551561594009399, -0.3457995057106018, -0.15613706409931183, 0.5120884776115417, -0.6243759989738464, 0.17709137499332428, 0.09288568794727325, -0.10454050451517105, -0.17404073476791382, 0.07230280339717865, -0.5034086108207703, 0.13279208540916443, -0.08275546878576279, 0.266130656003952, -0.7063627243041992, 0.2390340268611908, 0.47794467210769653, -0.32175514101982117, -0.4263922870159149, 0.06892292946577072, 0.02975417673587799, 0.43023228645324707, -0.06418485939502716, 0.43897196650505066, -0.22411368787288666, -0.5845363140106201, 0.3263581395149231, 0.46203556656837463, -0.12516146898269653, 0.5160463452339172, 0.3197823464870453, 0.1944723278284073, -0.3661308288574219, -0.22292004525661469, -0.2791299819946289, 0.011496494524180889, -0.17873820662498474, -0.7018153071403503, 0.17349547147750854, 0.09657076001167297, -0.23291099071502686, -0.30733993649482727, 0.24829967319965363, -0.1771085262298584, 0.17970409989356995, -0.7271704077720642, 0.06340088695287704, 0.5056378245353699, -0.11937141418457031, -0.16443681716918945, -0.01875106245279312, 0.618144154548645, 0.14861109852790833, -0.16584236919879913, 0.15307892858982086, -0.16190512478351593, -0.5059911012649536, 0.04311170056462288, 0.27422869205474854, -0.36854544281959534, -0.5103843808174133, 0.25354790687561035, -0.043360635638237, 0.3553268313407898, -0.5336975455284119, -0.21994946897029877, 0.41047343611717224, -0.41511237621307373, -0.40183448791503906, 0.13267163932323456, 0.12370152771472931, 0.02077260985970497, 0.03448935225605965, 0.09456674754619598, 0.2512800991535187, 0.11309963464736938, -0.9985718727111816, 0.21398095786571503, 0.2979952096939087, 0.2934984266757965, 0.10290399193763733, 0.11492155492305756, -0.350120484828949, 0.034354545176029205, -0.4174084961414337, -0.023771904408931732, -0.16369852423667908, -0.2815563976764679, 0.46679869294166565, 0.14661024510860443, -0.08245973289012909, -0.46129027009010315, 0.14847971498966217, 0.43450748920440674, -0.10415182262659073, 0.5344164967536926, 0.6356580853462219, 0.1806667000055313, -0.1343599110841751, 0.2741696238517761, -0.6863720417022705, -0.1500260978937149, -0.38805097341537476, -0.22433459758758545, -0.2059343308210373, 0.15998299419879913, -0.06053589656949043, -0.49233168363571167, 0.037489768117666245, -0.06495272368192673, -0.3849223256111145, 0.014221511781215668, 0.011753209866583347, 0.20506006479263306, -0.6802814602851868, -0.19988791644573212, 0.01813766546547413, -0.15748187899589539, 0.27892249822616577, 0.6944243311882019, 0.1602167785167694, -0.2855880558490753, 0.23111441731452942, 0.08113384991884232, -0.043239470571279526, -0.6207195520401001, -0.057853203266859055, 0.2571321129798889, 0.2471683919429779, -0.6525997519493103, 0.13891315460205078, -0.0941568911075592, -0.398254930973053, -0.09259983152151108, 9.45622959989123e-05, -0.047326743602752686, 0.44820666313171387, 0.7431044578552246, 0.6475632786750793, 0.851674497127533, 0.09958797693252563, -0.048819392919540405, -0.6324055790901184, -0.005496194586157799, -0.419101357460022, 0.13734431564807892, 0.0514327734708786, 0.3398262560367584, -0.33562445640563965, -0.003997967578470707, -0.12921468913555145, 0.13982626795768738, -0.6581849455833435, 0.26181867718696594, 0.2682130038738251, -0.18355317413806915, 0.23723866045475006, -0.18846933543682098, 0.16743743419647217, -0.45246654748916626, 0.052545033395290375, 0.13057805597782135, 0.2549896836280823, 0.3562755286693573, -0.319783091545105, 0.40541115403175354, -0.19341334700584412, 0.20310303568840027, 0.7108134031295776, -0.16205845773220062, -0.04899636656045914, -0.13862264156341553, 0.13280725479125977, -0.4074423909187317, 0.30549266934394836, 0.1413850039243698, -0.07941120862960815, -0.9193344712257385, 0.13111160695552826, -0.18087300658226013, 0.40511518716812134, 0.4425741732120514, 0.5664812922477722, -0.12723885476589203, -0.039237916469573975, 0.048531968146562576, -0.2452472448348999, -0.09599219262599945, -0.11990373581647873, 0.09186568856239319, 0.061913032084703445, -0.42757076025009155, -0.9505456686019897, -0.17928726971149445, 0.05453072488307953, -0.08006209135055542, -0.1571865826845169, -0.23087088763713837, 0.2922186255455017, -0.035586681216955185, -0.1591079980134964, 0.058675896376371384, 0.19168955087661743, -0.27806833386421204, 0.09918658435344696, 0.30336183309555054, -0.10789752006530762, 0.13019555807113647, 0.4635123014450073, 0.04779538884758949, -0.39968007802963257, 0.251087486743927, 0.06777070462703705, 0.2954341173171997, 0.08869969099760056, 0.0838887169957161, 0.30776822566986084, 0.035952404141426086, -0.4818829298019409, 0.11681769788265228, -0.05528850480914116, 0.8268513679504395, 0.18796110153198242, -0.016040382906794548, 0.4243844747543335, 0.5304303765296936, 0.02218942530453205, -0.39575278759002686, 0.3447973132133484, -0.051988840103149414, -0.060237545520067215, 0.14034885168075562, -0.06923948973417282, -0.15350136160850525, 0.23421981930732727, -0.46677348017692566, -0.5678392052650452, -0.08581838756799698, 0.4143279492855072, -0.012227296829223633, -0.004497479181736708, 0.17980042099952698, 0.0428425632417202, -0.2018953412771225, -0.23942840099334717, -0.3403392434120178, -0.4330393970012665, -0.007417473942041397, 0.12496153265237808, -0.1016920879483223, 0.48545804619789124, 0.07083741575479507, -0.2316669225692749, 0.34205836057662964, -0.025187898427248, 0.8906577229499817, 0.7217658162117004, -0.07964610308408737, 0.4215318560600281, -0.02677043154835701, -0.6081871390342712, -0.5122343897819519, -0.14805226027965546, -0.20723681151866913, 0.13665831089019775, -0.12824462354183197, 0.243210107088089, -0.2500321865081787, -0.07051484286785126, 0.462289035320282, -0.8572871088981628, -0.885230302810669, -0.04252990707755089, 0.5456876754760742, -0.47092995047569275, -0.39860156178474426, 0.15351973474025726, 0.8136323690414429, -0.2823083698749542, -0.11184821277856827, -0.4195079207420349, -0.21105772256851196, 0.48519834876060486, -0.2480182945728302, -0.19415900111198425, -0.23078104853630066, -0.05385037139058113, 0.7387422323226929, -0.3108123540878296, -0.7749655842781067, 0.6486331224441528, -0.025278350338339806, 0.1460205465555191, -0.1033758595585823, 0.4003356397151947, -0.08172079920768738, 0.45714831352233887, 0.18805521726608276, -0.11751134693622589, -0.22069226205348969, -0.48610812425613403, 1.027710199356079, -0.07203254103660583, -0.33916234970092773, -4.562112331390381, 0.043683331459760666, -0.03781972452998161, -0.49640408158302307, 0.2623969614505768, -0.24373511970043182, 0.041790954768657684, -0.3735942840576172, -0.5738139748573303, 0.07252951711416245, -0.09676927328109741, -0.3119584918022156, 0.7458981275558472, 0.39201751351356506, 0.016444001346826553, -0.6640986800193787, 0.5701830387115479, -0.6098375916481018, -0.30984288454055786, 0.49867457151412964, 0.03927397355437279, -0.39646652340888977, -0.09065864980220795, 0.20935329794883728, 0.13965238630771637, 0.6317644715309143, 0.7718369364738464, 0.006599315442144871, -0.37025025486946106, 0.07840772718191147, -0.424508661031723, -0.11105440557003021, 0.24271297454833984, 0.2274113893508911, -0.011660609394311905, 0.06462638825178146, 0.026908040046691895, -0.10405433923006058, -0.16673557460308075, -0.1988297998905182, 0.3543715178966522, 0.5579159259796143, -0.04286174848675728, -0.4453312158584595, 0.8414037227630615, -0.3468534052371979, 0.010398532263934612, -0.38581132888793945, 0.1000174880027771, 0.5063689947128296, 0.6071273684501648, 0.4227994382381439, -0.7371039390563965, 0.05259622633457184, -0.046770911663770676, -0.29512110352516174, 0.5710214972496033, 0.1444983184337616, -0.10582412779331207, -0.5693908333778381, 0.06652220338582993, 0.38522323966026306, -0.031054390594363213, -0.04876129701733589, 0.6564816832542419, -0.38294917345046997, -1.0841386318206787, -0.264587938785553, -0.015149460174143314, 0.2686198353767395, -0.21449820697307587, -0.007035380229353905, 0.18788661062717438, -1.2177678346633911, 0.4086141288280487, -0.23563091456890106, -0.01189233548939228, -0.3516957461833954, 0.047248270362615585, 0.22348341345787048, 0.10041580349206924, -0.017438890412449837, -0.20801307260990143, -0.10216996818780899, -0.07818334549665451, -0.6232575178146362, -0.9083268642425537, 0.4683091640472412, -0.3987942039966583, -0.21289381384849548, -0.19182534515857697, 0.4224831759929657, 0.0056713116355240345, 0.04027940705418587, 0.44038382172584534, 0.3343636691570282, 0.06587281078100204, 0.28539255261421204, 0.019405364990234375, -0.3231657147407532, -0.21580128371715546, 0.17376983165740967, 0.828855037689209, 0.018360264599323273, 0.41936030983924866, 0.4915390610694885, -0.07137405872344971, -0.19277271628379822, 0.0752749890089035, 0.02255869284272194, -0.05678950995206833, -0.37091630697250366, -0.05879046022891998, -0.3639373779296875, -0.2262190729379654, -0.18390898406505585, 0.3911401033401489, 0.18509595096111298, -0.44958388805389404, 0.21958978474140167, -0.16186507046222687, 0.5240723490715027, -0.17098382115364075, -0.5654200911521912, -0.11331433802843094, 0.06529413908720016, 0.5723786354064941, -0.03483250364661217, 0.2086092084646225, 0.22430694103240967, 0.14983956515789032, -0.1322712004184723, -0.07966234534978867, 0.1618865579366684, 0.32921263575553894, 0.21505093574523926, -0.3961445689201355, -0.37336140871047974, -1.0074857473373413, -0.09198959916830063, 0.23441925644874573, -0.011247455142438412, 0.0923071801662445, 0.2678541839122772, 0.33756023645401, 0.40417641401290894, 0.2714391052722931, 0.0013769534416496754, -0.335411936044693, 0.6730860471725464, -0.25310054421424866, 0.14576417207717896, 0.42752912640571594, 0.24902285635471344, -0.06335171312093735, 0.19216200709342957, 1.1425929069519043, 0.10449589043855667, 0.07651929557323456, -0.4381271004676819, 0.03408009186387062, -0.12917791306972504, 0.035593193024396896, 0.5207772254943848, 0.08413171023130417, 0.31974154710769653, -0.1391199827194214, -0.38986149430274963, 0.13373984396457672, 0.17335420846939087, 0.0898909866809845, -0.2034364938735962, -0.19341491162776947, 0.22012735903263092, -0.4236763119697571, 0.28123486042022705, 0.11242260038852692, -0.516452968120575, -0.28266552090644836, -0.4574151039123535, -0.23929929733276367, -0.23926205933094025, 0.4350774586200714, -0.10364072024822235, -0.08858723938465118, -0.049361925572156906, 0.4532296657562256, -0.045423928648233414, -0.024314260110259056, 0.1723993420600891, 0.029871614649891853, 0.3217514753341675, 0.3092634081840515, -0.4495426416397095, -0.4121149182319641, -0.2701760232448578, 0.2128496766090393, -0.44173452258110046, 0.23782479763031006, -0.0024355577770620584, -0.1772957146167755, -0.3225148022174835, -0.12862664461135864, -0.042068276554346085, 0.26978176832199097, -0.20827490091323853, 0.31197959184646606, 0.2430226355791092, -0.010343753732740879, 0.3677825927734375, -0.007672987412661314, -0.6128604412078857, 0.5153959393501282, -0.4303242266178131, 0.5639404058456421, 0.2787091135978699, 0.10630828887224197, 0.02929569222033024, -0.2073308229446411, 0.23559968173503876, -0.481313019990921, -0.023395393043756485, -0.2600477337837219, 0.1237122192978859, -0.35584092140197754, 0.17385685443878174, 0.16764149069786072, 0.2685774266719818, -0.39872997999191284, 0.3600987195968628, -0.0329180546104908, -0.29098254442214966, 0.025313204154372215, 0.09292887896299362, 0.16604290902614594, 0.22941440343856812, 0.0058684139512479305, -0.1605437844991684, 0.265799343585968, -0.10129818320274353, -0.08027807623147964, -0.20099276304244995, -0.024878600612282753, 0.07173299789428711, -0.16068685054779053, 0.3276713192462921, 0.231377974152565, 0.2820143401622772, -0.12255218625068665, 0.18345896899700165, -0.4607800841331482, 0.5845370292663574, 0.34311455488204956, -0.3567062020301819, 0.055489834398031235, 0.20277421176433563, -0.23554618656635284, -0.004393621813505888, -0.014457738026976585, -0.5858355164527893, -0.3035005033016205, -0.11206824332475662, 0.43062570691108704, 0.71866375207901, 0.18843454122543335, 0.06405460834503174, 0.12175562232732773, 0.4268556535243988, 0.13801869750022888, -0.16529598832130432, 0.7312579154968262, -0.19939057528972626, 0.393648624420166, -0.09420183300971985, 0.23497039079666138, 0.04282348230481148, -0.3334878981113434, -1.0636705160140991, 0.30874761939048767, -0.26578566431999207, -0.30328837037086487, 0.5139758586883545, -0.8498607277870178, -0.30268290638923645, -0.08278725296258926, -0.5472349524497986, -0.35914984345436096, 0.24163299798965454, -0.16126535832881927, 0.21716873347759247, 0.09488323330879211, 0.8586617708206177, -0.07977034151554108, 0.3546392321586609, -0.13995665311813354, 0.4911578297615051, 0.5073135495185852, 0.3642694652080536, 0.2915484607219696, 0.16910336911678314, -0.3517489433288574, 0.1855347603559494, -0.16197989881038666, 0.060956504195928574, -0.43323251605033875, -0.05527258664369583, 0.006515107583254576, -0.38643956184387207, -0.3736918866634369, -0.29845935106277466, -0.36264339089393616, -0.3801586329936981, 0.23050956428050995, 0.18748386204242706, -0.21071332693099976, -0.4929717481136322, 0.34749841690063477, -0.5539667010307312, 0.13667428493499756, 0.46619245409965515, 0.0659041628241539, 0.2891715168952942, -0.09233209490776062, 0.021520815789699554, -0.2622460126876831, 0.3280175030231476, -0.3493306636810303, -0.16645540297031403, -0.38391703367233276, -0.10150120407342911, -0.6159810423851013, 0.5728541016578674, -0.2768120765686035, 0.10678572952747345, -0.17379288375377655, -0.2577362656593323, -1.0387502908706665, -0.22975288331508636, 0.13348810374736786, 0.4815199673175812, 0.14414897561073303, 0.18089652061462402, 0.009569333866238594, 0.141585111618042, 0.11818868666887283, 0.2557949423789978, 0.16931350529193878, -0.15430526435375214, 0.6012982726097107, 0.19954822957515717, 0.17931269109249115, 0.15674510598182678, -0.3154781758785248, 0.16788840293884277, 0.10827072709798813, -0.5942202210426331, -0.38393330574035645, 0.09141293913125992, 0.25732168555259705, 0.14133180677890778, -0.149408221244812, 0.12542520463466644, 0.19669826328754425, -0.07131213694810867, 0.143529012799263, 0.46373122930526733, -0.16770973801612854, 0.051780086010694504, 0.09402166306972504, 0.6549006700515747, -0.42203429341316223, -0.32923299074172974, -0.3399704396724701, 0.21629352867603302, -0.05928081274032593, 0.4203950762748718, -0.5991470217704773, 0.491818368434906, -0.06223096325993538, -0.24748283624649048, -0.217323437333107, 0.4835553765296936, -0.46683698892593384, 0.10780546814203262, 0.052422720938920975, 0.12071193754673004, -0.008898776955902576, -0.15551616251468658, 0.04466572031378746, -0.31820961833000183, 0.10483281314373016, -0.23747830092906952, -0.5489843487739563, 0.10942544043064117, 0.0963091105222702, -0.1935473382472992, -0.05547622591257095, 0.014112768694758415, 0.3487922251224518, -0.020218610763549805, -0.27830418944358826, -0.1413850635290146, 0.17932714521884918, -0.25738686323165894, -0.46960243582725525, 0.17364174127578735, 0.2649224102497101, -0.11817845702171326, -0.14389388263225555, -0.5039255023002625, -0.10677673667669296, 0.3109736442565918, 0.04026130959391594, -0.15849336981773376, 0.20495609939098358, -0.2933555543422699, -0.03978293761610985, 0.23550352454185486, -0.23561400175094604, -0.2421930432319641, 0.17960023880004883, 0.2854381799697876, 0.43667134642601013, 0.3921959698200226, 0.20452475547790527, -0.04986078292131424, 0.3522300124168396, -0.16764160990715027, -0.1681458204984665, -0.39697265625, -0.32664817571640015, 0.061917416751384735, 0.21279659867286682, 0.27732160687446594, -0.12385106831789017, -0.0009737961809150875, -0.11827126145362854, -0.14672644436359406, 0.11410026252269745, -0.49125349521636963, 1.058639407157898, 0.1685687154531479, 0.16141578555107117, 0.30118486285209656, -0.437037855386734, 0.13160832226276398, 0.17963838577270508, -0.22459407150745392, -0.5146545171737671, -0.21495263278484344, -0.44432657957077026, -0.12032056599855423, -0.5110310912132263, -0.2104537934064865, 0.15793001651763916, -0.38413238525390625, 0.35768285393714905, -0.12343982607126236, -0.03957214951515198, -0.1058618426322937], [0.06891872733831406, -0.5522794127464294, -0.6096229553222656, -0.27031683921813965, 0.5099329948425293, -0.4159347414970398, -0.208539217710495, 0.41360631585121155, -0.47707077860832214, -0.3477545976638794, 0.5935595035552979, 0.020675286650657654, -0.3023383915424347, -0.00798132736235857, -0.29582318663597107, -0.22767320275306702, 0.3198776841163635, -0.1776772141456604, -0.5444425344467163, 0.35556259751319885, 0.050008535385131836, 0.1742117553949356, -0.1921755075454712, 0.32361575961112976, 0.29394498467445374, 0.49755436182022095, 0.47582727670669556, -0.3109396696090698, 0.21808788180351257, 0.048020221292972565, 0.4827738404273987, 0.13845087587833405, -0.1790025681257248, 0.03828541561961174, -0.1508062779903412, -0.019569046795368195, 0.24794000387191772, -0.024311410263180733, -0.13922883570194244, 0.5116684436798096, -0.3850874602794647, -0.3860013782978058, -0.08619150519371033, 0.529036819934845, -0.41228070855140686, -0.49031293392181396, 0.9077410697937012, 0.15460489690303802, -1.2232493162155151, 0.019391972571611404, -0.2561914920806885, -0.15749497711658478, -0.10323219001293182, -0.06344049423933029, -0.1715625524520874, 0.14777174592018127, -0.07003553956747055, -0.030734529718756676, -0.42843636870384216, 0.2193082869052887, -0.3340652585029602, -0.49332648515701294, -0.47825485467910767, -0.40132567286491394, 0.6930758953094482, 0.6578250527381897, 0.1575392782688141, 0.8681408762931824, -0.7946785092353821, 0.4161292612552643, -0.36566397547721863, -0.4765344262123108, -0.2130783498287201, 0.051492031663656235, 0.32030943036079407, 0.20677299797534943, 0.003354273736476898, 0.5569939017295837, 0.1555008888244629, 0.039306800812482834, -0.2886139154434204, 1.0387042760849, 0.5284339189529419, 0.02886044606566429, -0.0433536171913147, -0.09970823675394058, -0.7734971642494202, -0.19718435406684875, -0.03749633952975273, 0.41454213857650757, 0.03537066653370857, -0.14847323298454285, 0.6157528758049011, -0.24327898025512695, 0.7928967475891113, -0.6171059012413025, -0.20571501553058624, 0.5322495698928833, 0.24038566648960114, 0.7858641147613525, -0.025221096351742744, -0.9447258114814758, 0.31553369760513306, 0.3216416537761688, -0.56809002161026, 0.07050491869449615, 0.13935470581054688, -0.2935403287410736, 0.16725285351276398, 0.39127883315086365, 0.238117516040802, -0.4361703097820282, 0.3807399272918701, -0.20941409468650818, -0.020329998806118965, 0.7222558259963989, 0.32633981108665466, 0.1916414201259613, 0.048673465847969055, -0.0012959296582266688, -0.46167147159576416, -0.6924260854721069, 0.0790022611618042, 0.44961318373680115, 0.2011905014514923, 0.6613588333129883, -0.629948079586029, -0.049594946205616, 0.07887681573629379, -0.7961602807044983, 0.4539658725261688, 0.7413093447685242, 0.1653560996055603, -0.4351695775985718, -0.3957507610321045, 0.43070659041404724, 0.5651842951774597, 0.08155038207769394, -0.3323476016521454, -0.5491459369659424, 0.26236531138420105, 0.20766283571720123, 0.6757993698120117, -0.3731239438056946, 0.45735102891921997, 0.07488468289375305, -0.40203630924224854, -0.1345166712999344, 0.7600669860839844, -0.35205942392349243, -0.13666963577270508, 0.2728361189365387, 0.32144495844841003, -0.8488588333129883, -0.19187036156654358, -0.03755902126431465, -0.7970619797706604, 0.05763727053999901, 0.35847237706184387, 0.21801944077014923, 0.5026137828826904, 0.10985533893108368, -0.4949423670768738, 1.0696940422058105, -0.33829304575920105, 0.0655127540230751, 0.4620751738548279, 0.7161186337471008, 0.2920299768447876, 1.146294355392456, -0.19057582318782806, 0.48789161443710327, 1.4712328910827637, -0.00783134251832962, 0.22794508934020996, 0.29634082317352295, 0.1346803903579712, -0.16905878484249115, 0.03315611556172371, 0.4373682141304016, -0.6725181341171265, -0.060434356331825256, -0.4584955871105194, -0.44469672441482544, -0.03415899723768234, -0.15385888516902924, 0.39112532138824463, -0.9127053618431091, -0.49597474932670593, -0.22137479484081268, -0.8344646692276001, -0.25809749960899353, -0.5934588313102722, 0.17164702713489532, 0.22461655735969543, -0.4995020031929016, -0.5498486757278442, -0.012652120552957058, 0.9941534996032715, 0.36211907863616943, 0.38621559739112854, -0.5159028172492981, -0.15064790844917297, 0.05913626030087471, -0.716163694858551, 0.3071148991584778, -0.533902645111084, -0.17060352861881256, 0.17874525487422943, 0.29419293999671936, -0.9045982360839844, 0.5544761419296265, 0.4027445912361145, 0.4495081305503845, 0.24977745115756989, -0.4770544767379761, 0.5143245458602905, 0.36391395330429077, -0.28981396555900574, 0.05769891291856766, 0.5603636503219604, -0.43395739793777466, -0.4322327971458435, 0.02942483127117157, -0.494994193315506, 0.30722206830978394, 0.42322537302970886, -0.27214813232421875, -0.0407012403011322, 0.089483842253685, -0.1063489317893982, -0.0964268296957016, 0.3683077096939087, 0.33311131596565247, -0.7735568881034851, 0.015717793256044388, -0.49727290868759155, -0.1521690934896469, 0.16272878646850586, -0.8315442204475403, -0.6120960712432861, 0.47685107588768005, 0.5243600606918335, 0.9687790870666504, -0.10459388792514801, 0.7151281833648682, 0.3064153492450714, -0.037368617951869965, -0.7235043048858643, -0.12869864702224731, -0.293413370847702, -0.2583295404911041, 0.1185087338089943, -1.2247028350830078, -0.4171827435493469, -0.1526033580303192, -0.3464549779891968, -0.019346486777067184, 0.2840697169303894, 0.2131490558385849, 0.1972063034772873, 0.4176374077796936, 0.8759670853614807, 0.21378487348556519, -0.3393923044204712, -0.20080161094665527, 0.6758666634559631, 0.6125704646110535, 0.24734732508659363, -0.45445993542671204, -0.02215437963604927, -0.057705268263816833, 0.349700003862381, 0.7086990475654602, -0.09883881360292435, 0.6106775403022766, 0.2990795075893402, 0.23016257584095, -0.3497501015663147, -0.20052574574947357, 0.11993040889501572, 0.6237948536872864, -1.374756932258606, 0.17053133249282837, 0.16796618700027466, 0.2675444781780243, -0.09823053330183029, -0.13718535006046295, -0.1556277871131897, -0.3257049024105072, 0.07055792957544327, 0.5206891298294067, 0.3080896735191345, 0.21488216519355774, 0.7180029153823853, -0.5321378707885742, 0.03345177695155144, -0.10885673761367798, -0.31193727254867554, -0.6422968506813049, 0.4966721832752228, -0.7089446783065796, -0.18495096266269684, -0.06757106631994247, 0.3091924488544464, 0.20553451776504517, 0.23145516216754913, -0.18205027282238007, -3.5453360080718994, -0.5395044088363647, 0.09297102689743042, -0.33024996519088745, 0.3997482359409332, -0.2954992651939392, -0.6129965782165527, -0.24621129035949707, -1.3074008226394653, 0.12172853201627731, 0.2244865745306015, -0.181209996342659, 0.3417772948741913, 0.5025966167449951, 0.8373929262161255, -0.8862036466598511, 0.4303354024887085, -1.2097609043121338, -0.492777556180954, 0.5973572134971619, -0.4198053777217865, -0.1087094098329544, 0.6968812942504883, -0.14151301980018616, -0.004478374030441046, 1.4848380088806152, 0.16739530861377716, 0.23971480131149292, -0.2658064365386963, 0.41803887486457825, -0.49447953701019287, -0.07240483164787292, 0.43911808729171753, 0.8024341464042664, 0.13406115770339966, -0.11410471051931381, -0.005352754145860672, -0.5127353668212891, 0.6248974204063416, 0.27733975648880005, -0.16361291706562042, -0.0736788958311081, 0.44343483448028564, 0.057094868272542953, 0.6957809329032898, -0.27309736609458923, 0.32284730672836304, -0.4129001796245575, -0.07226637005805969, 0.22442780435085297, -0.11200671643018723, -0.30763083696365356, 0.46023502945899963, -0.3107471466064453, 0.11230751127004623, 0.030544385313987732, 0.090975321829319, 0.551085889339447, 0.32396799325942993, -0.9795832633972168, 0.3066858649253845, -0.044271912425756454, -0.14051470160484314, 0.01637108437716961, -0.5114954710006714, -0.3672933280467987, -1.0292457342147827, -0.8751717209815979, 0.5723882913589478, 0.0795627161860466, -0.021309949457645416, -0.33034494519233704, 0.16699309647083282, -1.18575119972229, -0.20614641904830933, 0.8710464239120483, -0.6588264107704163, -0.8180544972419739, -0.0970623716711998, 0.07911968231201172, 0.1856532096862793, -0.12742862105369568, -0.6198050379753113, 0.36810338497161865, -0.0934600904583931, -0.5560427904129028, -0.17011436820030212, -0.6371996998786926, -0.3443864583969116, 0.15375877916812897, -0.014950872398912907, 0.0898231565952301, 0.5856273770332336, 0.35290294885635376, 0.22583839297294617, -0.276138573884964, 0.31579458713531494, -0.27547234296798706, -0.2853199541568756, -0.23190823197364807, -0.0594264380633831, -0.5837162137031555, -0.6354166269302368, 0.5561238527297974, 0.24451996386051178, -0.6432744264602661, -0.7582454681396484, 0.49612635374069214, 0.36867091059684753, -0.18203489482402802, 0.262697696685791, -1.0567593574523926, 0.4738239049911499, -0.25603002309799194, -0.24969908595085144, -0.35592377185821533, 0.7087432146072388, 0.8234794735908508, 0.08609183877706528, 0.19037552177906036, 0.20571257174015045, 1.1697111129760742, -0.19950217008590698, -0.3038647770881653, -0.3089287281036377, -0.3186110854148865, -0.15318907797336578, -0.8690299987792969, -0.21267664432525635, 0.2250034660100937, 0.37075021862983704, -0.43687522411346436, -0.3219418525695801, -0.1819823682308197, 0.3239043951034546, -0.2237064391374588, -0.6343300938606262, -0.5267431139945984, -0.7829970121383667, 0.9455347657203674, 0.29984304308891296, -0.15092051029205322, -0.2372797131538391, -0.11356011033058167, 0.04697759449481964, 0.23441530764102936, 0.020332032814621925, -0.430335134267807, 0.0748714730143547, 0.4697912931442261, 0.07444069534540176, -1.0013912916183472, -0.6068218350410461, 0.09863043576478958, -0.23367354273796082, -0.3951137959957123, 0.7939329147338867, -0.37930354475975037, 0.61086106300354, -0.6279730796813965, 0.36266571283340454, -0.20803408324718475, 0.6047004461288452, 0.7643840909004211, 0.11612829566001892, 0.5711953639984131, -0.23672613501548767, -0.19124646484851837, -0.5322238206863403, 0.1092301681637764, -0.01502752210944891, -0.05195971205830574, 0.6288966536521912, 0.2436417043209076, 0.10080404579639435, 0.005346129182726145, 0.16770987212657928, -0.4898073077201843, -0.22346611320972443, -0.4088742733001709, -0.3541848957538605, -0.46523264050483704, -0.17679700255393982, -0.5249394774436951, 0.4009951651096344, -0.14616625010967255, 0.17792445421218872, -0.02755451388657093, -0.06403426080942154, 0.025106161832809448, -0.6337167024612427, 0.11549129337072372, 0.5181025862693787, -0.8650911450386047, -0.06083771958947182, 0.31925681233406067, 0.7399790287017822, -0.2427300661802292, 0.37865257263183594, 0.26858600974082947, 0.5425394177436829, -0.8765990734100342, -0.08492669463157654, 0.4901353120803833, 0.22714471817016602, 0.0729222223162651, -0.43277692794799805, 0.6169406771659851, -0.3048143684864044, -0.11816103756427765, -0.07158020883798599, 0.2571110427379608, -0.20216521620750427, -0.5930531024932861, -0.28803718090057373, 0.48738473653793335, 0.26088136434555054, -0.20682653784751892, 0.21982118487358093, -0.7694060802459717, -0.6208216547966003, -0.6299813389778137, -0.17262813448905945, -0.1298018842935562, -1.2393510341644287, -0.547818124294281, 0.02467886544764042, -0.006513653788715601, 0.16914904117584229, -0.5265728235244751, 0.31860390305519104, -0.3546878397464752, -0.2525280714035034, 0.25892817974090576, -0.2942178547382355, 0.6336463093757629, -0.24866312742233276, 0.6901392340660095, 0.037059683352708817, 0.14486771821975708, 0.19058911502361298, -0.3683755397796631, -0.19863466918468475, -0.07793352752923965, -0.11373718082904816, -0.22925688326358795, 0.05526992306113243, 0.46216967701911926, 0.24296675622463226, 0.1553703397512436, -0.09148143976926804, 0.6309136748313904, -0.0453890822827816, -0.4872986972332001, -0.023043284192681313, -0.3818992078304291, -0.7869508266448975, -0.49992087483406067, -0.1260325163602829, -0.2285183072090149, -0.4807184934616089, 0.6193627715110779, 0.07522890716791153, 0.5458470582962036, -0.018252229318022728, -0.20295953750610352, -0.14729948341846466, 0.1767386794090271, 0.5840657353401184, -0.19054673612117767, -0.7772923111915588, -0.02857578732073307, 0.046293433755636215, -0.1135544404387474, -0.3106091022491455, -0.15865635871887207, 0.34550589323043823, -1.7562756538391113, 0.497793585062027, -1.025622844696045, 0.0970730409026146, 0.8293829560279846, 0.31346434354782104, 0.3333202302455902, 0.259712278842926, -0.6911047101020813, -0.17767874896526337, 0.4534129202365875, -0.40932849049568176, 0.04921054095029831, 0.6331769824028015, 0.9527667164802551, 0.06476379185914993, 0.5264163613319397, 0.5204184651374817, 0.35727357864379883, 0.16719676554203033, -0.11394191533327103, -0.7625980973243713, -0.0807003602385521, -0.2531392276287079, 0.31969979405403137, 0.7471159100532532, 0.45915618538856506, 0.0510445162653923, 0.25199151039123535, -0.21192853152751923, 0.10951776057481766, 0.38841596245765686, 0.008342016488313675, -0.37153860926628113, 0.10554422438144684, 0.24026818573474884, 0.7183456420898438, -0.16454339027404785, -0.6981531381607056, 0.3879985511302948, -1.1450061798095703, -0.8982358574867249, 0.7691938877105713, -0.06361537426710129, -0.08170155435800552, 1.294185996055603, 0.8018733859062195, 0.27511724829673767, 0.28578341007232666, -0.6627237200737, -0.502092719078064, 0.3923377990722656, 0.9330163598060608, 0.1559322476387024, 0.033066119998693466, -0.126478374004364, 0.6648040413856506, -0.2822917401790619, -0.4941069185733795, -0.03093382529914379, 0.1842803657054901, -0.31192779541015625, -0.22771306335926056, -0.9330677390098572, 0.045757196843624115, 0.27005183696746826, -0.22575964033603668, 0.06702160090208054, -0.21035277843475342, -0.22154663503170013, -0.29837316274642944, 0.6604206562042236, 1.0218476057052612, 0.017841147258877754, -0.006910144351422787, -0.5060357451438904, 0.08942808210849762, 0.04806606099009514, -0.12185564637184143, 0.24420484900474548, -0.012803741730749607, -0.26603350043296814, -0.1290605366230011, -0.23230759799480438, 0.2198375016450882, 0.8614308834075928, -0.8897606134414673, 0.008801913820207119, 0.6503167152404785, -0.3067161440849304, 0.1824120730161667, -0.6052420735359192, -0.2610287368297577, 0.03416917100548744, 0.1720639020204544, -0.11920380592346191, 1.0060784816741943, -0.28811758756637573, 0.9483605027198792, 0.21960414946079254, 0.05150153487920761, -0.32937079668045044, -0.255265474319458, 0.47468486428260803, 0.3872339427471161, -1.0083667039871216, -0.580311119556427, 0.658570408821106, -0.5330640077590942, -0.09458868205547333, -0.01814188063144684, -0.15960274636745453, -0.3574918508529663, -0.29038161039352417, -0.5502950549125671, 0.13499373197555542, -0.49502694606781006, 0.37776580452919006, -0.557003915309906, 0.14589083194732666, 0.1986960768699646, 0.5145113468170166, -0.2373502403497696, 1.2457517385482788, -1.2128734588623047, 0.8164153099060059, 0.13535380363464355, -0.36633676290512085, 0.13653892278671265, 0.5922777056694031, 0.1629326343536377, -0.9271861910820007, 0.07736853510141373, -0.050006408244371414, 0.038870155811309814, -0.22216106951236725, 0.2580554187297821, 0.4594264626502991, 0.058738455176353455, 0.320075660943985, 0.22803743183612823, 0.14893494546413422, 0.025477837771177292, 0.1253160983324051, -0.2626987397670746, -0.09455510973930359, 0.382488876581192, 0.1883520483970642, 0.6138358116149902, 0.6098820567131042, 0.21309468150138855, -0.22295130789279938, 0.253118097782135, -0.15515397489070892, 0.5492855906486511, 0.1676778346300125, -0.28663766384124756, -0.724534809589386, -0.19077712297439575, 0.30485811829566956, -0.6477430462837219, 0.26474112272262573, -0.9995729327201843, 0.32712191343307495, 0.2280464619398117, 0.5576136708259583, 0.22524280846118927, -0.16055113077163696, -0.005526020657271147, -0.279057115316391, -0.4786238968372345, -0.29642683267593384, -0.2541676163673401, -0.0030124597251415253, -0.01366408821195364, 0.4600965082645416, -0.7723200917243958, -0.32363608479499817, -0.5049802660942078, -0.034461457282304764, -0.34572139382362366, 0.26402437686920166, 0.02018064074218273], [0.8038221597671509, 0.19779926538467407, -0.3542287051677704, 0.5902119874954224, -0.3602950870990753, -0.8181732892990112, 0.30849364399909973, -0.18066464364528656, 0.4119097590446472, 0.14040349423885345, 0.17381583154201508, -0.24715207517147064, 0.07496464997529984, -0.19992493093013763, -0.6323995590209961, -0.267503023147583, 0.15846103429794312, -0.06403916329145432, 0.08480000495910645, 0.07792041450738907, 0.5176510810852051, -0.18751665949821472, 0.528481125831604, 0.3552982807159424, 0.17272402346134186, 0.21039530634880066, -0.2968415319919586, -0.05056062340736389, -0.44574224948883057, -0.5743065476417542, -0.29162487387657166, -0.2985409200191498, -0.37781116366386414, 0.4207999110221863, 0.38226592540740967, -0.04295896366238594, 0.26281654834747314, -0.28183484077453613, -0.544363260269165, -0.4832437038421631, -0.5600849986076355, 0.4218907058238983, -0.4510482847690582, 0.5522619485855103, -0.19555673003196716, -0.7311952114105225, 0.6053045988082886, 0.21517817676067352, -0.23732982575893402, 0.5372573733329773, 0.007987059652805328, 0.6364632248878479, -0.08102141320705414, 0.036913711577653885, 0.5167902112007141, 0.301217257976532, 0.12408753484487534, -0.5786015391349792, 0.009142671711742878, 0.3726128935813904, 0.04550009220838547, 0.539914608001709, -0.35340559482574463, -0.36255544424057007, 0.41489505767822266, 0.39043787121772766, -0.04283042997121811, -0.21990059316158295, -0.6780845522880554, -0.5112643837928772, -0.2880277931690216, -0.795626699924469, 0.45570674538612366, 0.21973080933094025, 0.19741909205913544, 0.5655600428581238, -0.5808100700378418, 0.4863798916339874, 0.05519748106598854, 0.5875734686851501, -0.04185139760375023, 0.18796822428703308, 0.06816472113132477, 0.25648224353790283, 0.3623376190662384, -0.3558183014392853, -0.5355351567268372, -0.048599518835544586, -0.1471691131591797, -0.11798317730426788, 0.17155446112155914, 0.20711642503738403, 0.19692130386829376, 0.07432560622692108, 0.017927922308444977, 0.08319607377052307, -0.06459718942642212, -0.07337529957294464, -0.11800830066204071, 0.038927096873521805, 0.07153528928756714, -0.2800920605659485, 0.11638681590557098, 1.0352863073349, -0.17244836688041687, -0.1426134556531906, 0.2752842903137207, 0.2891428470611572, 0.45735934376716614, 1.2245988845825195, 0.6817492246627808, -0.048672426491975784, 0.22967824339866638, -0.15182338654994965, -0.3412601053714752, -0.31122568249702454, 0.39340469241142273, 0.09886570274829865, 0.2773208022117615, -0.09397587180137634, -0.7220818400382996, -0.7235739231109619, 0.4327416718006134, 1.3625514507293701, -0.18908017873764038, -0.02889629453420639, -0.18417678773403168, -0.7838944792747498, -0.08634233474731445, -0.6149686574935913, -0.5856499671936035, 0.4935649633407593, 0.5531392693519592, 0.8681544661521912, -0.2902585566043854, 0.4182438254356384, -0.0914047583937645, 0.2495754063129425, -0.849044680595398, 0.1610654592514038, -0.0694621354341507, 0.9313056468963623, 0.43926745653152466, -0.8818635940551758, 0.28165769577026367, 0.5415207147598267, 0.9170562624931335, -0.09671591222286224, 0.6564674973487854, -0.36812251806259155, 1.1072659492492676, -0.3839290738105774, -0.5530889630317688, -0.015852756798267365, -0.5761789679527283, 0.07985809445381165, -0.4499693214893341, -0.15548504889011383, 0.9243125915527344, 0.7937772274017334, 0.3236822783946991, -0.008015422150492668, 0.10240606963634491, 0.4453801214694977, -0.6162409782409668, 0.0748901441693306, -0.8586366176605225, 0.07072947174310684, 0.12765814363956451, 0.45193877816200256, -0.7743918299674988, -0.03635619953274727, 0.0850512683391571, 0.23221392929553986, -0.38288775086402893, 0.11899535357952118, 0.07153927534818649, 0.008444619365036488, 0.07062123715877533, -0.4442731440067291, -9.794748306274414, -0.5161494612693787, 0.16341377794742584, 0.13562257587909698, 0.13479265570640564, -0.04644045606255531, -0.43935999274253845, -0.3540855646133423, -0.37659943103790283, -0.6813981533050537, -0.05251234397292137, -0.24516889452934265, -0.4314958453178406, 0.5068246126174927, 0.6022008061408997, -0.490577757358551, -0.27477502822875977, 0.35304033756256104, -0.18843966722488403, -0.18694913387298584, -0.26215067505836487, -0.22045765817165375, 0.15999968349933624, 0.44397133588790894, -0.2702734172344208, -1.5881743431091309, 0.07459719479084015, -0.29683977365493774, 0.002943463856354356, 0.5313195586204529, -1.2588404417037964, 0.08507043868303299, 0.22620515525341034, -0.4937179684638977, 0.09473605453968048, -0.4508064389228821, 0.1907648891210556, -0.5407999157905579, -1.069763422012329, -0.2829909026622772, -0.4215899705886841, -0.12912635505199432, -0.5231102705001831, 0.10445423424243927, 0.7310383319854736, -1.2580630779266357, 0.32644107937812805, 0.9605968594551086, 0.3089295029640198, 0.26326608657836914, -0.19035537540912628, -0.3191746771335602, 0.8126341700553894, 0.12641771137714386, -0.2555426061153412, -0.15622934699058533, -0.23999585211277008, -0.11911020427942276, -0.30316030979156494, -0.7578436136245728, -0.3003176748752594, 0.37130895256996155, 0.05427222698926926, -0.2466219961643219, -0.45107850432395935, -0.20772381126880646, 0.017099736258387566, 0.758554220199585, 0.7107688784599304, -0.37802228331565857, -0.4134683310985565, -0.3197205364704132, 0.5290325880050659, -0.6738787889480591, 0.6160936951637268, 0.6123760938644409, -0.17440524697303772, 0.16184870898723602, 1.020864725112915, -0.28719404339790344, 0.6844907402992249, 0.782227098941803, 0.6488637924194336, 0.08819816261529922, -0.4604860544204712, 0.5700798630714417, 0.1913190484046936, 0.03290568292140961, -0.27640384435653687, 0.122672900557518, 0.32745179533958435, -0.38520777225494385, -0.25422701239585876, 0.8638371229171753, -0.33820024132728577, -0.7122620940208435, 0.5444657206535339, -0.15808440744876862, 0.2744843363761902, -0.2800499200820923, -0.5864951014518738, 0.48922058939933777, -0.20789560675621033, 0.47710105776786804, 0.35285675525665283, -0.37716636061668396, -0.5084254145622253, -0.04574602469801903, 0.2828512191772461, -0.7303209900856018, -0.30140629410743713, -0.04469909891486168, 0.2500583529472351, 0.30138450860977173, -0.23350398242473602, -0.024668442085385323, 1.0562489032745361, -0.2880871891975403, -0.3653375804424286, -0.05855554714798927, 0.5410858392715454, -0.6372368335723877, -0.035301774740219116, -0.0849561095237732, -0.4460257887840271, 0.3205002546310425, 0.257057785987854, -0.019478388130664825, 1.5052810907363892, -0.03884338587522507, 0.43298691511154175, -1.0622755289077759, 0.08269750326871872, 0.2956624925136566, 0.0635882243514061, -0.1505957394838333, -0.7419105768203735, -0.43237540125846863, 0.13605299592018127, -0.800262987613678, 0.4592936336994171, 0.22291027009487152, 0.13060535490512848, 0.27994662523269653, 0.08399245142936707, -0.5837709903717041, -0.8103088140487671, -0.3758237063884735, -0.09773644059896469, 0.190286323428154, 0.43290480971336365, -0.027468577027320862, 0.9144434332847595, -0.09736000001430511, -0.44449055194854736, -0.08796454966068268, 0.30039703845977783, 0.17842642962932587, -0.35849595069885254, -0.6378519535064697, -0.4412410855293274, -0.4015277326107025, 0.18020357191562653, -0.0775734931230545, -0.41675880551338196, 0.09723641723394394, 0.15900373458862305, -0.3523847758769989, -0.21655148267745972, 0.3766772150993347, -0.0942227840423584, -0.5245826840400696, -0.43917766213417053, -0.11908614635467529, -0.5439061522483826, -0.6087795495986938, 0.07627474516630173, 0.398426353931427, 0.660015344619751, 0.2507970929145813, -0.5296632051467896, 0.08268151432275772, -0.4586283266544342, -0.6139571666717529, 0.16360071301460266, 0.021754054352641106, -0.37723293900489807, -0.6097160577774048, 0.3250657021999359, -0.3232123553752899, 0.6196267604827881, 0.48022571206092834, -0.06941322237253189, 0.15136022865772247, 0.1403273046016693, 0.28487756848335266, -0.39158180356025696, 0.0761856809258461, -0.1918729692697525, -0.3358066976070404, -0.6866178512573242, -0.7266623377799988, -0.5069711804389954, 0.29891136288642883, -0.6550891995429993, 0.2060707062482834, 0.7207260727882385, 0.0726289302110672, 0.4388076961040497, 0.057534463703632355, -0.06750760972499847, 0.37183597683906555, -0.2851559817790985, -0.4166145920753479, -0.28493186831474304, 0.03443662077188492, 0.1215493306517601, -0.828457772731781, 0.4374993145465851, 0.24005787074565887, 0.37031203508377075, 0.3138166666030884, -0.04052973538637161, 0.3485972285270691, 0.26603326201438904, 0.013200578279793262, 0.16584190726280212, 0.07183634489774704, -0.5623500347137451, -0.20671579241752625, 0.8501275181770325, -0.1033199280500412, 0.0778321921825409, 0.8516730070114136, -0.6240590810775757, -0.6255720853805542, -0.31492331624031067, 0.021050414070487022, -0.19302134215831757, -0.6074993014335632, 0.5971702337265015, -0.10934191197156906, -0.0948181003332138, -0.4867866337299347, 0.3621473014354706, 0.7890283465385437, 0.010791677050292492, 0.44770368933677673, 0.36364731192588806, 0.4215342402458191, 0.490047812461853, 0.26284676790237427, -0.2759774327278137, -0.17562107741832733, 0.19438110291957855, -0.34417635202407837, 0.41640907526016235, -0.33465173840522766, 0.06588433682918549, 0.037933818995952606, -0.2725360691547394, -0.3908943235874176, -0.047676488757133484, 0.44248855113983154, 0.529706597328186, 0.648015022277832, 0.42740654945373535, 0.5425389409065247, 0.17678672075271606, 0.43283066153526306, -0.833997905254364, -0.17566578090190887, -0.1641150712966919, 0.6749857664108276, -0.11343498528003693, 0.24979369342327118, 0.5101416707038879, 0.10991261899471283, 0.08801379799842834, 0.33356714248657227, 0.27570176124572754, -1.044946312904358, 0.001851206412538886, -0.33568400144577026, 0.3547869920730591, 0.048640452325344086, -0.8154763579368591, 0.17932665348052979, -0.5023331642150879, 0.043493907898664474, 0.4267703890800476, 0.23171278834342957, -0.6073262691497803, -0.5230427384376526, 0.47448983788490295, -0.56711345911026, -0.14647945761680603, 0.2704954147338867, 0.3732406198978424, -0.19333507120609283, 0.624058187007904, -0.29865437746047974, -0.4292626678943634, 0.5857511162757874, 0.04903659224510193, -0.4428066611289978, -0.131451815366745, -0.056294508278369904, 0.055897410959005356, -1.010352373123169, -0.06313938647508621, 0.15071223676204681, 0.14674480259418488, 0.08945979177951813, 0.10094048827886581, -0.4565659165382385, 0.41102135181427, -0.1436915099620819, 0.30530649423599243, -0.35599759221076965, -0.6545524597167969, -0.15240538120269775, -0.7038723230361938, 0.27547192573547363, 0.5300623178482056, -0.3363526463508606, 0.6546568274497986, 0.3185482323169708, 0.680503785610199, 0.20879538357257843, -0.6414778828620911, 0.15198248624801636, -0.446655809879303, -0.237234428524971, 0.1428707242012024, -0.10840710997581482, -0.24770934879779816, -0.27053675055503845, 0.10414935648441315, -0.5166540741920471, -0.322192519903183, -0.42155343294143677, 0.7283363342285156, 0.3728494346141815, 0.19659912586212158, 0.23681758344173431, 1.0629042387008667, -0.26060932874679565, -0.9707058072090149, -0.17286400496959686, 0.02923206239938736, 0.36421599984169006, -0.12007319927215576, -0.4932616055011749, -0.596873939037323, 0.5326732397079468, -0.6396798491477966, 0.15730684995651245, 0.1889100819826126, 0.8075713515281677, -0.44706034660339355, 0.060133181512355804, 0.6680628657341003, 0.24555978178977966, -0.09635554999113083, 0.18784938752651215, 0.25682157278060913, 0.07620719820261002, -0.0310573298484087, -0.0007643044809810817, -0.13624624907970428, -0.07616277784109116, 0.27529531717300415, -0.19436179101467133, 0.24520818889141083, 1.300240159034729, -0.08817793428897858, -0.7692696452140808, -0.235001802444458, -0.14730076491832733, 0.2239302396774292, -0.27920013666152954, -0.534338653087616, -0.3734988868236542, -0.5474259853363037, 0.15690693259239197, -0.05377713218331337, -0.3326661288738251, -0.22592395544052124, 0.09870236366987228, 0.8973902463912964, -0.5935484766960144, 0.3596409559249878, 0.13661397993564606, -0.021252265200018883, 0.40783360600471497, 0.11810997128486633, 0.10082194209098816, 0.2040276825428009, 0.5339759588241577, -0.27361056208610535, 0.24055005609989166, -0.8870378732681274, 0.29648473858833313, 0.30440813302993774, -0.8413304686546326, -0.4352286458015442, -0.20285165309906006, -0.017302731052041054, 0.4040956199169159, -0.41477152705192566, -0.3111285865306854, 0.09256789833307266, -0.3788802921772003, 0.0061349025927484035, 0.2990412712097168, -0.12812969088554382, -0.27885323762893677, 0.6839632391929626, 0.3845480978488922, -0.397624135017395, 0.09971464425325394, -0.1681918501853943, 0.23486432433128357, -0.20668552815914154, 0.5516678690910339, -0.2549852728843689, 0.024216970428824425, -0.04933204874396324, 1.016327977180481, 0.05801289901137352, 0.05289905518293381, -0.09474990516901016, 0.02103089727461338, 0.09655103087425232, 0.17558380961418152, 0.328177809715271, 0.5063100457191467, -0.60625821352005, 0.385337233543396, 0.22471262514591217, 0.45423343777656555, -1.2605386972427368, -0.21538007259368896, -0.0022811798844486475, -0.6241481900215149, -0.08726236969232559, 0.6980575919151306, 0.38821548223495483, 0.07282142341136932, 0.0387590229511261, -0.22209565341472626, 0.13775812089443207, 0.23225601017475128, -1.0098824501037598, -0.27604058384895325, -0.4690132737159729, -0.09630520641803741, 0.19504408538341522, 0.9594328999519348, -0.07541815936565399, 0.19814957678318024, 0.20927223563194275, 0.0360494889318943, 0.192814439535141, 0.26568353176116943, -0.020905204117298126, -0.4536912441253662, 0.2504750192165375, -0.023977719247341156, -0.19223061203956604, 0.27405625581741333, 0.23218975961208344, 0.05083819478750229, 0.06500013917684555, -0.37018874287605286, 0.3484950065612793, -0.3134317100048065, 0.19827140867710114, 0.1984058916568756, -0.30809593200683594, 0.06460892409086227, -0.6200212240219116, -0.0847989097237587, 0.13563379645347595, 0.20936742424964905, 0.1353791505098343, 0.08236375451087952, -0.11198132485151291, -0.5455752015113831, -0.6630954146385193, -0.6413986682891846, 0.41429710388183594, 0.8979195356369019, 0.22763188183307648, -0.3810212314128876, -0.5611094236373901, 0.4879342317581177, 0.6616664528846741, 0.6179924607276917, -0.27596357464790344, -0.617179811000824, -0.0959472507238388, 0.5636666417121887, -0.41814813017845154, 0.29570940136909485, -0.8343490362167358, -0.10387331247329712, 0.2521167993545532, 0.13109245896339417, -0.5006188154220581, -0.2990402579307556, 0.23668617010116577, -0.5717199444770813, -0.36587414145469666, -0.5096389055252075, -0.0649556890130043, -0.10765906423330307, 0.4050898551940918, -0.7995984554290771, -0.01734854467213154, -0.2565768361091614, 0.5547113418579102, 0.11588744819164276, 0.5890110731124878, 0.15149863064289093, 0.6088733673095703, 0.18915967643260956, 0.8622469305992126, -0.48519593477249146, -0.8453041315078735, 0.3083038926124573, 0.20748496055603027, -0.01745137758553028, 1.2268494367599487, -0.43163877725601196, 0.4260939359664917, -0.5414148569107056, -0.6922170519828796, 0.026302417740225792, -3.688046455383301, 0.1257726401090622, -0.08635115623474121, -0.12485793977975845, -0.05789738893508911, 0.20101574063301086, -0.17906443774700165, -0.26194703578948975, 0.09904801100492477, -0.2457626610994339, 0.42499083280563354, 0.24528217315673828, -0.3495974838733673, 0.3801411986351013, 0.053052280098199844, 0.4568955898284912, 0.17158916592597961, -0.42911067605018616, 0.34366345405578613, -0.03958756849169731, 0.47199442982673645, 0.22763897478580475, 0.41185683012008667, -0.48326319456100464, -0.08704983443021774, 0.07469739019870758, -0.3137107491493225, -0.7362658977508545, 0.06972558051347733, -0.1916278451681137, 0.37633204460144043, -0.22313560545444489, 0.3412669897079468, -0.14543688297271729, 0.924488365650177, -0.21532459557056427, 0.21583974361419678, -0.1461848020553589, -0.16225400567054749, 0.005187377333641052, -0.26166296005249023, -0.8379599452018738, 0.21691003441810608, -0.772278368473053, 0.11061260104179382, 0.1820344775915146, -0.33749091625213623, -0.40857163071632385]]]\n",
            "(7, 768)\n"
          ],
          "name": "stdout"
        }
      ]
    },
    {
      "cell_type": "code",
      "metadata": {
        "id": "u3IjxUaoEU8E",
        "outputId": "9e492992-1406-459a-e8d2-82f678acb4bd",
        "colab": {
          "base_uri": "https://localhost:8080/"
        }
      },
      "source": [
        "print(features)"
      ],
      "execution_count": 15,
      "outputs": [
        {
          "output_type": "stream",
          "text": [
            "[[-0.09632865 -0.0528503  -0.02288619 ... -0.11329263  0.30909997\n",
            "   0.27796322]\n",
            " [ 0.5927695  -0.13714762 -0.39261684 ... -0.18494107  0.71325916\n",
            "  -0.2806803 ]\n",
            " [ 0.00884809 -0.36477345  0.32701775 ...  0.11720812  0.36718038\n",
            "  -0.43832871]\n",
            " ...\n",
            " [ 0.2904675   0.25181669 -0.15239717 ... -0.12343983 -0.03957215\n",
            "  -0.10586184]\n",
            " [ 0.06891873 -0.55227941 -0.60962296 ... -0.34572139  0.26402438\n",
            "   0.02018064]\n",
            " [ 0.80382216  0.19779927 -0.35422871 ...  0.18203448 -0.33749092\n",
            "  -0.40857163]]\n"
          ],
          "name": "stdout"
        }
      ]
    },
    {
      "cell_type": "code",
      "metadata": {
        "id": "MHt-CzrF1WoQ"
      },
      "source": [
        "from tqdm import tqdm\n",
        "from transformers import AutoTokenizer, AutoModel\n",
        "from itertools import zip_longest\n",
        "import torch\n",
        "\n",
        "\n",
        "def grouper(iterable, n, fillvalue=None):\n",
        "    \"\"\"Taken from: https://docs.python.org/3/library/itertools.html#itertools-recipes\"\"\"\n",
        "    args = [iter(iterable)] * n\n",
        "    return zip_longest(*args, fillvalue=fillvalue)\n",
        "\n",
        "\n",
        "def mean_pooling(model_output, attention_mask):\n",
        "    \"\"\"\n",
        "    Mean pooling to get sentence embeddings. See:\n",
        "    https://huggingface.co/sentence-transformers/paraphrase-distilroberta-base-v1\n",
        "    \"\"\"\n",
        "    token_embeddings = model_output[0]\n",
        "    input_mask_expanded = attention_mask.unsqueeze(-1).expand(token_embeddings.size()).float()\n",
        "    sum_embeddings = torch.sum(token_embeddings * input_mask_expanded, 1) # Sum columns\n",
        "    sum_mask = torch.clamp(input_mask_expanded.sum(1), min=1e-9)\n",
        "    return sum_embeddings / sum_mask\n",
        "\n",
        "\n",
        "# Sentences to embed\n",
        "df = df[df.question.str.contains('\\?')]\n",
        "df.question = [s.split('?')[0] + '?' for s in df.question]\n",
        "\n",
        "# Fetch the model & tokenizer from transformers library\n",
        "model_name = 'sentence-transformers/stsb-roberta-large'\n",
        "model = AutoModel.from_pretrained(model_name)\n",
        "tokenizer = AutoTokenizer.from_pretrained(model_name)"
      ],
      "execution_count": null,
      "outputs": []
    },
    {
      "cell_type": "markdown",
      "metadata": {
        "id": "PD7AFXMo2Vu8"
      },
      "source": [
        "# Create sentence embeddings"
      ]
    },
    {
      "cell_type": "code",
      "metadata": {
        "colab": {
          "background_save": true,
          "base_uri": "https://localhost:8080/"
        },
        "id": "gtymqswy1WoR",
        "outputId": "368541eb-ab18-4e68-8326-39610a40ce14"
      },
      "source": [
        "sentence_embeddings = []\n",
        "token_embeddings = []\n",
        "\n",
        "# Embed 8 sentences at a time\n",
        "for sentences in tqdm(grouper(df.question.tolist(), 8, None)):\n",
        "    \n",
        "    # Ignore sentences with None\n",
        "    valid_sentences = [s for s in sentences if s]\n",
        "\n",
        "    # Tokenize input\n",
        "    encoded_input = tokenizer(valid_sentences, padding=True, truncation=True, max_length=512, return_tensors=\"pt\")    \n",
        "\n",
        "    # Create word embeddings\n",
        "    model_output = model(**encoded_input)\n",
        "\n",
        "    # For each sentence, store a list of token embeddings; i.e. a 1024-dimensional vector for each token\n",
        "    for i, sentence in enumerate(valid_sentences):\n",
        "        tokens = tokenizer.convert_ids_to_tokens(encoded_input['input_ids'][i])\n",
        "        embeddings = model_output[0][i]\n",
        "        token_embeddings.append(\n",
        "            [{\"token\": token, \"embedding\": embedding.detach().numpy()} for token, embedding in zip(tokens, embeddings)]\n",
        "        )    \n",
        "\n",
        "    # Pool to get sentence embeddings; i.e. generate one 1024 vector for the entire sentence\n",
        "    sentence_embeddings.append(\n",
        "        mean_pooling(model_output, encoded_input['attention_mask']).detach().numpy()\n",
        "    )\n",
        "    \n",
        "# Concatenate all of the embeddings into one numpy array of shape (n_sentences, 1024)\n",
        "sentence_embeddings = np.concatenate(sentence_embeddings)"
      ],
      "execution_count": null,
      "outputs": [
        {
          "output_type": "stream",
          "text": [
            "223it [09:57,  2.68s/it]\n"
          ],
          "name": "stderr"
        }
      ]
    },
    {
      "cell_type": "markdown",
      "metadata": {
        "id": "aHucz4kYU-iZ"
      },
      "source": [
        "# Perform Search & Show Search Context"
      ]
    },
    {
      "cell_type": "code",
      "metadata": {
        "colab": {
          "base_uri": "https://localhost:8080/",
          "height": 608
        },
        "id": "kO6wudej1WoS",
        "outputId": "8a4520e5-c003-473c-a413-de5734683631"
      },
      "source": [
        "from IPython.core.display import display, HTML\n",
        "from sklearn.preprocessing import normalize\n",
        "import matplotlib.ticker as ticker\n",
        "import matplotlib.pyplot as plt\n",
        "\n",
        "# Noralize the data\n",
        "norm_data = normalize(sentence_embeddings, norm='l2')\n",
        "\n",
        "# Set QUERY & BEST MATCH IDs\n",
        "QUERY_ID = 0\n",
        "scores = np.dot(norm_data, norm_data[QUERY_ID].T)\n",
        "MATCH_ID = np.argsort(scores)[-2]\n",
        "\n",
        "\n",
        "def get_token_embeddings(embeddings_word):\n",
        "    \"\"\"Returns a list of tokens and list of embeddings\"\"\"\n",
        "    tokens, embeddings = [], []\n",
        "    for word in embeddings_word:\n",
        "        if word['token'] not in ['<s>', '<pad>', '</pad>', '</s>']:\n",
        "            tokens.append(word['token'].replace('Ġ', ''))\n",
        "            embeddings.append(word['embedding'])    \n",
        "    return tokens, normalize(embeddings, norm='l2')\n",
        "\n",
        "# Get tokens & token embeddings\n",
        "query_tokens, query_token_embeddings = get_token_embeddings(token_embeddings[QUERY_ID])\n",
        "match_tokens, match_token_embeddings = get_token_embeddings(token_embeddings[MATCH_ID])\n",
        "\n",
        "# Calculate cosine similarity between all tokens in query and match sentences\n",
        "attention = (query_token_embeddings @ match_token_embeddings.T)\n",
        "\n",
        "def plot_attention(src, trg, attention):\n",
        "    \"\"\"Plot 2D plot of cosine similarities\"\"\"\n",
        "    fig = plt.figure(dpi=150)\n",
        "    ax = fig.add_subplot(111)\n",
        "    cax = ax.matshow(attention, interpolation='nearest')\n",
        "    clb = fig.colorbar(cax)\n",
        "    ax.xaxis.set_major_locator(ticker.MultipleLocator(1))\n",
        "    ax.yaxis.set_major_locator(ticker.MultipleLocator(1))\n",
        "    ax.set_xticklabels([''] + src, rotation=90)\n",
        "    ax.set_yticklabels([''] + trg) \n",
        "    \n",
        "\n",
        "plot_attention(match_tokens, query_tokens, attention)"
      ],
      "execution_count": null,
      "outputs": [
        {
          "output_type": "display_data",
          "data": {
            "image/png": "[encoded data removed]",
            "text/plain": [
              "<Figure size 900x600 with 2 Axes>"
            ]
          },
          "metadata": {
            "tags": [],
            "needs_background": "light"
          }
        }
      ]
    },
    {
      "cell_type": "code",
      "metadata": {
        "colab": {
          "base_uri": "https://localhost:8080/"
        },
        "id": "0WHv5Jlb9oRv",
        "outputId": "1921c8f3-8aa3-4fcb-91f7-91fdcd775c26"
      },
      "source": [
        "lengths_query"
      ],
      "execution_count": null,
      "outputs": [
        {
          "output_type": "execute_result",
          "data": {
            "text/plain": [
              "array([31.789795, 31.70999 , 31.7887  , 31.811132, 31.831669, 31.8176  ,\n",
              "       31.872398, 31.823124, 31.841738, 31.825384, 31.84016 , 31.65322 ,\n",
              "       31.862818], dtype=float32)"
            ]
          },
          "metadata": {
            "tags": []
          },
          "execution_count": 38
        }
      ]
    },
    {
      "cell_type": "code",
      "metadata": {
        "id": "6_7v93JWrM_-",
        "colab": {
          "base_uri": "https://localhost:8080/"
        },
        "outputId": "e502d201-146f-45ff-c0e9-da35b77b023e"
      },
      "source": [
        "attention.shape"
      ],
      "execution_count": null,
      "outputs": [
        {
          "output_type": "execute_result",
          "data": {
            "text/plain": [
              "(13, 14)"
            ]
          },
          "metadata": {
            "tags": []
          },
          "execution_count": 35
        }
      ]
    },
    {
      "cell_type": "code",
      "metadata": {
        "id": "-5S-k-0j9Cde"
      },
      "source": [
        ""
      ],
      "execution_count": null,
      "outputs": []
    }
  ]
}